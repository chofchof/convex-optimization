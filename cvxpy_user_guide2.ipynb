{
 "cells": [
  {
   "cell_type": "code",
   "execution_count": 1,
   "metadata": {},
   "outputs": [],
   "source": [
    "# To disable `warnings.warn(ECOS_DEPRECATION_MSG, FutureWarning)`\n",
    "import warnings\n",
    "warnings.filterwarnings('ignore')"
   ]
  },
  {
   "cell_type": "markdown",
   "metadata": {},
   "source": [
    "## 2. Disciplined Convex Programming\n",
    "\n",
    "__Disciplined convex programming (DCP)__ is a system for constructing mathematical expressions with known curvature from a given library of base functions. CVXPY uses DCP to ensure that the specified optimization problems are convex."
   ]
  },
  {
   "cell_type": "markdown",
   "metadata": {},
   "source": [
    "### Expressions\n",
    "\n",
    "__Expressions__ in CVXPY are formed from variables, parameters, numerical constants such as Python floats and Numpy matrices, the standard arithmetic operators `+`, `-`, `*`, `/`, `@`, and a library of functions."
   ]
  },
  {
   "cell_type": "code",
   "execution_count": 2,
   "metadata": {},
   "outputs": [
    {
     "data": {
      "text/plain": [
       "Expression(CONSTANT, UNKNOWN, ())"
      ]
     },
     "execution_count": 2,
     "metadata": {},
     "output_type": "execute_result"
    }
   ],
   "source": [
    "import cvxpy as cp\n",
    "\n",
    "# Create variables and parameters.\n",
    "x, y = cp.Variable(), cp.Variable()\n",
    "a, b = cp.Parameter(), cp.Parameter()\n",
    "\n",
    "# Examples of CVXPY expressions.\n",
    "3.69 + b / 3"
   ]
  },
  {
   "cell_type": "code",
   "execution_count": 3,
   "metadata": {},
   "outputs": [
    {
     "data": {
      "text/plain": [
       "Expression(AFFINE, UNKNOWN, ())"
      ]
     },
     "execution_count": 3,
     "metadata": {},
     "output_type": "execute_result"
    }
   ],
   "source": [
    "x - 4 * a"
   ]
  },
  {
   "cell_type": "code",
   "execution_count": 4,
   "metadata": {},
   "outputs": [
    {
     "data": {
      "text/plain": [
       "Expression(UNKNOWN, UNKNOWN, ())"
      ]
     },
     "execution_count": 4,
     "metadata": {},
     "output_type": "execute_result"
    }
   ],
   "source": [
    "cp.sqrt(x) - cp.minimum(y, x - a)"
   ]
  },
  {
   "cell_type": "code",
   "execution_count": 5,
   "metadata": {},
   "outputs": [
    {
     "data": {
      "text/plain": [
       "Expression(CONVEX, NONNEGATIVE, ())"
      ]
     },
     "execution_count": 5,
     "metadata": {},
     "output_type": "execute_result"
    }
   ],
   "source": [
    "cp.maximum(2.66 - cp.sqrt(y), cp.square(x + 2 * y))"
   ]
  },
  {
   "cell_type": "markdown",
   "metadata": {},
   "source": [
    "Expressions can be scalars, vectors, or matrices.\n",
    "\n",
    "- The dimensions of an expression are stored as `expr.shape`.\n",
    "- The total number of entries is given by `expr.size`.\n",
    "- The number of dimensions is given by `expr.ndim`.\n",
    "\n",
    "CVXPY will raise an exception if an expression is used in a way that doesn't make sense given its dimensions, for example adding matrices of different size.\n",
    "\n",
    "The semantics for how shapes behave under arithmetic operations are the same as for NumPy ndarrays (except some broadcasting is banned)."
   ]
  },
  {
   "cell_type": "code",
   "execution_count": 6,
   "metadata": {},
   "outputs": [
    {
     "name": "stdout",
     "output_type": "stream",
     "text": [
      "\n",
      "dimensions of X: (5, 4)\n",
      "size of X: 20\n",
      "number of dimensions: 2\n",
      "dimensions of sum(X): ()\n",
      "dimensions of A @ X: (3, 4)\n",
      "\n",
      "Cannot broadcast dimensions  (3, 5) (5, 4)\n"
     ]
    }
   ],
   "source": [
    "import numpy as np\n",
    "\n",
    "X = cp.Variable((5, 4))\n",
    "A = np.ones((3, 5))\n",
    "\n",
    "# Use expr.shape to get the dimensions.\n",
    "print(f\"\"\"\n",
    "dimensions of X: {X.shape}\n",
    "size of X: {X.size}\n",
    "number of dimensions: {X.ndim}\n",
    "dimensions of sum(X): {cp.sum(X).shape}\n",
    "dimensions of A @ X: {(A @ X).shape}\n",
    "\"\"\")\n",
    "\n",
    "# ValueError raised for invalid dimensions.\n",
    "try:\n",
    "    A + X\n",
    "except ValueError as e:\n",
    "    print(e)"
   ]
  },
  {
   "cell_type": "markdown",
   "metadata": {},
   "source": [
    "CVXPY uses __DCP analysis__ to determine the __sign__ and __curvature__ of each expression.\n",
    "\n",
    "### Sign\n",
    "\n",
    "Each (sub)expression is flagged as __positive__ (__non-negative__), __negative__ (__non-positive__), __zero__, or __unknown__.\n",
    "\n",
    "\n",
    "The signs of larger expressions are determined from the signs of their subexpressions. For example, the sign of the expression `expr1 * expr2` is\n",
    "\n",
    "- Zero if either expression has sign zero.\n",
    "- Positive if `expr1` and `expr2` have the same (known) sign.\n",
    "- Negative if `expr1` and `expr2` have opposite (known) signs.\n",
    "- Unknown if either expression has unknown sign.\n",
    "\n",
    "The sign given to an expression is always correct.\n",
    "\n",
    "- But DCP sign analysis may flag an expression as unknown sign when the sign could be figured out through more complex analysis.\n",
    "- For instance, `x * x` is positive but has unknown sign by the rules above.\n",
    "\n",
    "CVXPY determines the <u>sign of constants</u> by looking at their value.\n",
    "\n",
    "- For scalar constants, this is straightforward.\n",
    "- Vector and matrix constants with all positive (negative) entries are marked as positive (negative).\n",
    "- Vector and matrix constants with both positive and negative entries are marked as unknown sign.\n",
    "\n",
    "The __sign__ of an expression is stored as `expr.sign`."
   ]
  },
  {
   "cell_type": "code",
   "execution_count": 7,
   "metadata": {},
   "outputs": [
    {
     "name": "stdout",
     "output_type": "stream",
     "text": [
      "\n",
      "sign of x: UNKNOWN\n",
      "sign of a: NONPOSITIVE\n",
      "sign of x * x: UNKNOWN\n",
      "sign of square(x): NONNEGATIVE\n",
      "sign of c * a: UNKNOWN\n",
      "\n"
     ]
    }
   ],
   "source": [
    "x = cp.Variable()\n",
    "a = cp.Parameter(nonpos=True)\n",
    "c = np.array([1, -1]) # has no attribute 'sign'\n",
    "\n",
    "print(f\"\"\"\n",
    "sign of x: {x.sign}\n",
    "sign of a: {a.sign}\n",
    "sign of x * x: {(x * x).sign}\n",
    "sign of square(x): {cp.square(x).sign}\n",
    "sign of c * a: {(c * a).sign}\n",
    "\"\"\")"
   ]
  },
  {
   "cell_type": "markdown",
   "metadata": {},
   "source": [
    "### Curvature\n",
    "\n",
    "Each (sub)expression is flagged as one of the following __curvatures__ (with respect to its variables) using the curvature rules given below.\n",
    "\n",
    "| __Curvature__ | __Meaning__ |\n",
    "| ---           | ---         |\n",
    "| constant      | $f(x)$ independent of $x$ |\n",
    "| affine        | $f(\\theta x + (1-\\theta)y) = \\theta f(x) + (1-\\theta)f(y)$ for all $x,y,\\theta\\in [0,1]$ |\n",
    "| convex        | $f(\\theta x + (1-\\theta)y) \\leq \\theta f(x) + (1-\\theta)f(y)$ for all $x,y,\\theta\\in [0,1]$ |\n",
    "| concave       | $f(\\theta x + (1-\\theta)y) \\geq \\theta f(x) + (1-\\theta)f(y)$ for all $x,y,\\theta\\in [0,1]$ |\n",
    "| unknown       | DCP analysis cannot determine the curvature |\n",
    "\n",
    "As with sign analysis, the conclusion is always correct, but the simple analysis can flag expressions as unknown even when they are convex or concave. \n",
    "\n",
    "Note that <u>any constant expression is also affine</u>, and <u>any affine expression is convex and concave</u>."
   ]
  },
  {
   "cell_type": "markdown",
   "metadata": {},
   "source": [
    "### Curvature rules\n",
    "\n",
    "DCP analysis is based on applying a general composition theorem from convex analysis to each (sub)expression.\n",
    "\n",
    "1. $f(\\text{expr}_1,\\text{expr}_2,\\dotsc,\\text{expr}_n)$ is __convex__ if $f$ is a convex function and for each $\\text{expr}_i$ one of the following conditions holds:\n",
    "    - $f$ is increasing in argument $i$ and $\\text{expr}_i$ is convex.\n",
    "    - $f$ is decreasing in argument $i$ and $\\text{expr}_i$ is concave.\n",
    "    - $\\text{expr}_i$ is affine or constant.\n",
    "\n",
    "2. $f(\\text{expr}_1,\\text{expr}_2,\\dotsc,\\text{expr}_n)$ is __concave__ if $f$ is a concave function and for each $\\text{expr}_i$ one of the following conditions holds:\n",
    "    - $f$ is increasing in argument $i$ and $\\text{expr}_i$ is concave.\n",
    "    - $f$ is decreasing in argument $i$ and $\\text{expr}_i$ is convex.\n",
    "    - $\\text{expr}_i$ is affine or constant.\n",
    "\n",
    "3. $f(\\text{expr}_1,\\text{expr}_2,\\dotsc,\\text{expr}_n)$ is __affine__ if $f$ is an affine function and each $\\text{expr}_i$ is affine.\n",
    "\n",
    "4. If none of the three rules apply, the expression $f(\\text{expr}_1,\\text{expr}_2,\\dotsc,\\text{expr}_n)$ is marked as having __unknown__ curvature.\n",
    "\n",
    "<u>Whether a function is increasing or decreasing in an argument may depend on the sign of the argument</u>. For instance, `cp.square` is increasing for positive arguments and decreasing for negative arguments.\n",
    "\n",
    "The curvature of an expression is stored as `expr.curvature`:"
   ]
  },
  {
   "cell_type": "code",
   "execution_count": 8,
   "metadata": {},
   "outputs": [
    {
     "name": "stdout",
     "output_type": "stream",
     "text": [
      "\n",
      "curvature of x AFFINE\n",
      "curvature of a: CONSTANT\n",
      "curvature of square(x): CONVEX\n",
      "curvature of sqrt(x): CONCAVE\n",
      "\n"
     ]
    }
   ],
   "source": [
    "x = cp.Variable()\n",
    "a = cp.Parameter(nonneg=True)\n",
    "\n",
    "print(f\"\"\"\n",
    "curvature of x {x.curvature}\n",
    "curvature of a: {a.curvature}\n",
    "curvature of square(x): {cp.square(x).curvature}\n",
    "curvature of sqrt(x): {cp.sqrt(x).curvature}\n",
    "\"\"\")"
   ]
  },
  {
   "cell_type": "markdown",
   "metadata": {},
   "source": [
    "### Infix operators\n",
    "\n",
    "The infix operators `+`, `-`, `*`, `/` and matrix multiplication `@` are treated exactly like functions.\n",
    "\n",
    "- The infix operators `+` and `-` are __affine__, so the rules above are used to flag the curvature.\n",
    "- For example, `expr1 + expr2` is flagged as convex if `expr1` and `expr2` are convex.\n",
    "- `expr1 * expr2`, `expr1 / expr2`, and `expr1 @ expr2` can only be DCP when one of the expressions is constant. The curvature rules above apply.\n",
    "- For example, `expr1 / expr2` is convex when `expr1` is concave and `expr2` is negative and constant.\n",
    "\n",
    "#### Example 1\n",
    "\n",
    "DCP analysis breaks expressions down into subexpressions.\n",
    "\n",
    "The tree visualization below shows how this works for the expression `2 * square(x) + 3`.\n",
    "\n",
    "![Example 1](https://www.cvxpy.org/_images/example1.png)\n",
    "\n",
    "#### Example 2\n",
    "\n",
    "We'll walk through the application of the DCP rules to the expression `sqrt(1 + square(x))`.\n",
    "\n",
    "![Example 2](https://www.cvxpy.org/_images/example2.png)\n",
    "\n",
    "The variable `x` has affine curvature and unknown sign. The `square` function is convex and non-monotone for arguments of unknown sign. It can take the affine expression `x` as an argument; the result `square(x)` is convex.\n",
    "\n",
    "The arithmetic operator `+` is affine and increasing, so the composition `1 + square(x)` is convex by the curvature rule for convex functions. The function `sqrt` is concave and increasing, which means it can only take a concave argument. Since `1 + square(x)` is convex, `sqrt(1 + square(x))` violates the DCP rules and cannot be verified as convex.\n",
    "\n",
    "In fact, `sqrt(1 + square(x))` is a convex function of `x`, but the DCP rules are not able to verify convexity. If the expression is written as `norm(hstack(1, x), 2)`, the $L_2$ norm of the vector `[1, x]`, which has the same value as `sqrt(1 + square(x))`, then it will be certified as convex using the DCP rules."
   ]
  },
  {
   "cell_type": "code",
   "execution_count": 9,
   "metadata": {},
   "outputs": [
    {
     "name": "stdout",
     "output_type": "stream",
     "text": [
      "\n",
      "sqrt(1 + square(x)) curvature: QUASICONVEX\n",
      "norm(hstack([1, x]), 2) curvature: CONVEX\n",
      "\n"
     ]
    }
   ],
   "source": [
    "print(f\"\"\"\n",
    "sqrt(1 + square(x)) curvature: {cp.sqrt(1 + cp.square(x)).curvature}\n",
    "norm(hstack([1, x]), 2) curvature: {cp.norm(cp.hstack([1, x]), 2).curvature}\n",
    "\"\"\")"
   ]
  },
  {
   "cell_type": "markdown",
   "metadata": {},
   "source": [
    "### DCP problems\n",
    "\n",
    "If a problem follows the DCP rules, it is guaranteed to be convex and solvable by CVXPY.\n",
    "\n",
    "The DCP rules require that the problem __objective__ have one of two forms:\n",
    "\n",
    "- Minimize (convex)\n",
    "- Maximize (concave)\n",
    "\n",
    "The only valid __constraints__ under the DCP rules are\n",
    "\n",
    "- affine `==` affine\n",
    "- convex `<=` concave\n",
    "- concave `>=` convex\n",
    "\n",
    "You can check that a problem, constraint, or objective satisfies the DCP rules by calling `object.is_dcp()`."
   ]
  },
  {
   "cell_type": "code",
   "execution_count": 10,
   "metadata": {},
   "outputs": [
    {
     "name": "stdout",
     "output_type": "stream",
     "text": [
      "\n",
      "prob1 is DCP: True\n",
      "prob2 is DCP: True\n",
      "prob3 is DCP: False\n",
      "prob4 is DCP: False\n",
      "\n",
      "Maximize(square(x)) is DCP: False\n",
      "sqrt(x) <= 2 is DCP: False\n",
      "\n"
     ]
    }
   ],
   "source": [
    "x = cp.Variable()\n",
    "y = cp.Variable()\n",
    "\n",
    "# DCP problems.\n",
    "prob1 = cp.Problem(\n",
    "    cp.Minimize(cp.square(x - y)),\n",
    "    [x + y >= 0]\n",
    ")\n",
    "prob2 = cp.Problem(\n",
    "    cp.Maximize(cp.sqrt(x - y)),\n",
    "    [2*x - 3 == y, cp.square(x) <= 2]\n",
    ")\n",
    "\n",
    "# Non-DCP problems.\n",
    "\n",
    "# A non-DCP objective.\n",
    "objective = cp.Maximize(cp.square(x))\n",
    "prob3 = cp.Problem(objective)\n",
    "\n",
    "# A non-DCP constraint.\n",
    "prob4 = cp.Problem(\n",
    "    cp.Minimize(cp.square(x)),\n",
    "    [cp.sqrt(x) <= 2]\n",
    ")\n",
    "\n",
    "print(f\"\"\"\n",
    "prob1 is DCP: {prob1.is_dcp()}\n",
    "prob2 is DCP: {prob2.is_dcp()}\n",
    "prob3 is DCP: {prob3.is_dcp()}\n",
    "prob4 is DCP: {prob4.is_dcp()}\n",
    "\n",
    "Maximize(square(x)) is DCP: {objective.is_dcp()}\n",
    "sqrt(x) <= 2 is DCP: {(cp.sqrt(x) <= 2).is_dcp()}\n",
    "\"\"\")"
   ]
  },
  {
   "cell_type": "markdown",
   "metadata": {},
   "source": [
    "CVXPY will raise an exception if you call `prob.solve()` on a non-DCP problem."
   ]
  },
  {
   "cell_type": "code",
   "execution_count": 11,
   "metadata": {},
   "outputs": [
    {
     "name": "stdout",
     "output_type": "stream",
     "text": [
      "Problem does not follow DCP rules. Specifically:\n",
      "The objective is not DCP, even though each sub-expression is.\n",
      "You are trying to minimize a function that is concave.\n",
      "However, the problem does follow DQCP rules. Consider calling solve() with `qcp=True`.\n"
     ]
    }
   ],
   "source": [
    "# A non-DCP problem.\n",
    "prob = cp.Problem(cp.Minimize(cp.sqrt(x)))\n",
    "\n",
    "try:\n",
    "    prob.solve()\n",
    "except Exception as e:\n",
    "    print(e)"
   ]
  },
  {
   "cell_type": "markdown",
   "metadata": {},
   "source": [
    "## Examples\n",
    "\n",
    "### Least-squares\n",
    "\n",
    "$$\n",
    "\\text{minimize} \\qquad \\|Ax-b\\|_2^2.\n",
    "$$"
   ]
  },
  {
   "cell_type": "code",
   "execution_count": 12,
   "metadata": {},
   "outputs": [
    {
     "name": "stdout",
     "output_type": "stream",
     "text": [
      "The optimal value is 3.011406\n",
      "The optimal x is [ 0.78861924 -0.51550419  0.39471835 -0.13482039  0.10178291 -0.127348\n",
      "  1.40952725  0.29569351 -0.0456772  -0.17465868  0.30421628  0.57538791\n",
      " -0.01717862  0.0345873   0.45944972]\n",
      "The norm of the residual is 1.735340\n",
      "\n"
     ]
    }
   ],
   "source": [
    "import numpy as np\n",
    "import cvxpy as cp\n",
    "\n",
    "# Generate data.\n",
    "m = 20\n",
    "n = 15\n",
    "\n",
    "rng = np.random.default_rng(1)\n",
    "A = rng.standard_normal((m, n))\n",
    "b = rng.standard_normal(m)\n",
    "\n",
    "# Define and solve the CVXPY problem.\n",
    "x = cp.Variable(n)\n",
    "cost = cp.sum_squares(A @ x - b)\n",
    "prob = cp.Problem(cp.Minimize(cost))\n",
    "prob.solve()\n",
    "\n",
    "# Print result.\n",
    "print(f\"\"\"\\\n",
    "The optimal value is {prob.value:f}\n",
    "The optimal x is {x.value}\n",
    "The norm of the residual is {cp.norm(A @ x - b, p=2).value:f}\n",
    "\"\"\")"
   ]
  },
  {
   "cell_type": "markdown",
   "metadata": {},
   "source": [
    "### Linear program\n",
    "\n",
    "A __linear program (LP)__ is an optimization problem with a linear objective and affine inequality constraints.\n",
    "$$\n",
    "\\begin{align*}\n",
    "\\text{minimize} &\\qquad c^Tx \\\\\n",
    "\\text{subject to} &\\qquad Ax\\preceq b,\n",
    "\\end{align*}\n",
    "$$\n",
    "where $A\\in\\mathbb{R}^{m\\times n}$, $b\\in\\mathbb{R}^m$, and $c\\in\\mathbb{R}^n$ are problem data and $x\\in\\mathbb{R}^n$ is the optimization variable.\n",
    "\n",
    "When we solve a LP, in addition to a primal solution $x^*$, we obtain a dual solution $\\lambda_i^*\\in\\mathbb{R}^m$ corresponding to the inequality constraints."
   ]
  },
  {
   "cell_type": "code",
   "execution_count": 13,
   "metadata": {},
   "outputs": [
    {
     "name": "stdout",
     "output_type": "stream",
     "text": [
      "The optimal value is 3.437815\n",
      "A primal solution is [ 0.65503724  0.12598733 -0.24064036 -0.80122806 -0.43705585 -0.01746409\n",
      " -0.32684225  1.47349566  0.94751969 -2.57172013]\n",
      "A dual solution is [1.08119082e-10 3.28896991e-11 7.32567433e-11 1.30315723e+00\n",
      " 1.75042457e-11 1.81799107e-10 5.36953235e-01 2.00378352e-11\n",
      " 2.65461315e-11 7.96635278e-11 1.31820850e-10 5.38049480e-11\n",
      " 7.36454087e-01 1.62909948e-01 4.82119313e-01]\n",
      "\n"
     ]
    }
   ],
   "source": [
    "import numpy as np\n",
    "import cvxpy as cp\n",
    "\n",
    "# Generate a random non-trivial linear program.\n",
    "m = 15\n",
    "n = 10\n",
    "\n",
    "rng = np.random.default_rng(1)\n",
    "\n",
    "s0 = rng.standard_normal(m)\n",
    "# numpy.maximum gives elementwise maximum of array elements\n",
    "s0_m = np.maximum(-s0, 0) # s0_m >= 0\n",
    "s0_p = np.maximum(s0, 0)  # s0_p >= 0\n",
    "\n",
    "x0 = rng.standard_normal(n)\n",
    "A = rng.standard_normal((m, n))\n",
    "b = A @ x0 + s0_p\n",
    "c = -A.T @ s0_m\n",
    "\n",
    "# Define and solve the CVXPY problem.\n",
    "# A x <= b means A (x - x0) <= s0_p\n",
    "# c^T x    means (-s0_m)^T (A x) \n",
    "x = cp.Variable(n)\n",
    "prob = cp.Problem(\n",
    "    cp.Minimize(c.T @ x),\n",
    "    [A @ x <= b]\n",
    ")\n",
    "prob.solve()\n",
    "\n",
    "# Print result.\n",
    "print(f\"\"\"\\\n",
    "The optimal value is {prob.value:f}\n",
    "A primal solution is {x.value}\n",
    "A dual solution is {prob.constraints[0].dual_value}\n",
    "\"\"\")"
   ]
  },
  {
   "cell_type": "markdown",
   "metadata": {},
   "source": [
    "### Quadratic program\n",
    "\n",
    "A __quadratic program (QP)__ is an optimization problem with a quadratic objective and affine equality and inequality constraints.\n",
    "$$\n",
    "\\begin{align*}\n",
    "\\text{minimize} &\\qquad \\frac{1}{2}x^T Px + q^Tx \\\\\n",
    "\\text{subject to} &\\qquad Gx\\preceq h \\\\\n",
    "&\\qquad Ax = b\n",
    "\\end{align*}\n",
    "$$\n",
    "where $P\\in\\mathbb{R}^{n\\times n}_{\\succeq 0}$, $q\\in\\mathbb{R}^n$, $G\\in\\mathbb{R}^{m\\times n}$, $h\\in\\mathbb{R}^m$, $A\\in\\mathbb{R}^{p\\times n}$, and $b\\in\\mathbb{R}^p$ are problem data and $x\\in\\mathbb{R}^n$ is the optimization variable​.\n",
    "\n",
    "When we solve a QP, in addition to a primal solution $x^*$, we obtain a dual solution $\\lambda_i^*\\in\\mathbb{R}^m$ corresponding to the inequality constraints."
   ]
  },
  {
   "cell_type": "code",
   "execution_count": 14,
   "metadata": {},
   "outputs": [
    {
     "name": "stdout",
     "output_type": "stream",
     "text": [
      "The optimal value is 33.439013\n",
      "A primal solution is [-1.55613147 -1.34830305 -0.94253022  0.95936727 -0.37890983  2.3094063\n",
      "  1.1557562   0.03372598  0.84450632  0.40878405]\n",
      "A dual solution is [  0.           6.702611     0.          20.57720965   0.\n",
      "  15.82002902   0.           0.           0.           0.\n",
      " 131.79080557   0.           0.           0.          13.73678921]\n",
      "\n"
     ]
    }
   ],
   "source": [
    "import numpy as np\n",
    "import cvxpy as cp\n",
    "\n",
    "# Generate a random non-trivial quadratic program.\n",
    "m = 15\n",
    "n = 10\n",
    "p = 5\n",
    "\n",
    "rng = np.random.default_rng(3)\n",
    "\n",
    "# Use Cholesky decomposition to make a positive semidefinite matrix\n",
    "P = rng.standard_normal((n, n))\n",
    "P = P.T @ P\n",
    "q = rng.standard_normal(n)\n",
    "\n",
    "G = rng.standard_normal((m, n))\n",
    "h = G @ rng.standard_normal(n)\n",
    "\n",
    "A = rng.standard_normal((p, n))\n",
    "b = rng.standard_normal(p)\n",
    "\n",
    "# Define and solve the CVXPY problem.\n",
    "x = cp.Variable(n)\n",
    "prob = cp.Problem(\n",
    "    cp.Minimize((1/2) * cp.quad_form(x, P) + q.T @ x),\n",
    "    [G @ x <= h, A @ x == b]\n",
    ")\n",
    "prob.solve()\n",
    "\n",
    "# Print result.\n",
    "print(f\"\"\"\\\n",
    "The optimal value is {prob.value:f}\n",
    "A primal solution is {x.value}\n",
    "A dual solution is {prob.constraints[0].dual_value}\n",
    "\"\"\")"
   ]
  },
  {
   "cell_type": "markdown",
   "metadata": {},
   "source": [
    "### Second-order cone program\n",
    "\n",
    "A __second-order cone program (SOCP)__ is an optimization problem of the form\n",
    "$$\n",
    "\\begin{align*}\n",
    "\\text{minimize} &\\qquad f^Tx \\\\\n",
    "\\text{subject to} &\\qquad \\|A_ix+b_i\\|_2 \\leq c_i^Tx+d_i, \\quad 1\\leq i\\leq m \\\\\n",
    "&\\qquad Fx = g,\n",
    "\\end{align*}\n",
    "$$\n",
    "where $f\\in\\mathbb{R}^n$, $A_i\\in\\mathbb{R}^{n_i\\times n}$, $b_i\\in\\mathbb{R}^{n_i}$, $c_i\\in\\mathbb{R}^n$, $d_i\\in\\mathbb{R}$, $F\\in\\mathbb{R}^{p\\times n}$, and $g\\in\\mathbb{R}^p$ are problem data and $x\\in\\mathbb{R}^n$ is the optimization variable​.\n",
    "\n",
    "When we solve a SOCP, in addition to a primal solution $x^*$, we obtain a dual solution $(\\eta_i^*,\\lambda_i^*)\\in\\mathbb{R}\\times\\mathbb{R}^{n_i}$ corresponding to each second-order cone constraint."
   ]
  },
  {
   "cell_type": "code",
   "execution_count": 15,
   "metadata": {},
   "outputs": [
    {
     "name": "stdout",
     "output_type": "stream",
     "text": [
      "The optimal value is -1.583298\n",
      "A primal solution is [-0.47194841  0.25981289 -0.67753554  0.68374499 -0.82365898  1.44204024\n",
      " -0.22784841 -0.29562695 -0.73023417 -0.34361817]\n",
      "\n",
      "SOC constraint 0 dual variable solution for (t, x) is [array([0.40436056]), array([[-0.06346225],\n",
      "       [-0.14688047],\n",
      "       [ 0.2177872 ],\n",
      "       [ 0.29901013],\n",
      "       [-0.03267733]])]\n",
      "SOC constraint 1 dual variable solution for (t, x) is [array([0.30254382]), array([[ 0.03090247],\n",
      "       [ 0.22513544],\n",
      "       [ 0.05651073],\n",
      "       [-0.01654781],\n",
      "       [ 0.19085214]])]\n",
      "SOC constraint 2 dual variable solution for (t, x) is [array([0.13069577]), array([[-0.08922774],\n",
      "       [-0.03769338],\n",
      "       [-0.01941461],\n",
      "       [-0.02506666],\n",
      "       [ 0.08181527]])]\n"
     ]
    }
   ],
   "source": [
    "import numpy as np\n",
    "import cvxpy as cp\n",
    "\n",
    "# Generate a random feasible SOCP.\n",
    "m = 3\n",
    "n = 10\n",
    "p = 5\n",
    "n_i = 5\n",
    "\n",
    "rng = np.random.default_rng(1)\n",
    "\n",
    "f = rng.standard_normal(n)\n",
    "x0 = rng.standard_normal(n)\n",
    "A = []\n",
    "b = []\n",
    "c = []\n",
    "d = []\n",
    "for i in range(m):\n",
    "    A.append(rng.standard_normal((n_i, n)))\n",
    "    b.append(rng.standard_normal(n_i))\n",
    "    c.append(rng.standard_normal(n))\n",
    "    d.append(np.linalg.norm(A[i] @ x0 + b, 2) - c[i].T @ x0)\n",
    "F = rng.standard_normal((p, n))\n",
    "g = F @ x0\n",
    "\n",
    "# Define and solve the CVXPY problem.\n",
    "x = cp.Variable(n)\n",
    "# We use cp.SOC(t, x) to create the SOC constraint ||x||_2 <= t.\n",
    "soc_constraints = [\n",
    "    cp.SOC(ci.T @ x + di, Ai @ x + bi) for Ai, bi, ci, di in zip(A, b, c, d)\n",
    "]\n",
    "prob = cp.Problem(\n",
    "    cp.Minimize(f.T @ x),\n",
    "    soc_constraints + [F @ x == g]\n",
    ")\n",
    "prob.solve()\n",
    "\n",
    "# Print result.\n",
    "print(f\"\"\"\\\n",
    "The optimal value is {prob.value:f}\n",
    "A primal solution is {x.value}\n",
    "\"\"\")\n",
    "for i in range(m):\n",
    "    print(f\"SOC constraint {i} dual variable solution for (t, x) is {soc_constraints[i].dual_value}\")"
   ]
  },
  {
   "cell_type": "markdown",
   "metadata": {},
   "source": [
    "### Semidefinite program\n",
    "\n",
    "A __semidefinite program (SDP)__ is an optimization problem of the form\n",
    "$$\n",
    "\\begin{align*}\n",
    "\\text{minimize} &\\qquad \\operatorname{tr}(CX) \\\\\n",
    "\\text{subject to} &\\qquad \\operatorname{tr}(A_iX) = b_i, \\quad 1\\leq i\\leq p \\\\\n",
    "&\\qquad X \\succeq 0,\n",
    "\\end{align*}\n",
    "$$\n",
    "where $C,A_i\\in\\mathbb{R}^{n\\times n}_\\text{sym}$ and $b_i\\in\\mathbb{R}$ are problem data and $X\\in\\mathbb{R}^{n\\times n}_\\text{sym}$ is the optimization variable​, where\n",
    "$$\n",
    "\\operatorname{tr}(CX) \\equiv \\sum_{i,j} C_{ij}X_{ij}\n",
    "$$\n",
    "is the form of a general real-valued linear function on $\\mathbb{R}^{n\\times n}_\\text{sym}$."
   ]
  },
  {
   "cell_type": "code",
   "execution_count": 16,
   "metadata": {},
   "outputs": [
    {
     "name": "stdout",
     "output_type": "stream",
     "text": [
      "The optimal value is 0.972388\n",
      "A solution is [-0.47194841  0.25981289 -0.67753554  0.68374499 -0.82365898  1.44204024\n",
      " -0.22784841 -0.29562695 -0.73023417 -0.34361817]\n",
      "\n"
     ]
    }
   ],
   "source": [
    "import numpy as np\n",
    "import cvxpy as cp\n",
    "\n",
    "# Generate a random SDP.\n",
    "n = 3\n",
    "p = 3\n",
    "\n",
    "rng = np.random.default_rng(1)\n",
    "\n",
    "C = rng.standard_normal((n, n))\n",
    "A = []\n",
    "b = []\n",
    "for i in range(p):\n",
    "    A.append(rng.standard_normal((n, n)))\n",
    "    b.append(rng.standard_normal())\n",
    "\n",
    "# Define and solve the CVXPY problem.\n",
    "# Create a symmetric matrix variable.\n",
    "X = cp.Variable((n, n), symmetric=True)\n",
    "# The operator >> denotes matrix inequality.\n",
    "constraints = [\n",
    "    cp.trace(A[i] @ X) == b[i] for i in range(p)\n",
    "] + [X >> 0]\n",
    "prob = cp.Problem(\n",
    "    cp.Minimize(cp.trace(C @ X)),\n",
    "    constraints\n",
    ")\n",
    "prob.solve()\n",
    "\n",
    "# Print result.\n",
    "print(f\"\"\"\\\n",
    "The optimal value is {prob.value:f}\n",
    "A solution is {x.value}\n",
    "\"\"\")"
   ]
  },
  {
   "cell_type": "markdown",
   "metadata": {},
   "source": [
    "### Mixed-integer quadratic program\n",
    "\n",
    "A __mixed-integer quadratic program (MIQP)__ is an optimization problem of the form\n",
    "$$\n",
    "\\begin{align*}\n",
    "\\text{minimize} &\\qquad x^TQx + q^Tx + r \\\\\n",
    "\\text{subject to} &\\qquad x\\in\\mathcal{C} \\\\\n",
    "&\\qquad x\\in\\mathbb{Z}^n,\n",
    "\\end{align*}\n",
    "$$\n",
    "where $Q\\in\\mathbb{R}^{n\\times n}_{\\succeq 0}$, $q\\in\\mathbb{R}^n$, and $r\\in\\mathbb{R}$ are problem data, $x\\in\\mathbb{Z}^n$ is the optimization variable​, and $\\mathcal{C}$ is some convex set.\n",
    "\n",
    "CVXPY’s preferred open-source mixed-integer nonlinear solver is [SCIP](http://scip.zib.de).\n",
    "\n",
    "    conda install -c conda-forge pyscipopt"
   ]
  },
  {
   "cell_type": "code",
   "execution_count": 17,
   "metadata": {},
   "outputs": [
    {
     "name": "stdout",
     "output_type": "stream",
     "text": [
      "Status: optimal\n",
      "The optimal value is 27.993554\n",
      "A solution is [ 0.00000000e+00  1.00000000e+00 -1.00000000e+00  0.00000000e+00\n",
      "  0.00000000e+00  1.00000000e+00 -1.00000000e+00  1.00000000e+00\n",
      "  0.00000000e+00  1.00000000e+00 -1.00000000e+00  0.00000000e+00\n",
      "  1.00000000e+00  0.00000000e+00  1.00000000e+00 -1.00000000e+00\n",
      " -1.61728989e-07 -1.00000000e+00  0.00000000e+00  0.00000000e+00\n",
      " -1.00000000e+00  0.00000000e+00  0.00000000e+00  1.00000000e+00\n",
      " -1.00000000e+00]\n",
      "\n"
     ]
    }
   ],
   "source": [
    "import numpy as np\n",
    "import cvxpy as cp\n",
    "\n",
    "# Generate a random feasible SOCP.\n",
    "m = 40\n",
    "n = 25\n",
    "\n",
    "# Generate a random problem\n",
    "rng = np.random.default_rng(1)\n",
    "\n",
    "A = rng.uniform(size=(m, n))\n",
    "b = rng.standard_normal(m)\n",
    "\n",
    "# Construct a CVXPY problem\n",
    "x = cp.Variable(n, integer=True)\n",
    "objective = cp.Minimize(cp.sum_squares(A @ x - b))\n",
    "prob = cp.Problem(objective)\n",
    "prob.solve(solver=cp.SCIP)\n",
    "\n",
    "# Print result.\n",
    "print(f\"\"\"\\\n",
    "Status: {prob.status}\n",
    "The optimal value is {prob.value:f}\n",
    "A solution is {x.value}\n",
    "\"\"\")"
   ]
  }
 ],
 "metadata": {
  "kernelspec": {
   "display_name": "devel",
   "language": "python",
   "name": "python3"
  },
  "language_info": {
   "codemirror_mode": {
    "name": "ipython",
    "version": 3
   },
   "file_extension": ".py",
   "mimetype": "text/x-python",
   "name": "python",
   "nbconvert_exporter": "python",
   "pygments_lexer": "ipython3",
   "version": "3.12.2"
  }
 },
 "nbformat": 4,
 "nbformat_minor": 2
}
