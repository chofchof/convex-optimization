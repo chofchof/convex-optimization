{
 "cells": [
  {
   "cell_type": "code",
   "execution_count": 1,
   "metadata": {},
   "outputs": [],
   "source": [
    "# To disable `warnings.warn(ECOS_DEPRECATION_MSG, FutureWarning)`\n",
    "import warnings\n",
    "warnings.filterwarnings('ignore')"
   ]
  },
  {
   "cell_type": "markdown",
   "metadata": {},
   "source": [
    "## 2. Disciplined Convex Programming\n",
    "\n",
    "__Disciplined convex programming (DCP)__ is a system for constructing mathematical expressions with <u>known curvature</u> from a given library of base functions. CVXPY uses DCP to ensure that the specified optimization problems are convex.\n",
    "\n",
    "This section of the tutorial explains the rules of DCP and how they are applied by CVXPY.\n",
    "\n",
    "Visit https://dcp.stanford.edu for a more interactive introduction to DCP."
   ]
  },
  {
   "cell_type": "markdown",
   "metadata": {},
   "source": [
    "### Expressions\n",
    "\n",
    "__Expressions__ in CVXPY are formed from variables, parameters, numerical constants such as Python floats and Numpy matrices, the standard arithmetic operators `+`, `-`, `*`, `/`, `@`, and a library of functions. Here are some examples of CVXPY expressions:"
   ]
  },
  {
   "cell_type": "code",
   "execution_count": 2,
   "metadata": {},
   "outputs": [
    {
     "data": {
      "text/plain": [
       "Expression(CONSTANT, UNKNOWN, ())"
      ]
     },
     "execution_count": 2,
     "metadata": {},
     "output_type": "execute_result"
    }
   ],
   "source": [
    "import cvxpy as cp\n",
    "\n",
    "# Create variables and parameters.\n",
    "x, y = cp.Variable(), cp.Variable()\n",
    "a, b = cp.Parameter(), cp.Parameter()\n",
    "\n",
    "# Examples of CVXPY expressions.\n",
    "3.69 + b / 3"
   ]
  },
  {
   "cell_type": "code",
   "execution_count": 3,
   "metadata": {},
   "outputs": [
    {
     "data": {
      "text/plain": [
       "Expression(AFFINE, UNKNOWN, ())"
      ]
     },
     "execution_count": 3,
     "metadata": {},
     "output_type": "execute_result"
    }
   ],
   "source": [
    "x - 4 * a"
   ]
  },
  {
   "cell_type": "code",
   "execution_count": 4,
   "metadata": {},
   "outputs": [
    {
     "data": {
      "text/plain": [
       "Expression(UNKNOWN, UNKNOWN, ())"
      ]
     },
     "execution_count": 4,
     "metadata": {},
     "output_type": "execute_result"
    }
   ],
   "source": [
    "cp.sqrt(x) - cp.minimum(y, x - a)"
   ]
  },
  {
   "cell_type": "code",
   "execution_count": 5,
   "metadata": {},
   "outputs": [
    {
     "data": {
      "text/plain": [
       "Expression(CONVEX, NONNEGATIVE, ())"
      ]
     },
     "execution_count": 5,
     "metadata": {},
     "output_type": "execute_result"
    }
   ],
   "source": [
    "cp.maximum(2.66 - cp.sqrt(y), cp.square(x + 2 * y))"
   ]
  },
  {
   "cell_type": "markdown",
   "metadata": {},
   "source": [
    "Expressions can be scalars, vectors, or matrices. The dimensions of an expression are stored as `expr.shape`. The total number of entries is given by `expr.size`, while the number of dimensions is given by `expr.ndim`. CVXPY will raise an exception if an expression is used in a way that doesn't make sense given its dimensions, for example adding matrices of different size. The semantics for how shapes behave under arithmetic operations are the same as for NumPy ndarrays (except some broadcasting is banned)."
   ]
  },
  {
   "cell_type": "code",
   "execution_count": 8,
   "metadata": {},
   "outputs": [
    {
     "name": "stdout",
     "output_type": "stream",
     "text": [
      "\n",
      "dimensions of X: (5, 4)\n",
      "size of X: 20\n",
      "number of dimensions: 2\n",
      "dimensions of sum(X): ()\n",
      "dimensions of A @ X: (3, 4)\n",
      "\n",
      "Cannot broadcast dimensions  (3, 5) (5, 4)\n"
     ]
    }
   ],
   "source": [
    "import numpy as np\n",
    "\n",
    "X = cp.Variable((5, 4))\n",
    "A = np.ones((3, 5))\n",
    "\n",
    "# Use expr.shape to get the dimensions.\n",
    "print(f\"\"\"\n",
    "dimensions of X: {X.shape}\n",
    "size of X: {X.size}\n",
    "number of dimensions: {X.ndim}\n",
    "dimensions of sum(X): {cp.sum(X).shape}\n",
    "dimensions of A @ X: {(A @ X).shape}\n",
    "\"\"\")\n",
    "\n",
    "# ValueError raised for invalid dimensions.\n",
    "try:\n",
    "    A + X\n",
    "except ValueError as e:\n",
    "    print(e)"
   ]
  },
  {
   "cell_type": "markdown",
   "metadata": {},
   "source": [
    "CVXPY uses DCP analysis to determine the __sign__ and __curvature__ of each expression."
   ]
  },
  {
   "cell_type": "markdown",
   "metadata": {},
   "source": [
    "### Sign\n",
    "\n",
    "Each (sub)expression is flagged as __positive__ (non-negative), __negative__ (non-positive), __zero__, or __unknown__.\n",
    "\n",
    "The signs of larger expressions are determined from the signs of their subexpressions. For example, the sign of the expression `expr1 * expr2` is\n",
    "\n",
    "- Zero if either expression has sign zero.\n",
    "- Positive if `expr1` and `expr2` have the same (known) sign.\n",
    "- Negative if `expr1` and `expr2` have opposite (known) signs.\n",
    "- Unknown if either expression has unknown sign.\n",
    "\n",
    "The sign given to an expression is always correct. But DCP sign analysis may flag an expression as unknown sign when the sign could be figured out through more complex analysis. For instance, `x * x` is positive but has unknown sign by the rules above.\n",
    "\n",
    "<u>CVXPY determines the sign of constants by looking at their value</u>. For scalar constants, this is straightforward. Vector and matrix constants with all positive (negative) entries are marked as positive (negative). Vector and matrix constants with both positive and negative entries are marked as unknown sign.\n",
    "\n",
    "The sign of an expression is stored as `expr.sign`:"
   ]
  },
  {
   "cell_type": "code",
   "execution_count": 17,
   "metadata": {},
   "outputs": [
    {
     "name": "stdout",
     "output_type": "stream",
     "text": [
      "\n",
      "sign of x: UNKNOWN\n",
      "sign of a: NONPOSITIVE\n",
      "sign of x * x: UNKNOWN\n",
      "sign of square(x): NONNEGATIVE\n",
      "sign of c * a: UNKNOWN\n",
      "\n"
     ]
    }
   ],
   "source": [
    "x = cp.Variable()\n",
    "a = cp.Parameter(nonpos=True)\n",
    "c = np.array([1, -1]) # has no attribute 'sign'\n",
    "\n",
    "print(f\"\"\"\n",
    "sign of x: {x.sign}\n",
    "sign of a: {a.sign}\n",
    "sign of x * x: {(x * x).sign}\n",
    "sign of square(x): {cp.square(x).sign}\n",
    "sign of c * a: {(c * a).sign}\n",
    "\"\"\")"
   ]
  },
  {
   "cell_type": "markdown",
   "metadata": {},
   "source": [
    "### Curvature\n",
    "\n",
    "Each (sub)expression is flagged as one of the following __curvatures__ (with respect to its variables)\n",
    "\n",
    "| __Curvature__ | __Meaning__ |\n",
    "| ---           | ---         |\n",
    "| constant      | $f(x)$ independent of $x$ |\n",
    "| affine        | $f(\\theta x + (1-\\theta)y) = \\theta f(x) + (1-\\theta)f(y)$ for all $x,y,\\theta\\in [0,1]$ |\n",
    "| convex        | $f(\\theta x + (1-\\theta)y) \\leq \\theta f(x) + (1-\\theta)f(y)$ for all $x,y,\\theta\\in [0,1]$ |\n",
    "| concave       | $f(\\theta x + (1-\\theta)y) \\geq \\theta f(x) + (1-\\theta)f(y)$ for all $x,y,\\theta\\in [0,1]$ |\n",
    "| unknown       | DCP analysis cannot determine the curvature |\n",
    "\n",
    "using the curvature rules given below. As with sign analysis, the conclusion is always correct, but the simple analysis can flag expressions as unknown even when they are convex or concave. Note that <u>any constant expression is also affine</u>, and <u>any affine expression is convex and concave</u>."
   ]
  },
  {
   "cell_type": "markdown",
   "metadata": {},
   "source": [
    "### Curvature rules\n",
    "\n",
    "DCP analysis is based on applying a general composition theorem from convex analysis to each (sub)expression.\n",
    "\n",
    "1. $f(\\text{expr}_1,\\text{expr}_2,\\dotsc,\\text{expr}_n)$ is __convex__ if $f$ is a convex function and for each $\\text{expr}_i$ one of the following conditions holds:\n",
    "    - $f$ is increasing in argument $i$ and $\\text{expr}_i$ is convex.\n",
    "    - $f$ is decreasing in argument $i$ and $\\text{expr}_i$ is concave.\n",
    "    - $\\text{expr}_i$ is affine or constant.\n",
    "\n",
    "2. $f(\\text{expr}_1,\\text{expr}_2,\\dotsc,\\text{expr}_n)$ is __concave__ if $f$ is a concave function and for each $\\text{expr}_i$ one of the following conditions holds:\n",
    "    - $f$ is increasing in argument $i$ and $\\text{expr}_i$ is concave.\n",
    "    - $f$ is decreasing in argument $i$ and $\\text{expr}_i$ is convex.\n",
    "    - $\\text{expr}_i$ is affine or constant.\n",
    "\n",
    "3. $f(\\text{expr}_1,\\text{expr}_2,\\dotsc,\\text{expr}_n)$ is __affine__ if $f$ is an affine function and each $\\text{expr}_i$ is affine.\n",
    "\n",
    "4. If none of the three rules apply, the expression $f(\\text{expr}_1,\\text{expr}_2,\\dotsc,\\text{expr}_n)$ is marked as having __unknown__ curvature.\n",
    "\n",
    "<u>Whether a function is increasing or decreasing in an argument may depend on the sign of the argument</u>. For instance, `cp.square` is increasing for positive arguments and decreasing for negative arguments.\n",
    "\n",
    "The curvature of an expression is stored as `expr.curvature`:"
   ]
  },
  {
   "cell_type": "code",
   "execution_count": 18,
   "metadata": {},
   "outputs": [
    {
     "name": "stdout",
     "output_type": "stream",
     "text": [
      "\n",
      "curvature of x AFFINE\n",
      "curvature of a: CONSTANT\n",
      "curvature of square(x): CONVEX\n",
      "curvature of sqrt(x): CONCAVE\n",
      "\n"
     ]
    }
   ],
   "source": [
    "x = cp.Variable()\n",
    "a = cp.Parameter(nonneg=True)\n",
    "\n",
    "print(f\"\"\"\n",
    "curvature of x {x.curvature}\n",
    "curvature of a: {a.curvature}\n",
    "curvature of square(x): {cp.square(x).curvature}\n",
    "curvature of sqrt(x): {cp.sqrt(x).curvature}\n",
    "\"\"\")"
   ]
  },
  {
   "cell_type": "markdown",
   "metadata": {},
   "source": [
    "### Infix operators\n",
    "\n",
    "The infix operators `+`, `-`, `*`, `/` and matrix multiplication `@` are treated exactly like functions. The infix operators `+` and `-` are __affine__, so the rules above are used to flag the curvature. For example, `expr1 + expr2` is flagged as convex if `expr1` and `expr2` are convex.\n",
    "\n",
    "`expr1 * expr2`, `expr1 / expr2`, and `expr1 @ expr2` can only be DCP when one of the expressions is constant. The curvature rules above apply. For example, `expr1 / expr2` is convex when `expr1` is concave and `expr2` is negative and constant.\n",
    "\n",
    "#### Example 1\n",
    "\n",
    "DCP analysis breaks expressions down into subexpressions. The tree visualization below shows how this works for the expression `2 * square(x) + 3`. Each subexpression is shown in a blue box. We mark its curvature on the left and its sign on the right.\n",
    "\n",
    "![Example 1](https://www.cvxpy.org/_images/example1.png)\n",
    "\n",
    "#### Example 2\n",
    "\n",
    "We'll walk through the application of the DCP rules to the expression `sqrt(1 + square(x))`.\n",
    "\n",
    "![Example 2](https://www.cvxpy.org/_images/example2.png)\n",
    "\n",
    "The variable `x` has affine curvature and unknown sign. The `square` function is convex and non-monotone for arguments of unknown sign. It can take the affine expression `x` as an argument; the result `square(x)` is convex.\n",
    "\n",
    "The arithmetic operator `+` is affine and increasing, so the composition `1 + square(x)` is convex by the curvature rule for convex functions. The function `sqrt` is concave and increasing, which means it can only take a concave argument. Since `1 + square(x)` is convex, `sqrt(1 + square(x))` violates the DCP rules and cannot be verified as convex.\n",
    "\n",
    "In fact, `sqrt(1 + square(x))` is a convex function of `x`, but the DCP rules are not able to verify convexity. If the expression is written as `norm(hstack(1, x), 2)`, the $L_2$ norm of the vector `[1, x]`, which has the same value as `sqrt(1 + square(x))`, then it will be certified as convex using the DCP rules."
   ]
  },
  {
   "cell_type": "code",
   "execution_count": 21,
   "metadata": {},
   "outputs": [
    {
     "name": "stdout",
     "output_type": "stream",
     "text": [
      "\n",
      "sqrt(1 + square(x)) curvature: QUASICONVEX\n",
      "norm(hstack([1, x]), 2) curvature: CONVEX\n",
      "\n"
     ]
    }
   ],
   "source": [
    "print(f\"\"\"\n",
    "sqrt(1 + square(x)) curvature: {cp.sqrt(1 + cp.square(x)).curvature}\n",
    "norm(hstack([1, x]), 2) curvature: {cp.norm(cp.hstack([1, x]), 2).curvature}\n",
    "\"\"\")"
   ]
  },
  {
   "cell_type": "markdown",
   "metadata": {},
   "source": [
    "### DCP problems\n",
    "\n",
    "A problem is constructed from an objective and a list of constraints. If a problem follows the DCP rules, it is guaranteed to be convex and solvable by CVXPY. The DCP rules require that the problem __objective__ have one of two forms:\n",
    "\n",
    "- Minimize(convex)\n",
    "- Maximize(concave)\n",
    "\n",
    "The only valid __constraints__ under the DCP rules are\n",
    "\n",
    "- affine `==` affine\n",
    "- convex `<=` concave\n",
    "- concave `>=` convex\n",
    "\n",
    "You can check that a problem, constraint, or objective satisfies the DCP rules by calling `object.is_dcp()`. Here are some examples of DCP and non-DCP problems:"
   ]
  },
  {
   "cell_type": "code",
   "execution_count": 22,
   "metadata": {},
   "outputs": [
    {
     "name": "stdout",
     "output_type": "stream",
     "text": [
      "\n",
      "prob1 is DCP: True\n",
      "prob2 is DCP: True\n",
      "prob3 is DCP: False\n",
      "prob4 is DCP: False\n",
      "\n",
      "Maximize(square(x)) is DCP: False\n",
      "sqrt(x) <= 2 is DCP: False\n",
      "\n"
     ]
    }
   ],
   "source": [
    "x = cp.Variable()\n",
    "y = cp.Variable()\n",
    "\n",
    "# DCP problems.\n",
    "prob1 = cp.Problem(\n",
    "    cp.Minimize(cp.square(x - y)),\n",
    "    [x + y >= 0]\n",
    ")\n",
    "prob2 = cp.Problem(\n",
    "    cp.Maximize(cp.sqrt(x - y)),\n",
    "    [2*x - 3 == y, cp.square(x) <= 2]\n",
    ")\n",
    "\n",
    "# Non-DCP problems.\n",
    "\n",
    "# A non-DCP objective.\n",
    "objective = cp.Maximize(cp.square(x))\n",
    "prob3 = cp.Problem(objective)\n",
    "\n",
    "# A non-DCP constraint.\n",
    "prob4 = cp.Problem(\n",
    "    cp.Minimize(cp.square(x)),\n",
    "    [cp.sqrt(x) <= 2]\n",
    ")\n",
    "\n",
    "print(f\"\"\"\n",
    "prob1 is DCP: {prob1.is_dcp()}\n",
    "prob2 is DCP: {prob2.is_dcp()}\n",
    "prob3 is DCP: {prob3.is_dcp()}\n",
    "prob4 is DCP: {prob4.is_dcp()}\n",
    "\n",
    "Maximize(square(x)) is DCP: {objective.is_dcp()}\n",
    "sqrt(x) <= 2 is DCP: {(cp.sqrt(x) <= 2).is_dcp()}\n",
    "\"\"\")"
   ]
  },
  {
   "cell_type": "markdown",
   "metadata": {},
   "source": [
    "CVXPY will raise an exception if you call `prob.solve()` on a non-DCP problem."
   ]
  },
  {
   "cell_type": "code",
   "execution_count": 23,
   "metadata": {},
   "outputs": [
    {
     "name": "stdout",
     "output_type": "stream",
     "text": [
      "Problem does not follow DCP rules. Specifically:\n",
      "The objective is not DCP, even though each sub-expression is.\n",
      "You are trying to minimize a function that is concave.\n",
      "However, the problem does follow DQCP rules. Consider calling solve() with `qcp=True`.\n"
     ]
    }
   ],
   "source": [
    "# A non-DCP problem.\n",
    "prob = cp.Problem(cp.Minimize(cp.sqrt(x)))\n",
    "\n",
    "try:\n",
    "    prob.solve()\n",
    "except Exception as e:\n",
    "    print(e)"
   ]
  }
 ],
 "metadata": {
  "kernelspec": {
   "display_name": "devel",
   "language": "python",
   "name": "python3"
  },
  "language_info": {
   "codemirror_mode": {
    "name": "ipython",
    "version": 3
   },
   "file_extension": ".py",
   "mimetype": "text/x-python",
   "name": "python",
   "nbconvert_exporter": "python",
   "pygments_lexer": "ipython3",
   "version": "3.12.2"
  }
 },
 "nbformat": 4,
 "nbformat_minor": 2
}
