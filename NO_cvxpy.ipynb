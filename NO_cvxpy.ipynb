{
 "cells": [
  {
   "cell_type": "markdown",
   "metadata": {},
   "source": [
    "# CVXPY 1.4\n",
    "\n",
    "https://cvxpy.org\n",
    "\n",
    "CVXPY is an open source Python-embedded modeling language for convex optimization problems. It lets you express your problem in a natural way that follows the math, rather than in the restrictive standard form required by solvers.\n",
    "\n",
    "    conda install -c conda-forge cvxpy"
   ]
  },
  {
   "cell_type": "code",
   "execution_count": 1,
   "metadata": {},
   "outputs": [],
   "source": [
    "# To disable `warnings.warn(ECOS_DEPRECATION_MSG, FutureWarning)`\n",
    "import warnings\n",
    "warnings.filterwarnings('ignore')"
   ]
  },
  {
   "cell_type": "markdown",
   "metadata": {},
   "source": [
    "### Example 8.17\n",
    "\n",
    "Suppose that we wish to solve the least squares problem\n",
    "$$\n",
    "\\min\\|\\mathbf{Ax}-\\mathbf{b}\\|^2 \\quad\\text{where}\\quad\n",
    "\\mathbf{A} = \\begin{bmatrix} 1 & 2 \\\\ 3 & 4 \\\\ 5 & 6 \\end{bmatrix}, \\quad\n",
    "\\mathbf{b} = \\begin{bmatrix} 7 \\\\ 8 \\\\ 9 \\end{bmatrix}. \n",
    "$$"
   ]
  },
  {
   "cell_type": "code",
   "execution_count": 2,
   "metadata": {},
   "outputs": [
    {
     "data": {
      "text/plain": [
       "(1.8301573001127474e-28, array([-6. ,  6.5]))"
      ]
     },
     "execution_count": 2,
     "metadata": {},
     "output_type": "execute_result"
    }
   ],
   "source": [
    "import numpy as np\n",
    "import cvxpy as cp\n",
    "\n",
    "A = np.array([[1, 2], [3, 4], [5, 6]])\n",
    "b = np.array([7, 8, 9])\n",
    "\n",
    "x = cp.Variable(2)\n",
    "\n",
    "objective = cp.Minimize(\n",
    "    cp.sum_squares(A @ x - b)\n",
    ")\n",
    "prob = cp.Problem(objective)\n",
    "\n",
    "prob.solve(), x.value"
   ]
  },
  {
   "cell_type": "code",
   "execution_count": 3,
   "metadata": {},
   "outputs": [
    {
     "data": {
      "text/plain": [
       "(6.421847296963647e-19, array([-6. ,  6.5]))"
      ]
     },
     "execution_count": 3,
     "metadata": {},
     "output_type": "execute_result"
    }
   ],
   "source": [
    "objective = cp.Minimize(\n",
    "    cp.norm(A @ x - b)**2\n",
    ")\n",
    "\n",
    "prob = cp.Problem(objective)\n",
    "prob.solve(), x.value"
   ]
  },
  {
   "cell_type": "code",
   "execution_count": 4,
   "metadata": {},
   "outputs": [
    {
     "data": {
      "text/plain": [
       "(-194.00000000000003, array([-6. ,  6.5]))"
      ]
     },
     "execution_count": 4,
     "metadata": {},
     "output_type": "execute_result"
    }
   ],
   "source": [
    "objective = cp.Minimize(\n",
    "    cp.quad_form(x, A.T @ A) - 2 * b @ A @ x # + b @ b\n",
    ")\n",
    "\n",
    "prob = cp.Problem(objective)\n",
    "prob.solve(), x.value"
   ]
  },
  {
   "cell_type": "markdown",
   "metadata": {},
   "source": [
    "### Example 8.18\n",
    "\n",
    "Suppose that we wish to write a CVXPY code that solves the convex optimization problem\n",
    "\\begin{align*}\n",
    "\\text{minimize} &\\quad \\sqrt{x_1^2+x_2^2+1} + 2\\max\\{x_1,x_2,0\\} \\\\\n",
    "\\text{subject to} &\\quad |x_1|+|x_2|+\\frac{x_1^2}{x_2} \\leq 5 \\\\\n",
    "&\\quad \\frac{1}{x_2} + x_1^4 \\leq 10 \\\\\n",
    "&\\quad x_2 \\geq 1, \\quad x_1\\geq 0.\n",
    "\\end{align*}"
   ]
  },
  {
   "cell_type": "code",
   "execution_count": 5,
   "metadata": {},
   "outputs": [
    {
     "data": {
      "text/plain": [
       "(3.4142135621977383, array([1.01942925e-06, 1.00000000e+00]))"
      ]
     },
     "execution_count": 5,
     "metadata": {},
     "output_type": "execute_result"
    }
   ],
   "source": [
    "import numpy as np\n",
    "import cvxpy as cp\n",
    "\n",
    "x = cp.Variable(2)\n",
    "\n",
    "objective = cp.Minimize(\n",
    "    cp.norm(cp.hstack([x, 1])) + 2 * cp.max(cp.hstack([x, 0]))\n",
    ")\n",
    "constraints = [\n",
    "    cp.norm(x, p=1) + cp.quad_over_lin(x[0], x[1]) <= 5,\n",
    "    cp.inv_pos(x[1]) + x[0]**4 <= 10,\n",
    "    x[1] >= 1, x[0] >= 0\n",
    "]\n",
    "prob = cp.Problem(objective, constraints)\n",
    "\n",
    "prob.solve(), x.value"
   ]
  },
  {
   "cell_type": "markdown",
   "metadata": {},
   "source": [
    "### Example 8.19\n",
    "\n",
    "Suppose that we wish to find the Chebyshev center of the five points\n",
    "$$\n",
    "(-1,3), \\quad (-3,10), \\quad (-1,0), \\quad (5,0), \\quad (-1,-5).\n",
    "$$\n",
    "Recall that the problem of finding the Chebyshev center of a set of points $\\mathbf{a}_i$ for $1\\leq i\\leq m$ is given by (see Section 8.2.4)\n",
    "\\begin{align*}\n",
    "\\text{minimize} &\\quad r \\\\\n",
    "\\text{subject to} &\\quad \\|\\mathbf{x}-\\mathbf{a}_i\\| \\leq r, \\quad 1\\leq i\\leq m.\n",
    "\\end{align*}"
   ]
  },
  {
   "cell_type": "code",
   "execution_count": 6,
   "metadata": {},
   "outputs": [
    {
     "data": {
      "text/plain": [
       "(7.566372968416897, array([-1.99996685,  2.50000442]), array(7.56637297))"
      ]
     },
     "execution_count": 6,
     "metadata": {},
     "output_type": "execute_result"
    }
   ],
   "source": [
    "import numpy as np\n",
    "import cvxpy as cp\n",
    "\n",
    "A = np.array([[-1, 3], [-3, 10], [-1, 0], [5, 0], [-1, -5]])\n",
    "\n",
    "x = cp.Variable(2)\n",
    "r = cp.Variable()\n",
    "\n",
    "objective = cp.Minimize(r)\n",
    "constraints = [\n",
    "    cp.norm(x - a) <= r for a in A\n",
    "]\n",
    "prob = cp.Problem(objective, constraints)\n",
    "\n",
    "prob.solve(), x.value, r.value"
   ]
  },
  {
   "cell_type": "code",
   "execution_count": 7,
   "metadata": {},
   "outputs": [
    {
     "data": {
      "image/png": "[encoded data removed]",
      "text/plain": [
       "<Figure size 640x480 with 1 Axes>"
      ]
     },
     "metadata": {},
     "output_type": "display_data"
    }
   ],
   "source": [
    "import matplotlib.pyplot as plt\n",
    "from matplotlib.patches import Circle\n",
    "\n",
    "_, ax = plt.subplots()\n",
    "ax.add_patch(\n",
    "    Circle(x.value, r.value, color=\"C2\", fill=False)\n",
    ")\n",
    "ax.plot(x.value[0], x.value[1], \"d\", color=\"C1\")\n",
    "ax.plot(A[:, 0], A[:, 1], \"*\", color=\"C0\")\n",
    "ax.axis(\"equal\");"
   ]
  },
  {
   "cell_type": "markdown",
   "metadata": {},
   "source": [
    "### Example 8.20 (robust regression)\n",
    "\n",
    "Suppose that we are given 21 points in $\\mathbb{R}^2$ generated by the commands"
   ]
  },
  {
   "cell_type": "code",
   "execution_count": 8,
   "metadata": {},
   "outputs": [
    {
     "data": {
      "image/png": "[encoded data removed]",
      "text/plain": [
       "<Figure size 640x480 with 1 Axes>"
      ]
     },
     "metadata": {},
     "output_type": "display_data"
    }
   ],
   "source": [
    "import numpy as np\n",
    "import matplotlib.pyplot as plt\n",
    "\n",
    "n = 20\n",
    "x = np.linspace(-5, 5, num=n)\n",
    "eps = np.sin(10 * np.arange(1, n+1) ** 3)\n",
    "y = 2 * x + 1 + eps\n",
    "\n",
    "x = np.hstack([x, 5])\n",
    "y = np.hstack([y, -20])\n",
    "\n",
    "_, ax = plt.subplots()\n",
    "ax.plot(x[:-1], y[:-1], \"*\", color=\"C0\") # randomly generated 20 points\n",
    "ax.plot(x[-1], y[-1], \"*\", color=\"C1\");  # (5, -20)"
   ]
  },
  {
   "cell_type": "markdown",
   "metadata": {},
   "source": [
    "Note that the point $(5,-20)$ is an outlier; it is far away from all the other points and does not seem to fit into the almost-line structure of the other points.\n",
    "The least squares line, also called the __regression line__, can be found by the commands"
   ]
  },
  {
   "cell_type": "code",
   "execution_count": 9,
   "metadata": {},
   "outputs": [
    {
     "data": {
      "image/png": "[encoded data removed]",
      "text/plain": [
       "<Figure size 640x480 with 1 Axes>"
      ]
     },
     "metadata": {},
     "output_type": "display_data"
    }
   ],
   "source": [
    "# We can rewrite the line equation $y = m x + c$\n",
    "# as $y = Ap$, where $A = [[x, 1]]$ and $p = [[m], [c]]$.\n",
    "\n",
    "A = np.hstack([x[:,np.newaxis], np.ones((x.shape[0],1))])\n",
    "b = y\n",
    "\n",
    "alpha, beta = np.linalg.lstsq(A, b)[0]\n",
    "# print(alpha, beta)\n",
    "\n",
    "_, ax = plt.subplots()\n",
    "xlim = np.array([-6, 6])\n",
    "\n",
    "ax.plot(x[:-1], y[:-1], \"*\", color=\"C0\") # randomly generated 20 points\n",
    "ax.plot(x[-1], y[-1], \"*\", color=\"C1\")   # (5, -20)\n",
    "ax.plot(xlim, alpha * xlim + beta, color=\"C2\");"
   ]
  },
  {
   "cell_type": "markdown",
   "metadata": {},
   "source": [
    "The least squares line is very much affected by the single outlier point, which is a known drawback of the least squares approach.\n",
    "\n",
    "Another option is to replace the $l_2$-based objective $\\|\\mathbf{Ax}-\\mathbf{b}\\|_2^2$ with an $l_1$-based objective function; that is, we can consider the optimization problem $\\min\\|\\mathbf{Ax}-\\mathbf{b}\\|_1$.\n",
    "\n",
    "This approach has the advantage that it is less sensitive to outliers since outliers are not as severely penalized as they are penalized in the least squares objective function.\n",
    "More specifically, in the least squares objective function, the distances to the line are squared, while in the $l_1$-based function they are not."
   ]
  },
  {
   "cell_type": "code",
   "execution_count": 10,
   "metadata": {},
   "outputs": [
    {
     "data": {
      "image/png": "[encoded data removed]",
      "text/plain": [
       "<Figure size 640x480 with 1 Axes>"
      ]
     },
     "metadata": {},
     "output_type": "display_data"
    }
   ],
   "source": [
    "import cvxpy as cp\n",
    "\n",
    "u = cp.Variable(2)\n",
    "\n",
    "objective = cp.Minimize(\n",
    "    cp.norm(A @ u - b, 1)\n",
    ")\n",
    "prob = cp.Problem(objective)\n",
    "\n",
    "prob.solve()\n",
    "alpha, beta = u.value\n",
    "# print(alpha, beta)\n",
    "\n",
    "_, ax = plt.subplots()\n",
    "xlim = np.array([-6, 6])\n",
    "\n",
    "ax.plot(x[:-1], y[:-1], \"*\", color=\"C0\") # randomly generated 20 points\n",
    "ax.plot(x[-1], y[-1], \"*\", color=\"C1\")   # (5, -20)\n",
    "ax.plot(xlim, alpha * xlim + beta, color=\"C2\");"
   ]
  },
  {
   "cell_type": "markdown",
   "metadata": {},
   "source": [
    "Note that the resulting line is insensitive to the outlier. This is why this line is also called the __robust regression line__."
   ]
  },
  {
   "cell_type": "markdown",
   "metadata": {},
   "source": [
    "### Example 8.21 (solution of a trust region subproblem)\n",
    "\n",
    "There are several situations in which a certain problem is not convex but nonetheless can be recast as a convex optimization problem.\n",
    "This situation is sometimes called \"__hidden convexity__.\"\n",
    "\n",
    "Consider the __trust region subproblem (TRS)__\n",
    "\\begin{align*}\n",
    "\\text{minimize} &\\quad \\mathbf{x}^T\\mathbf{Ax} + 2\\mathbf{b}^T\\mathbf{x} \\\\\n",
    "\\text{subject to} &\\quad \\|\\mathbf{x}\\|^2 \\leq 1,\n",
    "\\end{align*}\n",
    "where $\\mathbf{A} = \\begin{bmatrix} 1 & 2 & 3 \\\\ 2 & 1 & 4 \\\\ 3 & 4 & 3 \\end{bmatrix}$ and $\\mathbf{b} = \\begin{bmatrix} \\frac{1}{2} \\\\ 1 \\\\ -\\frac{1}{2} \\end{bmatrix}$.\n",
    "\n",
    "The problem is nonconvex since the matrix $\\mathbf{A}$ is not positive semidefinite."
   ]
  },
  {
   "cell_type": "code",
   "execution_count": 11,
   "metadata": {},
   "outputs": [
    {
     "data": {
      "text/plain": [
       "array([-2.1683478 , -0.80932486,  7.97767266])"
      ]
     },
     "execution_count": 11,
     "metadata": {},
     "output_type": "execute_result"
    }
   ],
   "source": [
    "import numpy as np\n",
    "\n",
    "A = np.array([[1, 2, 3], [2, 1, 4], [3, 4, 3]])\n",
    "b = 0.5 * np.array([1, 2, -1])\n",
    "\n",
    "# numpy.linalg.eigh(A) returns a namedtuple with\n",
    "#   eigenvalues: ndarray of shape (M,)\n",
    "#   eigenvectors: ndarray of shape (M, M)\n",
    "#     The column `eigenvectors[:, i]` is the normalized eigenvector\n",
    "#     corresponding to the eigenvalue `eigenvalues[i]`.\n",
    "d, U = np.linalg.eigh(A)\n",
    "d"
   ]
  },
  {
   "cell_type": "markdown",
   "metadata": {},
   "source": [
    "It is therefore not possible to solve the problem directly using CVXPY.\n",
    "Instead, we will use the technique described in Section 8.2.7 to convert the problem into a convex problem, and then we will be able to solve the transformed problem via CVXPY.\n",
    "\n",
    "1. By the spectral decomposition theorem, there exist an orthogonal matrix $\\mathbf{U}$ and a diagonal matrix $\\mathbf{D}=\\operatorname{diag}(d_1,d_2,\\dotsc,d_n)$ such that $\\mathbf{A}=\\mathbf{UDU}^T$, and hence (TRS) can be rewritten as\n",
    "$$\n",
    "\\min\\{ \\mathbf{x}^T\\mathbf{UDU}^T\\mathbf{x} + 2\\mathbf{b}^T\\mathbf{UU}^T\\mathbf{x} + c \\mid \\|\\mathbf{U}^T\\mathbf{x}\\|^2\\leq 1 \\}. \\tag{8.11}\n",
    "$$\n",
    "\n",
    "2. Making the linear change of variables $\\mathbf{y}=\\mathbf{U}^T\\mathbf{x}$, it follows that (8.11) reduces to\n",
    "$$\n",
    "\\min\\{ \\mathbf{y}^T\\mathbf{Dy} + 2\\mathbf{b}^T\\mathbf{Uy} + c \\mid \\|\\mathbf{y}\\|^2\\leq 1 \\}.\n",
    "$$\n",
    "\n",
    "3. Denoting $\\mathbf{f}=\\mathbf{U}^T\\mathbf{b}$, we obtain the following formulation of the problem:\n",
    "\\begin{align*}\n",
    "\\text{minimize} &\\quad \\sum_i d_i y_i^2 + 2\\sum_i f_i y_i + c \\\\\n",
    "\\text{subject to} &\\quad \\sum_i y_i^2 \\leq 1.\n",
    "\\end{align*} \\tag{8.12}\n",
    "\n",
    "The problem is still nonconvex since some of the $d_i$ s might be negative.\n",
    "\n",
    "__Lemma 8.7__ Let $\\mathbf{y}^*$ be an optimal solution of (8.12). Then $f_i y_i^*\\leq 0$ for all $i$.\n",
    "\n",
    "As a direct result of Lemma 8.7 we have that for any optimal solution $\\mathbf{y}^*$, the equality $\\operatorname{sgn}(y_i^*)=-\\operatorname{sgn}(f_i)$ holds when $f_i\\neq 0$.\n",
    "When $f_i=0$, the sign of $\\mathbf{y}^*$ can be chosen arbitrarily.\n",
    "\n",
    "As a consequence, we can make the change of variables $y_i=-\\operatorname{sgn}(f_i)\\sqrt{z_i}$, and problem (8.12) becomes\n",
    "\\begin{align*}\n",
    "\\text{minimize} &\\quad \\sum_i d_i z_i - 2\\sum_i |f_i|\\sqrt{z_i} + c \\\\\n",
    "\\text{subject to} &\\quad \\sum_i z_i \\leq 1 \\\\\n",
    "&\\quad z_i\\geq 0 \\quad\\text{for all $i$}.\n",
    "\\end{align*}\n",
    "\n",
    "Obviously this is a convex optimization problem since the constrains are linear and the objective function is a sum of linear terms and positive multiples of the convex functions."
   ]
  },
  {
   "cell_type": "code",
   "execution_count": 12,
   "metadata": {},
   "outputs": [
    {
     "data": {
      "text/plain": [
       "-4.480614246579162"
      ]
     },
     "execution_count": 12,
     "metadata": {},
     "output_type": "execute_result"
    }
   ],
   "source": [
    "import cvxpy as cp\n",
    "\n",
    "f = U.T @ b\n",
    "\n",
    "z = cp.Variable(3)\n",
    "objective = cp.Minimize(\n",
    "    d.T @ z - 2 * np.abs(f).T @ cp.sqrt(z)\n",
    ")\n",
    "constraints = [cp.sum(z) <= 1, z >= 0]\n",
    "prob = cp.Problem(objective, constraints)\n",
    "\n",
    "prob.solve()"
   ]
  },
  {
   "cell_type": "markdown",
   "metadata": {},
   "source": [
    "The optimal solution is then computed by $y_i=-\\operatorname{sgn}(f_i)\\sqrt{z_i}$ and then $\\mathbf{x}=\\mathbf{Uy}$."
   ]
  },
  {
   "cell_type": "code",
   "execution_count": 13,
   "metadata": {},
   "outputs": [
    {
     "data": {
      "text/plain": [
       "array([-0.23004067, -0.72589557,  0.64819512])"
      ]
     },
     "execution_count": 13,
     "metadata": {},
     "output_type": "execute_result"
    }
   ],
   "source": [
    "y = -np.sign(f) * np.sqrt(z.value)\n",
    "x = U @ y\n",
    "x"
   ]
  }
 ],
 "metadata": {
  "kernelspec": {
   "display_name": "devel",
   "language": "python",
   "name": "python3"
  },
  "language_info": {
   "codemirror_mode": {
    "name": "ipython",
    "version": 3
   },
   "file_extension": ".py",
   "mimetype": "text/x-python",
   "name": "python",
   "nbconvert_exporter": "python",
   "pygments_lexer": "ipython3",
   "version": "3.12.2"
  }
 },
 "nbformat": 4,
 "nbformat_minor": 2
}
