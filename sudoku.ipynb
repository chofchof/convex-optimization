{
 "cells": [
  {
   "cell_type": "markdown",
   "metadata": {},
   "source": [
    "# An Integer Programming Model for the Sudoku Problem\n",
    "\n",
    "**Reference**: An Integer Programming Model for the Sudoku Problem by A.C. Bartlett, et. al., The Journal of Online Mathematics and Its Applications 8 (2008).\n",
    "\n",
    "## 2. Question 1: Solving the Puzzle\n",
    "\n",
    "Let us mathematically model the Sudoku puzzle as a linear program.\n",
    "\n",
    "More specifically, we will formulate a binary integer program (BIP) for general $n\\times n$ puzzles, where $n=m^2$ for some positive integer.\n",
    "Once the program is developed to solve the BIP, it can be easily adapted to solve *any* Sudoku puzzle.\n",
    "\n",
    "### Decision variables\n",
    "\n",
    "To begin, we define our decision variables:\n",
    "$$\n",
    "x_{ijk} = \\begin{cases} 1, & \\text{if element $(i,j)$ of the $n\\times n$ Sudoku matrix contains the integer $k$,} \\\\ 0, & \\text{otherwise.} \\end{cases}\n",
    "$$\n",
    "When the values of the decision variables are determined, we will know whether each integer $k$ ($1\\leq k\\leq n$) appears in each element $(i,j)$ of the $n\\times n$ Sudoku matrix.\n",
    "That is, the solution to the corresponding Sudoku puzzle will be defined.\n",
    "\n",
    "### Objective and constraints\n",
    "\n",
    "We now turn to the objective function and the set of constraints.\n",
    "\n",
    "A BIP formulation suitable for Sudoku puzzle is as follows:\n",
    "\\begin{align*}\n",
    "\\text{minimize} &\\quad \\mathbf{0}^T\\mathbf{x} \\\\\n",
    "\\text{subject to} &\\quad \\sum_{i=1}^n x_{ijk} = 1 \\quad\\text{for all $1\\leq j,k\\leq n$} \\tag{1} \\\\\n",
    "&\\quad \\sum_{j=1}^n x_{ijk} = 1 \\quad\\text{for all $1\\leq i,k\\leq n$} \\tag{2} \\\\\n",
    "&\\quad \\sum_{k=1}^n x_{ijk} = 1 \\quad\\text{for all $1\\leq i,j\\leq n$} \\tag{3} \\\\\n",
    "&\\quad \\sum_{i=m(p-1)+1}^{mp} \\sum_{j=m(q-1)+1}^{mq} x_{ijk} = 1 \\quad\\text{for all $1\\leq k\\leq n$ and $1\\leq p,q\\leq m$} \\tag{4} \\\\\n",
    "&\\quad x_{ijk} = 1 \\quad\\text{for all $(i,j,k)\\in G$} \\tag{5} \\\\\n",
    "&\\quad x_{ijk}\\in\\{0,1\\}\n",
    "\\end{align*}\n",
    "\n",
    "- **Constraint (1)**: Only one $k$ in each column\n",
    "- **Constraint (2)**: Only one $k$ in each row\n",
    "- **Constraint (3)**: Every position in matrix must be filled\n",
    "- **Constraint (4)**: Only one $k$ in each submatrix\n",
    "- **Constraint (5)**: All initial elements in $G$ are set \"on\""
   ]
  },
  {
   "cell_type": "code",
   "execution_count": 1,
   "metadata": {},
   "outputs": [],
   "source": [
    "import numpy as np\n",
    "import cvxpy as cp\n",
    "\n",
    "def solve_sudoku(puzzle):\n",
    "    G = np.asarray(puzzle, dtype=np.int64)\n",
    "    n, _n = G.shape\n",
    "    assert n == _n\n",
    "    m = int(np.sqrt(n))\n",
    "    assert n == m ** 2\n",
    "    assert np.all((G >= 0) & (G <= n)) # all values are in {0,1,...,n}\n",
    "\n",
    "    n_ones = np.ones(n)\n",
    "    n_ones_d2 = np.ones((n, n))\n",
    "\n",
    "    x = cp.Variable((n, n, n), boolean=True)\n",
    "    constraints = [\n",
    "        # (1) only one k in each column\n",
    "        cp.sum(x, axis=0) == n_ones_d2,\n",
    "        # (2) only one k in each row\n",
    "        cp.sum(x, axis=1) == n_ones_d2,\n",
    "        # (3) every position in matrix must be filled\n",
    "        cp.sum(x, axis=2) == n_ones_d2,\n",
    "    ] + [\n",
    "        # (4) only one k in each submatrix\n",
    "        cp.sum(\n",
    "            x[m*p:m*(p+1), m*q:m*(q+1), :], axis=(0, 1)\n",
    "        ) == n_ones for p in range(m) for q in range(m)\n",
    "    ] + [\n",
    "        # (5) All initial elements in G are set \"on\"\n",
    "        x[i, j, G[i, j]-1] == 1 for i, j in np.argwhere(G)\n",
    "    ]\n",
    "\n",
    "    prob = cp.Problem(cp.Minimize(0), constraints)\n",
    "    prob.solve(canon_backend=\"SCIPY\") # for problems with expressions of dim > 2\n",
    "\n",
    "    if prob.status == \"optimal\":\n",
    "        return (np.where(x.value)[2] + 1).reshape((n, n))\n",
    "    else: # infeasible or unbounded\n",
    "        raise RuntimeError(\"Failed to find a solution.\")"
   ]
  },
  {
   "cell_type": "code",
   "execution_count": 2,
   "metadata": {},
   "outputs": [
    {
     "data": {
      "text/plain": [
       "array([[1, 2, 3, 4],\n",
       "       [3, 4, 1, 2],\n",
       "       [2, 1, 4, 3],\n",
       "       [4, 3, 2, 1]])"
      ]
     },
     "execution_count": 2,
     "metadata": {},
     "output_type": "execute_result"
    }
   ],
   "source": [
    "puzzle = [\n",
    "    [0, 2, 0, 0],\n",
    "    [3, 0, 0, 0],\n",
    "    [0, 0, 4, 3],\n",
    "    [0, 3, 0, 0]\n",
    "]\n",
    "solve_sudoku(puzzle)"
   ]
  },
  {
   "cell_type": "markdown",
   "metadata": {},
   "source": [
    "![](figures/sudoku_figure1.png)"
   ]
  },
  {
   "cell_type": "code",
   "execution_count": 3,
   "metadata": {},
   "outputs": [],
   "source": [
    "puzzle = [\n",
    "    [0, 0, 0, 0, 0, 0, 0, 2, 0],\n",
    "    [0, 2, 0, 0, 0, 0, 5, 0, 0],\n",
    "    [0, 0, 7, 0, 0, 3, 4, 0, 0],\n",
    "    [2, 0, 0, 1, 0, 0, 3, 4, 0],\n",
    "    [6, 4, 0, 0, 8, 0, 0, 5, 9],\n",
    "    [0, 9, 5, 0, 0, 2, 0, 0, 1],\n",
    "    [0, 0, 3, 4, 0, 0, 8, 0, 0],\n",
    "    [0, 0, 9, 0, 0, 0, 0, 1, 0],\n",
    "    [0, 1, 0, 0, 0, 0, 0, 0, 0]\n",
    "]"
   ]
  },
  {
   "cell_type": "markdown",
   "metadata": {},
   "source": [
    "![](figures/sudoku_figure2.png)"
   ]
  },
  {
   "cell_type": "code",
   "execution_count": 4,
   "metadata": {},
   "outputs": [
    {
     "data": {
      "text/plain": [
       "array([[9, 3, 4, 5, 6, 8, 1, 2, 7],\n",
       "       [8, 2, 6, 7, 1, 4, 5, 9, 3],\n",
       "       [1, 5, 7, 9, 2, 3, 4, 6, 8],\n",
       "       [2, 7, 8, 1, 5, 9, 3, 4, 6],\n",
       "       [6, 4, 1, 3, 8, 7, 2, 5, 9],\n",
       "       [3, 9, 5, 6, 4, 2, 7, 8, 1],\n",
       "       [5, 6, 3, 4, 9, 1, 8, 7, 2],\n",
       "       [7, 8, 9, 2, 3, 5, 6, 1, 4],\n",
       "       [4, 1, 2, 8, 7, 6, 9, 3, 5]])"
      ]
     },
     "execution_count": 4,
     "metadata": {},
     "output_type": "execute_result"
    }
   ],
   "source": [
    "solve_sudoku(puzzle)"
   ]
  },
  {
   "cell_type": "markdown",
   "metadata": {},
   "source": [
    "# Sudoku.com\n",
    "\n",
    "## What is Extreme Sudoku?\n",
    "\n",
    "Extreme Sudoku is the most challenging version of the 9x9 grid puzzle game for the real puzzle masters! It's not just about following the basic rules - you've got to be a puzzle-solving expert and use advanced strategies to crack it. \n",
    "\n",
    "Extreme Sudoku level provides players with very few given digits and requires them to push their mental limits and test strategic thinking like never before. If you're an experienced Sudoku enthusiast looking for a challenge, Extreme Sudoku is your ticket to a thrilling adventure.\n",
    "\n",
    "![](figures/sudoku_extreme.png)"
   ]
  },
  {
   "cell_type": "code",
   "execution_count": 5,
   "metadata": {},
   "outputs": [
    {
     "data": {
      "text/plain": [
       "array([[5, 9, 1, 6, 8, 2, 3, 7, 4],\n",
       "       [6, 7, 2, 3, 9, 4, 8, 1, 5],\n",
       "       [3, 8, 4, 5, 7, 1, 6, 9, 2],\n",
       "       [7, 1, 6, 8, 3, 5, 2, 4, 9],\n",
       "       [2, 5, 8, 4, 6, 9, 1, 3, 7],\n",
       "       [4, 3, 9, 2, 1, 7, 5, 6, 8],\n",
       "       [1, 6, 5, 9, 4, 8, 7, 2, 3],\n",
       "       [8, 4, 7, 1, 2, 3, 9, 5, 6],\n",
       "       [9, 2, 3, 7, 5, 6, 4, 8, 1]])"
      ]
     },
     "execution_count": 5,
     "metadata": {},
     "output_type": "execute_result"
    }
   ],
   "source": [
    "extreme_puzzle = [\n",
    "    [5, 0, 0, 0, 8, 2, 3, 0, 4],\n",
    "    [0, 7, 0, 0, 0, 0, 0, 0, 5],\n",
    "    [0, 0, 0, 0, 0, 1, 0, 0, 0],\n",
    "    [7, 0, 0, 0, 3, 5, 2, 0, 0],\n",
    "    [0, 0, 0, 4, 0, 0, 0, 0, 0],\n",
    "    [0, 0, 9, 0, 0, 0, 0, 6, 0],\n",
    "    [0, 6, 0, 0, 4, 8, 0, 2, 0],\n",
    "    [8, 0, 0, 1, 0, 0, 0, 0, 0],\n",
    "    [0, 0, 0, 7, 0, 0, 4, 0, 0]\n",
    "]\n",
    "solve_sudoku(extreme_puzzle)"
   ]
  },
  {
   "cell_type": "markdown",
   "metadata": {},
   "source": [
    "## 3. Solving Variations on Sudoku Puzzles\n",
    "\n",
    "### 3.1 Sudoku X\n",
    "\n",
    "The \"Sudoku X\" puzzle is like the standard puzzle, with an extra requirement: The two long diagonals of the board must also contain each digit from 1 to 9 exactly once.\n",
    "\n",
    "Thus, any solution to the Sudoku X puzzle is also a solution to the standard Sudoku puzzle, but the converse is not the case.\n",
    "\n",
    "![](figures/sudoku_figure3.png)\n",
    "\n",
    "To capture the requirement for the positive diagonal, we add the nine constraints\n",
    "$$\n",
    "\\sum_{r=1}^9 x_{rrk} = 1 \\quad\\text{for $1\\leq k\\leq 9$}.\n",
    "$$\n",
    "Similarly, for the anti-diagonal, the following set of nine constraints are added\n",
    "$$\n",
    "\\sum_{r=1}^9 x_{r(10-r)k} = 1 \\quad\\text{for $1\\leq k\\leq 9$}.\n",
    "$$"
   ]
  },
  {
   "cell_type": "code",
   "execution_count": 6,
   "metadata": {},
   "outputs": [],
   "source": [
    "import numpy as np\n",
    "import cvxpy as cp\n",
    "\n",
    "def solve_sudoku_x(puzzle):\n",
    "    G = np.asarray(puzzle, dtype=np.int64)\n",
    "    m = 3\n",
    "    n = m ** 2\n",
    "    assert G.shape == (n, n)\n",
    "    assert np.all((G >= 0) & (G <= n)) # all values are in {0,1,...,n}\n",
    "\n",
    "    n_ones = np.ones(n)\n",
    "    n_ones_d2 = np.ones((n, n))\n",
    "\n",
    "    x = cp.Variable((n, n, n), boolean=True)\n",
    "    constraints = [\n",
    "        # (1) only one k in each column\n",
    "        cp.sum(x, axis=0) == n_ones_d2,\n",
    "        # (2) only one k in each row\n",
    "        cp.sum(x, axis=1) == n_ones_d2,\n",
    "        # (3) every position in matrix must be filled\n",
    "        cp.sum(x, axis=2) == n_ones_d2,\n",
    "    ] + [\n",
    "        # (4) only one k in each submatrix\n",
    "        cp.sum(\n",
    "            x[m*p:m*(p+1), m*q:m*(q+1), :], axis=(0, 1)\n",
    "        ) == n_ones for p in range(m) for q in range(m)\n",
    "    ] + [\n",
    "        # (5) All initial elements in G are set \"on\"\n",
    "        x[i, j, G[i, j]-1] == 1 for i, j in np.argwhere(G)\n",
    "    ] + [\n",
    "        # diagonal\n",
    "        cp.sum(cp.diag(x[:, :, k])) == 1 for k in range(n)\n",
    "    ] + [\n",
    "        # anti-diagonal (numpy.fliplr)\n",
    "        cp.sum(cp.diag(x[:, ::-1, k])) == 1 for k in range(n)\n",
    "    ]\n",
    "\n",
    "    prob = cp.Problem(cp.Minimize(0), constraints)\n",
    "    prob.solve(canon_backend=\"SCIPY\") # for problems with expressions of dim > 2\n",
    "\n",
    "    if prob.status == \"optimal\":\n",
    "        return (np.where(x.value)[2] + 1).reshape((n, n))\n",
    "    else: # infeasible or unbounded\n",
    "        raise RuntimeError(\"Failed to find a solution.\")"
   ]
  },
  {
   "cell_type": "code",
   "execution_count": 7,
   "metadata": {},
   "outputs": [
    {
     "data": {
      "text/plain": [
       "array([[8, 5, 1, 9, 7, 3, 6, 4, 2],\n",
       "       [4, 9, 2, 6, 5, 1, 8, 3, 7],\n",
       "       [6, 7, 3, 2, 8, 4, 5, 9, 1],\n",
       "       [3, 1, 5, 7, 6, 9, 4, 2, 8],\n",
       "       [2, 8, 9, 1, 4, 5, 7, 6, 3],\n",
       "       [7, 4, 6, 8, 3, 2, 9, 1, 5],\n",
       "       [5, 3, 7, 4, 2, 6, 1, 8, 9],\n",
       "       [9, 6, 8, 3, 1, 7, 2, 5, 4],\n",
       "       [1, 2, 4, 5, 9, 8, 3, 7, 6]])"
      ]
     },
     "execution_count": 7,
     "metadata": {},
     "output_type": "execute_result"
    }
   ],
   "source": [
    "puzzle = [\n",
    "    [8, 0, 0, 0, 0, 0, 0, 0, 2],\n",
    "    [4, 0, 0, 0, 0, 0, 0, 0, 7],\n",
    "    [0, 7, 0, 0, 0, 0, 0, 9, 0],\n",
    "    [0, 0, 5, 0, 0, 0, 4, 0, 0],\n",
    "    [0, 0, 0, 1, 4, 5, 0, 0, 0],\n",
    "    [0, 0, 6, 0, 0, 0, 9, 0, 0],\n",
    "    [0, 3, 0, 0, 0, 0, 0, 8, 0],\n",
    "    [9, 0, 0, 0, 0, 0, 0, 0, 4],\n",
    "    [1, 0, 0, 0, 0, 0, 0, 0, 6]\n",
    "]\n",
    "solve_sudoku_x(puzzle)"
   ]
  },
  {
   "cell_type": "markdown",
   "metadata": {},
   "source": [
    "### 3.2 Four Square Sudoku\n",
    "\n",
    "The \"Four Square\" Sudoku is again a standard puzzle but with an extra requirement.\n",
    "\n",
    "There are four shaded $3\\times 3$ regions on the Sudoku board, and in addition to the requirements of the standard Sudoku, each shaded region must also contain each digit from 1 to 9 exactly once. \n",
    "\n",
    "![](figures/sudoku_figure4.png)\n",
    "\n",
    "In addition to the standard Sudoku constraints, the Four Square Sudoku puzzle requires that each shaded $3\\times3$ square contains each digit exactly once.\n",
    "\n",
    "This requirement results in 36 constraints on top of the standard constraints (4 squares, 9 digits). The constraints themselves look similar to the other constraints on the $3\\times3$ subgrids:\n",
    "$$\n",
    "\\sum_{r=i}^{i+2} \\sum_{c=j}^{j+2} x_{rck} = 1 \\quad\\text{for $i,j\\in\\{2,6\\}$ and $1\\leq k\\leq 9$}.\n",
    "$$"
   ]
  },
  {
   "cell_type": "code",
   "execution_count": 8,
   "metadata": {},
   "outputs": [],
   "source": [
    "import numpy as np\n",
    "import cvxpy as cp\n",
    "\n",
    "def solve_four_square_sudoku(puzzle):\n",
    "    G = np.asarray(puzzle, dtype=np.int64)\n",
    "    m = 3\n",
    "    n = m ** 2\n",
    "    assert G.shape == (n, n)\n",
    "    assert np.all((G >= 0) & (G <= n)) # all values are in {0,1,...,n}\n",
    "\n",
    "    n_ones = np.ones(n)\n",
    "    n_ones_d2 = np.ones((n, n))\n",
    "\n",
    "    x = cp.Variable((n, n, n), boolean=True)\n",
    "    constraints = [\n",
    "        # (1) only one k in each column\n",
    "        cp.sum(x, axis=0) == n_ones_d2,\n",
    "        # (2) only one k in each row\n",
    "        cp.sum(x, axis=1) == n_ones_d2,\n",
    "        # (3) every position in matrix must be filled\n",
    "        cp.sum(x, axis=2) == n_ones_d2,\n",
    "    ] + [\n",
    "        # (4) only one k in each submatrix\n",
    "        cp.sum(\n",
    "            x[m*p:m*(p+1), m*q:m*(q+1), :], axis=(0, 1)\n",
    "        ) == n_ones for p in range(m) for q in range(m)\n",
    "    ] + [\n",
    "        # (5) All initial elements in G are set \"on\"\n",
    "        x[i, j, G[i, j]-1] == 1 for i, j in np.argwhere(G)\n",
    "    ] + [\n",
    "        # four squares\n",
    "        cp.sum(\n",
    "            x[i:i+3, j:j+3, :], axis=(0, 1)\n",
    "        ) == n_ones for i in [1, 5] for j in [1, 5]\n",
    "    ]\n",
    "\n",
    "    prob = cp.Problem(cp.Minimize(0), constraints)\n",
    "    prob.solve(canon_backend=\"SCIPY\") # for problems with expressions of dim > 2\n",
    "\n",
    "    if prob.status == \"optimal\":\n",
    "        return (np.where(x.value)[2] + 1).reshape((n, n))\n",
    "    else: # infeasible or unbounded\n",
    "        raise RuntimeError(\"Failed to find a solution.\")"
   ]
  },
  {
   "cell_type": "code",
   "execution_count": 9,
   "metadata": {},
   "outputs": [
    {
     "data": {
      "text/plain": [
       "array([[9, 3, 7, 5, 6, 4, 8, 2, 1],\n",
       "       [5, 4, 1, 2, 8, 3, 7, 6, 9],\n",
       "       [2, 8, 6, 7, 1, 9, 4, 5, 3],\n",
       "       [7, 5, 9, 3, 4, 8, 2, 1, 6],\n",
       "       [3, 1, 8, 6, 2, 7, 5, 9, 4],\n",
       "       [6, 2, 4, 1, 9, 5, 3, 7, 8],\n",
       "       [1, 7, 5, 8, 3, 6, 9, 4, 2],\n",
       "       [4, 6, 3, 9, 7, 2, 1, 8, 5],\n",
       "       [8, 9, 2, 4, 5, 1, 6, 3, 7]])"
      ]
     },
     "execution_count": 9,
     "metadata": {},
     "output_type": "execute_result"
    }
   ],
   "source": [
    "puzzle = [\n",
    "    [0, 0, 7, 0, 0, 4, 0, 0, 1],\n",
    "    [0, 0, 0, 2, 8, 0, 0, 0, 0],\n",
    "    [2, 0, 6, 0, 0, 9, 0, 0, 0],\n",
    "    [0, 5, 0, 0, 0, 0, 2, 0, 6],\n",
    "    [0, 1, 0, 0, 2, 0, 0, 9, 0],\n",
    "    [6, 0, 4, 0, 0, 0, 0, 7, 0],\n",
    "    [0, 0, 0, 8, 0, 0, 9, 0, 2],\n",
    "    [0, 0, 0, 0, 7, 2, 0, 0, 0],\n",
    "    [8, 0, 0, 4, 0, 0, 6, 0, 0]\n",
    "]\n",
    "solve_four_square_sudoku(puzzle)"
   ]
  },
  {
   "cell_type": "markdown",
   "metadata": {},
   "source": [
    "### 3.3 Four Pyramids Sudoku\n",
    "\n",
    "Like the Four Square variant, the \"Four Pyramid\" Sudoku is a standard puzzle with four shaded resions, where one must ensure that each shaded region contains exactly one of each digit from 1 to 9 (in addition to satisfying the requirements of the standard Sudoku).\n",
    "\n",
    "![](figures/sudoku_figure5.png)\n",
    "\n",
    "Like the previous variant, the Four Pyramids variant adds 36 additional constraints to the standard ones.\n",
    "Each of the four pyramid-shaped shaded regions must contain each digit exactly once:\n",
    "\\begin{align*}\n",
    "\\sum_{r=1}^3 \\sum_{c=3+r}^{9-r} x_{rck} &= 1 \\quad\\text{for $1\\leq k\\leq 9$}, \\\\\n",
    "\\sum_{c=1}^3 \\sum_{r=1+c}^{7-c} x_{rck} &= 1 \\quad\\text{for $1\\leq k\\leq 9$}, \\\\\n",
    "\\sum_{r=7}^9 \\sum_{c=11-r}^{r-3} x_{rck} &= 1 \\quad\\text{for $1\\leq k\\leq 9$}, \\\\\n",
    "\\sum_{c=7}^9 \\sum_{r=13-c}^{c-1} x_{rck} &= 1 \\quad\\text{for $1\\leq k\\leq 9$}.\n",
    "\\end{align*}"
   ]
  },
  {
   "cell_type": "code",
   "execution_count": 10,
   "metadata": {},
   "outputs": [],
   "source": [
    "import numpy as np\n",
    "import cvxpy as cp\n",
    "\n",
    "def solve_four_pyramid_sudoku(puzzle):\n",
    "    G = np.asarray(puzzle, dtype=np.int64)\n",
    "    m = 3\n",
    "    n = m ** 2\n",
    "    assert G.shape == (n, n)\n",
    "    assert np.all((G >= 0) & (G <= n)) # all values are in {0,1,...,n}\n",
    "\n",
    "    n_ones = np.ones(n)\n",
    "    n_ones_d2 = np.ones((n, n))\n",
    "\n",
    "    x = cp.Variable((n, n, n), boolean=True)\n",
    "    constraints = [\n",
    "        # (1) only one k in each column\n",
    "        cp.sum(x, axis=0) == n_ones_d2,\n",
    "        # (2) only one k in each row\n",
    "        cp.sum(x, axis=1) == n_ones_d2,\n",
    "        # (3) every position in matrix must be filled\n",
    "        cp.sum(x, axis=2) == n_ones_d2,\n",
    "    ] + [\n",
    "        # (4) only one k in each submatrix\n",
    "        cp.sum(\n",
    "            x[m*p:m*(p+1), m*q:m*(q+1), :], axis=(0, 1)\n",
    "        ) == n_ones for p in range(m) for q in range(m)\n",
    "    ] + [\n",
    "        # (5) All initial elements in G are set \"on\"\n",
    "        x[i, j, G[i, j]-1] == 1 for i, j in np.argwhere(G)\n",
    "    ] + [\n",
    "        # four pyramids\n",
    "        x[0,3,:] + x[0,4,:] + x[0,5,:] + x[0,6,:] + x[0,7,:] + \\\n",
    "        x[1,4,:] + x[1,5,:] + x[1,6,:] + x[2,5,:] == n_ones,\n",
    "        x[1,0,:] + x[2,0,:] + x[3,0,:] + x[4,0,:] + x[5,0,:] + \\\n",
    "        x[2,1,:] + x[3,1,:] + x[4,1,:] + x[3,2,:] == n_ones,\n",
    "        x[6,3,:] + x[7,2,:] + x[7,3,:] + x[7,4,:] + x[8,1,:] + \\\n",
    "        x[8,2,:] + x[8,3,:] + x[8,4,:] + x[8,5,:] == n_ones,\n",
    "        x[3,8,:] + x[4,7,:] + x[4,8,:] + x[5,6,:] + x[5,7,:] + \\\n",
    "        x[5,8,:] + x[6,7,:] + x[6,8,:] + x[7,8,:] == n_ones\n",
    "    ]\n",
    "\n",
    "    prob = cp.Problem(cp.Minimize(0), constraints)\n",
    "    prob.solve(canon_backend=\"SCIPY\") # for problems with expressions of dim > 2\n",
    "\n",
    "    if prob.status == \"optimal\":\n",
    "        return (np.where(x.value)[2] + 1).reshape((n, n))\n",
    "    else: # infeasible or unbounded\n",
    "        raise RuntimeError(\"Failed to find a solution.\")"
   ]
  },
  {
   "cell_type": "code",
   "execution_count": 11,
   "metadata": {},
   "outputs": [
    {
     "data": {
      "text/plain": [
       "array([[2, 4, 8, 9, 5, 3, 1, 6, 7],\n",
       "       [1, 7, 5, 6, 2, 8, 4, 3, 9],\n",
       "       [6, 9, 3, 4, 1, 7, 5, 2, 8],\n",
       "       [4, 2, 7, 3, 8, 5, 9, 1, 6],\n",
       "       [5, 8, 9, 1, 7, 6, 3, 4, 2],\n",
       "       [3, 1, 6, 2, 9, 4, 7, 8, 5],\n",
       "       [7, 5, 4, 8, 3, 2, 6, 9, 1],\n",
       "       [9, 6, 2, 5, 4, 1, 8, 7, 3],\n",
       "       [8, 3, 1, 7, 6, 9, 2, 5, 4]])"
      ]
     },
     "execution_count": 11,
     "metadata": {},
     "output_type": "execute_result"
    }
   ],
   "source": [
    "puzzle = [\n",
    "    [2, 0, 0, 0, 5, 0, 0, 0, 7],\n",
    "    [0, 7, 5, 6, 0, 0, 0, 3, 0],\n",
    "    [0, 0, 3, 0, 0, 0, 5, 2, 0],\n",
    "    [0, 0, 0, 0, 0, 0, 0, 1, 0],\n",
    "    [5, 0, 0, 0, 7, 0, 0, 0, 2],\n",
    "    [0, 1, 0, 0, 0, 0, 0, 0, 0],\n",
    "    [0, 5, 4, 0, 0, 0, 6, 0, 0],\n",
    "    [0, 6, 0, 0, 0, 1, 8, 7, 0],\n",
    "    [8, 0, 0, 0, 6, 0, 0, 0, 4]\n",
    "]\n",
    "solve_four_pyramid_sudoku(puzzle)"
   ]
  },
  {
   "cell_type": "code",
   "execution_count": null,
   "metadata": {},
   "outputs": [],
   "source": []
  }
 ],
 "metadata": {
  "kernelspec": {
   "display_name": "devel",
   "language": "python",
   "name": "python3"
  },
  "language_info": {
   "codemirror_mode": {
    "name": "ipython",
    "version": 3
   },
   "file_extension": ".py",
   "mimetype": "text/x-python",
   "name": "python",
   "nbconvert_exporter": "python",
   "pygments_lexer": "ipython3",
   "version": "3.13.3"
  }
 },
 "nbformat": 4,
 "nbformat_minor": 2
}
