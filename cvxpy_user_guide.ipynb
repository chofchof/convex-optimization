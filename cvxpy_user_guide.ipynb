{
 "cells": [
  {
   "cell_type": "markdown",
   "metadata": {},
   "source": [
    "# CVXPY 1.4.2\n",
    "\n",
    "https://cvxpy.org\n",
    "\n",
    "https://github.com/cvxpy/cvxpy\n",
    "\n",
    "CVXPY is an open source Python-embedded modeling language for convex optimization problems. It lets you express your problem in a natural way that follows the math, rather than in the restrictive standard form required by solvers.\n",
    "\n",
    "    conda install -c conda-forge cvxpy"
   ]
  },
  {
   "cell_type": "markdown",
   "metadata": {},
   "source": [
    "## User Guide\n",
    "\n",
    "https://www.cvxpy.org/tutorial/index.html\n",
    "\n",
    "1. What is CVXPY?\n",
    "    - [cvxpy_user_guide1.ipynb](cvxpy_user_guide1.ipynb)\n",
    "2. Disciplined Convex Programming\n",
    "    - [cvxpy_user_guide2.ipynb](cvxpy_user_guide2.ipynb)\n",
    "3. Atomic Functions\n",
    "    - [cvxpy_user_guide3.ipynb](cvxpy_user_guide3.ipynb)\n",
    "4. Disciplined Quasiconvex Programming\n",
    "    - [cvxpy_user_guide4.ipynb](cvxpy_user_guide4.ipynb)\n",
    "5. Disciplined Geometric Programming\n",
    "    - [cvxpy_user_guide5.ipynb](cvxpy_user_guide5.ipynb)\n",
    "6. Advanced Features\n",
    "    - [cvxpy_user_guide6.ipynb](cvxpy_user_guide6.ipynb)"
   ]
  }
 ],
 "metadata": {
  "kernelspec": {
   "display_name": "devel",
   "language": "python",
   "name": "python3"
  },
  "language_info": {
   "codemirror_mode": {
    "name": "ipython",
    "version": 3
   },
   "file_extension": ".py",
   "mimetype": "text/x-python",
   "name": "python",
   "nbconvert_exporter": "python",
   "pygments_lexer": "ipython3",
   "version": "3.12.2"
  }
 },
 "nbformat": 4,
 "nbformat_minor": 2
}
