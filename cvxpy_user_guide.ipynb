{
 "cells": [
  {
   "cell_type": "markdown",
   "metadata": {},
   "source": [
    "# CVXPY 1.4.2\n",
    "\n",
    "https://cvxpy.org\n",
    "\n",
    "https://github.com/cvxpy/cvxpy\n",
    "\n",
    "CVXPY is an open source Python-embedded modeling language for convex optimization problems. It lets you express your problem in a natural way that follows the math, rather than in the restrictive standard form required by solvers.\n",
    "\n",
    "    conda install -c conda-forge cvxpy\n",
    "\n",
    "# User Guide\n",
    "\n",
    "https://www.cvxpy.org/tutorial/index.html"
   ]
  },
  {
   "cell_type": "code",
   "execution_count": 1,
   "metadata": {},
   "outputs": [],
   "source": [
    "# To disable `warnings.warn(ECOS_DEPRECATION_MSG, FutureWarning)`\n",
    "import warnings\n",
    "warnings.filterwarnings('ignore')"
   ]
  },
  {
   "cell_type": "markdown",
   "metadata": {},
   "source": [
    "## 1. What is CVXPY?\n",
    "\n",
    "CVXPY is a Python-embedded modeling language for convex optimization problems. It automatically transforms the problem into standard form, calls a solver, and unpacks the results."
   ]
  },
  {
   "cell_type": "code",
   "execution_count": 2,
   "metadata": {},
   "outputs": [
    {
     "name": "stdout",
     "output_type": "stream",
     "text": [
      "status: optimal\n",
      "optimal value: 1.0\n",
      "optimal variables:\n",
      "    x = 1.0\n",
      "    y = 1.570086213240983e-22\n",
      "\n"
     ]
    }
   ],
   "source": [
    "import cvxpy as cp\n",
    "\n",
    "# Create two scalar optimization variables.\n",
    "x = cp.Variable()\n",
    "y = cp.Variable()\n",
    "\n",
    "# Form objective.\n",
    "objective = cp.Minimize((x - y)**2)\n",
    "\n",
    "# Create two constraints.\n",
    "constraints = [x + y == 1, x - y >= 1]\n",
    "\n",
    "# Form and solve problem.\n",
    "prob = cp.Problem(objective, constraints)\n",
    "prob.solve()  # Returns the optimal value.\n",
    "\n",
    "print(f\"\"\"\\\n",
    "status: {prob.status}\n",
    "optimal value: {prob.value}\n",
    "optimal variables:\n",
    "    x = {x.value}\n",
    "    y = {y.value}\n",
    "\"\"\")"
   ]
  },
  {
   "cell_type": "markdown",
   "metadata": {},
   "source": [
    "### Changing the problem\n",
    "\n",
    "Problems are immutable, meaning they cannot be changed after they are created. To change the objective or constraints, create a new problem."
   ]
  },
  {
   "cell_type": "code",
   "execution_count": 3,
   "metadata": {},
   "outputs": [
    {
     "name": "stdout",
     "output_type": "stream",
     "text": [
      "optimal value: 0.9999999999945575\n",
      "optimal value: 2.9999999999746754\n"
     ]
    }
   ],
   "source": [
    "# Replace the objective.\n",
    "prob2 = cp.Problem(cp.Maximize(x + y), prob.constraints)\n",
    "print(f\"optimal value: {prob2.solve()}\")\n",
    "\n",
    "# Replace the constraint (x + y == 1).\n",
    "constraints = [x + y <= 3] + prob2.constraints[1:]\n",
    "prob3 = cp.Problem(prob2.objective, constraints)\n",
    "print(f\"optimal value: {prob3.solve()}\")"
   ]
  },
  {
   "cell_type": "markdown",
   "metadata": {},
   "source": [
    "### Infeasible and unbounded problems\n",
    "\n",
    "If a problem is infeasible or unbounded, the status field will be set to \"infeasible\" or \"unbounded\", respectively. The value fields of the problem variables are not updated."
   ]
  },
  {
   "cell_type": "code",
   "execution_count": 4,
   "metadata": {},
   "outputs": [
    {
     "name": "stdout",
     "output_type": "stream",
     "text": [
      "status: infeasible\n",
      "optimal value: inf\n",
      "\n",
      "status: unbounded\n",
      "optimal value: -inf\n",
      "\n"
     ]
    }
   ],
   "source": [
    "import cvxpy as cp\n",
    "\n",
    "x = cp.Variable()\n",
    "\n",
    "# An infeasible problem.\n",
    "prob = cp.Problem(cp.Minimize(x), [x >= 1, x <= 0])\n",
    "prob.solve()\n",
    "\n",
    "print(f\"\"\"\\\n",
    "status: {prob.status}\n",
    "optimal value: {prob.value}\n",
    "\"\"\")\n",
    "\n",
    "# An unbounded problem.\n",
    "prob = cp.Problem(cp.Minimize(x))\n",
    "prob.solve()\n",
    "\n",
    "print(f\"\"\"\\\n",
    "status: {prob.status}\n",
    "optimal value: {prob.value}\n",
    "\"\"\")"
   ]
  },
  {
   "cell_type": "markdown",
   "metadata": {},
   "source": [
    "### Other problem statuses\n",
    "\n",
    "If the solver called by CVXPY solves the problem but to a lower accuracy than desired, the problem status indicates the lower accuracy achieved. The statuses indicating lower accuracy are\n",
    "\n",
    "- \"optimal_inaccurate\"\n",
    "- \"unbounded_inaccurate\"\n",
    "- \"infeasible_inaccurate\"\n",
    "\n",
    "The problem variables are updated as usual for the type of solution found (i.e., optimal, unbounded, or infeasible).\n",
    "\n",
    "If the solver completely fails to solve the problem, CVXPY throws a `SolverError` exception. If this happens you should try using other solvers. See the discussion of [Choosing a solver](https://www.cvxpy.org/tutorial/advanced/index.html#solvers) for details.\n",
    "\n",
    "CVXPY provides the following constants as aliases for the different status strings:\n",
    "\n",
    "- `OPTIMAL`\n",
    "- `INFEASIBLE`\n",
    "- `UNBOUNDED`\n",
    "- `OPTIMAL_INACCURATE`\n",
    "- `INFEASIBLE_INACCURATE`\n",
    "- `UNBOUNDED_INACCURATE`\n",
    "- `INFEASIBLE_OR_UNBOUNDED`\n",
    "\n",
    "To test if a problem was solved successfully, you would use\n",
    "```\n",
    "prob.status == OPTIMAL\n",
    "```\n",
    "The status `INFEASIBLE_OR_UNBOUNDED` is rare. It’s used when a solver was able to determine that the problem was either infeasible or unbounded, but could not tell which. You can determine the precise status by re-solving the problem where you set the objective function to a constant (e.g., `objective = cp.Minimize(0)`). If the new problem is solved with status code `INFEASIBLE_OR_UNBOUNDED` then the original problem was infeasible. If the new problem is solved with status `OPTIMAL` then the original problem was unbounded."
   ]
  },
  {
   "cell_type": "markdown",
   "metadata": {},
   "source": [
    "### Vectors and matrices\n",
    "\n",
    "Variables can be scalars, vectors, or matrices, meaning they are 0, 1, or 2 dimensional."
   ]
  },
  {
   "cell_type": "code",
   "execution_count": 5,
   "metadata": {},
   "outputs": [
    {
     "data": {
      "text/plain": [
       "(Variable((), var112), Variable((5,), var113), Variable((4, 7), var114))"
      ]
     },
     "execution_count": 5,
     "metadata": {},
     "output_type": "execute_result"
    }
   ],
   "source": [
    "# A scalar variable.\n",
    "a = cp.Variable()\n",
    "\n",
    "# Vector variable with shape (5,).\n",
    "x = cp.Variable(5)\n",
    "\n",
    "# Matrix variable with shape (4, 7).\n",
    "A = cp.Variable((4, 7))\n",
    "\n",
    "a, x, A"
   ]
  },
  {
   "cell_type": "markdown",
   "metadata": {},
   "source": [
    "You can use your numeric library of choice to construct matrix and vector constants. For instance, if x is a CVXPY Variable in the expression `A @ x + b`, `A` and `b` could be Numpy ndarrays, SciPy sparse matrices, etc. `A` and `b` could even be different types.\n",
    "\n",
    "Currently the following types may be used as constants:\n",
    "\n",
    "- NumPy ndarrays\n",
    "- NumPy matrices\n",
    "- SciPy sparse matrices\n",
    "\n",
    "Here’s an example of a CVXPY problem with vectors and matrices:"
   ]
  },
  {
   "cell_type": "code",
   "execution_count": 6,
   "metadata": {},
   "outputs": [
    {
     "name": "stdout",
     "output_type": "stream",
     "text": [
      "optimal value: 1.716426317778556\n",
      "optimal variables: (a numpy ndarray)\n",
      "    [ 3.83404177e-01  9.09989000e-01  9.20222924e-02  4.93360339e-01\n",
      " -6.78466468e-22]\n",
      "\n"
     ]
    }
   ],
   "source": [
    "# Solves a bounded least-squares problem.\n",
    "\n",
    "import numpy as np\n",
    "import cvxpy as cp\n",
    "\n",
    "# Problem data.\n",
    "m = 10\n",
    "n = 5\n",
    "\n",
    "rng = np.random.default_rng(1)\n",
    "A = rng.standard_normal((m, n))\n",
    "b = rng.standard_normal(m)\n",
    "\n",
    "# Construct the problem.\n",
    "x = cp.Variable(n)\n",
    "\n",
    "objective = cp.Minimize(cp.sum_squares(A @ x - b))\n",
    "constraints = [0 <= x, x <= 1]\n",
    "prob = cp.Problem(objective, constraints)\n",
    "\n",
    "print(f\"\"\"\\\n",
    "optimal value: {prob.solve()}\n",
    "optimal variables: (a numpy ndarray)\n",
    "    {x.value}\n",
    "\"\"\")"
   ]
  },
  {
   "cell_type": "markdown",
   "metadata": {},
   "source": [
    "### Constraints\n",
    "\n",
    "As shown in the example code, you can use `==`, `<=`, and `>=` to construct constraints in CVXPY. Equality and inequality constraints are elementwise, whether they involve scalars, vectors, or matrices. For example, together the constraints `0 <= x` and `x <= 1` mean that every entry of `x` is between 0 and 1.\n",
    "\n",
    "If you want matrix inequalities that represent semi-definite cone constraints, see [Semidefinite matrices](https://www.cvxpy.org/tutorial/advanced/index.html#semidefinite). The section explains how to express a semi-definite cone inequality.\n",
    "\n",
    "You <u>cannot construct</u> inequalities with `<` and `>`. Strict inequalities don't make sense in a real world setting. Also, you <u>cannot chain</u> constraints together, e.g., `0 <= x <= 1` or `x == y == 2`. The Python interpreter treats chained constraints in such a way that CVXPY cannot capture them. CVXPY will raise an exception if you write a chained constraint."
   ]
  },
  {
   "cell_type": "markdown",
   "metadata": {},
   "source": [
    "### Parameters\n",
    "\n",
    "Parameters are symbolic representations of constants. The purpose of parameters is to change the value of a constant in a problem without reconstructing the entire problem. In many cases, solving a parametrized program multiple times can be substantially faster than repeatedly solving a new problem: after reading this section, be sure to read the tutorial on [Disciplined Parametrized Programming](https://www.cvxpy.org/tutorial/advanced/index.html#dpp) (DPP).\n",
    "\n",
    "Parameters can be vectors or matrices, just like variables. When you create a parameter you have the option of specifying attributes such as the sign of the parameter's entries, whether the parameter is symmetric, etc. These attributes are used in [Disciplined Convex Programming](https://www.cvxpy.org/tutorial/dcp/index.html#dcp) and are unknown unless specified. Parameters can be assigned a constant value any time after they are created. The constant value must have the same dimensions and attributes as those specified when the parameter was created."
   ]
  },
  {
   "cell_type": "code",
   "execution_count": 7,
   "metadata": {},
   "outputs": [
    {
     "data": {
      "text/plain": [
       "(Parameter((), nonneg=True), Parameter((5,)), Parameter((4, 7), nonpos=True))"
      ]
     },
     "execution_count": 7,
     "metadata": {},
     "output_type": "execute_result"
    }
   ],
   "source": [
    "# Positive scalar parameter.\n",
    "m = cp.Parameter(nonneg=True)\n",
    "\n",
    "# Column vector parameter with unknown sign (by default).\n",
    "c = cp.Parameter(5)\n",
    "\n",
    "# Matrix parameter with negative entries.\n",
    "G = cp.Parameter((4, 7), nonpos=True)\n",
    "\n",
    "# Assigns a constant value to G.\n",
    "G.value = -np.ones((4, 7))\n",
    "\n",
    "m, c, G"
   ]
  },
  {
   "cell_type": "markdown",
   "metadata": {},
   "source": [
    "You can initialize a parameter with a value. The following code segments are equivalent:"
   ]
  },
  {
   "cell_type": "code",
   "execution_count": 8,
   "metadata": {},
   "outputs": [],
   "source": [
    "# Create parameter, then assign value.\n",
    "rho = cp.Parameter(nonneg=True)\n",
    "rho.value = 2\n",
    "\n",
    "# Initialize parameter with a value.\n",
    "rho = cp.Parameter(nonneg=True, value=2)"
   ]
  },
  {
   "cell_type": "markdown",
   "metadata": {},
   "source": [
    "Computing trade-off curves is a common use of parameters. The example below computes a trade-off curve for a LASSO problem."
   ]
  },
  {
   "cell_type": "code",
   "execution_count": 9,
   "metadata": {},
   "outputs": [
    {
     "data": {
      "image/png": "[encoded data removed]",
      "text/plain": [
       "<Figure size 800x400 with 2 Axes>"
      ]
     },
     "metadata": {},
     "output_type": "display_data"
    }
   ],
   "source": [
    "import numpy as np\n",
    "import cvxpy as cp\n",
    "import matplotlib.pyplot as plt\n",
    "\n",
    "# Problem data.\n",
    "n = 15\n",
    "m = 10\n",
    "\n",
    "rng = np.random.default_rng(1)\n",
    "A = rng.standard_normal((n, m))\n",
    "b = rng.standard_normal(n)\n",
    "\n",
    "# gamma must be nonnegative due to DCP rules.\n",
    "gamma = cp.Parameter(nonneg=True)\n",
    "\n",
    "# Construct the problem.\n",
    "x = cp.Variable(m)\n",
    "error = cp.sum_squares(A @ x - b)\n",
    "\n",
    "objective = cp.Minimize(error + gamma * cp.norm(x, p=1))\n",
    "prob = cp.Problem(objective)\n",
    "\n",
    "# Construct a trade-off curve of ||Ax-b||^2 vs. ||x||_1\n",
    "sq_penalty = []\n",
    "l1_penalty = []\n",
    "x_values = []\n",
    "\n",
    "gamma_vals = np.logspace(-4, 6)\n",
    "for val in gamma_vals:\n",
    "    gamma.value = val\n",
    "    prob.solve()\n",
    "    # Use expr.value to get the numerical value of an expression in the problem.\n",
    "    sq_penalty.append(error.value)\n",
    "    l1_penalty.append(cp.norm(x, p=1).value)\n",
    "    x_values.append(x.value)\n",
    "\n",
    "fig, (ax1, ax2) = plt.subplots(ncols=2, figsize=(8, 4))\n",
    "\n",
    "# Plot trade-off curve.\n",
    "ax1.plot(l1_penalty, sq_penalty)\n",
    "ax1.set_xlabel(\"$\\|x\\|_1$\")\n",
    "ax1.set_ylabel(\"$\\|Ax-b\\|^2$\")\n",
    "ax1.set_title(\"Trade-Off Curve for LASSO\")\n",
    "\n",
    "# Plot entries of x vs. gamma.\n",
    "for i in range(m):\n",
    "    ax2.plot(gamma_vals, [xi[i] for xi in x_values])\n",
    "ax2.set_xscale(\"log\")\n",
    "ax2.set_xlabel(\"$\\gamma$\")\n",
    "ax2.set_ylabel(\"$x_i$\")\n",
    "ax2.set_title(\"Entries of $x$ vs. $\\gamma$\")\n",
    "\n",
    "fig.tight_layout()"
   ]
  },
  {
   "cell_type": "markdown",
   "metadata": {},
   "source": [
    "Trade-off curves can easily be computed in parallel. The code below computes in parallel the optimal x for each \n",
    " in the LASSO problem above."
   ]
  },
  {
   "cell_type": "code",
   "execution_count": 10,
   "metadata": {},
   "outputs": [
    {
     "name": "stdout",
     "output_type": "stream",
     "text": [
      "CPU times: user 5.93 ms, sys: 0 ns, total: 5.93 ms\n",
      "Wall time: 66.4 ms\n"
     ]
    }
   ],
   "source": [
    "from multiprocessing import Pool\n",
    "\n",
    "# Assign a value to gamma and find the optimal x.\n",
    "def get_x(gamma_value):\n",
    "    gamma.value = gamma_value\n",
    "    prob.solve()\n",
    "    return x.value\n",
    "\n",
    "# Parallel computation (set to 1 process here).\n",
    "pool = Pool(processes=1)\n",
    "%time x_values = pool.map(get_x, gamma_vals)"
   ]
  },
  {
   "cell_type": "markdown",
   "metadata": {},
   "source": [
    "## 2. Disciplined Convex Programming\n",
    "\n",
    "Disciplined convex programming (DCP) is a system for constructing mathematical expressions with known curvature from a given library of base functions. CVXPY uses DCP to ensure that the specified optimization problems are convex.\n",
    "\n",
    "This section of the tutorial explains the rules of DCP and how they are applied by CVXPY.\n",
    "\n",
    "Visit https://dcp.stanford.edu for a more interactive introduction to DCP."
   ]
  },
  {
   "cell_type": "markdown",
   "metadata": {},
   "source": [
    "### Expressions\n",
    "\n",
    "Expressions in CVXPY are formed from variables, parameters, numerical constants such as Python floats and Numpy matrices, the standard arithmetic operators `+`, `-`, `*`, `/`, `@`, and a library of functions. Here are some examples of CVXPY expressions:"
   ]
  },
  {
   "cell_type": "code",
   "execution_count": 11,
   "metadata": {},
   "outputs": [
    {
     "data": {
      "text/plain": [
       "Expression(CONSTANT, UNKNOWN, ())"
      ]
     },
     "execution_count": 11,
     "metadata": {},
     "output_type": "execute_result"
    }
   ],
   "source": [
    "import cvxpy as cp\n",
    "\n",
    "# Create variables and parameters.\n",
    "x, y = cp.Variable(), cp.Variable()\n",
    "a, b = cp.Parameter(), cp.Parameter()\n",
    "\n",
    "# Examples of CVXPY expressions.\n",
    "3.69 + b / 3"
   ]
  },
  {
   "cell_type": "code",
   "execution_count": 12,
   "metadata": {},
   "outputs": [
    {
     "data": {
      "text/plain": [
       "Expression(AFFINE, UNKNOWN, ())"
      ]
     },
     "execution_count": 12,
     "metadata": {},
     "output_type": "execute_result"
    }
   ],
   "source": [
    "x - 4 * a"
   ]
  },
  {
   "cell_type": "code",
   "execution_count": 13,
   "metadata": {},
   "outputs": [
    {
     "data": {
      "text/plain": [
       "Expression(UNKNOWN, UNKNOWN, ())"
      ]
     },
     "execution_count": 13,
     "metadata": {},
     "output_type": "execute_result"
    }
   ],
   "source": [
    "cp.sqrt(x) - cp.minimum(y, x - a)"
   ]
  },
  {
   "cell_type": "code",
   "execution_count": 14,
   "metadata": {},
   "outputs": [
    {
     "data": {
      "text/plain": [
       "Expression(CONVEX, NONNEGATIVE, ())"
      ]
     },
     "execution_count": 14,
     "metadata": {},
     "output_type": "execute_result"
    }
   ],
   "source": [
    "cp.maximum(2.66 - cp.sqrt(y), cp.square(x + 2 * y))"
   ]
  },
  {
   "cell_type": "markdown",
   "metadata": {},
   "source": [
    "Expressions can be scalars, vectors, or matrices. The dimensions of an expression are stored as `expr.shape`. The total number of entries is given by `expr.size`, while the number of dimensions is given by `expr.ndim`. CVXPY will raise an exception if an expression is used in a way that doesn't make sense given its dimensions, for example adding matrices of different size. The semantics for how shapes behave under arithmetic operations are the same as for NumPy ndarrays (except some broadcasting is banned)."
   ]
  },
  {
   "cell_type": "code",
   "execution_count": 15,
   "metadata": {},
   "outputs": [
    {
     "name": "stdout",
     "output_type": "stream",
     "text": [
      "\n",
      "dimensions of X: (5, 4)\n",
      "size of X: 20\n",
      "number of dimensions: 2\n",
      "dimensions of sum(X): ()\n",
      "dimensions of A @ X: (3, 4)\n",
      "\n",
      "Cannot broadcast dimensions  (3, 5) (5, 4)\n"
     ]
    }
   ],
   "source": [
    "import numpy as np\n",
    "\n",
    "X = cp.Variable((5, 4))\n",
    "A = np.ones((3, 5))\n",
    "\n",
    "# Use expr.shape to get the dimensions.\n",
    "print(f\"\"\"\n",
    "dimensions of X: {X.shape}\n",
    "size of X: {X.size}\n",
    "number of dimensions: {X.ndim}\n",
    "dimensions of sum(X): {cp.sum(X).shape}\n",
    "dimensions of A @ X: {(A @ X).shape}\n",
    "\"\"\")\n",
    "\n",
    "# ValueError raised for invalid dimensions.\n",
    "try:\n",
    "    A + X\n",
    "except ValueError as e:\n",
    "    print(e)"
   ]
  },
  {
   "cell_type": "markdown",
   "metadata": {},
   "source": [
    "CVXPY uses DCP analysis to determine the sign and curvature of each expression."
   ]
  },
  {
   "cell_type": "markdown",
   "metadata": {},
   "source": [
    "### Sign\n",
    "\n",
    "Each (sub)expression is flagged as positive (non-negative), negative (non-positive), zero, or unknown.\n",
    "\n",
    "The signs of larger expressions are determined from the signs of their subexpressions. For example, the sign of the expression `expr1 * expr2` is\n",
    "\n",
    "- Zero if either expression has sign zero.\n",
    "- Positive if `expr1` and `expr2` have the same (known) sign.\n",
    "- Negative if `expr1` and `expr2` have opposite (known) signs.\n",
    "- Unknown if either expression has unknown sign.\n",
    "\n",
    "The sign given to an expression is always correct. But DCP sign analysis may flag an expression as unknown sign when the sign could be figured out through more complex analysis. For instance, `x * x` is positive but has unknown sign by the rules above.\n",
    "\n",
    "CVXPY determines the sign of constants by looking at their value. For scalar constants, this is straightforward. Vector and matrix constants with all positive (negative) entries are marked as positive (negative). Vector and matrix constants with both positive and negative entries are marked as unknown sign.\n",
    "\n",
    "The sign of an expression is stored as `expr.sign`:"
   ]
  },
  {
   "cell_type": "code",
   "execution_count": 16,
   "metadata": {},
   "outputs": [
    {
     "name": "stdout",
     "output_type": "stream",
     "text": [
      "\n",
      "sign of x: UNKNOWN\n",
      "sign of a: NONPOSITIVE\n",
      "sign of square(x): NONNEGATIVE\n",
      "sign of c * a: UNKNOWN\n",
      "\n"
     ]
    }
   ],
   "source": [
    "x = cp.Variable()\n",
    "a = cp.Parameter(nonpos=True)\n",
    "c = np.array([1, -1])\n",
    "\n",
    "print(f\"\"\"\n",
    "sign of x: {x.sign}\n",
    "sign of a: {a.sign}\n",
    "sign of square(x): {cp.square(x).sign}\n",
    "sign of c * a: {(c * a).sign}\n",
    "\"\"\")"
   ]
  },
  {
   "cell_type": "markdown",
   "metadata": {},
   "source": [
    "### Curvature\n",
    "\n",
    "Each (sub)expression is flagged as one of the following curvatures (with respect to its variables)\n",
    "\n",
    "| __Curvature__ | __Meaning__ |\n",
    "| ---           | ---         |\n",
    "| constant      | $f(x)$ independent of $x$ |\n",
    "| affine        | $f(\\theta x + (1-\\theta)y) = \\theta f(x) + (1-\\theta)f(y)$ for all $x,y,\\theta\\in [0,1]$ |\n",
    "| convex        | $f(\\theta x + (1-\\theta)y) \\leq \\theta f(x) + (1-\\theta)f(y)$ for all $x,y,\\theta\\in [0,1]$ |\n",
    "| concave       | $f(\\theta x + (1-\\theta)y) \\geq \\theta f(x) + (1-\\theta)f(y)$ for all $x,y,\\theta\\in [0,1]$ |\n",
    "| unknown       | DCP analysis cannot determine the curvature |\n",
    "\n",
    "using the curvature rules given below. As with sign analysis, the conclusion is always correct, but the simple analysis can flag expressions as unknown even when they are convex or concave. Note that any constant expression is also affine, and any affine expression is convex and concave."
   ]
  },
  {
   "cell_type": "markdown",
   "metadata": {},
   "source": [
    "### Curvature rules\n",
    "\n",
    "DCP analysis is based on applying a general composition theorem from convex analysis to each (sub)expression.\n",
    "\n",
    "$f(\\text{expr}_1,\\text{expr}_2,\\dotsc,\\text{expr}_n)$ is convex if $f$ is a convex function and for each $\\text{expr}_i$ one of the following conditions holds:\n",
    "\n",
    "- $f$ is increasing in argument $i$ and $\\text{expr}_i$ is convex.\n",
    "- $f$ is decreasing in argument $i$ and $\\text{expr}_i$ is concave.\n",
    "- $\\text{expr}_i$ is affine or constant.\n",
    "\n",
    "$f(\\text{expr}_1,\\text{expr}_2,\\dotsc,\\text{expr}_n)$ is concave if $f$ is a concave function and for each $\\text{expr}_i$ one of the following conditions holds:\n",
    "\n",
    "- $f$ is increasing in argument $i$ and $\\text{expr}_i$ is concave.\n",
    "- $f$ is decreasing in argument $i$ and $\\text{expr}_i$ is convex.\n",
    "- $\\text{expr}_i$ is affine or constant.\n",
    "\n",
    "$f(\\text{expr}_1,\\text{expr}_2,\\dotsc,\\text{expr}_n)$ is affine if $f$ is an affine function and each $\\text{expr}_i$ is affine.\n",
    "\n",
    "If none of the three rules apply, the expression $f(\\text{expr}_1,\\text{expr}_2,\\dotsc,\\text{expr}_n)$ is marked as having unknown curvature.\n",
    "\n",
    "Whether a function is increasing or decreasing in an argument may depend on the sign of the argument. For instance, `cp.square` is increasing for positive arguments and decreasing for negative arguments.\n",
    "\n",
    "The curvature of an expression is stored as `expr.curvature`:"
   ]
  },
  {
   "cell_type": "code",
   "execution_count": 17,
   "metadata": {},
   "outputs": [
    {
     "name": "stdout",
     "output_type": "stream",
     "text": [
      "\n",
      "curvature of x AFFINE\n",
      "curvature of a: CONSTANT\n",
      "curvature of square(x): CONVEX\n",
      "curvature of sqrt(x): CONCAVE\n",
      "\n"
     ]
    }
   ],
   "source": [
    "x = cp.Variable()\n",
    "a = cp.Parameter(nonneg=True)\n",
    "\n",
    "print(f\"\"\"\n",
    "curvature of x {x.curvature}\n",
    "curvature of a: {a.curvature}\n",
    "curvature of square(x): {cp.square(x).curvature}\n",
    "curvature of sqrt(x): {cp.sqrt(x).curvature}\n",
    "\"\"\")"
   ]
  },
  {
   "cell_type": "markdown",
   "metadata": {},
   "source": [
    "### Infix operators\n",
    "\n",
    "The infix operators `+`, `-`, `*`, `/` and matrix multiplication `@` are treated exactly like functions. The infix operators `+` and `-` are affine, so the rules above are used to flag the curvature. For example, `expr1 + expr2` is flagged as convex if `expr1` and `expr2` are convex.\n",
    "\n",
    "`expr1 * expr2`, `expr1 / expr2`, and `expr1 @ expr2` can only be DCP when one of the expressions is constant. The curvature rules above apply. For example, `expr1 / expr2` is convex when `expr1` is concave and `expr2` is negative and constant.\n",
    "\n",
    "#### Example 1\n",
    "![Example 1](https://www.cvxpy.org/_images/example1.png)\n",
    "\n",
    "#### Example 2\n",
    "![Example 2](https://www.cvxpy.org/_images/example2.png)"
   ]
  },
  {
   "cell_type": "code",
   "execution_count": 18,
   "metadata": {},
   "outputs": [
    {
     "name": "stdout",
     "output_type": "stream",
     "text": [
      "\n",
      "sqrt(1 + square(x)) curvature: QUASICONVEX\n",
      "norm(hstack([1, x]), 2) curvature: CONVEX\n",
      "\n"
     ]
    }
   ],
   "source": [
    "print(f\"\"\"\n",
    "sqrt(1 + square(x)) curvature: {cp.sqrt(1 + cp.square(x)).curvature}\n",
    "norm(hstack([1, x]), 2) curvature: {cp.norm(cp.hstack([1, x]), 2).curvature}\n",
    "\"\"\")"
   ]
  },
  {
   "cell_type": "markdown",
   "metadata": {},
   "source": [
    "### DCP problems\n",
    "\n",
    "A problem is constructed from an objective and a list of constraints. If a problem follows the DCP rules, it is guaranteed to be convex and solvable by CVXPY. The DCP rules require that the problem objective have one of two forms:\n",
    "\n",
    "- Minimize(convex)\n",
    "- Maximize(concave)\n",
    "\n",
    "The only valid constraints under the DCP rules are\n",
    "\n",
    "- affine `==` affine\n",
    "- convex `<=` concave\n",
    "- concave `>=` convex\n",
    "\n",
    "You can check that a problem, constraint, or objective satisfies the DCP rules by calling `object.is_dcp()`. Here are some examples of DCP and non-DCP problems:"
   ]
  },
  {
   "cell_type": "code",
   "execution_count": 19,
   "metadata": {},
   "outputs": [
    {
     "name": "stdout",
     "output_type": "stream",
     "text": [
      "\n",
      "prob1 is DCP: True\n",
      "prob2 is DCP: True\n",
      "prob3 is DCP: False\n",
      "prob4 is DCP: False\n",
      "\n",
      "Maximize(square(x)) is DCP: False\n",
      "sqrt(x) <= 2 is DCP: False\n",
      "\n"
     ]
    }
   ],
   "source": [
    "x = cp.Variable()\n",
    "y = cp.Variable()\n",
    "\n",
    "# DCP problems.\n",
    "prob1 = cp.Problem(\n",
    "    cp.Minimize(cp.square(x - y)),\n",
    "    [x + y >= 0]\n",
    ")\n",
    "prob2 = cp.Problem(\n",
    "    cp.Maximize(cp.sqrt(x - y)),\n",
    "    [2*x - 3 == y, cp.square(x) <= 2]\n",
    ")\n",
    "\n",
    "# Non-DCP problems.\n",
    "\n",
    "# A non-DCP objective.\n",
    "objective = cp.Maximize(cp.square(x))\n",
    "prob3 = cp.Problem(objective)\n",
    "\n",
    "# A non-DCP constraint.\n",
    "prob4 = cp.Problem(\n",
    "    cp.Minimize(cp.square(x)),\n",
    "    [cp.sqrt(x) <= 2]\n",
    ")\n",
    "\n",
    "print(f\"\"\"\n",
    "prob1 is DCP: {prob1.is_dcp()}\n",
    "prob2 is DCP: {prob2.is_dcp()}\n",
    "prob3 is DCP: {prob3.is_dcp()}\n",
    "prob4 is DCP: {prob4.is_dcp()}\n",
    "\n",
    "Maximize(square(x)) is DCP: {objective.is_dcp()}\n",
    "sqrt(x) <= 2 is DCP: {(cp.sqrt(x) <= 2).is_dcp()}\n",
    "\"\"\")"
   ]
  },
  {
   "cell_type": "markdown",
   "metadata": {},
   "source": [
    "CVXPY will raise an exception if you call `prob.solve()` on a non-DCP problem."
   ]
  },
  {
   "cell_type": "code",
   "execution_count": 20,
   "metadata": {},
   "outputs": [
    {
     "name": "stdout",
     "output_type": "stream",
     "text": [
      "Problem does not follow DCP rules. Specifically:\n",
      "The objective is not DCP, even though each sub-expression is.\n",
      "You are trying to minimize a function that is concave.\n",
      "However, the problem does follow DQCP rules. Consider calling solve() with `qcp=True`.\n"
     ]
    }
   ],
   "source": [
    "# A non-DCP problem.\n",
    "prob = cp.Problem(cp.Minimize(cp.sqrt(x)))\n",
    "\n",
    "try:\n",
    "    prob.solve()\n",
    "except Exception as e:\n",
    "    print(e)"
   ]
  },
  {
   "cell_type": "markdown",
   "metadata": {},
   "source": [
    "## 3. Atomic Functions\n",
    "\n",
    "This section of the tutorial describes the atomic functions that can be applied to CVXPY expressions. CVXPY uses the function information in this section and the DCP rules to mark expressions with a sign and curvature."
   ]
  },
  {
   "cell_type": "markdown",
   "metadata": {},
   "source": [
    "### Operators\n",
    "\n",
    "The infix operators `+`, `-`, `*`, `/`, `@` are treated as functions. The operators `+` and `-` are always affine functions. The expression `expr1 * expr2` is affine in CVXPY when one of the expressions is constant, and `expr1 / expr2` is affine when `expr2` is a scalar constant.\n",
    "\n",
    "- `@` should be used for <u>matrix-matrix and matrix-vector multiplication</u>,\n",
    "- `*` should be used for <u>matrix-scalar and vector-scalar multiplication</u>\n",
    "\n",
    "Elementwise multiplication can be applied with the `cp.multiply` function.\n",
    "\n",
    "#### Indexing and slicing\n",
    "Indexing in CVXPY follows <u>exactly the same semantics as NumPy ndarrays</u>. For example, if `expr` has shape `(5,)` then `expr[1]` gives the second entry. More generally, `expr[i:j:k]` selects every $k$ th element of `expr`, starting at `i` and ending at `j-1`. If `expr` is a matrix, then `expr[i:j:k]` selects rows, while `expr[i:j:k, r:s:t]` selects both rows and columns. Indexing drops dimensions while slicing preserves dimensions. For example,"
   ]
  },
  {
   "cell_type": "code",
   "execution_count": 21,
   "metadata": {},
   "outputs": [
    {
     "name": "stdout",
     "output_type": "stream",
     "text": [
      "\n",
      "0 dimensional: ()\n",
      "1 dimensional: (1,)\n",
      "\n"
     ]
    }
   ],
   "source": [
    "x = cp.Variable(5)\n",
    "\n",
    "print(f\"\"\"\n",
    "0 dimensional: {x[0].shape}\n",
    "1 dimensional: {x[0:1].shape}\n",
    "\"\"\")"
   ]
  },
  {
   "cell_type": "markdown",
   "metadata": {},
   "source": [
    "#### Transpose\n",
    "The transpose of any expression can be obtained using the syntax `expr.T`. Transpose is an affine function.\n",
    "\n",
    "#### Power\n",
    "For any CVXPY expression `expr`, the power operator `expr**p` is equivalent to the function `cp.power(expr, p)`."
   ]
  },
  {
   "cell_type": "markdown",
   "metadata": {},
   "source": [
    "### Scalar functions\n",
    "\n",
    "A scalar function takes one or more scalars, vectors, or matrices as arguments and returns a scalar.\n",
    "![](figures/dcp_scalar_functions.png)"
   ]
  },
  {
   "cell_type": "markdown",
   "metadata": {},
   "source": [
    "#### Clarifications for scalar functions\n",
    "The domain $\\mathbf{S}^n$ refers to the set of <u>symmetric matrices</u>. The domains $\\mathbf{S}^n_+$ and $\\mathbf{S}^n_-$ refer to the set of <u>positive semi-definite and negative semi-definite matrices</u>, respectively. Similarly, $\\mathbf{S}^n_{++}$ and $\\mathbf{S}^n_{--}$ refer to the set of <u>positive definite and negative definite matrices</u>, respectively.\n",
    "\n",
    "For a vector expression `x`, `cp.norm(x)` and `cp.norm(x, 2)` give the Euclidean norm. For a matrix expression `X`, however, `cp.norm(X)` and `cp.norm(X, 2)` give the spectral norm.\n",
    "\n",
    "The function `cp.norm(X, \"fro\")` is called the Frobenius norm and `cp.norm(X, \"nuc\")` the nuclear norm. The nuclear norm can also be defined as the sum of `X`'s singular values.\n",
    "\n",
    "The functions `cp.max` and `cp.min` give the largest and smallest entry, respectively, in a single expression. These functions should not be confused with `cp.maximum` and `cp.minimum` (see [Elementwise functions](https://www.cvxpy.org/tutorial/functions/index.html#elementwise)). Use `cp.maximum` and `cp.minimum` to find the max or min of a list of scalar expressions.\n",
    "\n",
    "The CVXPY function `cp.sum` sums all the entries in a single expression. The built-in Python `sum` should be used to add together a list of expressions. For example, the following code sums a list of three expressions:\n",
    "\n",
    "```\n",
    "expr_list = [expr1, expr2, expr3]\n",
    "expr_sum = sum(expr_list)\n",
    "```"
   ]
  },
  {
   "cell_type": "markdown",
   "metadata": {},
   "source": [
    "### Functions along an axis\n",
    "\n",
    "The functions `cp.sum`, `cp.norm`, `cp.max`, `cp.min`, `cp.mean`, `cp.std`, `cp.var`, and `cp.ptp` can be applied along an axis. Given an `m` by `n` expression `expr`, the syntax `func(expr, axis=0, keepdims=True)` applies `func` to each column, returning a `1` by `n` expression. The syntax `func(expr, axis=1, keepdims=True)` applies `func` to each row, returning an `m` by `1` expression. By default `keepdims=False`, which means dimensions of length 1 are dropped. For example, the following code sums along the columns and rows of a matrix variable:"
   ]
  },
  {
   "cell_type": "code",
   "execution_count": 22,
   "metadata": {},
   "outputs": [
    {
     "data": {
      "text/plain": [
       "(Expression(AFFINE, UNKNOWN, (1, 4)),\n",
       " Expression(AFFINE, UNKNOWN, (4,)),\n",
       " Expression(AFFINE, UNKNOWN, (5,)))"
      ]
     },
     "execution_count": 22,
     "metadata": {},
     "output_type": "execute_result"
    }
   ],
   "source": [
    "X = cp.Variable((5, 4))\n",
    "col_sums_keepdims = cp.sum(X, axis=0, keepdims=True) # Has size (1, 4)\n",
    "col_sums = cp.sum(X, axis=0) # Has size (4,)\n",
    "row_sums = cp.sum(X, axis=1) # Has size (5,)\n",
    "\n",
    "col_sums_keepdims, col_sums, row_sums"
   ]
  },
  {
   "cell_type": "markdown",
   "metadata": {},
   "source": [
    "### Elementwise functions\n",
    "\n",
    "These functions operate on each element of their arguments. For example, if `X` is a `5` by `4` matrix variable, then `cp.abs(X)` is a `5` by `4` matrix expression. `cp.abs(X)[1, 2]` is equivalent to `cp.abs(X[1, 2])`.\n",
    "\n",
    "Elementwise functions that take multiple arguments, such as `cp.maximum` and `cp.multiply`, operate on the corresponding elements of each argument. For example, if `X` and `Y` are both `3` by `3` matrix variables, then `cp.maximum(X, Y)` is a `3` by `3` matrix expression. `cp.maximum(X, Y)[2, 0]` is equivalent to `cp.maximum(X[2, 0], Y[2, 0])`. This means all arguments must have the same dimensions or be scalars, which are promoted.\n",
    "\n",
    "![](figures/dcp_elementwise_functions.png)\n",
    "\n",
    "#### Clarifications on elementwise functions\n",
    "The functions `cp.log_normcdf` and `cp.loggamma` are defined via approximations. `cp.log_normcdf` has highest accuracy over the range -4 to 4, while `cp.loggamma` has similar accuracy over all positive reals. See [CVXPY GitHub PR #1224](https://github.com/cvxpy/cvxpy/pull/1224#issue-793221374) and [CVXPY GitHub Issue #228](https://github.com/cvxpy/cvxpy/issues/228#issuecomment-544281906) for details on the approximations."
   ]
  },
  {
   "cell_type": "markdown",
   "metadata": {},
   "source": [
    "### Vector/matrix functions\n",
    "\n",
    "A vector/matrix function takes one or more scalars, vectors, or matrices as arguments and returns a vector or matrix.\n",
    "\n",
    "CVXPY is conservative when it determines the sign of an Expression returned by one of these functions. If any argument to one of these functions has unknown sign, then the returned Expression will also have unknown sign. If all arguments have known sign but CVXPY can determine that the returned Expression would have different signs in different entries (for example, when stacking a positive Expression and a negative Expression) then the returned Expression will have unknown sign.\n",
    "\n",
    "![](figures/dcp_vector_matrix_functions.png)\n",
    "\n",
    "#### Clarifications on vector and matrix functions\n",
    "The input to `cp.bmat` is a list of lists of CVXPY expressions. It constructs a block matrix. The elements of each inner list are stacked horizontally and then the resulting block matrices are stacked vertically.\n",
    "\n",
    "The output $y=\\textbf{convolve}(c,x)$ has size $n+m-1$ and is defined as $y_k=\\sum_{j=0}^k c[j]x[k-j]$.\n",
    "\n",
    "The output $y=\\textbf{vec}(X)$ is the matrix $X$ flattened in column-major order into a vector. Formally, $y_i=X_{i\\mod m,\\lfloor i/m\\rfloor}$.\n",
    "\n",
    "The output $Y=\\textbf{reshape}(X,(m'n'),\\texttt{order=\"F\"})$ is the matrix $X$ cast into an $m'\\times n'$ matrix. The entries are taken from $X$ in column-major order and stored in $Y$ in column-major order. Formally, $Y_{i,j}=\\textbf{vec}(X)_{m',j+i}$. If `order=\"C\"` then $X$ will be read in row-major order and $Y$ will be written to in row-major order.\n",
    "\n",
    "The output $y=\\textbf{upper\\_tri}(X)$ is formed by concatenating partial rows of $X$. I.e., $y=(X[0,1\\texttt{:}],X[1,2\\texttt{:}],\\dotsc,X[n-1,n])$."
   ]
  },
  {
   "cell_type": "markdown",
   "metadata": {},
   "source": [
    "## 4. Disciplined Geometric Programming\n",
    "\n",
    "Disciplined geometric programming (DGP) is an analog of DCP for log-log convex functions, that is, functions of positive variables that are convex with respect to the geometric mean instead of the arithmetic mean.\n",
    "\n",
    "While DCP is a ruleset for constructing convex programs, DGP is a ruleset for log-log convex programs (LLCPs), which are problems that are convex after the variables, objective functions, and constraint functions are replaced with their logs, an operation that we refer to as a log-log transformation. Every geometric program (GP) and generalized geometric program (GGP) is an LLCP, but there are LLCPs that are neither GPs nor GGPs.\n",
    "\n",
    "CVXPY lets you form and solve DGP problems, just as it does for DCP problems. For example, the following code solves a simple geometric program,"
   ]
  },
  {
   "cell_type": "code",
   "execution_count": 23,
   "metadata": {},
   "outputs": [
    {
     "name": "stdout",
     "output_type": "stream",
     "text": [
      "\n",
      "optimal value: 1.9999999926114256\n",
      "x: 0.9999999989773863\n",
      "y: 1.9999999528702908\n",
      "z: 1.0000000208931816\n",
      "\n"
     ]
    }
   ],
   "source": [
    "import cvxpy as cp\n",
    "\n",
    "# DGP requires Variables to be declared positive via `pos=True`.\n",
    "x = cp.Variable(pos=True)\n",
    "y = cp.Variable(pos=True)\n",
    "z = cp.Variable(pos=True)\n",
    "\n",
    "objective = x * y * z\n",
    "constraints = [\n",
    "    4 * x * y * z + 2 * x * z <= 10,\n",
    "    x <= 2 * y,\n",
    "    y <= 2 * x,\n",
    "    z >= 1\n",
    "]\n",
    "prob = cp.Problem(cp.Maximize(objective), constraints)\n",
    "prob.solve(gp=True)\n",
    "\n",
    "print(f\"\"\"\n",
    "optimal value: {prob.value}\n",
    "x: {x.value}\n",
    "y: {y.value}\n",
    "z: {z.value}\n",
    "\"\"\")"
   ]
  },
  {
   "cell_type": "markdown",
   "metadata": {},
   "source": [
    "Note that to solve DGP problems, you must pass the option `gp=True` to the `solve()` method.\n",
    "\n",
    "This section explains what DGP is, and it shows how to construct and solve DGP problems using CVXPY. At the end of the section are tables listing all the atoms that can be used in DGP problems, similar to the tables presented in the section on [DCP atoms](https://www.cvxpy.org/tutorial/functions/index.html#functions).\n",
    "\n",
    "For an in-depth reference on DGP, see our [accompanying paper](https://web.stanford.edu/~boyd/papers/dgp.html). For interactive code examples, check out our [notebooks](https://www.cvxpy.org/examples/index.html#dgp-examples)."
   ]
  },
  {
   "cell_type": "markdown",
   "metadata": {},
   "source": [
    "### Log-log curvature\n",
    "\n",
    "Just as every Expression in CVXPY has a curvature (constant, affine, convex, concave, or unknown), every Expression also has a log-log curvature.\n",
    "\n",
    "A function $f\\colon D\\subseteq\\mathbb{R}^n_{++}\\to\\mathbb{R}$ is said to be log-log convex if the function $F(u)=\\log f(e^u)$, with domain $\\{u\\in\\mathbb{R}^n\\mid e^u\\in D\\}$, is convex (where $\\mathbb{R}^n_{++}$ denotes the set of positive reals and the logarithm and exponential are meant elementwise); the function $F$ is called the log-log transformation of $f$. The function $f$ is log-log concave if $F$ is concave, and it is log-log affine if $F$ is affine.\n",
    "\n",
    "Every log-log affine function has the form\n",
    "$$\n",
    "f(x) = cx_1^{a_1}x_2^{a_2}\\dotsb x_n^{a_n}\n",
    "$$\n",
    "where $x$ is in $\\mathbb{R}^n_{++}$, the $a_i$ are real numbers, and $c$ is a positive scalar. In the context of geometric programming, such a function is called a monomial function. A sum of monomials, known as a posynomial function in geometric programming, is a log-log convex function; A table of all the [atoms with known log-log curvature](https://www.cvxpy.org/tutorial/dgp/dgp-atoms) is presented at the end of this page.\n",
    "\n",
    "In the below table, $F$ is the log-log transformation of $f$, $u=\\log x$, and $v=\\log y$, where $x$ and $y$ are in the domain of $f$\n",
    "\n",
    "![](figures/log-log_curvature.png)\n",
    "\n",
    "CVXPY's log-log curvature analysis can flag Expressions as unknown even when they are log-log convex or log-log concave. Note that any log-log constant expression is also log-log affine, and any log-log affine expression is log-log convex and log-log concave.\n",
    "\n",
    "The log-log curvature of an Expression is stored in its `.log_log_curvature` attribute. For example, running the following script"
   ]
  },
  {
   "cell_type": "code",
   "execution_count": 24,
   "metadata": {},
   "outputs": [
    {
     "data": {
      "text/plain": [
       "('LOG-LOG CONSTANT',\n",
       " 'LOG-LOG AFFINE',\n",
       " 'LOG-LOG CONVEX',\n",
       " 'LOG-LOG CONCAVE',\n",
       " 'UNKNOWN')"
      ]
     },
     "execution_count": 24,
     "metadata": {},
     "output_type": "execute_result"
    }
   ],
   "source": [
    "import cvxpy as cp\n",
    "\n",
    "x = cp.Variable(pos=True)\n",
    "y = cp.Variable(pos=True)\n",
    "\n",
    "constant = cp.Constant(2.0)\n",
    "monomial = constant * x * y\n",
    "posynomial = monomial + (x ** 1.5) * (y ** -1)\n",
    "reciprocal = posynomial ** -1\n",
    "unknown = reciprocal + posynomial\n",
    "\n",
    "constant.log_log_curvature, monomial.log_log_curvature, posynomial.log_log_curvature, \\\n",
    "reciprocal.log_log_curvature, unknown.log_log_curvature"
   ]
  },
  {
   "cell_type": "markdown",
   "metadata": {},
   "source": [
    "You can also check the log-log curvature of an Expression by calling the methods `is_log_log_constant()`, `is_log_log_affine()`, `is_log_log_convex()`, `is_log_log_concave()`. For example, `posynomial.is_log_log_convex()` would evaluate to `True`."
   ]
  },
  {
   "cell_type": "markdown",
   "metadata": {},
   "source": [
    "### Log-log curvature rules\n",
    "\n",
    "For an Expression to have known log-log curvature, all of the Constants, Variables, and Parameters it refers to must be elementwise positive. A Constant is positive if its numerical value is positive. Variables and Parameters are positive only if the keyword argument `pos=True` is supplied to their constructors (e.g., `x = cp.Variable(shape=(), pos=True)`). To summarize, when formulating a DGP problem, all Constants should be elementwise positive, and all Variables and Parameters must be constructed with the attribute `pos=True`.\n",
    "\n",
    "DGP analysis is exactly analogous to DCP analysis. It is based on a library of atoms (functions) with known monotonicity and log-log curvature and a a single composition rule. The [library of atoms](https://www.cvxpy.org/tutorial/dgp/dgp-atoms) is presented at the end of this page; the composition rule is stated below.\n",
    "\n",
    "A function $f(\\text{expr}_1,\\text{expr}_2,\\dotsc,\\text{expr}_n)$ is log-log convex if $f$ is a log-log convex function and for each $\\text{expr}_i$ one of the following conditions holds:\n",
    "\n",
    "- $f$ is increasing in argument $i$ and $\\text{expr}_i$ is log-log convex.\n",
    "- $f$ is decreasing in argument $i$ and $\\text{expr}_i$ is log-log concave.\n",
    "- $\\text{expr}_i$ is log-log affine.\n",
    "\n",
    "A function $f(\\text{expr}_1,\\text{expr}_2,\\dotsc,\\text{expr}_n)$ is log-log concave if $f$ is a log-log concave function and for each $\\text{expr}_i$ one of the following conditions holds:\n",
    "\n",
    "- $f$ is increasing in argument $i$ and $\\text{expr}_i$ is log-log concave.\n",
    "- $f$ is decreasing in argument $i$ and $\\text{expr}_i$ is log-log convex.\n",
    "- $\\text{expr}_i$ is log-log affine.\n",
    "\n",
    "A function $f(\\text{expr}_1,\\text{expr}_2,\\dotsc,\\text{expr}_n)$ is log-log affine if $f$ is an log-log affine function and each $\\text{expr}_i$ is log-log affine.\n",
    "\n",
    "If none of the three rules apply, the expression $f(\\text{expr}_1,\\text{expr}_2,\\dotsc,\\text{expr}_n)$ is marked as having unknown curvature.\n",
    "\n",
    "If an Expression satisfies the composition rule, we colloquially say that the Expression \"is DGP.\" You can check whether an Expression is DGP by calling the method `is_dgp()`. For example, the assertions in the following code block will pass."
   ]
  },
  {
   "cell_type": "code",
   "execution_count": 25,
   "metadata": {},
   "outputs": [],
   "source": [
    "import cvxpy as cp\n",
    "\n",
    "x = cp.Variable(pos=True)\n",
    "y = cp.Variable(pos=True)\n",
    "\n",
    "monomial = 2.0 * constant * x * y\n",
    "posynomial = monomial + (x ** 1.5) * (y ** -1)\n",
    "\n",
    "assert monomial.is_dgp()\n",
    "assert posynomial.is_dgp()"
   ]
  },
  {
   "cell_type": "markdown",
   "metadata": {},
   "source": [
    "An Expression is DGP precisely when it has known log-log curvature, which means at least one of the methods `is_log_log_constant()`, `is_log_log_affine()`, `is_log_log_convex()`, `is_log_log_concave()` will return `True`."
   ]
  },
  {
   "cell_type": "markdown",
   "metadata": {},
   "source": [
    "### DGP problems\n",
    "\n",
    "A Problem is constructed from an objective and a list of constraints. If a problem follows the DGP rules, it is guaranteed to be an LLCP and solvable by CVXPY. The DGP rules require that the problem objective have one of two forms:\n",
    "\n",
    "- Minimize(log-log convex)\n",
    "- Maximize(log-log concave)\n",
    "\n",
    "The only valid constraints under the DGP rules are\n",
    "\n",
    "- log-log affine `==` log-log affine\n",
    "- log-log convex `<=` log-log concave\n",
    "- log-log concave `>=` log-log convex\n",
    "\n",
    "You can check that a problem, constraint, or objective satisfies the DGP rules by calling `object.is_dgp()`. Here are some examples of DGP and non-DGP problems:"
   ]
  },
  {
   "cell_type": "code",
   "execution_count": 26,
   "metadata": {},
   "outputs": [],
   "source": [
    "import cvxpy as cp\n",
    "\n",
    "# DGP requires Variables to be declared positive via `pos=True`.\n",
    "x = cp.Variable(pos=True)\n",
    "y = cp.Variable(pos=True)\n",
    "z = cp.Variable(pos=True)\n",
    "\n",
    "objective = x * y * z\n",
    "constraints = [\n",
    "    4 * x * y * z + 2 * x * z <= 10,\n",
    "    x <= 2 * y,\n",
    "    y <= 2 * x,\n",
    "    z >= 1\n",
    "]\n",
    "assert objective.is_log_log_concave()\n",
    "assert all(constraint.is_dgp() for constraint in constraints)\n",
    "\n",
    "prob = cp.Problem(cp.Maximize(objective), constraints)\n",
    "assert prob.is_dgp()\n",
    "\n",
    "# All Variables must be declared as positive for an Expression to be DGP.\n",
    "w = cp.Variable()\n",
    "objective = w * x * y\n",
    "assert not objective.is_dgp()\n",
    "\n",
    "prob = cp.Problem(cp.Maximize(objective), constraints)\n",
    "assert not prob.is_dgp()"
   ]
  },
  {
   "cell_type": "markdown",
   "metadata": {},
   "source": [
    "CVXPY will raise an exception if you call `prob.solve(gp=True)` on a non-DGP problem."
   ]
  },
  {
   "cell_type": "markdown",
   "metadata": {},
   "source": [
    "### DGP atoms\n",
    "\n",
    "This section of the tutorial describes the DGP atom library, that is, the atomic functions with known log-log curvature and monotonicity. CVXPY uses the function information in this section and the DGP rules to mark expressions with a log-log curvature. Note that every DGP expression is positive.\n",
    "\n",
    "#### Infix operators\n",
    "The infix operators `+`, `*`, `/` are treated as atoms. The operators `*` and `/` are log-log affine functions. The operator `+` is log-log convex in both its arguments.\n",
    "\n",
    "Note that in CVXPY, `expr1 * expr2` denotes matrix multiplication when `expr1` and `expr2` are matrices; if you're running Python 3, you can alternatively use the `@` operator for matrix multiplication. Regardless of your Python version, you can also use the `cp.matmul` atom to multiply two matrices. To multiply two arrays or matrices elementwise, use the `cp.multiply` atom. Finally, to take the product of the entries of an Expression, use the `cp.prod` atom.\n",
    "\n",
    "#### Transpose\n",
    "The transpose of any expression can be obtained using the syntax `expr.T`. Transpose is a log-log affine function.\n",
    "\n",
    "#### Power\n",
    "For any CVXPY expression `expr`, the power operator `expr**p` is equivalent to the function `cp.power(expr, p)`. Taking powers is a log-log affine function.\n",
    "\n",
    "#### Scalar functions\n",
    "A scalar function takes one or more scalars, vectors, or matrices as arguments and returns a scalar. Note that several of these atoms may be applied along an axis; see the API reference or the [DCP atoms tutorial](https://www.cvxpy.org/tutorial/functions/index.html#functions) for more information.\n",
    "\n",
    "![](figures/dgp_scalar_functions.png)\n",
    "\n",
    "#### Elementwise functions\n",
    "These functions operate on each element of their arguments. For example, if `X` is a 5 by 4 matrix variable, then `cp.sqrt(X)` is a 5 by 4 matrix expression. `cp.sqrt(X)[1, 2]` is equivalent to `cp.sqrt(X[1, 2])`.\n",
    "\n",
    "Elementwise functions that take multiple arguments, such as `cp.maximum` and `cp.multiply`, operate on the corresponding elements of each argument. For example, if `X` and `Y` are both 3 by 3 matrix variables, then `cp.maximum(X, Y)` is a 3 by 3 matrix expression. `cp.maximum(X, Y)[2, 0]` is equivalent to `cp.maximum(X[2, 0], Y[2, 0])`. This means all arguments must have the same dimensions or be scalars, which are promoted.\n",
    "\n",
    "![](figures/dgp_elementwise_functions.png)\n",
    "\n",
    "#### Vector/matrix functions\n",
    "A vector/matrix function takes one or more scalars, vectors, or matrices as arguments and returns a vector or matrix.\n",
    "\n",
    "![](figures/dgp_vector_matrix_functions.png)"
   ]
  },
  {
   "cell_type": "markdown",
   "metadata": {},
   "source": [
    "## 5. Disciplined Quasiconvex Programming\n",
    "\n",
    "Disciplined quasiconvex programming (DQCP) is a generalization of DCP for quasiconvex functions. Quasiconvexity generalizes convexity: a function $f$ is quasiconvex if and only if its domain is a convex set and its sublevel sets $\\{x\\mid f(x)\\leq t\\}$ are convex, for all $t$. For a thorough overview of quasiconvexity, see the paper [Disciplined quasiconvex programming](https://web.stanford.edu/~boyd/papers/dqcp.html).\n",
    "\n",
    "While DCP is a ruleset for constructing convex programs, DQCP is a ruleset for quasiconvex programs (QCPs), which are optimization problems in which the objective is to minimize a quasiconvex function over a convex set. The convex set can be specified using equalities of affine functions and inequalities of convex and concave functions, just as in DCP; additionally, DQCP permits inequalities of the form $f(x)\\leq t$, where $f(x)$ is a quasiconvex expression and $t$ is constant, and $f(x)\\geq t$, where $f(x)$ is quasiconcave and $t$ is constant. Every disciplined convex program is a disciplined quasiconvex program, but the converse is not true.\n",
    "\n",
    "CVXPY lets you form and solve DQCP problems, just as it does for DCP problems. For example, the following code solves a simple QCP,"
   ]
  },
  {
   "cell_type": "code",
   "execution_count": 27,
   "metadata": {},
   "outputs": [
    {
     "name": "stdout",
     "output_type": "stream",
     "text": [
      "\n",
      "optimal value: -0.4288817375157047\n",
      "x: 0.49999737143004713\n",
      "y: 1.648717724845007\n",
      "\n"
     ]
    }
   ],
   "source": [
    "import cvxpy as cp\n",
    "\n",
    "x = cp.Variable()\n",
    "y = cp.Variable(pos=True)\n",
    "\n",
    "objective = -cp.sqrt(x) / y\n",
    "prob = cp.Problem(cp.Minimize(objective), [cp.exp(x) <= y])\n",
    "prob.solve(qcp=True)\n",
    "assert prob.is_dqcp()\n",
    "\n",
    "print(f\"\"\"\n",
    "optimal value: {prob.value}\n",
    "x: {x.value}\n",
    "y: {y.value}\n",
    "\"\"\")"
   ]
  },
  {
   "cell_type": "markdown",
   "metadata": {},
   "source": [
    "To solve DQCP problems, you must pass the option `qcp=True` to the `solve()` method.\n",
    "\n",
    "This section explains what DQCP is, and it shows how to construct and solve DQCP problems using CVXPY. At the end of the section are tables listing all the atoms that can be used in DQCP problems, similar to the tables presented in the section on [DCP atoms](https://www.cvxpy.org/tutorial/functions/index.html#functions).\n",
    "\n",
    "For an in-depth reference on DQCP, see our [accompanying paper](https://web.stanford.edu/~boyd/papers/dqcp.html). For interactive code examples, check out our [notebooks](https://www.cvxpy.org/examples/index.html#dqcp-examples)."
   ]
  },
  {
   "cell_type": "markdown",
   "metadata": {},
   "source": [
    "### Curvature\n",
    "\n",
    "DQCP adds two new types of curvature to CVXPY: quasiconvex and quasiconcave. A function $f$ is quasiconvex if and only if its domain is a convex set and its sublevel sets $\\{x\\mid f(x)\\leq t\\}$ are convex, for all $t$; $f$ is quasiconcave if $-f$ is quasiconvex. Every convex function is also quasiconvex, and every concave function is also quasiconcave; the converses of these statements are not true. An expression that is both quasiconvex and quasiconcave is called quasilinear.\n",
    "\n",
    "CVXPY's curvature analysis can flag Expressions as unknown even when they are quasiconvex or quasiconcave, but it will never mistakenly flag an expression as quasiconvex or quasiconcave.\n",
    "\n",
    "The curvature of an Expression is stored in its `.curvature` attribute. For example, running the following script"
   ]
  },
  {
   "cell_type": "code",
   "execution_count": 28,
   "metadata": {},
   "outputs": [
    {
     "data": {
      "text/plain": [
       "('AFFINE', 'QUASICONVEX', 'QUASICONCAVE', 'QUASILINEAR')"
      ]
     },
     "execution_count": 28,
     "metadata": {},
     "output_type": "execute_result"
    }
   ],
   "source": [
    "import cvxpy as cp\n",
    "\n",
    "x = cp.Variable(3)\n",
    "y = cp.length(x)\n",
    "z = -y\n",
    "w = cp.ceil(x)\n",
    "\n",
    "x.curvature, y.curvature, z.curvature, w.curvature"
   ]
  },
  {
   "cell_type": "markdown",
   "metadata": {},
   "source": [
    "You can also check the curvature of an Expression by calling the methods `is_quasiconvex()` and `is_quasiconcave()`. For example, `y.is_quasiconvex()` and `z.is_quasiconcave()` would evaluate to `True`. You can check if an expression is quasilinear by calling the `is_quasilinear()` method."
   ]
  },
  {
   "cell_type": "markdown",
   "metadata": {},
   "source": [
    "### Composition rules\n",
    "\n",
    "DQCP analysis is based on applying a general composition theorem from convex analysis to each expression. An expression is verifiably quasiconvex under DQCP if it is one of the following:\n",
    "\n",
    "- convex (under DCP);\n",
    "- a quasiconvex atom, applied to a variable or constant:\n",
    "- the max (`cp.maximum`) of quasiconvex expressions;\n",
    "- an increasing function of a quasiconvex expression, or a decreasing function of a quasiconcave expression;\n",
    "- an expression of the form $f(e_1,e_2,\\dotsc,e_n)$ such that (1) $f$ is a quasiconvex atom, and (2) for each $i$, $f$ is increasing in argument $i$ and $e_i$ is convex, $f$ is decreasing in argument $i$ and $e_i$ is concave, or $e_i$ is affine.\n",
    "\n",
    "An expression is quasiconcave under DQCP if it is one of the following:\n",
    "\n",
    "- concave (under DCP);\n",
    "- a quasiconcave atom, applied to a variable or constant:\n",
    "- the min (`cp.minimum`) of quasiconcave expressions;\n",
    "- an increasing function of a quasiconcave expression, or a decreasing function of a quasiconvex expression;\n",
    "- an expression of the form $f(e_1,e_2,\\dotsc,e_n)$ such that (1) $f$ is a quasiconcave atom, and (2) for each $i$, $f$ is increasing in argument $i$ and $e_i$ is concave, $f$ is decreasing in argument $i$ and $e_i$ is convex, or $e_i$ is affine.\n",
    "\n",
    "Whether an atom is quasiconvex or quasiconcave may depend on the signs of its arguments. For example, the scalar product $xy$ is quasiconcave when $x$ and $y$ are either both nonnegative or both nonpositive, and quasiconvex when one the arguments is nonnegative and the other is nonpositive.\n",
    "\n",
    "If an Expression satisfies the above rules, we colloquially say that the Expression \"is DQCP.\" You can check whether an Expression is DQCP by calling the method `is_dqcp()`. For example, the assertions in the following code block will pass."
   ]
  },
  {
   "cell_type": "code",
   "execution_count": 29,
   "metadata": {},
   "outputs": [
    {
     "data": {
      "text/plain": [
       "(True, True)"
      ]
     },
     "execution_count": 29,
     "metadata": {},
     "output_type": "execute_result"
    }
   ],
   "source": [
    "import cvxpy as cp\n",
    "\n",
    "x = cp.Variable(pos=True)\n",
    "y = cp.Variable(pos=True)\n",
    "\n",
    "product = cp.multiply(x, y)\n",
    "\n",
    "product.is_quasiconcave(), product.is_dqcp()"
   ]
  },
  {
   "cell_type": "markdown",
   "metadata": {},
   "source": [
    "An Expression is DQCP precisely when it has known curvature, which means at least one of the methods `is_constant()`, `is_affine()`, `is_convex()`, `is_concave()`, `is_quasiconvex()`, `is_quasiconvex()` will return `True`."
   ]
  },
  {
   "cell_type": "markdown",
   "metadata": {},
   "source": [
    "### DQCP problems\n",
    "\n",
    "A Problem is constructed from an objective and a list of constraints. If a problem follows the DQCP rules, it is guaranteed to be a DQCP and solvable by CVXPY (if a solution to the problem exists). The DQCP rules require that the problem objective have one of two forms:\n",
    "\n",
    "- Minimize(quasiconvex)\n",
    "- Maximize(quasiconcave)\n",
    "\n",
    "The only valid constraints under the DQCP rules are\n",
    "\n",
    "- affine `==` affine\n",
    "- convex `<=` concave\n",
    "- concave `>=` convex\n",
    "- quasiconvex `<=` constant\n",
    "- quasiconcave `>=` constant\n",
    "\n",
    "You can check that a problem, constraint, or objective satisfies the DQCP rules by calling `object.is_dqcp()`. Here are some examples of DQCP and non-DQCP problems:"
   ]
  },
  {
   "cell_type": "code",
   "execution_count": 30,
   "metadata": {},
   "outputs": [],
   "source": [
    "import cvxpy as cp\n",
    "\n",
    "# The sign of variables affects curvature analysis.\n",
    "x = cp.Variable(nonneg=True)\n",
    "concave_fractional_fn = x * cp.sqrt(x)\n",
    "constraint = [cp.ceil(x) <= 10]\n",
    "prob = cp.Problem(cp.Maximize(concave_fractional_fn), constraint)\n",
    "assert concave_fractional_fn.is_quasiconcave()\n",
    "assert constraint[0].is_dqcp()\n",
    "assert prob.is_dqcp()\n",
    "\n",
    "w = cp.Variable()\n",
    "fn = w * cp.sqrt(w)\n",
    "prob = cp.Problem(cp.Maximize(fn))\n",
    "assert not fn.is_dqcp()\n",
    "assert not prob.is_dqcp()"
   ]
  },
  {
   "cell_type": "markdown",
   "metadata": {},
   "source": [
    "CVXPY will raise an exception if you call `prob.solve(qcp=True)` on a non-DQCP problem."
   ]
  },
  {
   "cell_type": "markdown",
   "metadata": {},
   "source": [
    "### DQCP atoms\n",
    "\n",
    "Quasiconvex and quasiconcave expressions can be constructed using convex and concave atoms, using the curvature rules given above. This section describes new semantics for some existing atoms under DQCP, and introduces new atoms that are quasiconvex or quasiconcave (but not convex or concave). Many of these new atoms are integer-valued.\n",
    "\n",
    "__Ratio.__ The infix operator `/` is an atom, denoting ratio. This atom is both quasiconvex and quasiconcave when the denominator is known to be either nonnegative or nonpositive. The ratio `x / y` is increasing in `x` when `y` is nonnegative, increasing in `y` when `x` is nonpositive, decreasing in `x` when `y` is nonpositive, and decreasing in `y` when `x` is nonnegative.\n",
    "\n",
    "The ratio atom can be used with the composition rule to construct interesting quasiconvex and quasiconcave expressions. For example, the ratio of a nonnegative concave function and a positive convex function is quasiconcave, and the ratio of a nonnegative convex function and a positive concave function is quasiconvex. Similarly, the ratio of two affine functions is quasilinear when the denominator is positive.\n",
    "\n",
    "__Scalar product.__ The scalar product `*` is quasiconvex when one of its arguments is nonnegative and the other is nonpositive, and it is quasiconcave when its arguments are both nonnegative or both nonpositive. Hence, by the composition rule, the product of two nonnegative concave functions is quasiconcave, and the product of a nonnegative concave function and a nonpositive convex function is quasiconvex.\n",
    "\n",
    "__Distance ratio function.__ The atom `cp.dist_ratio(x, a, b)` denotes the function $\\|x-a\\|_2/\\|x-b\\|_2$, implicitly enforcing the constraint that $\\|x-a\\|_2\\leq\\|x-b\\|_2$. The expressions `a` and `b` must be constants. This atom is quasiconvex.\n",
    "\n",
    "__Maximum generalized eigenvalue.__ The atom `cp.gen_lambda_max(A, B)` computes the maximum generalized eigenvalue of `A` and `B`, defined as the maximum $\\lambda\\in\\mathbb{R}$ such that $Ax=\\lambda Bx$ for some $x$. This atom is quasiconvex, and it enforces the constraint that `A` is symmetric and `B` is positive definite.\n",
    "\n",
    "__Condition Number.__ The atom `cp.condition_number(A)` computes the condition number of `A`, defined as the $\\lambda_\\text{max}(A)/\\lambda_\\text{min}(A)$. This atom is quasiconvex, and it enforces the constraint that `A` is symmetric and positive definite.\n",
    "\n",
    "__Ceiling and floor.__ The atoms `cp.ceil(x)` and `cp.floor(x)` are quasilinear, and increasing in their arguments.\n",
    "\n",
    "__Sign.__ The atoms `cp.sign(x)`, which returns `-1` for `x <= 0` and `+1` for `x > 0`, is quasilinear.\n",
    "\n",
    "__Length of a vector.__ The atoms `cp.length(x)`, which returns the index of the last nonzero element in $\\mathbb{R}^n$, is quasiconvex.\n",
    "\n",
    "### Solving DQCP problems\n",
    "\n",
    "A DQCP problem `prob` can be solved by calling `prob.solve(qcp=True)`. CVXPY uses a bisection method on the optimal value of the problem to solve QCPs, and it will automatically find an upper and lower bound for the bisection. You can optionally provide your own upper and lower bound when solving a QCP, which can sometimes be helpful. You can provide these bounds via the keyword arguments `low` and `high`; for example, `prob.solve(qcp=True, low=12, high=17)` would limit the bisection to objective values that are greater than 12 and less than 17.\n",
    "\n",
    "Bisection involves solving a sequence of optimization problems. If your problem is ill-conditioned, or if you’re unlucky, a solver might fail to solve one of these subproblems, which will result in an error. If this happens, you can try using a different solver via the `solver` keyword argument. For example, `prob.solve(qcp=True, solver=cp.SCS)`. To obtain verbose output describing the bisection, supply the keyword argument `verbose=True` to the solve method. For example, `prob.solve(qcp=True, verbose=True)`."
   ]
  },
  {
   "cell_type": "markdown",
   "metadata": {},
   "source": [
    "## 6. Advanced Features\n",
    "\n",
    "This section of the tutorial covers features of CVXPY intended for users with advanced knowledge of convex optimization. We recommend Convex Optimization by Boyd and Vandenberghe as a reference for any terms you are unfamiliar with."
   ]
  },
  {
   "cell_type": "markdown",
   "metadata": {},
   "source": [
    "### Dual variables\n",
    "\n",
    "You can use CVXPY to find the optimal dual variables for a problem. When you call `prob.solve()` each dual variable in the solution is stored in the `dual_value` field of the constraint it corresponds to."
   ]
  },
  {
   "cell_type": "code",
   "execution_count": 31,
   "metadata": {},
   "outputs": [
    {
     "name": "stdout",
     "output_type": "stream",
     "text": [
      "\n",
      "optimal (x + y == 1) dual variable: 0.0\n",
      "optimal (x - y >= 1) dual variable: 2.0\n",
      "x - y value: 1.0\n",
      "\n"
     ]
    }
   ],
   "source": [
    "import cvxpy as cp\n",
    "\n",
    "# Create two scalar optimization variables.\n",
    "x = cp.Variable()\n",
    "y = cp.Variable()\n",
    "\n",
    "# Form objective.\n",
    "objective = cp.Minimize((x - y)**2)\n",
    "\n",
    "# Create two constraints.\n",
    "constraints = [\n",
    "    x + y == 1,\n",
    "    x - y >= 1\n",
    "]\n",
    "\n",
    "# Form and solve problem.\n",
    "prob = cp.Problem(objective, constraints)\n",
    "prob.solve()\n",
    "\n",
    "# The optimal dual variable (Lagrange multiplier) for\n",
    "# a constraint is stored in constraint.dual_value.\n",
    "print(f\"\"\"\n",
    "optimal (x + y == 1) dual variable: {constraints[0].dual_value}\n",
    "optimal (x - y >= 1) dual variable: {constraints[1].dual_value}\n",
    "x - y value: {(x - y).value}\n",
    "\"\"\")"
   ]
  },
  {
   "cell_type": "markdown",
   "metadata": {},
   "source": [
    "The dual variable for `x - y >= 1` is 2. By complementarity this implies that `x - y` is 1, which we can see is true. The fact that the dual variable is non-zero also tells us that if we tighten `x - y >= 1`, (i.e., increase the right-hand side), the optimal value of the problem will increase."
   ]
  },
  {
   "cell_type": "markdown",
   "metadata": {},
   "source": [
    "### Attributes\n",
    "\n",
    "Variables and parameters can be created with attributes specifying additional properties. For example, `Variable(nonneg=True)` is a scalar variable constrained to be nonnegative. Similarly, `Parameter(nonpos=True)` is a scalar parameter constrained to be nonpositive. The full constructor for `Leaf` (the parent class of `Variable` and `Parameter`) is given below.\n",
    "\n",
    "    Leaf(shape=None, value=None, nonneg=False, nonpos=False, complex=False, imag=False, symmetric=False, diag=False, PSD=False, NSD=False, hermitian=False, boolean=False, integer=False, sparsity=None, pos=False, neg=False)\n",
    "\n",
    "Creates a `Leaf` object (e.g., `Variable` or `Parameter`). Only one attribute can be active (set to `True`).\n",
    "\n",
    "The `value` field of `Variables` and `Parameters` can be assigned a value after construction, but the assigned value must satisfy the object attributes. A Euclidean projection onto the set defined by the attributes is given by the `project` method."
   ]
  },
  {
   "cell_type": "code",
   "execution_count": 32,
   "metadata": {},
   "outputs": [
    {
     "name": "stdout",
     "output_type": "stream",
     "text": [
      "Parameter value must be nonnegative.\n",
      "Projection: 0.0\n"
     ]
    }
   ],
   "source": [
    "p = cp.Parameter(nonneg=True)\n",
    "try:\n",
    "    p.value = -1\n",
    "except Exception as e:\n",
    "    print(e)\n",
    "\n",
    "print(f\"Projection: {p.project(-1)}\")"
   ]
  },
  {
   "cell_type": "markdown",
   "metadata": {},
   "source": [
    "A sensible idiom for assigning values to leaves is `leaf.value = leaf.project(val)`, ensuring that the assigned value satisfies the leaf’s properties. A slightly more efficient variant is `leaf.project_and_assign(val)`, which projects and assigns the value directly, without additionally checking that the value satisfies the leaf's properties. In most cases `project` and checking that a value satisfies a leaf's properties are cheap operations (i.e., $O(n)$), but for symmetric positive semidefinite or negative semidefinite leaves, the operations compute an eigenvalue decomposition.\n",
    "\n",
    "Many attributes, such as nonnegativity and symmetry, can be easily specified with constraints. What is the advantage then of specifying attributes in a variable? The main benefit is that specifying attributes enables more fine-grained DCP analysis. For example, creating a variable `x` via `x = cp.Variable(nonpos=True)` informs the DCP analyzer that `x` is nonpositive. Creating the variable `x` via `x = cp.Variable()` and adding the constraint `x >= 0` separately does not provide any information about the sign of `x` to the DCP analyzer.\n",
    "\n",
    "One downside of using attributes over explicit constraints is that dual variables will not be recorded. Dual variable values are only recorded for explicit constraints."
   ]
  },
  {
   "cell_type": "markdown",
   "metadata": {},
   "source": [
    "### Semidefinite matrices\n",
    "\n",
    "Many convex optimization problems involve constraining matrices to be positive or negative semidefinite (e.g., SDPs). You can do this in CVXPY in two ways. The first way is to use `cp.Variable((n, n), PSD=True)` to create an `n` by `n` variable constrained to be symmetric and positive semidefinite. For example,\n",
    "\n",
    "```\n",
    "# Creates a 100 by 100 positive semidefinite variable.\n",
    "X = cp.Variable((100, 100), PSD=True)\n",
    "\n",
    "# You can use X anywhere you would use\n",
    "# a normal CVXPY variable.\n",
    "obj = cp.Minimize(cp.norm(X) + cp.sum(X))\n",
    "```\n",
    "\n",
    "The second way is to create a positive semidefinite cone constraint using the `>>` or `<<` operator. If `X` and `Y` are `n` by `n` variables, the constraint `X >> Y` means that $z^T(X-Y)z \\geq 0$, for all $z\\in\\mathbb{R}^n$. In other words, $(X-Y)+(X-Y)^T$ is positive semidefinite. The constraint does not require that `X` and `Y` be symmetric. Both sides of a postive semidefinite cone constraint must be square matrices and affine.\n",
    "\n",
    "The following code shows how to constrain matrix expressions to be positive or negative semidefinite (but not necessarily symmetric).\n",
    "\n",
    "```\n",
    "# expr1 must be positive semidefinite.\n",
    "constr1 = (expr1 >> 0)\n",
    "\n",
    "# expr2 must be negative semidefinite.\n",
    "constr2 = (expr2 << 0)\n",
    "```\n",
    "\n",
    "To constrain a matrix expression to be symmetric, simply write\n",
    "\n",
    "```\n",
    "# expr must be symmetric.\n",
    "constr = (expr == expr.T)\n",
    "```\n",
    "\n",
    "You can also use `cp.Variable((n, n), symmetric=True)` to create an `n` by `n` variable constrained to be symmetric. The difference between specifying that a variable is symmetric via attributes and adding the constraint `X == X.T` is that attributes are parsed for DCP information and a symmetric variable is defined over the (lower dimensional) vector space of symmetric matrices."
   ]
  },
  {
   "cell_type": "markdown",
   "metadata": {},
   "source": [
    "### Mixed-integer programs\n",
    "\n",
    "In mixed-integer programs, certain variables are constrained to be boolean (i.e., 0 or 1) or integer valued. You can construct mixed-integer programs by creating variables with the attribute that they have only boolean or integer valued entries:\n",
    "\n",
    "```\n",
    "# Creates a 10-vector constrained to have boolean valued entries.\n",
    "x = cp.Variable(10, boolean=True)\n",
    "\n",
    "# expr1 must be boolean valued.\n",
    "constr1 = (expr1 == x)\n",
    "\n",
    "# Creates a 5 by 7 matrix constrained to have integer valued entries.\n",
    "Z = cp.Variable((5, 7), integer=True)\n",
    "\n",
    "# expr2 must be integer valued.\n",
    "constr2 = (expr2 == Z)\n",
    "```\n",
    "\n",
    "CVXPY provides interfaces to many mixed-integer solvers, including open source and commercial solvers. For licensing reasons, CVXPY does not install any of the preferred solvers by default.\n",
    "\n",
    "The preferred open source mixed-integer solvers in CVXPY are GLPK_MI, CBC and SCIP. The CVXOPT python package provides CVXPY with access to GLPK_MI; CVXOPT can be installed by running `pip install cvxopt` in your command line or terminal. SCIP supports nonlinear models, but GLPK_MI and CBC do not.\n",
    "\n",
    "CVXPY comes with ECOS_BB – an open source mixed-integer nonlinear solver – by default. However ECOS_BB will not be called automatically; you must explicitly call `prob.solve(solver='ECOS_BB')` if you want to use it. This policy stems from the fact that there are recurring correctness issues with `ECOS_BB`. If you rely on this solver for some application then you need to be aware of the increased risks that come with using it. If you need to use an open-source mixed-integer nonlinear solver from CVXPY, then we recommend you install SCIP.\n",
    "\n",
    "If you need to solve a large mixed-integer problem quickly, or if you have a nonlinear mixed-integer model that is challenging for SCIP, then you will need to use a commercial solver such as CPLEX, GUROBI, XPRESS, MOSEK, or COPT. Commercial solvers require licenses to run. CPLEX, GUROBI, and MOSEK provide free licenses to those in academia (both students and faculty), as well as trial versions to those outside academia. CPLEX Free Edition is available at no cost regardless of academic status, however it still requires online registration, and it’s limited to problems with at most 1000 variables and 1000 constraints. XPRESS has a free community edition which does not require registration, however it is limited to problems where the sum of variables count and constraint count does not exceed 5000. COPT also has a free community edition that is limited to problems with at most 2000 variables and 2000 constraints."
   ]
  },
  {
   "cell_type": "markdown",
   "metadata": {},
   "source": [
    "### Complex valued expressions\n",
    "\n",
    "By default variables and parameters are real valued. Complex valued variables and parameters can be created by setting the attribute `complex=True`. Similarly, purely imaginary variables and parameters can be created by setting the attributes `imag=True`. Expressions containing complex variables, parameters, or constants may be complex valued. The functions `is_real`, `is_complex`, and `is_imag` return whether an expression is purely real, complex, or purely imaginary, respectively."
   ]
  },
  {
   "cell_type": "code",
   "execution_count": 33,
   "metadata": {},
   "outputs": [
    {
     "name": "stdout",
     "output_type": "stream",
     "text": [
      "\n",
      "p.is_imag() = True\n",
      "(x + 2).is_real() = False\n",
      "\n"
     ]
    }
   ],
   "source": [
    "# A complex valued variable.\n",
    "x = cp.Variable(complex=True)\n",
    "# A purely imaginary parameter.\n",
    "p = cp.Parameter(imag=True)\n",
    "\n",
    "print(f\"\"\"\n",
    "p.is_imag() = {p.is_imag()}\n",
    "(x + 2).is_real() = {(x + 2).is_real()}\n",
    "\"\"\")"
   ]
  },
  {
   "cell_type": "markdown",
   "metadata": {},
   "source": [
    "The top-level expressions in the problem objective must be real valued, but subexpressions may be complex. Arithmetic and all linear atoms are defined for complex expressions. The nonlinear atoms `cp.abs` and all norms except `cp.norm(X, p)` for `p < 1` are also defined for complex expressions. All atoms whose domain is symmetric matrices are defined for Hermitian matrices. Similarly, the atoms `cp.quad_form(x, P)` and `cp.matrix_frac(x, P)` are defined for complex `x` and Hermitian `P`. All constraints are defined for complex expressions.\n",
    "\n",
    "The following additional atoms are provided for working with complex expressions:\n",
    "\n",
    "- `real(expr)` gives the real part of `expr`.\n",
    "- `imag(expr)` gives the imaginary part of `expr` (i.e., `expr = real(expr) + 1j*imag(expr)`).\n",
    "- `conj(expr)` gives the complex conjugate of `expr`.\n",
    "- `expr.H` gives the Hermitian (conjugate) transpose of `expr`."
   ]
  },
  {
   "cell_type": "markdown",
   "metadata": {},
   "source": [
    "### Transforms\n",
    "\n",
    "Transforms provide additional ways of manipulating CVXPY objects beyond the atomic functions. For example, the `indicator` transform converts a list of constraints into an expression representing the convex function that takes value 0 when the constraints hold and $\\infty$ when they are violated."
   ]
  },
  {
   "cell_type": "code",
   "execution_count": 34,
   "metadata": {},
   "outputs": [
    {
     "name": "stdout",
     "output_type": "stream",
     "text": [
      "expr.value = 0.0\n",
      "expr.value = inf\n"
     ]
    }
   ],
   "source": [
    "x = cp.Variable()\n",
    "constraints = [0 <= x, x <= 1]\n",
    "expr = cp.transforms.indicator(constraints)\n",
    "x.value = .5\n",
    "print(f\"expr.value = {expr.value}\")\n",
    "x.value = 2\n",
    "print(f\"expr.value = {expr.value}\")"
   ]
  },
  {
   "cell_type": "markdown",
   "metadata": {},
   "source": [
    "The full set of transforms available is discussed in [Transforms](https://www.cvxpy.org/api_reference/cvxpy.transforms.html#transforms-api)."
   ]
  },
  {
   "cell_type": "markdown",
   "metadata": {},
   "source": [
    "### Problem arithmetic\n",
    "\n",
    "For convenience, arithmetic operations have been overloaded for problems and objectives. Problem arithmetic is useful because it allows you to write a problem as a sum of smaller problems. The rules for adding, subtracting, and multiplying objectives are given below.\n",
    "\n",
    "```\n",
    "# Addition and subtraction.\n",
    "Minimize(expr1) + Minimize(expr2) == Minimize(expr1 + expr2)\n",
    "Maximize(expr1) + Maximize(expr2) == Maximize(expr1 + expr2)\n",
    "Minimize(expr1) + Maximize(expr2) # Not allowed.\n",
    "Minimize(expr1) - Maximize(expr2) == Minimize(expr1 - expr2)\n",
    "\n",
    "# Multiplication (alpha is a positive scalar).\n",
    "alpha*Minimize(expr) == Minimize(alpha*expr)\n",
    "alpha*Maximize(expr) == Maximize(alpha*expr)\n",
    "-alpha*Minimize(expr) == Maximize(-alpha*expr)\n",
    "-alpha*Maximize(expr) == Minimize(-alpha*expr)\n",
    "```\n",
    "\n",
    "The rules for adding and multiplying problems are equally straightforward:\n",
    "\n",
    "```\n",
    "# Addition and subtraction.\n",
    "prob1 + prob2 == Problem(\n",
    "    prob1.objective + prob2.objective, prob1.constraints + prob2.constraints\n",
    ")\n",
    "prob1 - prob2 == Problem(\n",
    "    prob1.objective - prob2.objective, prob1.constraints + prob2.constraints\n",
    ")\n",
    "\n",
    "# Multiplication (alpha is any scalar).\n",
    "alpha*prob == Problem(alpha*prob.objective, prob.constraints)\n",
    "```\n",
    "\n",
    "Note that the `+` operator concatenates lists of constraints, since this is the default behavior for Python lists. The in-place operators `+=`, `-=`, and `*=` are also supported for objectives and problems and follow the same rules as above."
   ]
  },
  {
   "cell_type": "markdown",
   "metadata": {},
   "source": [
    "### Solve method options\n",
    "\n",
    "The `solve` method takes optional arguments that let you change how CVXPY parses and solves the problem.\n",
    "\n",
    "    solve(solver=None, verbose=False, gp=False, qcp=False, requries_grad=False, enforce_dpp=False, **kwargs)\n",
    "\n",
    "Solves the problem using the specified method.\n",
    "\n",
    "Populates the `status` and `value` attributes on the problem object as a side-effect.\n",
    "\n",
    "We will discuss the optional arguments in detail below.\n",
    "\n",
    "#### Choosing a solver\n",
    "CVXPY is distributed with the open source solvers ECOS, OSQP, and SCS. Many other solvers can be called by CVXPY if installed separately. The table below shows the types of problems the supported solvers can handle.\n",
    "\n",
    "![](figures/choosing_a_solver.png)\n",
    "\n",
    "By default CVXPY calls the solver most specialized to the problem type. For example, ECOS is called for SOCPs. SCS can handle all problems (except mixed-integer programs). If the problem is a QP, CVXPY will use OSQP.\n",
    "\n",
    "You can change the solver called by CVXPY using the `solver` keyword argument. If the solver you choose cannot solve the problem, CVXPY will raise an exception. Here’s example code solving the same problem with different solvers.\n"
   ]
  },
  {
   "cell_type": "code",
   "execution_count": 35,
   "metadata": {},
   "outputs": [
    {
     "name": "stdout",
     "output_type": "stream",
     "text": [
      "optimal value with OSQP: 6.0\n",
      "optimal value with ECOS: 5.999999996660147\n",
      "optimal value with ECOS_BB: 5.999999996660147\n",
      "optimal value with CVXOPT: 5.999999999724493\n",
      "optimal value with SCS: 5.99999497031752\n",
      "optimal value with SciPy/HiGHS: 6.0\n",
      "optimal value with GLPK: 6.0\n",
      "optimal value with GLPK_MI: 6.0\n",
      "optimal value with CLARABEL: 5.999999997464582\n",
      "optimal value with SCIP: 6.0\n"
     ]
    }
   ],
   "source": [
    "# Solving a problem with different solvers.\n",
    "x = cp.Variable(2)\n",
    "objective = cp.Minimize(x[0] + cp.norm(x, 1))\n",
    "constraints = [x >= 2]\n",
    "prob = cp.Problem(objective, constraints)\n",
    "\n",
    "# Solve with OSQP. (cvxpy dependency; conda install osqp -c conda-forge)\n",
    "prob.solve(solver=cp.OSQP)\n",
    "print(\"optimal value with OSQP:\", prob.value)\n",
    "\n",
    "# Solve with ECOS. (cvxpy dependency; conda install ecos -c conda-forge)\n",
    "prob.solve(solver=cp.ECOS)\n",
    "print(\"optimal value with ECOS:\", prob.value)\n",
    "\n",
    "# Solve with ECOS_BB. (cvxpy dependency; conda install ecos -c conda-forge)\n",
    "prob.solve(solver=cp.ECOS_BB)\n",
    "print(\"optimal value with ECOS_BB:\", prob.value)\n",
    "\n",
    "# Solve with COPT. (REQUIRES LICENSE)\n",
    "# prob.solve(solver=cp.COPT)\n",
    "# print(\"optimal value with COPT:\", prob.value)\n",
    "\n",
    "# Solve with CVXOPT. (conda install cvxopt -c conda-forge)\n",
    "prob.solve(solver=cp.CVXOPT)\n",
    "print(\"optimal value with CVXOPT:\", prob.value)\n",
    "\n",
    "# Solve with SDPA. (pip install sdpa-python)\n",
    "# cvxpy 1.4.2 contains a bug in cvxpy/reductions/solvers/conic_solvers/sdpa_conif.py\n",
    "# See https://github.com/cvxpy/cvxpy/commit/602c94ab75a6313ca3b43aa5a782dfaab7ebd00a\n",
    "# prob.solve(solver=cp.SDPA)\n",
    "# print(\"optimal value with SDPA:\", prob.value)\n",
    "\n",
    "# Solve with SCS. (cvxpy dependency; conda install scs -c conda-forge)\n",
    "prob.solve(solver=cp.SCS)\n",
    "print(\"optimal value with SCS:\", prob.value)\n",
    "\n",
    "# Solve with SciPy/HiGHS. (cvxpy dependency; conda install scipy -c conda-forge)\n",
    "prob.solve(solver=cp.SCIPY, scipy_options={\"method\": \"highs\"})\n",
    "print(\"optimal value with SciPy/HiGHS:\", prob.value)\n",
    "\n",
    "# Solve with GLOP. (conda install ortools-python -c conda-forge)\n",
    "# prob.solve(solver=cp.GLOP)\n",
    "# print(\"optimal value with GLOP:\", prob.value)\n",
    "\n",
    "# Solve with GLPK. (cvxpy & cvxopt dependency; conda install glpk -c conda-forge)\n",
    "prob.solve(solver=cp.GLPK)\n",
    "print(\"optimal value with GLPK:\", prob.value)\n",
    "\n",
    "# Solve with GLPK_MI. (cvxpy & cvxopt dependency; conda install glpk -c conda-forge)\n",
    "prob.solve(solver=cp.GLPK_MI)\n",
    "print(\"optimal value with GLPK_MI:\", prob.value)\n",
    "\n",
    "# Solve with CLARABEL. (cvxpy dependency; conda install clarabel -c conda-forge)\n",
    "prob.solve(solver=cp.CLARABEL)\n",
    "print(\"optimal value with CLARABEL:\", prob.value)\n",
    "\n",
    "# Solve with GUROBI. (REQUIRES LICENSE)\n",
    "# prob.solve(solver=cp.GUROBI)\n",
    "# print(\"optimal value with GUROBI:\", prob.value)\n",
    "\n",
    "# Solve with MOSEK. (REQUIRES LICENSE)\n",
    "# prob.solve(solver=cp.MOSEK)\n",
    "# print(\"optimal value with MOSEK:\", prob.value)\n",
    "\n",
    "# Solve with PIQP. (conda install piqp -c conda-forge)\n",
    "# prob.solve(solver=cp.PIQP)\n",
    "# print(\"optimal value with PIQP:\", prob.value)\n",
    "\n",
    "# Solve with PROXQP. (conda install proxsuite -c conda-forge)\n",
    "# prob.solve(solver=cp.PROXQP)\n",
    "# print(\"optimal value with PROXQP:\", prob.value)\n",
    "\n",
    "# Solve with CBC. (pip install cylp)\n",
    "# prob.solve(solver=cp.CBC)\n",
    "# print(\"optimal value with CBC:\", prob.value)\n",
    "\n",
    "# Solve with CPLEX. (REQUIRES LICENSE)\n",
    "# prob.solve(solver=cp.CPLEX)\n",
    "# print(\"optimal value with CPLEX:\", prob.value)\n",
    "\n",
    "# Solve with NAG. (REQUIRES LICENSE)\n",
    "# prob.solve(solver=cp.NAG)\n",
    "# print(\"optimal value with NAG:\", prob.value)\n",
    "\n",
    "# Solve with PDLP. (conda install ortools-python -c conda-forge)\n",
    "# cvxpy 1.4.2 contains a bug in cvxpy/reductions/solvers/conic_solvers/pdlp_conif.py\n",
    "# See https://github.com/cvxpy/cvxpy/commit/3c8ba004073446a535076b87a42367c3d636780e\n",
    "# prob.solve(solver=cp.PDLP)\n",
    "# print(\"optimal value with PDLP:\", prob.value)\n",
    "\n",
    "# Solve with SCIP. (conda install pyscipopt -c conda-forge)\n",
    "prob.solve(solver=cp.SCIP)\n",
    "print(\"optimal value with SCIP:\", prob.value)\n",
    "\n",
    "# Solve with XPRESS. (REQUIRES LICENSE)\n",
    "# prob.solve(solver=cp.XPRESS)\n",
    "# print(\"optimal value with XPRESS:\", prob.value)"
   ]
  },
  {
   "cell_type": "markdown",
   "metadata": {},
   "source": [
    "Use the `cp.installed_solvers` utility function to get a list of the solvers your installation of CVXPY supports."
   ]
  },
  {
   "cell_type": "code",
   "execution_count": 36,
   "metadata": {},
   "outputs": [
    {
     "data": {
      "text/plain": [
       "['CLARABEL',\n",
       " 'CVXOPT',\n",
       " 'DIFFCP',\n",
       " 'ECOS',\n",
       " 'ECOS_BB',\n",
       " 'GLPK',\n",
       " 'GLPK_MI',\n",
       " 'OSQP',\n",
       " 'SCIP',\n",
       " 'SCIPY',\n",
       " 'SCS']"
      ]
     },
     "execution_count": 36,
     "metadata": {},
     "output_type": "execute_result"
    }
   ],
   "source": [
    "cp.installed_solvers()"
   ]
  },
  {
   "cell_type": "markdown",
   "metadata": {},
   "source": [
    "#### Viewing solver output\n",
    "All the solvers can print out information about their progress while solving the problem. This information can be useful in debugging a solver error. To see the output from the solvers, set `verbose=True` in the `solve` method."
   ]
  },
  {
   "cell_type": "code",
   "execution_count": 37,
   "metadata": {},
   "outputs": [
    {
     "name": "stdout",
     "output_type": "stream",
     "text": [
      "===============================================================================\n",
      "                                     CVXPY                                     \n",
      "                                     v1.4.2                                    \n",
      "===============================================================================\n",
      "(CVXPY) Mar 17 11:14:39 PM: Your problem has 2 variables, 1 constraints, and 0 parameters.\n",
      "(CVXPY) Mar 17 11:14:39 PM: It is compliant with the following grammars: DCP, DQCP\n",
      "(CVXPY) Mar 17 11:14:39 PM: (If you need to solve this problem multiple times, but with different data, consider using parameters.)\n",
      "(CVXPY) Mar 17 11:14:39 PM: CVXPY will first compile your problem; then, it will invoke a numerical solver to obtain a solution.\n",
      "(CVXPY) Mar 17 11:14:39 PM: Your problem is compiled with the CPP canonicalization backend.\n",
      "-------------------------------------------------------------------------------\n",
      "                                  Compilation                                  \n",
      "-------------------------------------------------------------------------------\n",
      "(CVXPY) Mar 17 11:14:39 PM: Compiling problem (target solver=ECOS).\n",
      "(CVXPY) Mar 17 11:14:39 PM: Reduction chain: Dcp2Cone -> CvxAttr2Constr -> ConeMatrixStuffing -> ECOS\n",
      "(CVXPY) Mar 17 11:14:39 PM: Applying reduction Dcp2Cone\n",
      "(CVXPY) Mar 17 11:14:39 PM: Applying reduction CvxAttr2Constr\n",
      "(CVXPY) Mar 17 11:14:39 PM: Applying reduction ConeMatrixStuffing\n",
      "(CVXPY) Mar 17 11:14:39 PM: Applying reduction ECOS\n",
      "(CVXPY) Mar 17 11:14:39 PM: Finished problem compilation (took 7.738e-03 seconds).\n",
      "-------------------------------------------------------------------------------\n",
      "                                Numerical solver                               \n",
      "-------------------------------------------------------------------------------\n",
      "(CVXPY) Mar 17 11:14:39 PM: Invoking solver ECOS  to obtain a solution.\n",
      "\n",
      "ECOS 2.0.10 - (C) embotech GmbH, Zurich Switzerland, 2012-15. Web: www.embotech.com/ECOS\n",
      "\n",
      "It     pcost       dcost      gap   pres   dres    k/t    mu     step   sigma     IR    |   BT\n",
      "-------------------------------------------------------------------------------\n",
      "                                    Summary                                    \n",
      "-------------------------------------------------------------------------------\n",
      "(CVXPY) Mar 17 11:14:39 PM: Problem status: optimal\n",
      " 0  +6.667e-01  +7.067e-01  +6e+00  6e-01  1e-02  1e+00  9e-01    ---    ---    1  1  - |  -  - \n",
      " 1  +3.500e+00  +3.925e+00  +1e+00  3e-01  4e-03  8e-01  2e-01  0.9890  2e-01   1  1  1 |  0  0\n",
      " 2  +5.716e+00  +5.825e+00  +2e-01  6e-02  8e-04  2e-01  4e-02  0.9091  8e-02   1  1  1 |  0  0\n",
      " 3  +5.997e+00  +5.998e+00  +3e-03  7e-04  1e-05  2e-03  5e-04  0.9881  1e-04   1  1  1 |  0  0\n",
      " 4  +6.000e+00  +6.000e+00  +3e-05  8e-06  1e-07  3e-05  5e-06  0.9890  1e-04   1  1  1 |  0  0\n",
      " 5  +6.000e+00  +6.000e+00  +3e-07  9e-08  1e-09  3e-07  6e-08  0.9890  1e-04   1  0  0 |  0  0\n",
      " 6  +6.000e+00  +6.000e+00  +4e-09  1e-09  1e-11  3e-09  6e-10  0.9890  1e-04   1  0  0 |  0  0\n",
      "\n",
      "OPTIMAL (within feastol=9.9e-10, reltol=6.2e-10, abstol=3.7e-09).\n",
      "Runtime: 0.000139 seconds.\n",
      "\n",
      "(CVXPY) Mar 17 11:14:39 PM: Optimal value: 6.000e+00\n",
      "(CVXPY) Mar 17 11:14:39 PM: Compilation took 7.738e-03 seconds\n",
      "(CVXPY) Mar 17 11:14:39 PM: Solver (including time spent in interface) took 4.935e-04 seconds\n",
      "optimal value with ECOS: 5.999999996660147\n"
     ]
    }
   ],
   "source": [
    "# Solve with ECOS and display output.\n",
    "prob.solve(solver=cp.ECOS, verbose=True)\n",
    "print(f\"optimal value with ECOS: {prob.value}\")"
   ]
  },
  {
   "cell_type": "markdown",
   "metadata": {},
   "source": [
    "#### Solving disciplined geometric programs\n",
    "When the `solve` method is called with `gp=True`, the problem is parsed as a disciplined geometric program instead of a disciplined convex program. For more information, see the [DGP tutorial](https://www.cvxpy.org/tutorial/dgp/index.html)."
   ]
  },
  {
   "cell_type": "markdown",
   "metadata": {},
   "source": [
    "### Solver stats\n",
    "\n",
    "When the `solve` method is called on a problem object and a solver is invoked, the problem object records the optimal value, the values of the primal and dual variables, and several solver statistics. We have already discussed how to view the optimal value and variable values. The solver statistics are accessed via the `prob.solver_stats` attribute, which returns a `SolverStats` object. For example, `prob.solver_stats.solve_time` gives the time it took the solver to solve the problem."
   ]
  },
  {
   "cell_type": "markdown",
   "metadata": {},
   "source": [
    "### Warm start\n",
    "\n",
    "When solving the same problem for multiple values of a parameter, many solvers can exploit work from previous solves (i.e., warm start). For example, the solver might use the previous solution as an initial point or reuse cached matrix factorizations. Warm start is enabled by default and controlled with the `warm_start` solver option. The code below shows how warm start can accelerate solving a sequence of related least-squares problems."
   ]
  },
  {
   "cell_type": "code",
   "execution_count": 38,
   "metadata": {},
   "outputs": [
    {
     "name": "stdout",
     "output_type": "stream",
     "text": [
      "First solve time: 15.579578874\n",
      "Second solve time: 2.140485199\n"
     ]
    }
   ],
   "source": [
    "import cvxpy as cp\n",
    "import numpy as np\n",
    "\n",
    "# Problem data.\n",
    "m = 2000\n",
    "n = 1000\n",
    "\n",
    "rng = np.random.default_rng(1)\n",
    "A = rng.standard_normal((m, n))\n",
    "b = cp.Parameter(m)\n",
    "\n",
    "# Construct the problem.\n",
    "x = cp.Variable(n)\n",
    "prob = cp.Problem(\n",
    "    cp.Minimize(cp.sum_squares(A @ x - b)), [x >= 0]\n",
    ")\n",
    "\n",
    "b.value = rng.standard_normal(m)\n",
    "prob.solve()\n",
    "print(f\"First solve time: {prob.solver_stats.solve_time}\")\n",
    "\n",
    "b.value = rng.standard_normal(m)\n",
    "prob.solve(warm_start=True)\n",
    "print(f\"Second solve time: {prob.solver_stats.solve_time}\")"
   ]
  },
  {
   "cell_type": "markdown",
   "metadata": {},
   "source": [
    "The speed up in this case comes from caching the KKT matrix factorization. If A were a parameter, factorization caching would not be possible and the benefit of warm start would only be a good initial point.\n",
    "\n",
    "Warm start can also be used to provide an initial guess the first time a problem is solved. The initial guess is constructed from the `value` field of the problem variables. If the same problem is solved a second time, the initial guess is constructed from the cached previous solution as described above (rather than from the `value` field)."
   ]
  },
  {
   "cell_type": "markdown",
   "metadata": {},
   "source": [
    "### Setting solver options\n",
    "\n",
    "The OSQP, ECOS, GLOP, MOSEK, CBC, CVXOPT, NAG, PDLP, GUROBI, SCS , CLARABEL, PIQP and PROXQP Python interfaces allow you to set solver options such as the maximum number of iterations. You can pass these options along through CVXPY as keyword arguments.\n",
    "\n",
    "For example, here we tell SCS to use an indirect method for solving linear equations rather than a direct method."
   ]
  },
  {
   "cell_type": "code",
   "execution_count": 39,
   "metadata": {},
   "outputs": [],
   "source": [
    "# Solve with SCS, use sparse-indirect method. (Too much time to complete...)\n",
    "# prob.solve(solver=cp.SCS, verbose=True, use_indirect=True)\n",
    "# print(f\"optimal value with SCS: {prob.value}\")"
   ]
  },
  {
   "cell_type": "markdown",
   "metadata": {},
   "source": [
    "### Getting the standard form\n",
    "\n",
    "If you are interested in getting the standard form that CVXPY produces for a problem, you can use the `get_problem_data` method. When a problem is solved, a `SolvingChain` passes a low-level representation that is compatible with the targeted solver to a solver, which solves the problem. This method returns that low-level representation, along with a `SolvingChain` and metadata for unpacking a solution into the problem. This low-level representation closely resembles, but is not identical to, the arguments supplied to the solver.\n",
    "\n",
    "A solution to the equivalent low-level problem can be obtained via the data by invoking the `solve_via_data` method of the returned solving chain, a thin wrapper around the code external to CVXPY that further processes and solves the problem. Invoke the `unpack_results` method to recover a solution to the original problem.\n",
    "\n",
    "For example:"
   ]
  },
  {
   "cell_type": "code",
   "execution_count": 40,
   "metadata": {},
   "outputs": [
    {
     "name": "stdout",
     "output_type": "stream",
     "text": [
      "objective: 5.99999497031752\n"
     ]
    }
   ],
   "source": [
    "prob = cp.Problem(objective, constraints)\n",
    "data, chain, inverse_data = prob.get_problem_data(cp.SCS)\n",
    "# calls SCS using `data`\n",
    "soln = chain.solve_via_data(prob, data)\n",
    "# unpacks the solution returned by SCS into `problem`\n",
    "prob.unpack_results(soln, chain, inverse_data)\n",
    "\n",
    "print(f\"objective: {prob.value}\")"
   ]
  },
  {
   "cell_type": "markdown",
   "metadata": {},
   "source": [
    "Alternatively, the `data` dictionary returned by this method contains enough information to bypass CVXPY and call the solver directly.\n",
    "\n",
    "For example:"
   ]
  },
  {
   "cell_type": "code",
   "execution_count": 41,
   "metadata": {},
   "outputs": [
    {
     "name": "stdout",
     "output_type": "stream",
     "text": [
      "------------------------------------------------------------------\n",
      "\t       SCS v3.2.4 - Splitting Conic Solver\n",
      "\t(c) Brendan O'Donoghue, Stanford University, 2012\n",
      "------------------------------------------------------------------\n",
      "problem:  variables n: 4, constraints m: 6\n",
      "cones: \t  l: linear vars: 6\n",
      "settings: eps_abs: 1.0e-04, eps_rel: 1.0e-04, eps_infeas: 1.0e-07\n",
      "\t  alpha: 1.50, scale: 1.00e-01, adaptive_scale: 1\n",
      "\t  max_iters: 100000, normalize: 1, rho_x: 1.00e-06\n",
      "\t  acceleration_lookback: 10, acceleration_interval: 10\n",
      "lin-sys:  sparse-direct-amd-qdldl\n",
      "\t  nnz(A): 10, nnz(P): 0\n",
      "------------------------------------------------------------------\n",
      " iter | pri res | dua res |   gap   |   obj   |  scale  | time (s)\n",
      "------------------------------------------------------------------\n",
      "     0| 2.08e+01  1.00e+00  3.75e+01 -1.62e+01  1.00e-01  9.45e-04 \n",
      "   100| 1.20e-04  5.82e-05  2.76e-08  6.00e+00  1.00e-01  9.92e-04 \n",
      "------------------------------------------------------------------\n",
      "status:  solved\n",
      "timings: total: 1.00e-03s = setup: 7.23e-04s + solve: 2.81e-04s\n",
      "\t lin-sys: 2.09e-05s, cones: 4.81e-06s, accel: 2.88e-06s\n",
      "------------------------------------------------------------------\n",
      "objective = 6.000087\n",
      "------------------------------------------------------------------\n"
     ]
    },
    {
     "data": {
      "text/plain": [
       "{'x': array([2.00010756, 1.99988019, 2.00018362, 1.99979547]),\n",
       " 'y': array([0.99996347, 1.0000582 , 0.        , 0.        , 1.99992693,\n",
       "        1.00011641]),\n",
       " 's': array([0.        , 0.        , 4.00029119, 3.99967566, 0.        ,\n",
       "        0.        ]),\n",
       " 'info': {'status_val': 1,\n",
       "  'iter': 100,\n",
       "  'scale_updates': 0,\n",
       "  'scale': 0.1,\n",
       "  'pobj': 6.000086658379645,\n",
       "  'dobj': 6.000086686002864,\n",
       "  'res_pri': 0.00011981307842357417,\n",
       "  'res_dual': 5.820479151302251e-05,\n",
       "  'gap': 2.76232192675252e-08,\n",
       "  'res_infeas': 0.16667395941536498,\n",
       "  'res_unbdd_a': nan,\n",
       "  'res_unbdd_p': nan,\n",
       "  'comp_slack': 0.0,\n",
       "  'solve_time': 0.280543,\n",
       "  'setup_time': 0.72256,\n",
       "  'lin_sys_time': 0.020898000000000014,\n",
       "  'cone_time': 0.004809999999999999,\n",
       "  'accel_time': 0.0028829999999999967,\n",
       "  'rejected_accel_steps': 0,\n",
       "  'accepted_accel_steps': 0,\n",
       "  'status': 'solved'}}"
      ]
     },
     "execution_count": 41,
     "metadata": {},
     "output_type": "execute_result"
    }
   ],
   "source": [
    "prob = cp.Problem(objective, constraints)\n",
    "probdata, _, _ = prob.get_problem_data(cp.SCS)\n",
    "\n",
    "import scs\n",
    "data = {\n",
    "  'A': probdata['A'],\n",
    "  'b': probdata['b'],\n",
    "  'c': probdata['c'],\n",
    "}\n",
    "cone_dims = probdata['dims']\n",
    "cones = {\n",
    "    \"f\": cone_dims.zero,\n",
    "    \"l\": cone_dims.nonneg,\n",
    "    \"q\": cone_dims.soc,\n",
    "    \"ep\": cone_dims.exp,\n",
    "    \"s\": cone_dims.psd,\n",
    "}\n",
    "soln = scs.solve(data, cones)\n",
    "soln"
   ]
  },
  {
   "cell_type": "markdown",
   "metadata": {},
   "source": [
    "The structure of the data dict that CVXPY returns depends on the solver. For details, print the dictionary, or consult the solver interfaces in `cvxpy/reductions/solvers`."
   ]
  },
  {
   "cell_type": "markdown",
   "metadata": {},
   "source": [
    "### Reductions\n",
    "\n",
    "CVXPY uses a system of `reduction`s to rewrite problems from the form provided by the user into the standard form that a solver will accept. A reduction is a transformation from one problem to an equivalent problem. Two problems are equivalent if a solution of one can be converted efficiently to a solution of the other. Reductions take a CVXPY Problem as input and output a CVXPY Problem. The full set of reductions available is discussed in [Reductions](https://www.cvxpy.org/api_reference/cvxpy.reductions.html#reductions-api)."
   ]
  },
  {
   "cell_type": "markdown",
   "metadata": {},
   "source": [
    "### Disciplined Parametrized Programming\n",
    "\n",
    "`Parameters` are symbolic representations of constants. Using parameters lets you modify the values of constants without reconstructing the entire problem. When your parametrized problem is constructed according to Disciplined Parametrized Programming (DPP), solving it repeatedly for different values of the parameters can be much faster than repeatedly solving a new problem.\n",
    "\n",
    "You should read this tutorial if you intend to solve a DCP or DGP problem many times, for different values of the numerical data, or if you want to differentiate through the solution map of a DCP or DGP problem.\n",
    "\n",
    "#### What is DPP?\n",
    "DPP is a ruleset for producing parametrized DCP or DGP compliant problems that CVXPY can re-canonicalize very quickly. The first time a DPP-compliant problem is solved, CVXPY compiles it and caches the mapping from parameters to problem data. As a result, subsequent rewritings of DPP problems can be substantially faster. CVXPY allows you to solve parametrized problems that are not DPP, but you won’t see a speed-up when doing so.\n",
    "\n",
    "#### The DPP ruleset\n",
    "DPP places mild restrictions on how parameters can enter expressions in DCP and DGP problems. First, we describe the DPP ruleset for DCP problems. Then, we describe the DPP ruleset for DGP problems.\n",
    "\n",
    "__DCP problems.__ In DPP, an expression is said to be parameter-affine if it does not involve variables and is affine in its parameters, and it is parameter-free if it does not have parameters. DPP introduces two restrictions to DCP:\n",
    "\n",
    "1. Under DPP, all parameters are classified as affine, just like variables.\n",
    "2. Under DPP, the product of two expressions is affine when at least one of the expressions is constant, or when one of the expressions is parameter-affine and the other is parameter-free.\n",
    "\n",
    "An expression is DPP-compliant if it DCP-compliant subject to these two restrictions. You can check whether an expression or problem is DPP-compliant by calling the `is_dcp` method with the keyword argument `dpp=True` (by default, this keyword argument is `False`). For example,"
   ]
  },
  {
   "cell_type": "code",
   "execution_count": 42,
   "metadata": {},
   "outputs": [
    {
     "data": {
      "text/plain": [
       "True"
      ]
     },
     "execution_count": 42,
     "metadata": {},
     "output_type": "execute_result"
    }
   ],
   "source": [
    "import cvxpy as cp\n",
    "\n",
    "m, n = 3, 2\n",
    "\n",
    "x = cp.Variable((n, 1))\n",
    "F = cp.Parameter((m, n))\n",
    "G = cp.Parameter((m, n))\n",
    "g = cp.Parameter((m, 1))\n",
    "gamma = cp.Parameter(nonneg=True)\n",
    "\n",
    "objective = cp.norm((F + G) @ x - g) + gamma * cp.norm(x)\n",
    "objective.is_dcp(dpp=True)"
   ]
  },
  {
   "cell_type": "markdown",
   "metadata": {},
   "source": [
    "We can walk through the DPP analysis to understand why `objective` is DPP-compliant. The product `(F + G) @ x` is affine under DPP, because `F + G` is parameter-affine and `x` is parameter-free. The difference `(F + G) @ x - g` is affine because the addition atom is affine and both `(F + G) @ x` and `-g` are affine. Likewise `gamma * cp.norm(x)` is affine under DPP because `gamma` is parameter-affine and `cp.norm(x)` is parameter-free. The final objective is then affine under DPP because addition is affine.\n",
    "\n",
    "Some expressions are DCP-compliant but not DPP-compliant. For example, DPP forbids taking the product of two parametrized expressions:"
   ]
  },
  {
   "cell_type": "code",
   "execution_count": 43,
   "metadata": {},
   "outputs": [
    {
     "name": "stdout",
     "output_type": "stream",
     "text": [
      "\n",
      "Is DPP? False\n",
      "Is DCP? True\n",
      "\n"
     ]
    }
   ],
   "source": [
    "import cvxpy as cp\n",
    "\n",
    "x = cp.Variable()\n",
    "gamma = cp.Parameter(nonneg=True)\n",
    "prob = cp.Problem(cp.Minimize(gamma * gamma * x), [x >= 1])\n",
    "\n",
    "print(f\"\"\"\n",
    "Is DPP? {prob.is_dcp(dpp=True)}\n",
    "Is DCP? {prob.is_dcp(dpp=False)}\n",
    "\"\"\")"
   ]
  },
  {
   "cell_type": "markdown",
   "metadata": {},
   "source": [
    "Just as it is possible to rewrite non-DCP problems in DCP-compliant ways, it is also possible to re-express non-DPP problems in DPP-compliant ways. For example, the above problem can be equivalently written as"
   ]
  },
  {
   "cell_type": "code",
   "execution_count": 44,
   "metadata": {},
   "outputs": [
    {
     "name": "stdout",
     "output_type": "stream",
     "text": [
      "\n",
      "Is DPP? True\n",
      "Is DCP? True\n",
      "\n"
     ]
    }
   ],
   "source": [
    "import cvxpy as cp\n",
    "\n",
    "x = cp.Variable()\n",
    "y = cp.Variable()\n",
    "gamma = cp.Parameter(nonneg=True)\n",
    "prob = cp.Problem(cp.Minimize(gamma * y), [y == gamma * x])\n",
    "\n",
    "print(f\"\"\"\n",
    "Is DPP? {prob.is_dcp(dpp=True)}\n",
    "Is DCP? {prob.is_dcp(dpp=False)}\n",
    "\"\"\")"
   ]
  },
  {
   "cell_type": "markdown",
   "metadata": {},
   "source": [
    "In other cases, you can represent non-DPP transformations of parameters by doing them outside of the DSL, e.g., in NumPy. For example, if `P` is a parameter and `x` is a variable, `cp.quad_form(x, P)` is not DPP. You can represent a parametric quadratic form like so:"
   ]
  },
  {
   "cell_type": "code",
   "execution_count": 45,
   "metadata": {},
   "outputs": [],
   "source": [
    "import cvxpy as cp\n",
    "import numpy as np\n",
    "import scipy.linalg\n",
    "\n",
    "n = 4\n",
    "\n",
    "L = np.random.default_rng().standard_normal((n, n))\n",
    "P = L.T @ L\n",
    "P_sqrt = cp.Parameter((n, n))\n",
    "x = cp.Variable((n, 1))\n",
    "\n",
    "quad_form = cp.sum_squares(P_sqrt @ x)\n",
    "P_sqrt.value = scipy.linalg.sqrtm(P)\n",
    "assert quad_form.is_dcp(dpp=True)"
   ]
  },
  {
   "cell_type": "markdown",
   "metadata": {},
   "source": [
    "As another example, the quotient `expr / p` is not DPP-compliant when `p` is a parameter, but this can be rewritten as `expr * p_tilde`, where `p_tilde` is a parameter that represents `1/p`.\n",
    "\n",
    "__DGP problems.__ Just as DGP is the log-log analogue of DCP, DPP for DGP is the log-log analog of DPP for DCP. DPP introduces two restrictions to DGP:\n",
    "\n",
    "1. Under DPP, all positive parameters are classified as log-log-affine, just like positive variables.\n",
    "2. Under DPP, the power atom `x**p` (with base `x` and exponent `p`) is log-log affine as long as `x` and `p` are not both parametrized.\n",
    "\n",
    "Note that for powers, the exponent p must be either a numerical constant or a parameter; attempting to construct a power atom in which the exponent is a compound expression, e.g., `x**(p + p)`, where `p` is a Parameter, will result in a `ValueError`.\n",
    "\n",
    "If a parameter appears in a DGP problem as an exponent, it can have any sign. If a parameter appears elsewhere in a DGP problem, it must be positive, i.e., it must be constructed with `cp.Parameter(pos=True)`.\n",
    "\n",
    "You can check whether an expression or problem is DPP-compliant by calling the `is_dgp` method with the keyword argument `dpp=True` (by default, this keyword argument is `False`). For example,"
   ]
  },
  {
   "cell_type": "code",
   "execution_count": 46,
   "metadata": {},
   "outputs": [
    {
     "data": {
      "text/plain": [
       "True"
      ]
     },
     "execution_count": 46,
     "metadata": {},
     "output_type": "execute_result"
    }
   ],
   "source": [
    "import cvxpy as cp\n",
    "\n",
    "x = cp.Variable(pos=True)\n",
    "y = cp.Variable(pos=True)\n",
    "a = cp.Parameter()\n",
    "b = cp.Parameter()\n",
    "c = cp.Parameter(pos=True)\n",
    "\n",
    "monomial = c * x**a * y**b\n",
    "monomial.is_dgp(dpp=True)"
   ]
  },
  {
   "cell_type": "markdown",
   "metadata": {},
   "source": [
    "The expressions `x**a` and `y**b` are log-log affine, since `x` and `y` do not contain parameters. The parameter `c` is log-log affine because it is positive, and the monomial expression is log-log affine because the product of log-log affine expression is also log-log affine.\n",
    "\n",
    "Some expressions are DGP-compliant but not DPP-compliant. For example, DPP forbids taking raising a parametrized expression to a power:"
   ]
  },
  {
   "cell_type": "code",
   "execution_count": 47,
   "metadata": {},
   "outputs": [
    {
     "name": "stdout",
     "output_type": "stream",
     "text": [
      "\n",
      "Is DPP? False\n",
      "Is DGP? True\n",
      "\n"
     ]
    }
   ],
   "source": [
    "import cvxpy as cp\n",
    "\n",
    "x = cp.Variable(pos=True)\n",
    "a = cp.Parameter()\n",
    "\n",
    "monomial = (x**a)**a\n",
    "\n",
    "print(f\"\"\"\n",
    "Is DPP? {monomial.is_dgp(dpp=True)}\n",
    "Is DGP? {monomial.is_dgp(dpp=False)}\n",
    "\"\"\")"
   ]
  },
  {
   "cell_type": "markdown",
   "metadata": {},
   "source": [
    "You can represent non-DPP transformations of parameters by doing them outside of CVXPY, e.g., in NumPy. For example, you could rewrite the above program as the following DPP-complaint program"
   ]
  },
  {
   "cell_type": "code",
   "execution_count": 48,
   "metadata": {},
   "outputs": [
    {
     "name": "stdout",
     "output_type": "stream",
     "text": [
      "\n",
      "Is DPP? True\n",
      "Is DGP? True\n",
      "\n"
     ]
    }
   ],
   "source": [
    "import cvxpy as cp\n",
    "\n",
    "a = 2.0\n",
    "x = cp.Variable(pos=True)\n",
    "b = cp.Parameter(value=a**2)\n",
    "\n",
    "monomial = x**b\n",
    "\n",
    "print(f\"\"\"\n",
    "Is DPP? {monomial.is_dgp(dpp=True)}\n",
    "Is DGP? {monomial.is_dgp(dpp=False)}\n",
    "\"\"\")"
   ]
  },
  {
   "cell_type": "markdown",
   "metadata": {},
   "source": [
    "#### Repeatedly solving a DPP problem\n",
    "The following example demonstrates how parameters can speed-up repeated solves of a DPP-compliant DCP problem."
   ]
  },
  {
   "cell_type": "code",
   "execution_count": 49,
   "metadata": {},
   "outputs": [
    {
     "data": {
      "image/png": "[encoded data removed]",
      "text/plain": [
       "<Figure size 640x480 with 1 Axes>"
      ]
     },
     "metadata": {},
     "output_type": "display_data"
    }
   ],
   "source": [
    "import numpy as np\n",
    "import cvxpy as cp\n",
    "import matplotlib.pyplot as plt\n",
    "import time\n",
    "\n",
    "n = 15\n",
    "m = 10\n",
    "\n",
    "rng = np.random.default_rng(1)\n",
    "A = rng.standard_normal((n, m))\n",
    "b = rng.standard_normal(n)\n",
    "# gamma must be nonnegative due to DCP rules.\n",
    "gamma = cp.Parameter(nonneg=True)\n",
    "\n",
    "x = cp.Variable(m)\n",
    "error = cp.sum_squares(A @ x - b)\n",
    "\n",
    "objective = cp.Minimize(error + gamma * cp.norm(x, 1))\n",
    "prob = cp.Problem(objective)\n",
    "assert prob.is_dcp(dpp=True)\n",
    "\n",
    "times = []\n",
    "new_problem_times = []\n",
    "gamma_vals = np.logspace(-4, 1)\n",
    "for val in gamma_vals:\n",
    "    gamma.value = val\n",
    "    start = time.time()\n",
    "    prob.solve()\n",
    "    end = time.time()\n",
    "    times.append(end - start)\n",
    "    new_prob = cp.Problem(objective)\n",
    "    start = time.time()\n",
    "    new_prob.solve()\n",
    "    end = time.time()\n",
    "    new_problem_times.append(end - start)\n",
    "\n",
    "_, ax = plt.subplots()\n",
    "ax.plot(gamma_vals, times, label=\"Re-solving a DPP problem\")\n",
    "ax.plot(gamma_vals, new_problem_times, label=\"Solving a new problem\")\n",
    "ax.set_xlabel(\"$\\gamma$\")\n",
    "ax.set_ylabel(\"time ($s$)\")\n",
    "ax.legend();"
   ]
  },
  {
   "cell_type": "markdown",
   "metadata": {},
   "source": [
    "### Sensitivity analysis and gradients\n",
    "\n",
    "An optimization problem can be viewed as a function mapping parameters to solutions. This solution map is sometimes differentiable. CVXPY has built-in support for computing the derivative of the optimal variable values of a problem with respect to small perturbations of the parameters (i.e., the `Parameter` instances appearing in a problem).\n",
    "\n",
    "The problem class exposes two methods related to computing the derivative. The `derivative` evaluates the derivative given perturbations to the parameters. This lets you calculate how the solution to a problem would change given small changes to the parameters, without re-solving the problem. The `backward` method evaluates the adjoint of the derivative, computing the gradient of the solution with respect to the parameters. This can be useful when combined with automatic differentiation software.\n",
    "\n",
    "The derivative and backward methods are only meaningful when the problem contains parameters. In order for a problem to be differentiable, it must be DPP-compliant. CVXPY can compute the derivative of any DPP-compliant DCP or DGP problem. At non-differentiable points, CVXPY computes a heuristic quantity.\n",
    "\n",
    "#### Example.\n",
    "As a first example, we solve a trivial problem with an analytical solution, to illustrate the usage of the `backward` and `derivative` functions. In the following block of code, we construct a problem with a scalar variable x and a scalar parameter p. The problem is to minimize the quadratic `(x - 2*p)**2`."
   ]
  },
  {
   "cell_type": "code",
   "execution_count": 50,
   "metadata": {},
   "outputs": [],
   "source": [
    "import cvxpy as cp\n",
    "\n",
    "x = cp.Variable()\n",
    "p = cp.Parameter()\n",
    "quadratic = cp.square(x - 2 * p)\n",
    "prob = cp.Problem(cp.Minimize(quadratic))"
   ]
  },
  {
   "cell_type": "markdown",
   "metadata": {},
   "source": [
    "Next, we solve the problem for the particular value of `p == 3`. Notice that when solving the problem, we supply the keyword argument `requires_grad=True` to the `solve` method.\n",
    "\n",
    "__NOTE:__ We need to install the following packages.\n",
    "\n",
    "```\n",
    "conda install pybind11 threadpoolctl -c conda-forge\n",
    "pip install diffcp\n",
    "```"
   ]
  },
  {
   "cell_type": "code",
   "execution_count": 51,
   "metadata": {},
   "outputs": [
    {
     "data": {
      "text/plain": [
       "2.8398992587956425e-29"
      ]
     },
     "execution_count": 51,
     "metadata": {},
     "output_type": "execute_result"
    }
   ],
   "source": [
    "p.value = 3.\n",
    "prob.solve(requires_grad=True)"
   ]
  },
  {
   "cell_type": "markdown",
   "metadata": {},
   "source": [
    "Having solved the problem with `requires_grad=True`, we can now use the `backward` and `derivative` to differentiate through the problem. First, we compute the gradient of the solution with respect to its parameter by calling the `backward()` method. As a side-effect, the `backward()` method populates the `gradient` attribute on all parameters with the gradient of the solution with respect to that parameter.\n",
    "\n",
    "In this case, the problem has the trivial analytical solution `2 * p`, and the gradient is therefore just 2."
   ]
  },
  {
   "cell_type": "code",
   "execution_count": 52,
   "metadata": {},
   "outputs": [
    {
     "name": "stdout",
     "output_type": "stream",
     "text": [
      "The gradient is 2.0.\n"
     ]
    }
   ],
   "source": [
    "prob.backward()\n",
    "print(f\"The gradient is {p.gradient:0.1f}.\")"
   ]
  },
  {
   "cell_type": "markdown",
   "metadata": {},
   "source": [
    "Next, we use the `derivative` method to see how a small change in `p` would affect the solution `x`. We will perturb `p` by `1e-5`, by setting `p.delta = 1e-5`, and calling the `derivative` method will populate the `delta` attribute of `x` with the the change in `x` predicted by a first-order approximation (which is `dx/dp * p.delta`).\n",
    "\n",
    "In this case the solution is trivial and its derivative is just `2 * p`, so we know that the delta in `x` should be `2e-5`."
   ]
  },
  {
   "cell_type": "code",
   "execution_count": 53,
   "metadata": {},
   "outputs": [
    {
     "name": "stdout",
     "output_type": "stream",
     "text": [
      "x.delta is 2e-05.\n"
     ]
    }
   ],
   "source": [
    "p.delta = 1e-5\n",
    "prob.derivative()\n",
    "print(f\"x.delta is {x.delta:2.1g}.\")"
   ]
  },
  {
   "cell_type": "markdown",
   "metadata": {},
   "source": [
    "We emphasize that this example is trivial, because it has a trivial analytical solution, with a trivial derivative. The `backward()` and `forward()` methods are useful because the vast majority of convex optimization problems do not have analytical solutions: in these cases, CVXPY can compute solutions and their derivatives, even though it would be impossible to derive them by hand.\n",
    "\n",
    "__Note.__ In this simple example, the variable x was a scalar, so the `backward` method computed the gradient of `x` with respect to `p`. When there is more than one scalar variable, by default, `backward` computes the gradient of the sum of the optimal variable values with respect to the parameters.\n",
    "\n",
    "More generally, the `backward` method can be used to compute the gradient of a scalar-valued function f of the optimal variables, with respect to the parameters. If `x(p)` denotes the optimal value of the variable (which might be a vector or a matrix) for a particular value of the parameter `p` and `f(x(p))` is a scalar, then `backward` can be used to compute the gradient of f with respect to `p`. Let `x* = x(p)`, and say the derivative of `f` with respect to `x*` is `dx`. To compute the derivative of `f` with respect to `p`, before calling `prob.backward()`, just set `x.gradient = dx`.\n",
    "\n",
    "The `backward` method can be powerful when combined with software for automatic differentiation. We recommend the software package [CVXPY Layers](https://www.github.com/cvxgrp/cvxpylayers), which provides differentiable PyTorch and TensorFlow wrappers for CVXPY problems.\n",
    "\n",
    "__backward or derivative?__ The `backward` method should be used when you need the gradient of (a scalar-valued function) of the solution, with respect to the parameters. If you only want to do a sensitivity analysis, that is, if all you’re interested in is how the solution would change if one or more parameters were changed, you should use the `derivative` method. When there are multiple variables, it is much more efficient to compute sensitivities using the `derivative` method than it would be to compute the entire Jacobian (which can be done by calling backward multiple times, once for each standard basis vector)."
   ]
  }
 ],
 "metadata": {
  "kernelspec": {
   "display_name": "devel",
   "language": "python",
   "name": "python3"
  },
  "language_info": {
   "codemirror_mode": {
    "name": "ipython",
    "version": 3
   },
   "file_extension": ".py",
   "mimetype": "text/x-python",
   "name": "python",
   "nbconvert_exporter": "python",
   "pygments_lexer": "ipython3",
   "version": "3.12.2"
  }
 },
 "nbformat": 4,
 "nbformat_minor": 2
}
