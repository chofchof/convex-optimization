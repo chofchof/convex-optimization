{
 "cells": [
  {
   "cell_type": "code",
   "execution_count": 1,
   "metadata": {},
   "outputs": [],
   "source": [
    "# To disable `warnings.warn(ECOS_DEPRECATION_MSG, FutureWarning)`\n",
    "import warnings\n",
    "warnings.filterwarnings('ignore')"
   ]
  },
  {
   "cell_type": "markdown",
   "metadata": {},
   "source": [
    "## 5. Disciplined Geometric Programming\n",
    "\n",
    "__Disciplined geometric programming (DGP)__ is an analog of DCP <u>for log-log convex functions</u>, that is, functions of positive variables that are convex with respect to the geometric mean instead of the arithmetic mean.\n",
    "\n",
    "While DCP is a ruleset for constructing convex programs, DGP is a ruleset for __log-log convex programs (LLCPs)__, which are problems that are convex after the variables, objective functions, and constraint functions are replaced with their logs, an operation that we refer to as a log-log transformation.\n",
    "\n",
    "<u>Every __geometric program (GP)__ and __generalized geometric program (GGP)__ is an LLCP</u>, but there are LLCPs that are neither GPs nor GGPs.\n",
    "\n",
    "CVXPY lets you form and solve DGP problems, just as it does for DCP problems.\n",
    "Note that to solve DGP problems, you must pass the option `gp=True` to the `solve()` method."
   ]
  },
  {
   "cell_type": "code",
   "execution_count": 7,
   "metadata": {},
   "outputs": [
    {
     "name": "stdout",
     "output_type": "stream",
     "text": [
      "\n",
      "Optimal value: 2.000000\n",
      "x: 1.000000\n",
      "y: 2.000000\n",
      "z: 1.000000\n",
      "\n"
     ]
    }
   ],
   "source": [
    "import cvxpy as cp\n",
    "\n",
    "# DGP requires Variables to be declared positive via `pos=True`.\n",
    "x = cp.Variable(pos=True)\n",
    "y = cp.Variable(pos=True)\n",
    "z = cp.Variable(pos=True)\n",
    "\n",
    "objective = x * y * z\n",
    "constraints = [\n",
    "    4 * x * y * z + 2 * x * z <= 10,\n",
    "    x <= 2 * y,\n",
    "    y <= 2 * x,\n",
    "    z >= 1\n",
    "]\n",
    "prob = cp.Problem(cp.Maximize(objective), constraints)\n",
    "prob.solve(gp=True)\n",
    "\n",
    "print(f\"\"\"\n",
    "Optimal value: {prob.value:f}\n",
    "x: {x.value:f}\n",
    "y: {y.value:f}\n",
    "z: {z.value:f}\n",
    "\"\"\")"
   ]
  },
  {
   "cell_type": "markdown",
   "metadata": {},
   "source": [
    "### Log-log curvature\n",
    "\n",
    "Just as every Expression in CVXPY has a __curvature__ (constant, affine, convex, concave, or unknown), every Expression also has a __log-log curvature__.\n",
    "\n",
    "A function $f\\colon D\\subseteq\\mathbb{R}^n_{\\succ 0}\\to\\mathbb{R}$ is said to be __log-log convex__ if the function $F(u)=\\log f(e^u)$ with domain $\\{u\\in\\mathbb{R}^n\\mid e^u\\in D\\}$ is convex.\n",
    "The function $F$ is called the __log-log transformation__ of $f$. The function $f$ is __log-log concave__ if $F$ is concave, and it is __log-log affine__ if $F$ is affine.\n",
    "\n",
    "Every log-log affine function (called a __monomial function__ in GP) has the form\n",
    "$f(x) = cx_1^{a_1}x_2^{a_2}\\dotsb x_n^{a_n}$,\n",
    "where $x\\in\\mathbb{R}^n_{\\succ 0}$, $a_i\\in\\mathbb{R}$, and $c\\in\\mathbb{R}_{>0}$.\n",
    "\n",
    "A sum of monomials (called a __posynomial function__ in GP) is a log-log convex function.\n",
    "\n",
    "![](figures/log-log_curvature.png)\n",
    "\n",
    "CVXPY's log-log curvature analysis can flag Expressions as __unknown__ even when they are log-log convex or log-log concave.\n",
    "\n",
    "Note that any log-log constant expression is also log-log affine, and any log-log affine expression is log-log convex and log-log concave.\n",
    "\n",
    "The log-log curvature of an Expression is stored in its `.log_log_curvature` attribute."
   ]
  },
  {
   "cell_type": "code",
   "execution_count": 8,
   "metadata": {},
   "outputs": [
    {
     "data": {
      "text/plain": [
       "('LOG-LOG CONSTANT',\n",
       " 'LOG-LOG AFFINE',\n",
       " 'LOG-LOG CONVEX',\n",
       " 'LOG-LOG CONCAVE',\n",
       " 'UNKNOWN')"
      ]
     },
     "execution_count": 8,
     "metadata": {},
     "output_type": "execute_result"
    }
   ],
   "source": [
    "x = cp.Variable(pos=True)\n",
    "y = cp.Variable(pos=True)\n",
    "\n",
    "constant = cp.Constant(2.0)\n",
    "monomial = constant * x * y\n",
    "posynomial = monomial + (x ** 1.5) * (y ** -1)\n",
    "reciprocal = posynomial ** -1\n",
    "unknown = reciprocal + posynomial\n",
    "\n",
    "constant.log_log_curvature, monomial.log_log_curvature, \\\n",
    "posynomial.log_log_curvature, reciprocal.log_log_curvature, \\\n",
    "unknown.log_log_curvature"
   ]
  },
  {
   "cell_type": "markdown",
   "metadata": {},
   "source": [
    "You can also check the log-log curvature of an Expression by calling the methods `is_log_log_constant()`, `is_log_log_affine()`, `is_log_log_convex()`, `is_log_log_concave()`."
   ]
  },
  {
   "cell_type": "markdown",
   "metadata": {},
   "source": [
    "### Log-log curvature rules\n",
    "\n",
    "When formulating a DGP problem, all __Constants__ should be elementwise positive, and all __Variables__ and __Parameters__ must be constructed with the attribute `pos=True`.\n",
    "\n",
    "DGP analysis is exactly analogous to DCP analysis. It is based on a [library of atoms (functions)](https://www.cvxpy.org/tutorial/dgp/dgp-atoms) with known monotonicity and log-log curvature and a a single <u>composition rule</u>.\n",
    "\n",
    "A function $f(\\text{expr}_1,\\text{expr}_2,\\dotsc,\\text{expr}_n)$ is __log-log convex__ if $f$ is a log-log convex function and for each $\\text{expr}_i$ one of the following conditions holds:\n",
    "\n",
    "- $f$ is increasing in argument $i$ and $\\text{expr}_i$ is log-log convex.\n",
    "- $f$ is decreasing in argument $i$ and $\\text{expr}_i$ is log-log concave.\n",
    "- $\\text{expr}_i$ is log-log affine.\n",
    "\n",
    "A function $f(\\text{expr}_1,\\text{expr}_2,\\dotsc,\\text{expr}_n)$ is __log-log concave__ if $f$ is a log-log concave function and for each $\\text{expr}_i$ one of the following conditions holds:\n",
    "\n",
    "- $f$ is increasing in argument $i$ and $\\text{expr}_i$ is log-log concave.\n",
    "- $f$ is decreasing in argument $i$ and $\\text{expr}_i$ is log-log convex.\n",
    "- $\\text{expr}_i$ is log-log affine.\n",
    "\n",
    "A function $f(\\text{expr}_1,\\text{expr}_2,\\dotsc,\\text{expr}_n)$ is __log-log affine__ if $f$ is an log-log affine function and each $\\text{expr}_i$ is log-log affine.\n",
    "\n",
    "If none of the three rules apply, the expression $f(\\text{expr}_1,\\text{expr}_2,\\dotsc,\\text{expr}_n)$ is marked as having __unknown__ curvature.\n",
    "\n",
    "If an Expression satisfies the composition rule, we say that the Expression \"__is DGP__.\" You can check whether an Expression is DGP by calling the method `is_dgp()`."
   ]
  },
  {
   "cell_type": "code",
   "execution_count": 9,
   "metadata": {},
   "outputs": [],
   "source": [
    "x = cp.Variable(pos=True)\n",
    "y = cp.Variable(pos=True)\n",
    "\n",
    "monomial = 2.0 * constant * x * y\n",
    "posynomial = monomial + (x ** 1.5) * (y ** -1)\n",
    "\n",
    "assert monomial.is_dgp()\n",
    "assert posynomial.is_dgp()"
   ]
  },
  {
   "cell_type": "markdown",
   "metadata": {},
   "source": [
    "### DGP problems\n",
    "\n",
    "If a problem follows the DGP rules, it is guaranteed to be an __LLCP__ and solvable by CVXPY.\n",
    "\n",
    "The DGP rules require that the problem objective have one of two forms:\n",
    "\n",
    "- Minimize (log-log convex)\n",
    "- Maximize (log-log concave)\n",
    "\n",
    "The only valid constraints under the DGP rules are\n",
    "\n",
    "- log-log affine `==` log-log affine\n",
    "- log-log convex `<=` log-log concave\n",
    "- log-log concave `>=` log-log convex\n",
    "\n",
    "You can check that a problem, constraint, or objective satisfies the DGP rules by calling `object.is_dgp()`.\n",
    "\n",
    "CVXPY will raise an exception if you call `prob.solve(gp=True)` on a non-DGP problem."
   ]
  },
  {
   "cell_type": "code",
   "execution_count": 11,
   "metadata": {},
   "outputs": [],
   "source": [
    "# DGP requires Variables to be declared positive via `pos=True`.\n",
    "x = cp.Variable(pos=True)\n",
    "y = cp.Variable(pos=True)\n",
    "z = cp.Variable(pos=True)\n",
    "\n",
    "objective = x * y * z\n",
    "constraints = [\n",
    "    4 * x * y * z + 2 * x * z <= 10,\n",
    "    x <= 2 * y,\n",
    "    y <= 2 * x,\n",
    "    z >= 1\n",
    "]\n",
    "assert objective.is_log_log_concave()\n",
    "assert all(constraint.is_dgp() for constraint in constraints)\n",
    "\n",
    "prob = cp.Problem(cp.Maximize(objective), constraints)\n",
    "assert prob.is_dgp()\n",
    "\n",
    "# All Variables must be declared as positive for an Expression to be DGP.\n",
    "w = cp.Variable()\n",
    "objective = w * x * y\n",
    "assert not objective.is_dgp()\n",
    "\n",
    "prob = cp.Problem(cp.Maximize(objective), constraints)\n",
    "assert not prob.is_dgp()"
   ]
  },
  {
   "cell_type": "markdown",
   "metadata": {},
   "source": [
    "### DGP atoms\n",
    "\n",
    "#### Infix operators\n",
    "The infix operators `+`, `*`, `/` are treated as atoms.\n",
    "\n",
    "- The operators `*` and `/` are __log-log affine__ functions.\n",
    "- The operator `+` is __log-log convex__ in both its arguments.\n",
    "\n",
    "#### Multiplications\n",
    "- You can use the `cvxpy.matmul` atom to multiply two matrices.\n",
    "- To multiply two arrays or matrices elementwise, use the `cvxpy.multiply` atom.\n",
    "- To take the product of the entries of an Expression, use the `cvxpy.prod` atom.\n",
    "\n",
    "#### Transpose\n",
    "Transpose `expr.T` is a __log-log affine__ function.\n",
    "\n",
    "#### Power\n",
    "The power operator `expr**p` is equivalent to the function `cp.power(expr, p)`, which is a __log-log affine__ function.\n",
    "\n",
    "#### Scalar functions\n",
    "\n",
    "![](figures/dgp_scalar_functions.png)\n",
    "\n",
    "#### Elementwise functions\n",
    "\n",
    "![](figures/dgp_elementwise_functions.png)\n",
    "\n",
    "#### Vector/matrix functions\n",
    "\n",
    "![](figures/dgp_vector_matrix_functions.png)"
   ]
  }
 ],
 "metadata": {
  "kernelspec": {
   "display_name": "devel",
   "language": "python",
   "name": "python3"
  },
  "language_info": {
   "codemirror_mode": {
    "name": "ipython",
    "version": 3
   },
   "file_extension": ".py",
   "mimetype": "text/x-python",
   "name": "python",
   "nbconvert_exporter": "python",
   "pygments_lexer": "ipython3",
   "version": "3.12.2"
  }
 },
 "nbformat": 4,
 "nbformat_minor": 2
}
