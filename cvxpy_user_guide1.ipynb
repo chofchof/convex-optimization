{
 "cells": [
  {
   "cell_type": "code",
   "execution_count": 1,
   "metadata": {},
   "outputs": [],
   "source": [
    "# To disable `warnings.warn(ECOS_DEPRECATION_MSG, FutureWarning)`\n",
    "import warnings\n",
    "warnings.filterwarnings('ignore')"
   ]
  },
  {
   "cell_type": "markdown",
   "metadata": {},
   "source": [
    "## 1. What is CVXPY?\n",
    "\n",
    "CVXPY is a Python-embedded modeling language for convex optimization problems. It automatically transforms the problem into standard form, calls a solver, and unpacks the results."
   ]
  },
  {
   "cell_type": "code",
   "execution_count": 2,
   "metadata": {},
   "outputs": [
    {
     "name": "stdout",
     "output_type": "stream",
     "text": [
      "status: optimal\n",
      "optimal value: 1.0\n",
      "optimal variables:\n",
      "    x = 1.0\n",
      "    y = 1.570086213240983e-22\n",
      "\n"
     ]
    }
   ],
   "source": [
    "import cvxpy as cp\n",
    "\n",
    "# Create two scalar optimization variables.\n",
    "x = cp.Variable()\n",
    "y = cp.Variable()\n",
    "\n",
    "# Form objective.\n",
    "objective = cp.Minimize((x - y)**2)\n",
    "\n",
    "# Create two constraints.\n",
    "constraints = [x + y == 1, x - y >= 1]\n",
    "\n",
    "# Form and solve problem.\n",
    "prob = cp.Problem(objective, constraints)\n",
    "prob.solve()  # Returns the optimal value.\n",
    "\n",
    "print(f\"\"\"\\\n",
    "status: {prob.status}\n",
    "optimal value: {prob.value}\n",
    "optimal variables:\n",
    "    x = {x.value}\n",
    "    y = {y.value}\n",
    "\"\"\")"
   ]
  },
  {
   "cell_type": "markdown",
   "metadata": {},
   "source": [
    "The status, which was assigned a value \"__optimal__\" by the solve method, tells us the problem was solved successfully. The optimal value (basically 1 here) is the minimum value of the objective over all choices of variables that satisfy the constraints. The last thing printed gives values of x and y (basically 1 and 0 respectively) that achieve the optimal objective.\n",
    "\n",
    "`prob.solve()` returns the optimal value and updates `prob.status`, `prob.value`, and the `value` field of all the variables in the problem."
   ]
  },
  {
   "cell_type": "markdown",
   "metadata": {},
   "source": [
    "### Changing the problem\n",
    "\n",
    "__Problems__ are immutable, meaning they cannot be changed after they are created. To change the objective or constraints, create a new problem."
   ]
  },
  {
   "cell_type": "code",
   "execution_count": 3,
   "metadata": {},
   "outputs": [
    {
     "name": "stdout",
     "output_type": "stream",
     "text": [
      "optimal value: 0.9999999999945575\n",
      "optimal value: 2.9999999999746754\n"
     ]
    }
   ],
   "source": [
    "# Replace the objective.\n",
    "prob2 = cp.Problem(cp.Maximize(x + y), prob.constraints)\n",
    "print(f\"optimal value: {prob2.solve()}\")\n",
    "\n",
    "# Replace the constraint (x + y == 1).\n",
    "constraints = [x + y <= 3] + prob2.constraints[1:]\n",
    "prob3 = cp.Problem(prob2.objective, constraints)\n",
    "print(f\"optimal value: {prob3.solve()}\")"
   ]
  },
  {
   "cell_type": "markdown",
   "metadata": {},
   "source": [
    "### Infeasible and unbounded problems\n",
    "\n",
    "If a problem is infeasible or unbounded, the status field will be set to \"__infeasible__\" or \"__unbounded__\", respectively. The value fields of the problem variables are not updated."
   ]
  },
  {
   "cell_type": "code",
   "execution_count": 4,
   "metadata": {},
   "outputs": [
    {
     "name": "stdout",
     "output_type": "stream",
     "text": [
      "status: infeasible\n",
      "optimal value: inf\n",
      "\n",
      "status: unbounded\n",
      "optimal value: -inf\n",
      "\n"
     ]
    }
   ],
   "source": [
    "import cvxpy as cp\n",
    "\n",
    "x = cp.Variable()\n",
    "\n",
    "# An infeasible problem.\n",
    "prob = cp.Problem(cp.Minimize(x), [x >= 1, x <= 0])\n",
    "prob.solve()\n",
    "\n",
    "print(f\"\"\"\\\n",
    "status: {prob.status}\n",
    "optimal value: {prob.value}\n",
    "\"\"\")\n",
    "\n",
    "# An unbounded problem.\n",
    "prob = cp.Problem(cp.Minimize(x))\n",
    "prob.solve()\n",
    "\n",
    "print(f\"\"\"\\\n",
    "status: {prob.status}\n",
    "optimal value: {prob.value}\n",
    "\"\"\")"
   ]
  },
  {
   "cell_type": "markdown",
   "metadata": {},
   "source": [
    "Notice that for a minimization problem the optimal value is `inf` if infeasible and `-inf` if unbounded. For maximization problems the opposite is true."
   ]
  },
  {
   "cell_type": "markdown",
   "metadata": {},
   "source": [
    "### Other problem statuses\n",
    "\n",
    "If the solver called by CVXPY solves the problem but to a lower accuracy than desired, the problem status indicates the lower accuracy achieved. The statuses indicating lower accuracy are\n",
    "\n",
    "- \"__optimal inaccurate__\"\n",
    "- \"__unbounded inaccurate__\"\n",
    "- \"__infeasible inaccurate__\"\n",
    "\n",
    "The problem variables are updated as usual for the type of solution found (i.e., __optimal__, __unbounded__, or __infeasible__).\n",
    "\n",
    "If the solver completely fails to solve the problem, CVXPY throws a `SolverError` exception. If this happens you should try using other solvers. See the discussion of [Choosing a solver](https://www.cvxpy.org/tutorial/advanced/index.html#solvers) for details.\n",
    "\n",
    "CVXPY provides the following constants as aliases for the different status strings:\n",
    "\n",
    "- `OPTIMAL`\n",
    "- `INFEASIBLE`\n",
    "- `UNBOUNDED`\n",
    "- `OPTIMAL_INACCURATE`\n",
    "- `INFEASIBLE_INACCURATE`\n",
    "- `UNBOUNDED_INACCURATE`\n",
    "- `INFEASIBLE_OR_UNBOUNDED`\n",
    "\n",
    "To test if a problem was solved successfully, you would use\n",
    "```\n",
    "prob.status == OPTIMAL\n",
    "```\n",
    "The status `INFEASIBLE_OR_UNBOUNDED` is rare. It’s used when a solver was able to determine that the problem was either infeasible or unbounded, but could not tell which. You can determine the precise status by re-solving the problem where you set the objective function to a constant (e.g., `objective = cp.Minimize(0)`). If the new problem is solved with status code `INFEASIBLE_OR_UNBOUNDED` then the original problem was infeasible. If the new problem is solved with status `OPTIMAL` then the original problem was unbounded."
   ]
  },
  {
   "cell_type": "markdown",
   "metadata": {},
   "source": [
    "### Vectors and matrices\n",
    "\n",
    "__Variables__ can be scalars, vectors, or matrices, meaning they are 0, 1, or 2 dimensional."
   ]
  },
  {
   "cell_type": "code",
   "execution_count": 5,
   "metadata": {},
   "outputs": [
    {
     "data": {
      "text/plain": [
       "(Variable((), var112), Variable((5,), var113), Variable((4, 7), var114))"
      ]
     },
     "execution_count": 5,
     "metadata": {},
     "output_type": "execute_result"
    }
   ],
   "source": [
    "# A scalar variable.\n",
    "a = cp.Variable()\n",
    "\n",
    "# Vector variable with shape (5,).\n",
    "x = cp.Variable(5)\n",
    "\n",
    "# Matrix variable with shape (4, 7).\n",
    "A = cp.Variable((4, 7))\n",
    "\n",
    "a, x, A"
   ]
  },
  {
   "cell_type": "markdown",
   "metadata": {},
   "source": [
    "You can use your numeric library of choice to construct matrix and vector constants. For instance, if x is a CVXPY Variable in the expression `A @ x + b`, `A` and `b` could be Numpy ndarrays, SciPy sparse matrices, etc. `A` and `b` could even be different types.\n",
    "\n",
    "Currently the following types may be <u>used as constants</u>:\n",
    "\n",
    "- NumPy ndarrays\n",
    "- NumPy matrices\n",
    "- SciPy sparse matrices\n",
    "\n",
    "Here’s an example of a CVXPY problem with vectors and matrices:"
   ]
  },
  {
   "cell_type": "code",
   "execution_count": 6,
   "metadata": {},
   "outputs": [
    {
     "name": "stdout",
     "output_type": "stream",
     "text": [
      "optimal value: 1.716426317778556\n",
      "optimal variables: (a numpy ndarray)\n",
      "    [ 3.83404177e-01  9.09989000e-01  9.20222924e-02  4.93360339e-01\n",
      " -6.78466468e-22]\n",
      "\n"
     ]
    }
   ],
   "source": [
    "# Solves a bounded least-squares problem.\n",
    "\n",
    "import numpy as np\n",
    "import cvxpy as cp\n",
    "\n",
    "# Problem data.\n",
    "m = 10\n",
    "n = 5\n",
    "\n",
    "rng = np.random.default_rng(1)\n",
    "A = rng.standard_normal((m, n))\n",
    "b = rng.standard_normal(m)\n",
    "\n",
    "# Construct the problem.\n",
    "x = cp.Variable(n)\n",
    "\n",
    "objective = cp.Minimize(cp.sum_squares(A @ x - b))\n",
    "constraints = [0 <= x, x <= 1]\n",
    "prob = cp.Problem(objective, constraints)\n",
    "\n",
    "print(f\"\"\"\\\n",
    "optimal value: {prob.solve()}\n",
    "optimal variables: (a numpy ndarray)\n",
    "    {x.value}\n",
    "\"\"\")"
   ]
  },
  {
   "cell_type": "markdown",
   "metadata": {},
   "source": [
    "### Constraints\n",
    "\n",
    "As shown in the example code, you can use `==`, `<=`, and `>=` to construct constraints in CVXPY. Equality and inequality constraints are elementwise, whether they involve scalars, vectors, or matrices. For example, together the constraints `0 <= x` and `x <= 1` mean that every entry of `x` is between 0 and 1.\n",
    "\n",
    "If you want matrix inequalities that represent semi-definite cone constraints, see [Semidefinite matrices](https://www.cvxpy.org/tutorial/advanced/index.html#semidefinite). The section explains how to express a semi-definite cone inequality.\n",
    "\n",
    "You <u>cannot construct</u> inequalities with `<` and `>`. Strict inequalities don't make sense in a real world setting. Also, you <u>cannot chain</u> constraints together, e.g., `0 <= x <= 1` or `x == y == 2`. The Python interpreter treats chained constraints in such a way that CVXPY cannot capture them. CVXPY will raise an exception if you write a chained constraint."
   ]
  },
  {
   "cell_type": "markdown",
   "metadata": {},
   "source": [
    "### Parameters\n",
    "\n",
    "__Parameters__ are symbolic representations of constants. The purpose of parameters is to <u>change the value of a constant in a problem without reconstructing the entire problem</u>. In many cases, solving a parametrized program multiple times can be substantially faster than repeatedly solving a new problem: after reading this section, be sure to read the tutorial on [Disciplined Parametrized Programming](https://www.cvxpy.org/tutorial/advanced/index.html#dpp) (DPP).\n",
    "\n",
    "Parameters can be vectors or matrices, just like variables. When you create a parameter you have the option of specifying attributes such as the sign of the parameter's entries, whether the parameter is symmetric, etc. These attributes are used in [Disciplined Convex Programming](https://www.cvxpy.org/tutorial/dcp/index.html#dcp) and are unknown unless specified. Parameters can be assigned a constant value any time after they are created. The constant value must have the same dimensions and attributes as those specified when the parameter was created."
   ]
  },
  {
   "cell_type": "code",
   "execution_count": 7,
   "metadata": {},
   "outputs": [
    {
     "data": {
      "text/plain": [
       "(Parameter((), nonneg=True), Parameter((5,)), Parameter((4, 7), nonpos=True))"
      ]
     },
     "execution_count": 7,
     "metadata": {},
     "output_type": "execute_result"
    }
   ],
   "source": [
    "# Positive scalar parameter.\n",
    "m = cp.Parameter(nonneg=True)\n",
    "\n",
    "# Column vector parameter with unknown sign (by default).\n",
    "c = cp.Parameter(5)\n",
    "\n",
    "# Matrix parameter with negative entries.\n",
    "G = cp.Parameter((4, 7), nonpos=True)\n",
    "\n",
    "# Assigns a constant value to G.\n",
    "G.value = -np.ones((4, 7))\n",
    "\n",
    "m, c, G"
   ]
  },
  {
   "cell_type": "markdown",
   "metadata": {},
   "source": [
    "You can initialize a parameter with a value. The following code segments are equivalent:"
   ]
  },
  {
   "cell_type": "code",
   "execution_count": 8,
   "metadata": {},
   "outputs": [],
   "source": [
    "# Create parameter, then assign value.\n",
    "rho = cp.Parameter(nonneg=True)\n",
    "rho.value = 2\n",
    "\n",
    "# Initialize parameter with a value.\n",
    "rho = cp.Parameter(nonneg=True, value=2)"
   ]
  },
  {
   "cell_type": "markdown",
   "metadata": {},
   "source": [
    "Computing trade-off curves is a common use of parameters. The example below computes a trade-off curve for a LASSO problem."
   ]
  },
  {
   "cell_type": "code",
   "execution_count": 9,
   "metadata": {},
   "outputs": [
    {
     "data": {
      "image/png": "[encoded data removed]",
      "text/plain": [
       "<Figure size 800x400 with 2 Axes>"
      ]
     },
     "metadata": {},
     "output_type": "display_data"
    }
   ],
   "source": [
    "import numpy as np\n",
    "import cvxpy as cp\n",
    "import matplotlib.pyplot as plt\n",
    "\n",
    "# Problem data.\n",
    "n = 15\n",
    "m = 10\n",
    "\n",
    "rng = np.random.default_rng(1)\n",
    "A = rng.standard_normal((n, m))\n",
    "b = rng.standard_normal(n)\n",
    "\n",
    "# gamma must be nonnegative due to DCP rules.\n",
    "gamma = cp.Parameter(nonneg=True)\n",
    "\n",
    "# Construct the problem.\n",
    "x = cp.Variable(m)\n",
    "error = cp.sum_squares(A @ x - b)\n",
    "\n",
    "objective = cp.Minimize(error + gamma * cp.norm(x, p=1))\n",
    "prob = cp.Problem(objective)\n",
    "\n",
    "# Construct a trade-off curve of ||Ax-b||^2 vs. ||x||_1\n",
    "sq_penalty = []\n",
    "l1_penalty = []\n",
    "x_values = []\n",
    "\n",
    "gamma_vals = np.logspace(-4, 6)\n",
    "for val in gamma_vals:\n",
    "    gamma.value = val\n",
    "    prob.solve()\n",
    "    # Use expr.value to get the numerical value of an expression in the problem.\n",
    "    sq_penalty.append(error.value)\n",
    "    l1_penalty.append(cp.norm(x, p=1).value)\n",
    "    x_values.append(x.value)\n",
    "\n",
    "fig, (ax1, ax2) = plt.subplots(ncols=2, figsize=(8, 4))\n",
    "\n",
    "# Plot trade-off curve.\n",
    "ax1.plot(l1_penalty, sq_penalty)\n",
    "ax1.set_xlabel(\"$\\|x\\|_1$\")\n",
    "ax1.set_ylabel(\"$\\|Ax-b\\|^2$\")\n",
    "ax1.set_title(\"Trade-Off Curve for LASSO\")\n",
    "\n",
    "# Plot entries of x vs. gamma.\n",
    "for i in range(m):\n",
    "    ax2.plot(gamma_vals, [xi[i] for xi in x_values])\n",
    "ax2.set_xscale(\"log\")\n",
    "ax2.set_xlabel(\"$\\gamma$\")\n",
    "ax2.set_ylabel(\"$x_i$\")\n",
    "ax2.set_title(\"Entries of $x$ vs. $\\gamma$\")\n",
    "\n",
    "fig.tight_layout()"
   ]
  },
  {
   "cell_type": "markdown",
   "metadata": {},
   "source": [
    "Trade-off curves can easily be computed in parallel. The code below computes in parallel the optimal x for each \n",
    " in the LASSO problem above."
   ]
  },
  {
   "cell_type": "code",
   "execution_count": 10,
   "metadata": {},
   "outputs": [],
   "source": [
    "from multiprocessing import Pool\n",
    "\n",
    "# Assign a value to gamma and find the optimal x.\n",
    "def get_x(gamma_value):\n",
    "    gamma.value = gamma_value\n",
    "    prob.solve()\n",
    "    return x.value\n",
    "\n",
    "gamma_vals = np.logspace(-4, 6, num=100)"
   ]
  },
  {
   "cell_type": "code",
   "execution_count": 11,
   "metadata": {},
   "outputs": [
    {
     "name": "stdout",
     "output_type": "stream",
     "text": [
      "210 ms ± 1.05 ms per loop (mean ± std. dev. of 7 runs, 1 loop each)\n"
     ]
    }
   ],
   "source": [
    "# Parallel computation (set to 1 process here).\n",
    "pool = Pool(processes=1)\n",
    "%timeit x_values = pool.map(get_x, gamma_vals)"
   ]
  },
  {
   "cell_type": "code",
   "execution_count": 12,
   "metadata": {},
   "outputs": [
    {
     "name": "stdout",
     "output_type": "stream",
     "text": [
      "32.4 ms ± 2.26 ms per loop (mean ± std. dev. of 7 runs, 10 loops each)\n"
     ]
    }
   ],
   "source": [
    "# Parallel computation (set to 10 process here).\n",
    "pool = Pool(processes=10)\n",
    "%timeit x_values = pool.map(get_x, gamma_vals)"
   ]
  }
 ],
 "metadata": {
  "kernelspec": {
   "display_name": "devel",
   "language": "python",
   "name": "python3"
  },
  "language_info": {
   "codemirror_mode": {
    "name": "ipython",
    "version": 3
   },
   "file_extension": ".py",
   "mimetype": "text/x-python",
   "name": "python",
   "nbconvert_exporter": "python",
   "pygments_lexer": "ipython3",
   "version": "3.12.2"
  }
 },
 "nbformat": 4,
 "nbformat_minor": 2
}
