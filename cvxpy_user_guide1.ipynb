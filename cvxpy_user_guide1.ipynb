{
 "cells": [
  {
   "cell_type": "code",
   "execution_count": 1,
   "metadata": {},
   "outputs": [],
   "source": [
    "# To disable `warnings.warn(ECOS_DEPRECATION_MSG, FutureWarning)`\n",
    "import warnings\n",
    "warnings.filterwarnings('ignore')"
   ]
  },
  {
   "cell_type": "markdown",
   "metadata": {},
   "source": [
    "## 1. What is CVXPY?\n",
    "\n",
    "CVXPY is a Python-embedded modeling language for convex optimization problems.\n",
    "It automatically transforms the problem into standard form, calls a solver, and unpacks the results.\n",
    "For example,\n",
    "$$\n",
    "\\begin{align*}\n",
    "\\text{minimize} &\\qquad (x-y)^2 \\\\\n",
    "\\text{subject to} &\\qquad x-y \\geq 1 \\\\\n",
    "&\\qquad x+y = 1.\n",
    "\\end{align*}\n",
    "$$"
   ]
  },
  {
   "cell_type": "code",
   "execution_count": 2,
   "metadata": {},
   "outputs": [
    {
     "name": "stdout",
     "output_type": "stream",
     "text": [
      "status: optimal\n",
      "optimal value: 1.000000\n",
      "optimal variables:\n",
      "    x = 1.000000\n",
      "    y = 0.000000\n",
      "\n"
     ]
    }
   ],
   "source": [
    "import cvxpy as cp\n",
    "\n",
    "# Create two scalar optimization variables.\n",
    "x = cp.Variable()\n",
    "y = cp.Variable()\n",
    "\n",
    "# Form objective.\n",
    "objective = cp.Minimize((x - y)**2)\n",
    "\n",
    "# Create two constraints.\n",
    "constraints = [x - y >= 1, x + y == 1]\n",
    "\n",
    "# Form and solve problem.\n",
    "prob = cp.Problem(objective, constraints)\n",
    "prob.solve() # Returns the optimal value.\n",
    "\n",
    "print(f\"\"\"\\\n",
    "status: {prob.status}\n",
    "optimal value: {prob.value:f}\n",
    "optimal variables:\n",
    "    x = {x.value:f}\n",
    "    y = {y.value:f}\n",
    "\"\"\")"
   ]
  },
  {
   "cell_type": "markdown",
   "metadata": {},
   "source": [
    "The method `solve()` returns the optimal value and updates `.status` and `.value` attributes on the problem object, and the `.value` field of all the variables in the problem.\n",
    "\n",
    "- The status \"__optimal__\" tells us the problem was solved successfully.\n",
    "- The optimal value \"__1__\" is the minimum value of the objective over all choices of variables that satisfy the constraints.\n",
    "- \"__1__\" and \"__0__\" are the values of `x` and `y`, respectively, that achieve the optimal objective."
   ]
  },
  {
   "cell_type": "markdown",
   "metadata": {},
   "source": [
    "### Changing the problem\n",
    "\n",
    "`cvxpy.Problem`s are <u>immutable</u>, meaning they cannot be changed after they are created.\n",
    "To change the objective or constraints, create a new problem."
   ]
  },
  {
   "cell_type": "code",
   "execution_count": 3,
   "metadata": {},
   "outputs": [
    {
     "name": "stdout",
     "output_type": "stream",
     "text": [
      "optimal value of prob2: 1.000000\n",
      "optimal value of prob3: 3.000000\n"
     ]
    }
   ],
   "source": [
    "# Replace the objective.\n",
    "prob2 = cp.Problem(cp.Maximize(x + y), prob.constraints)\n",
    "print(f\"optimal value of prob2: {prob2.solve():f}\")\n",
    "\n",
    "# Replace the 2nd constraint x + y == 1.\n",
    "constraints = prob2.constraints[:1] + [x + y <= 3]\n",
    "prob3 = cp.Problem(prob2.objective, constraints)\n",
    "print(f\"optimal value of prob3: {prob3.solve():f}\")"
   ]
  },
  {
   "cell_type": "markdown",
   "metadata": {},
   "source": [
    "### Infeasible and unbounded problems\n",
    "\n",
    "If a problem is infeasible or unbounded, the status field will be set to \"__infeasible__\" or \"__unbounded__\", respectively.\n",
    "The value fields of the problem variables are not updated.\n",
    "For example,\n",
    "$$\n",
    "\\begin{align*}\n",
    "\\text{minimize} &\\qquad x \\\\\n",
    "\\text{subject to} &\\qquad x \\geq 1, \\quad x \\leq 0.\n",
    "\\end{align*}\n",
    "$$\n",
    "is infeasible, but the unconstrained problem \"minimize $x$\" is unbounded.\n",
    "\n",
    "- For minimization problems, the optimal value is `inf` if infeasible and `-inf` if unbounded.\n",
    "- For maximization problems, the optimal value is `-inf` if infeasible and `inf` if unbounded."
   ]
  },
  {
   "cell_type": "code",
   "execution_count": 4,
   "metadata": {},
   "outputs": [
    {
     "name": "stdout",
     "output_type": "stream",
     "text": [
      "status: infeasible\n",
      "optimal value: inf\n",
      "optimal variable: None\n",
      "\n",
      "status: unbounded\n",
      "optimal value: -inf\n",
      "optimal variable: None\n",
      "\n"
     ]
    }
   ],
   "source": [
    "import cvxpy as cp\n",
    "\n",
    "x = cp.Variable()\n",
    "\n",
    "# An infeasible problem.\n",
    "prob = cp.Problem(cp.Minimize(x), [x >= 1, x <= 0])\n",
    "prob.solve()\n",
    "\n",
    "print(f\"\"\"\\\n",
    "status: {prob.status}\n",
    "optimal value: {prob.value:f}\n",
    "optimal variable: {x.value}\n",
    "\"\"\")\n",
    "\n",
    "# An unbounded problem.\n",
    "prob = cp.Problem(cp.Minimize(x))\n",
    "prob.solve()\n",
    "\n",
    "print(f\"\"\"\\\n",
    "status: {prob.status}\n",
    "optimal value: {prob.value:f}\n",
    "optimal variable: {x.value}\n",
    "\"\"\")"
   ]
  },
  {
   "cell_type": "markdown",
   "metadata": {},
   "source": [
    "### Other problem statuses\n",
    "\n",
    "If the solver called by CVXPY <u>solves the problem but to a lower accuracy than desired</u>, the problem status indicates the lower accuracy achieved. The statuses indicating lower accuracy are\n",
    "\n",
    "- \"__optimal inaccurate__\"\n",
    "- \"__unbounded inaccurate__\"\n",
    "- \"__infeasible inaccurate__\"\n",
    "\n",
    "If the solver completely fails to solve the problem, CVXPY throws a `SolverError` exception.\n",
    "If this happens you should try using other solvers. See the discussion of [Choosing a solver](https://www.cvxpy.org/tutorial/advanced/index.html#solvers) for details.\n",
    "\n",
    "CVXPY provides the following constants as aliases for the different status strings:\n",
    "\n",
    "- `OPTIMAL`\n",
    "- `INFEASIBLE`\n",
    "- `UNBOUNDED`\n",
    "- `OPTIMAL_INACCURATE`\n",
    "- `INFEASIBLE_INACCURATE`\n",
    "- `UNBOUNDED_INACCURATE`"
   ]
  },
  {
   "cell_type": "code",
   "execution_count": 5,
   "metadata": {},
   "outputs": [
    {
     "data": {
      "text/plain": [
       "(True, False)"
      ]
     },
     "execution_count": 5,
     "metadata": {},
     "output_type": "execute_result"
    }
   ],
   "source": [
    "prob.status == cp.UNBOUNDED, prob.status == cp.UNBOUNDED_INACCURATE"
   ]
  },
  {
   "cell_type": "markdown",
   "metadata": {},
   "source": [
    "The status `cvxpy.settings.INFEASIBLE_OR_UNBOUNDED` is rare.\n",
    "\n",
    "- It's used when a solver was able to determine that the problem was either infeasible or unbounded, but could not tell which.\n",
    "- You can determine the precise status by re-solving the problem where you set the objective function to a constant (e.g., `objective = cp.Minimize(0)`).\n",
    "- If the new problem is solved with status code `INFEASIBLE_OR_UNBOUNDED` then the original problem was infeasible. \n",
    "- If the new problem is solved with status `OPTIMAL` then the original problem was unbounded."
   ]
  },
  {
   "cell_type": "markdown",
   "metadata": {},
   "source": [
    "### Vectors and matrices\n",
    "\n",
    "`cvxpy.Variable`s can be scalars, vectors, or matrices, meaning they are 0, 1, or 2 dimensional."
   ]
  },
  {
   "cell_type": "code",
   "execution_count": 6,
   "metadata": {},
   "outputs": [
    {
     "data": {
      "text/plain": [
       "(Variable((), var112), Variable((5,), var113), Variable((4, 7), var114))"
      ]
     },
     "execution_count": 6,
     "metadata": {},
     "output_type": "execute_result"
    }
   ],
   "source": [
    "# A scalar variable.\n",
    "a = cp.Variable()\n",
    "\n",
    "# Vector variable with shape (5,).\n",
    "x = cp.Variable(5)\n",
    "\n",
    "# Matrix variable with shape (4, 7).\n",
    "A = cp.Variable((4, 7))\n",
    "\n",
    "a, x, A"
   ]
  },
  {
   "cell_type": "markdown",
   "metadata": {},
   "source": [
    "You can use your numeric library of choice to construct matrix and vector constants.\n",
    "For instance, if `x` is a CVXPY Variable in the expression `A @ x + b`, `A` and `b` could be Numpy ndarrays, SciPy sparse matrices, etc. `A` and `b` could even be different types.\n",
    "\n",
    "Currently the following types may be used as <u>constants</u>:\n",
    "\n",
    "- NumPy ndarrays\n",
    "- NumPy matrices\n",
    "- SciPy sparse matrices"
   ]
  },
  {
   "cell_type": "code",
   "execution_count": 7,
   "metadata": {},
   "outputs": [
    {
     "name": "stdout",
     "output_type": "stream",
     "text": [
      "optimal value: 1.716426\n",
      "optimal variables: (a Numpy ndarray)\n",
      "    [ 3.83404177e-01  9.09989000e-01  9.20222924e-02  4.93360339e-01\n",
      " -6.78466468e-22]\n",
      "\n"
     ]
    }
   ],
   "source": [
    "# Solves a bounded least-squares problem.\n",
    "\n",
    "import numpy as np\n",
    "import cvxpy as cp\n",
    "\n",
    "# Problem data.\n",
    "m = 10\n",
    "n = 5\n",
    "\n",
    "rng = np.random.default_rng(1)\n",
    "A = rng.standard_normal((m, n))\n",
    "b = rng.standard_normal(m)\n",
    "\n",
    "# Construct the problem.\n",
    "x = cp.Variable(n)\n",
    "\n",
    "objective = cp.Minimize(cp.sum_squares(A @ x - b))\n",
    "constraints = [0 <= x, x <= 1]\n",
    "prob = cp.Problem(objective, constraints)\n",
    "\n",
    "print(f\"\"\"\\\n",
    "optimal value: {prob.solve():f}\n",
    "optimal variables: (a Numpy ndarray)\n",
    "    {x.value}\n",
    "\"\"\")"
   ]
  },
  {
   "cell_type": "markdown",
   "metadata": {},
   "source": [
    "### Constraints\n",
    "\n",
    "You can use `==`, `<=`, and `>=` to construct constraints in CVXPY.\n",
    "\n",
    "<u>Equality and inequality constraints are elementwise</u>, whether they involve scalars, vectors, or matrices.\n",
    "\n",
    "- If you want matrix inequalities that represent semidefinite cone constraints, see [Semidefinite matrices](https://www.cvxpy.org/tutorial/advanced/index.html#semidefinite).\n",
    "\n",
    "You <u>cannot construct</u> inequalities with `<` and `>`.\n",
    "\n",
    "You <u>cannot chain</u> constraints together, e.g., `0 <= x <= 1` or `x == y == 2`."
   ]
  },
  {
   "cell_type": "markdown",
   "metadata": {},
   "source": [
    "### Parameters\n",
    "\n",
    "`cvxpy.Parameter`s are symbolic representations of <u>constants</u>.\n",
    "\n",
    "- The purpose of parameters is to <u>change the value of a constant in a problem without reconstructing the entire problem</u>.\n",
    "- In many cases, solving a parametrized program multiple times can be substantially faster than repeatedly solving a new problem.\n",
    "- Be sure to read the tutorial on [Disciplined Parametrized Programming](https://www.cvxpy.org/tutorial/advanced/index.html#dpp) (DPP).\n",
    "\n",
    "Parameters can be vectors or matrices, just like variables.\n",
    "\n",
    "- When you create a parameter you have the option of specifying attributes such as the sign of the parameter's entries, whether the parameter is symmetric, etc. These attributes are used in [Disciplined Convex Programming](https://www.cvxpy.org/tutorial/dcp/index.html#dcp) and are unknown unless specified.\n",
    "\n",
    "Parameters can be assigned a constant value any time after they are created.\n",
    "\n",
    "- The constant value must have the same dimensions and attributes as those specified when the parameter was created."
   ]
  },
  {
   "cell_type": "code",
   "execution_count": 8,
   "metadata": {},
   "outputs": [
    {
     "data": {
      "text/plain": [
       "(Parameter((), nonneg=True), Parameter((5,)), Parameter((4, 7), nonpos=True))"
      ]
     },
     "execution_count": 8,
     "metadata": {},
     "output_type": "execute_result"
    }
   ],
   "source": [
    "# Positive scalar parameter.\n",
    "m = cp.Parameter(nonneg=True)\n",
    "\n",
    "# Column vector parameter with unknown sign (by default).\n",
    "c = cp.Parameter(5)\n",
    "\n",
    "# Matrix parameter with negative entries.\n",
    "G = cp.Parameter((4, 7), nonpos=True)\n",
    "\n",
    "# Assigns a constant value to G.\n",
    "G.value = -np.ones((4, 7))\n",
    "\n",
    "m, c, G"
   ]
  },
  {
   "cell_type": "markdown",
   "metadata": {},
   "source": [
    "You can initialize a parameter with a value. The following code segments are equivalent:"
   ]
  },
  {
   "cell_type": "code",
   "execution_count": 9,
   "metadata": {},
   "outputs": [],
   "source": [
    "# Create parameter, then assign value.\n",
    "rho = cp.Parameter(nonneg=True)\n",
    "rho.value = 2\n",
    "\n",
    "# Initialize parameter with a value.\n",
    "rho = cp.Parameter(nonneg=True, value=2)"
   ]
  },
  {
   "cell_type": "markdown",
   "metadata": {},
   "source": [
    "The example below computes a trade-off curve for a LASSO problem."
   ]
  },
  {
   "cell_type": "code",
   "execution_count": 10,
   "metadata": {},
   "outputs": [
    {
     "data": {
      "image/png": "[encoded data removed]",
      "text/plain": [
       "<Figure size 800x400 with 2 Axes>"
      ]
     },
     "metadata": {},
     "output_type": "display_data"
    }
   ],
   "source": [
    "import numpy as np\n",
    "import cvxpy as cp\n",
    "import matplotlib.pyplot as plt\n",
    "\n",
    "# Problem data.\n",
    "n = 15\n",
    "m = 10\n",
    "\n",
    "rng = np.random.default_rng(1)\n",
    "A = rng.standard_normal((n, m))\n",
    "b = rng.standard_normal(n)\n",
    "\n",
    "# gamma must be nonnegative due to DCP rules.\n",
    "gamma = cp.Parameter(nonneg=True)\n",
    "\n",
    "# Construct the problem.\n",
    "x = cp.Variable(m)\n",
    "error = cp.sum_squares(A @ x - b)\n",
    "\n",
    "objective = cp.Minimize(error + gamma * cp.norm(x, p=1))\n",
    "prob = cp.Problem(objective)\n",
    "\n",
    "# Construct a trade-off curve of ||Ax-b||^2 vs. ||x||_1\n",
    "sq_penalty = []\n",
    "l1_penalty = []\n",
    "x_values = []\n",
    "\n",
    "gamma_vals = np.logspace(-4, 6)\n",
    "for val in gamma_vals:\n",
    "    gamma.value = val\n",
    "    prob.solve()\n",
    "    # Use expr.value to get the numerical value of an expression in the problem.\n",
    "    sq_penalty.append(error.value)\n",
    "    l1_penalty.append(cp.norm(x, p=1).value)\n",
    "    x_values.append(x.value)\n",
    "\n",
    "fig, (ax1, ax2) = plt.subplots(ncols=2, figsize=(8, 4))\n",
    "\n",
    "# Plot trade-off curve.\n",
    "ax1.plot(l1_penalty, sq_penalty)\n",
    "ax1.set_xlabel(\"$\\|x\\|_1$\")\n",
    "ax1.set_ylabel(\"$\\|Ax-b\\|^2$\")\n",
    "ax1.set_title(\"Trade-Off Curve for LASSO\")\n",
    "\n",
    "# Plot entries of x vs. gamma.\n",
    "for i in range(m):\n",
    "    ax2.plot(gamma_vals, [xi[i] for xi in x_values])\n",
    "ax2.set_xscale(\"log\")\n",
    "ax2.set_xlabel(\"$\\gamma$\")\n",
    "ax2.set_ylabel(\"$x_i$\")\n",
    "ax2.set_title(\"Entries of $x$ vs. $\\gamma$\")\n",
    "\n",
    "fig.tight_layout()"
   ]
  },
  {
   "cell_type": "markdown",
   "metadata": {},
   "source": [
    "Trade-off curves can easily be computed in parallel. The code below computes in parallel the optimal x for each \n",
    " in the LASSO problem above."
   ]
  },
  {
   "cell_type": "code",
   "execution_count": 11,
   "metadata": {},
   "outputs": [],
   "source": [
    "from multiprocessing import Pool\n",
    "\n",
    "# Assign a value to gamma and find the optimal x.\n",
    "def get_x(gamma_value):\n",
    "    gamma.value = gamma_value\n",
    "    prob.solve()\n",
    "    return x.value\n",
    "\n",
    "gamma_vals = np.logspace(-4, 6, num=100)"
   ]
  },
  {
   "cell_type": "code",
   "execution_count": 12,
   "metadata": {},
   "outputs": [
    {
     "name": "stdout",
     "output_type": "stream",
     "text": [
      "198 ms ± 789 µs per loop (mean ± std. dev. of 7 runs, 1 loop each)\n"
     ]
    }
   ],
   "source": [
    "# Parallel computation (set to 1 process here).\n",
    "pool = Pool(processes=1)\n",
    "%timeit x_values = pool.map(get_x, gamma_vals)"
   ]
  },
  {
   "cell_type": "code",
   "execution_count": 13,
   "metadata": {},
   "outputs": [
    {
     "name": "stdout",
     "output_type": "stream",
     "text": [
      "32.9 ms ± 2.33 ms per loop (mean ± std. dev. of 7 runs, 10 loops each)\n"
     ]
    }
   ],
   "source": [
    "# Parallel computation (set to 10 process here).\n",
    "pool = Pool(processes=10)\n",
    "%timeit x_values = pool.map(get_x, gamma_vals)"
   ]
  }
 ],
 "metadata": {
  "kernelspec": {
   "display_name": "devel",
   "language": "python",
   "name": "python3"
  },
  "language_info": {
   "codemirror_mode": {
    "name": "ipython",
    "version": 3
   },
   "file_extension": ".py",
   "mimetype": "text/x-python",
   "name": "python",
   "nbconvert_exporter": "python",
   "pygments_lexer": "ipython3",
   "version": "3.12.2"
  }
 },
 "nbformat": 4,
 "nbformat_minor": 2
}
