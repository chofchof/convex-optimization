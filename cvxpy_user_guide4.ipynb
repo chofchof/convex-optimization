{
 "cells": [
  {
   "cell_type": "code",
   "execution_count": 1,
   "metadata": {},
   "outputs": [],
   "source": [
    "# To disable `warnings.warn(ECOS_DEPRECATION_MSG, FutureWarning)`\n",
    "import warnings\n",
    "warnings.filterwarnings('ignore')"
   ]
  },
  {
   "cell_type": "markdown",
   "metadata": {},
   "source": [
    "## 4. Disciplined Quasiconvex Programming\n",
    "\n",
    "__Disciplined quasiconvex programming (DQCP)__ is a generalization of DCP for quasiconvex functions.\n",
    "\n",
    "A function $f$ is __quasiconvex__ if and only if its domain is a convex set and its sublevel sets $\\{x\\mid f(x)\\leq t\\}$ are convex for all $t$. A function $f$ is __quasiconcave__ if $-f$ is quasiconvex.\n",
    "\n",
    "While DCP is a ruleset for constructing convex programs, DQCP is a ruleset for quasiconvex programs (QCPs), which are optimization problems in which the objective is to minimize a quasiconvex function over a convex set.\n",
    "\n",
    "The convex set can be specified using equalities of affine functions and inequalities of convex and concave functions, just as in DCP; additionally, DQCP permits inequalities of the form $f(x)\\leq t$, where $f(x)$ is a quasiconvex expression and $t$ is constant, and $f(x)\\geq t$, where $f(x)$ is quasiconcave and $t$ is constant.\n",
    "\n",
    "Every disciplined convex program is a disciplined quasiconvex program, but the converse is not true.\n",
    "\n",
    "CVXPY lets you form and solve DQCP problems, just as it does for DCP problems. For example, the following code solves a simple QCP"
   ]
  },
  {
   "cell_type": "code",
   "execution_count": 2,
   "metadata": {},
   "outputs": [
    {
     "name": "stdout",
     "output_type": "stream",
     "text": [
      "\n",
      "optimal value: -0.4288817375157048\n",
      "x: 0.49999737143004713\n",
      "y: 1.648717724845007\n",
      "\n"
     ]
    }
   ],
   "source": [
    "import cvxpy as cp\n",
    "\n",
    "x = cp.Variable()\n",
    "y = cp.Variable(pos=True)\n",
    "\n",
    "objective = -cp.sqrt(x) / y\n",
    "prob = cp.Problem(cp.Minimize(objective), [cp.exp(x) <= y])\n",
    "prob.solve(qcp=True)\n",
    "assert prob.is_dqcp()\n",
    "\n",
    "print(f\"\"\"\n",
    "optimal value: {prob.value}\n",
    "x: {x.value}\n",
    "y: {y.value}\n",
    "\"\"\")"
   ]
  },
  {
   "cell_type": "markdown",
   "metadata": {},
   "source": [
    "To solve DQCP problems, you must pass the option `qcp=True` to the `solve()` method.\n",
    "\n",
    "This section explains what DQCP is, and it shows how to construct and solve DQCP problems using CVXPY. At the end of the section are tables listing all the atoms that can be used in DQCP problems, similar to the tables presented in the section on [DCP atoms](https://www.cvxpy.org/tutorial/functions/index.html#functions)."
   ]
  },
  {
   "cell_type": "markdown",
   "metadata": {},
   "source": [
    "### Curvature\n",
    "\n",
    "DQCP adds two new types of curvature to CVXPY: __quasiconvex__ and __quasiconcave__.\n",
    "\n",
    "Every convex function is also quasiconvex, and every concave function is also quasiconcave; the converses of these statements are not true. An expression that is both quasiconvex and quasiconcave is called __quasilinear__.\n",
    "\n",
    "CVXPY's curvature analysis can flag Expressions as unknown even when they are quasiconvex or quasiconcave, but it will never mistakenly flag an expression as quasiconvex or quasiconcave.\n",
    "\n",
    "The curvature of an Expression is stored in its `.curvature` attribute. For example, running the following script"
   ]
  },
  {
   "cell_type": "code",
   "execution_count": 3,
   "metadata": {},
   "outputs": [
    {
     "data": {
      "text/plain": [
       "('AFFINE', 'QUASICONVEX', 'QUASICONCAVE', 'QUASILINEAR')"
      ]
     },
     "execution_count": 3,
     "metadata": {},
     "output_type": "execute_result"
    }
   ],
   "source": [
    "x = cp.Variable(3)\n",
    "y = cp.length(x)\n",
    "z = -y\n",
    "w = cp.ceil(x)\n",
    "\n",
    "x.curvature, y.curvature, z.curvature, w.curvature"
   ]
  },
  {
   "cell_type": "markdown",
   "metadata": {},
   "source": [
    "You can also check the curvature of an Expression by calling the methods `is_quasiconvex()`, `is_quasiconcave()`, and `is_quasilinear()`."
   ]
  },
  {
   "cell_type": "code",
   "execution_count": 4,
   "metadata": {},
   "outputs": [
    {
     "data": {
      "text/plain": [
       "(True, True, True)"
      ]
     },
     "execution_count": 4,
     "metadata": {},
     "output_type": "execute_result"
    }
   ],
   "source": [
    "y.is_quasiconvex(), z.is_quasiconcave(), w.is_quasilinear()"
   ]
  },
  {
   "cell_type": "markdown",
   "metadata": {},
   "source": [
    "### Composition rules\n",
    "\n",
    "DQCP analysis is based on applying a general composition theorem from convex analysis to each expression. An expression is verifiably quasiconvex under DQCP if it is one of the following:\n",
    "\n",
    "- convex (under DCP);\n",
    "- a quasiconvex atom, applied to a variable or constant:\n",
    "- the max (`cp.maximum`) of quasiconvex expressions;\n",
    "- an increasing function of a quasiconvex expression, or a decreasing function of a quasiconcave expression;\n",
    "- an expression of the form $f(e_1,e_2,\\dotsc,e_n)$ such that (1) $f$ is a quasiconvex atom, and (2) for each $i$, $f$ is increasing in argument $i$ and $e_i$ is convex, $f$ is decreasing in argument $i$ and $e_i$ is concave, or $e_i$ is affine.\n",
    "\n",
    "An expression is quasiconcave under DQCP if it is one of the following:\n",
    "\n",
    "- concave (under DCP);\n",
    "- a quasiconcave atom, applied to a variable or constant:\n",
    "- the min (`cp.minimum`) of quasiconcave expressions;\n",
    "- an increasing function of a quasiconcave expression, or a decreasing function of a quasiconvex expression;\n",
    "- an expression of the form $f(e_1,e_2,\\dotsc,e_n)$ such that (1) $f$ is a quasiconcave atom, and (2) for each $i$, $f$ is increasing in argument $i$ and $e_i$ is concave, $f$ is decreasing in argument $i$ and $e_i$ is convex, or $e_i$ is affine.\n",
    "\n",
    "Whether an atom is quasiconvex or quasiconcave may depend on the signs of its arguments. For example, the scalar product $xy$ is quasiconcave when $x$ and $y$ are either both nonnegative or both nonpositive, and quasiconvex when one the arguments is nonnegative and the other is nonpositive.\n",
    "\n",
    "If an Expression satisfies the above rules, we colloquially say that the Expression \"is DQCP.\" You can check whether an Expression is DQCP by calling the method `is_dqcp()`. For example, the assertions in the following code block will pass."
   ]
  },
  {
   "cell_type": "code",
   "execution_count": 5,
   "metadata": {},
   "outputs": [
    {
     "data": {
      "text/plain": [
       "(True, True)"
      ]
     },
     "execution_count": 5,
     "metadata": {},
     "output_type": "execute_result"
    }
   ],
   "source": [
    "x = cp.Variable(pos=True)\n",
    "y = cp.Variable(pos=True)\n",
    "\n",
    "product = cp.multiply(x, y)\n",
    "\n",
    "product.is_quasiconcave(), product.is_dqcp()"
   ]
  },
  {
   "cell_type": "markdown",
   "metadata": {},
   "source": [
    "An Expression is DQCP precisely when it has known curvature, which means at least one of the methods `is_constant()`, `is_affine()`, `is_convex()`, `is_concave()`, `is_quasiconvex()`, `is_quasiconvex()` will return `True`."
   ]
  },
  {
   "cell_type": "markdown",
   "metadata": {},
   "source": [
    "### DQCP problems\n",
    "\n",
    "A Problem is constructed from an objective and a list of constraints. If a problem follows the DQCP rules, it is guaranteed to be a DQCP and solvable by CVXPY (if a solution to the problem exists). The DQCP rules require that the problem objective have one of two forms:\n",
    "\n",
    "- Minimize(quasiconvex)\n",
    "- Maximize(quasiconcave)\n",
    "\n",
    "The only valid constraints under the DQCP rules are\n",
    "\n",
    "- affine `==` affine\n",
    "- convex `<=` concave\n",
    "- concave `>=` convex\n",
    "- quasiconvex `<=` constant\n",
    "- quasiconcave `>=` constant\n",
    "\n",
    "You can check that a problem, constraint, or objective satisfies the DQCP rules by calling `object.is_dqcp()`. Here are some examples of DQCP and non-DQCP problems:"
   ]
  },
  {
   "cell_type": "code",
   "execution_count": 6,
   "metadata": {},
   "outputs": [],
   "source": [
    "# The sign of variables affects curvature analysis.\n",
    "x = cp.Variable(nonneg=True)\n",
    "concave_fractional_fn = x * cp.sqrt(x)\n",
    "constraint = [cp.ceil(x) <= 10]\n",
    "prob = cp.Problem(cp.Maximize(concave_fractional_fn), constraint)\n",
    "assert concave_fractional_fn.is_quasiconcave()\n",
    "assert constraint[0].is_dqcp()\n",
    "assert prob.is_dqcp()\n",
    "\n",
    "w = cp.Variable()\n",
    "fn = w * cp.sqrt(w)\n",
    "prob = cp.Problem(cp.Maximize(fn))\n",
    "assert not fn.is_dqcp()\n",
    "assert not prob.is_dqcp()"
   ]
  },
  {
   "cell_type": "markdown",
   "metadata": {},
   "source": [
    "CVXPY will raise an exception if you call `prob.solve(qcp=True)` on a non-DQCP problem."
   ]
  },
  {
   "cell_type": "markdown",
   "metadata": {},
   "source": [
    "### DQCP atoms\n",
    "\n",
    "Quasiconvex and quasiconcave expressions can be constructed using convex and concave atoms, using the curvature rules given above. This section describes new semantics for some existing atoms under DQCP, and introduces new atoms that are quasiconvex or quasiconcave (but not convex or concave). Many of these new atoms are integer-valued.\n",
    "\n",
    "__Ratio.__ The infix operator `/` is an atom, denoting ratio. This atom is both quasiconvex and quasiconcave when the denominator is known to be either nonnegative or nonpositive. The ratio `x / y` is increasing in `x` when `y` is nonnegative, increasing in `y` when `x` is nonpositive, decreasing in `x` when `y` is nonpositive, and decreasing in `y` when `x` is nonnegative.\n",
    "\n",
    "The ratio atom can be used with the composition rule to construct interesting quasiconvex and quasiconcave expressions. For example, the ratio of a nonnegative concave function and a positive convex function is quasiconcave, and the ratio of a nonnegative convex function and a positive concave function is quasiconvex. Similarly, the ratio of two affine functions is quasilinear when the denominator is positive.\n",
    "\n",
    "__Scalar product.__ The scalar product `*` is quasiconvex when one of its arguments is nonnegative and the other is nonpositive, and it is quasiconcave when its arguments are both nonnegative or both nonpositive. Hence, by the composition rule, the product of two nonnegative concave functions is quasiconcave, and the product of a nonnegative concave function and a nonpositive convex function is quasiconvex.\n",
    "\n",
    "__Distance ratio function.__ The atom `cp.dist_ratio(x, a, b)` denotes the function $\\|x-a\\|_2/\\|x-b\\|_2$, implicitly enforcing the constraint that $\\|x-a\\|_2\\leq\\|x-b\\|_2$. The expressions `a` and `b` must be constants. This atom is quasiconvex.\n",
    "\n",
    "__Maximum generalized eigenvalue.__ The atom `cp.gen_lambda_max(A, B)` computes the maximum generalized eigenvalue of `A` and `B`, defined as the maximum $\\lambda\\in\\mathbb{R}$ such that $Ax=\\lambda Bx$ for some $x$. This atom is quasiconvex, and it enforces the constraint that `A` is symmetric and `B` is positive definite.\n",
    "\n",
    "__Condition Number.__ The atom `cp.condition_number(A)` computes the condition number of `A`, defined as the $\\lambda_\\text{max}(A)/\\lambda_\\text{min}(A)$. This atom is quasiconvex, and it enforces the constraint that `A` is symmetric and positive definite.\n",
    "\n",
    "__Ceiling and floor.__ The atoms `cp.ceil(x)` and `cp.floor(x)` are quasilinear, and increasing in their arguments.\n",
    "\n",
    "__Sign.__ The atoms `cp.sign(x)`, which returns `-1` for `x <= 0` and `+1` for `x > 0`, is quasilinear.\n",
    "\n",
    "__Length of a vector.__ The atoms `cp.length(x)`, which returns the index of the last nonzero element in $\\mathbb{R}^n$, is quasiconvex.\n",
    "\n",
    "### Solving DQCP problems\n",
    "\n",
    "A DQCP problem `prob` can be solved by calling `prob.solve(qcp=True)`. CVXPY uses a bisection method on the optimal value of the problem to solve QCPs, and it will automatically find an upper and lower bound for the bisection. You can optionally provide your own upper and lower bound when solving a QCP, which can sometimes be helpful. You can provide these bounds via the keyword arguments `low` and `high`; for example, `prob.solve(qcp=True, low=12, high=17)` would limit the bisection to objective values that are greater than 12 and less than 17.\n",
    "\n",
    "Bisection involves solving a sequence of optimization problems. If your problem is ill-conditioned, or if you’re unlucky, a solver might fail to solve one of these subproblems, which will result in an error. If this happens, you can try using a different solver via the `solver` keyword argument. For example, `prob.solve(qcp=True, solver=cp.SCS)`. To obtain verbose output describing the bisection, supply the keyword argument `verbose=True` to the solve method. For example, `prob.solve(qcp=True, verbose=True)`."
   ]
  }
 ],
 "metadata": {
  "kernelspec": {
   "display_name": "devel",
   "language": "python",
   "name": "python3"
  },
  "language_info": {
   "codemirror_mode": {
    "name": "ipython",
    "version": 3
   },
   "file_extension": ".py",
   "mimetype": "text/x-python",
   "name": "python",
   "nbconvert_exporter": "python",
   "pygments_lexer": "ipython3",
   "version": "3.12.2"
  }
 },
 "nbformat": 4,
 "nbformat_minor": 2
}
