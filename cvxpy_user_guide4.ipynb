{
 "cells": [
  {
   "cell_type": "code",
   "execution_count": 1,
   "metadata": {},
   "outputs": [],
   "source": [
    "# To disable `warnings.warn(ECOS_DEPRECATION_MSG, FutureWarning)`\n",
    "import warnings\n",
    "warnings.filterwarnings('ignore')"
   ]
  },
  {
   "cell_type": "markdown",
   "metadata": {},
   "source": [
    "## 4. Disciplined Quasiconvex Programming\n",
    "\n",
    "__Disciplined quasiconvex programming (DQCP)__ is a generalization of DCP for <u>quasiconvex functions</u>.\n",
    "\n",
    "- $f$ is __quasiconvex__ if and only if its domain and its sublevel sets $S_t=\\{x\\mid f(x)\\leq t\\}$ are convex for all $t$.\n",
    "- $f$ is __quasiconcave__ if $-f$ is quasiconvex.\n",
    "- $f$ is __quasilinear__ if $f$ is both quasiconvex and quasiconcave.\n",
    "\n",
    "While DCP is a ruleset for constructing convex programs, DQCP is a ruleset for __quasiconvex programs (QCPs)__.\n",
    "\n",
    "- The <u>objective</u> of QCP is to minimize a <u>quasiconvex function over a convex set</u>.\n",
    "- The convex set can be specified using <u>equalities of affine functions</u> and <u>inequalities of convex and concave functions</u>.\n",
    "\n",
    "Additionally, <u>DQCP permits inequalities</u> of the form\n",
    "\n",
    "- $f(x)\\leq t$, where $f(x)$ is <u>quasiconvex</u> and $t$ is <u>constant</u>, and\n",
    "- $f(x)\\geq t$, where $f(x)$ is <u>quasiconcave</u> and $t$ is <u>constant</u>.\n",
    "\n",
    "CVXPY lets you form and solve DQCP problems, just as it does for DCP problems.\n",
    "To solve DQCP problems, you must pass the option `qcp=True` to the `solve()` method."
   ]
  },
  {
   "cell_type": "code",
   "execution_count": 2,
   "metadata": {},
   "outputs": [
    {
     "name": "stdout",
     "output_type": "stream",
     "text": [
      "\n",
      "The optimal value is -0.428882.\n",
      "A solution (x, y) is (0.499997, 1.648718).\n",
      "\n"
     ]
    }
   ],
   "source": [
    "import cvxpy as cp\n",
    "\n",
    "x = cp.Variable()\n",
    "y = cp.Variable(pos=True)\n",
    "\n",
    "objective = -cp.sqrt(x) / y\n",
    "prob = cp.Problem(cp.Minimize(objective), [cp.exp(x) <= y])\n",
    "prob.solve(qcp=True)\n",
    "assert prob.is_dqcp()\n",
    "\n",
    "print(f\"\"\"\n",
    "The optimal value is {prob.value:f}.\n",
    "A solution (x, y) is ({x.value:f}, {y.value:f}).\n",
    "\"\"\")"
   ]
  },
  {
   "cell_type": "markdown",
   "metadata": {},
   "source": [
    "### Curvature\n",
    "\n",
    "DQCP adds new types of curvature to CVXPY: __quasiconvex__, __quasiconcave__, and __quasilinear__.\n",
    "\n",
    "CVXPY's curvature analysis can flag Expressions as __unknown__ even when they are quasiconvex or quasiconcave, but it will never mistakenly flag an expression as quasiconvex or quasiconcave.\n",
    "\n",
    "The curvature of an Expression is stored in its `.curvature` attribute."
   ]
  },
  {
   "cell_type": "code",
   "execution_count": 3,
   "metadata": {},
   "outputs": [
    {
     "data": {
      "text/plain": [
       "('AFFINE', 'QUASICONVEX', 'QUASICONCAVE', 'QUASILINEAR')"
      ]
     },
     "execution_count": 3,
     "metadata": {},
     "output_type": "execute_result"
    }
   ],
   "source": [
    "x = cp.Variable(3)\n",
    "y = cp.length(x)\n",
    "z = -y\n",
    "w = cp.ceil(x)\n",
    "\n",
    "x.curvature, y.curvature, z.curvature, w.curvature"
   ]
  },
  {
   "cell_type": "markdown",
   "metadata": {},
   "source": [
    "You can also check the curvature of an Expression by calling the methods `is_quasiconvex()`, `is_quasiconcave()`, and `is_quasilinear()`."
   ]
  },
  {
   "cell_type": "code",
   "execution_count": 4,
   "metadata": {},
   "outputs": [
    {
     "data": {
      "text/plain": [
       "(True, True, True)"
      ]
     },
     "execution_count": 4,
     "metadata": {},
     "output_type": "execute_result"
    }
   ],
   "source": [
    "y.is_quasiconvex(), z.is_quasiconcave(), w.is_quasilinear()"
   ]
  },
  {
   "cell_type": "markdown",
   "metadata": {},
   "source": [
    "### Composition rules\n",
    "\n",
    "DQCP analysis is based on applying a general composition theorem from convex analysis to each expression.\n",
    "\n",
    "An expression is verifiably __quasiconvex__ under DQCP if it is one of the following:\n",
    "\n",
    "- convex (under DCP);\n",
    "- a quasiconvex atom, applied to a variable or constant:\n",
    "- the max (`cvxpy.maximum`) of quasiconvex expressions;\n",
    "- an increasing function of a quasiconvex expression, or a decreasing function of a quasiconcave expression;\n",
    "- an expression of the form $f(e_1,e_2,\\dotsc,e_n)$ such that\n",
    "    1. $f$ is a quasiconvex atom, and\n",
    "    2. $f$ is increasing in $x_i$ and $e_i$ is convex, $f$ is decreasing in $x_i$ and $e_i$ is concave, or $e_i$ is affine, for each $i$.\n",
    "\n",
    "An expression is __quasiconcave__ under DQCP if it is one of the following:\n",
    "\n",
    "- concave (under DCP);\n",
    "- a quasiconcave atom, applied to a variable or constant:\n",
    "- the min (`cvxpy.minimum`) of quasiconcave expressions;\n",
    "- an increasing function of a quasiconcave expression, or a decreasing function of a quasiconvex expression;\n",
    "- an expression of the form $f(e_1,e_2,\\dotsc,e_n)$ such that\n",
    "    1. $f$ is a quasiconcave atom, and\n",
    "    2. $f$ is increasing in $x_i$ and $e_i$ is concave, $f$ is decreasing in $x_i$ and $e_i$ is convex, or $e_i$ is affine, for each $i$.\n",
    "\n",
    "<u>Whether an atom is quasiconvex or quasiconcave may depend on the signs of its arguments</u>. For example,\n",
    "\n",
    "- $xy$ is quasiconvex when one of $x$ and $y$ is nonnegative and the other is nonpositive.\n",
    "- $xy$ is quasiconcave when $x$ and $y$ are either both nonnegative or both nonpositive"
   ]
  },
  {
   "cell_type": "code",
   "execution_count": 5,
   "metadata": {},
   "outputs": [
    {
     "data": {
      "text/plain": [
       "(True, False, True)"
      ]
     },
     "execution_count": 5,
     "metadata": {},
     "output_type": "execute_result"
    }
   ],
   "source": [
    "x = cp.Variable(nonneg=True)\n",
    "y = cp.Variable(nonpos=True)\n",
    "\n",
    "product = cp.multiply(x, y)\n",
    "\n",
    "product.is_quasiconvex(), product.is_quasiconcave(), product.is_dqcp()"
   ]
  },
  {
   "cell_type": "code",
   "execution_count": 6,
   "metadata": {},
   "outputs": [
    {
     "data": {
      "text/plain": [
       "(False, True, True)"
      ]
     },
     "execution_count": 6,
     "metadata": {},
     "output_type": "execute_result"
    }
   ],
   "source": [
    "x = cp.Variable(nonneg=True)\n",
    "y = cp.Variable(nonneg=True)\n",
    "\n",
    "product = cp.multiply(x, y)\n",
    "\n",
    "product.is_quasiconvex(), product.is_quasiconcave(), product.is_dqcp()"
   ]
  },
  {
   "cell_type": "markdown",
   "metadata": {},
   "source": [
    "If an Expression satisfies the above rules, we say that the Expression \"__is DQCP__.\"\n",
    "\n",
    "- You can check whether an Expression __is DQCP__ by calling the method `is_dqcp()`.\n",
    "- An Expression __is DQCP__ precisely when it has known curvature.\n",
    "- It means at least one of the methods `is_constant()`, `is_affine()`, `is_convex()`, `is_concave()`, `is_quasiconvex()`, `is_quasiconvex()` will return `True`."
   ]
  },
  {
   "cell_type": "markdown",
   "metadata": {},
   "source": [
    "### DQCP problems\n",
    "\n",
    "If a problem follows the DQCP rules, it is guaranteed to be a DQCP and solvable by CVXPY (if a solution to the problem exists).\n",
    "\n",
    "The DQCP rules require that the problem __objective__ have one of two forms:\n",
    "\n",
    "- Minimize (quasiconvex)\n",
    "- Maximize (quasiconcave)\n",
    "\n",
    "The only valid __constraints__ under the DQCP rules are\n",
    "\n",
    "- affine `==` affine\n",
    "- convex `<=` concave\n",
    "- concave `>=` convex\n",
    "- quasiconvex `<=` constant\n",
    "- quasiconcave `>=` constant\n",
    "\n",
    "You can check that a problem, constraint, or objective satisfies the DQCP rules by calling the method `is_dqcp()`.\n",
    "\n",
    "CVXPY will raise an exception if you call the method `solve(qcp=True)` on a non-DQCP problem."
   ]
  },
  {
   "cell_type": "code",
   "execution_count": 7,
   "metadata": {},
   "outputs": [
    {
     "data": {
      "text/plain": [
       "('QUASICONCAVE', True, True)"
      ]
     },
     "execution_count": 7,
     "metadata": {},
     "output_type": "execute_result"
    }
   ],
   "source": [
    "# The sign of variables affects curvature analysis.\n",
    "x = cp.Variable(nonneg=True)\n",
    "concave_fractional_fn = x * cp.sqrt(x) # quasiconcave\n",
    "constraint = [cp.ceil(x) <= 10] # ceil is quasilinear\n",
    "prob = cp.Problem(cp.Maximize(concave_fractional_fn), constraint)\n",
    "\n",
    "concave_fractional_fn.curvature, constraint[0].is_dqcp(), prob.is_dqcp()"
   ]
  },
  {
   "cell_type": "code",
   "execution_count": 8,
   "metadata": {},
   "outputs": [
    {
     "data": {
      "text/plain": [
       "('QUASICONCAVE', True, True)"
      ]
     },
     "execution_count": 8,
     "metadata": {},
     "output_type": "execute_result"
    }
   ],
   "source": [
    "# Try without the sign \"nonneg=True\"\n",
    "w = cp.Variable(nonneg=True)\n",
    "fn = w * cp.sqrt(w) # quasiconcave\n",
    "prob = cp.Problem(cp.Maximize(fn))\n",
    "\n",
    "fn.curvature, fn.is_dqcp(), prob.is_dqcp()"
   ]
  },
  {
   "cell_type": "markdown",
   "metadata": {},
   "source": [
    "### DQCP atoms\n",
    "\n",
    "Quasiconvex and quasiconcave expressions can be constructed using convex and concave atoms, using the curvature rules given above.\n",
    "\n",
    "We introduces new atoms that are quasiconvex or quasiconcave (but not convex or concave). Many of these new atoms are integer-valued.\n",
    "\n",
    "#### Ratio\n",
    "\n",
    "- `x / y` is both __quasiconvex and quasiconcave__ when the denominator is known to be either nonnegative or nonpositive.\n",
    "- `x / y` is __increasing in__ `x` when `y` is nonnegative, __increasing in__ `y` when `x` is nonpositive, __decreasing in__ `x` when `y` is nonpositive, and __decreasing in__ `y` when `x` is nonnegative.\n",
    "- The ratio of a nonnegative concave function and a positive convex function is __quasiconcave__.\n",
    "- The ratio of a nonnegative convex function and a positive concave function is __quasiconvex__.\n",
    "- The ratio of two affine functions is __quasilinear__ when the denominator is positive.\n",
    "\n",
    "#### Scalar product\n",
    "\n",
    "- `x * y` is __quasiconvex__ when one of its arguments is nonnegative and the other is nonpositive.\n",
    "- `x * y` is __quasiconcave__ when its arguments are both nonnegative or both nonpositive.\n",
    "- The product of two nonnegative concave functions is __quasiconcave__.\n",
    "- The product of a nonnegative concave function and a nonpositive convex function is __quasiconvex__.\n",
    "\n",
    "#### Distance ratio function\n",
    "\n",
    "- `cvxpy.dist_ratio(x, a, b)` denotes the function $\\|x-a\\|_2/\\|x-b\\|_2$.\n",
    "- This atom is __quasiconvex__.\n",
    "- It enforces the constraint that $\\|x-a\\|_2\\leq\\|x-b\\|_2$.\n",
    "- The expressions `a` and `b` must be constants.\n",
    "\n",
    "#### Maximum generalized eigenvalue\n",
    "\n",
    "- `cvxpy.gen_lambda_max(A, B)` computes the maximum generalized eigenvalue of `A` and `B`.\n",
    "- It is defined as the maximum $\\lambda\\in\\mathbb{R}$ such that $Ax=\\lambda Bx$ for some $x$.\n",
    "- This atom is __quasiconvex__.\n",
    "- It enforces the constraint that `A` is symmetric and `B` is positive definite.\n",
    "\n",
    "#### Condition Number\n",
    "\n",
    "- `cvxpy.condition_number(A)` computes the condition number of `A`.\n",
    "- It is defined as the $\\lambda_\\text{max}(A)/\\lambda_\\text{min}(A)$.\n",
    "- This atom is __quasiconvex__.\n",
    "- It enforces the constraint that `A` is symmetric and positive definite.\n",
    "\n",
    "#### Ceiling and floor\n",
    "\n",
    "- `cvxpy.ceil(x)` and `cvxpy.floor(x)` are __quasilinear__, and __increasing__ in their arguments.\n",
    "\n",
    "#### Sign\n",
    "\n",
    "- `cvxpy.sign(x)` returns `-1` for `x <= 0` and `+1` for `x > 0`.\n",
    "- This atom is __quasilinear__.\n",
    "\n",
    "#### Length of a vector\n",
    "\n",
    "- `cp.length(x)` returns the index of the last nonzero element in $\\mathbb{R}^n$.\n",
    "- This atom is __quasiconvex__."
   ]
  },
  {
   "cell_type": "markdown",
   "metadata": {},
   "source": [
    "### Solving DQCP problems\n",
    "\n",
    "A DQCP problem can be solved by calling the method `solve(qcp=True)`.\n",
    "\n",
    "CVXPY uses a __bisection method__ on the optimal value of the problem to solve QCPs.\n",
    "\n",
    "- It will automatically find an upper and lower bound for the bisection.\n",
    "- You can optionally provide your own upper and lower bound when solving a QCP, which can sometimes be helpful.\n",
    "- For example, `solve(qcp=True, low=12, high=17)` would limit the bisection to objective values that are greater than 12 and less than 17.\n",
    "\n",
    "Bisection involves solving a sequence of optimization problems.\n",
    "\n",
    "- If your problem is ill-conditioned, or if you’re unlucky, a solver might fail to solve one of these subproblems, which will result in an error.\n",
    "- If this happens, you can try using a different solver via the `solver` keyword argument. For example, `solve(qcp=True, solver=cp.SCS)`.\n",
    "- [__SCS__](https://github.com/cvxgrp/scs) (Splitting Conic Solver) is a numerical optimization package for solving large-scale convex cone problems, which is included in CVXPY.\n",
    "\n",
    "To obtain verbose output describing the bisection, supply the keyword argument `verbose=True` to the solve method. For example, `solve(qcp=True, verbose=True)`."
   ]
  },
  {
   "cell_type": "markdown",
   "metadata": {},
   "source": [
    "## Examples\n",
    "\n",
    "### Concave fractional optimization\n",
    "\n",
    "The objective of __concave fractional problem__ is to maximize the ratio of a nonnegative concave function and a positive convex function.\n",
    "Concave fractional problems are __quasiconvex programs (QCPs)__.\n",
    "\n",
    "Our goal is to maximize $\\dfrac{\\sqrt{x}}{e^x}$. This function is not concave, but it is __quasiconcave__ (actually, __quasilinear__)."
   ]
  },
  {
   "cell_type": "code",
   "execution_count": 9,
   "metadata": {},
   "outputs": [
    {
     "data": {
      "image/png": "[encoded data removed]",
      "text/plain": [
       "<Figure size 640x480 with 1 Axes>"
      ]
     },
     "metadata": {},
     "output_type": "display_data"
    }
   ],
   "source": [
    "import numpy as np\n",
    "import cvxpy as cp\n",
    "import matplotlib.pyplot as plt\n",
    "\n",
    "x = np.linspace(0, 10, num=101)\n",
    "y = np.sqrt(x) / np.exp(x)\n",
    "\n",
    "_, ax = plt.subplots()\n",
    "ax.plot(x, y)\n",
    "ax.set_xlabel(\"$x$\")\n",
    "ax.set_ylabel(\"$\\sqrt{x}/e^x$\");"
   ]
  },
  {
   "cell_type": "code",
   "execution_count": 10,
   "metadata": {},
   "outputs": [
    {
     "name": "stdout",
     "output_type": "stream",
     "text": [
      "\n",
      "The optimal value is 0.428882\n",
      "A solution is 0.500002\n",
      "\n"
     ]
    }
   ],
   "source": [
    "x = cp.Variable()\n",
    "prob = cp.Problem(cp.Maximize(cp.sqrt(x) / cp.exp(x)))\n",
    "assert prob.is_dqcp()\n",
    "prob.solve(qcp=True)\n",
    "\n",
    "print(f\"\"\"\n",
    "The optimal value is {prob.value:f}\n",
    "A solution is {x.value:f}\n",
    "\"\"\")"
   ]
  },
  {
   "cell_type": "code",
   "execution_count": 11,
   "metadata": {},
   "outputs": [
    {
     "data": {
      "image/png": "[encoded data removed]",
      "text/plain": [
       "<Figure size 640x480 with 1 Axes>"
      ]
     },
     "metadata": {},
     "output_type": "display_data"
    }
   ],
   "source": [
    "x = np.linspace(0, 2, num=101)\n",
    "y = np.sqrt(x) / np.exp(x)\n",
    "\n",
    "_, ax = plt.subplots()\n",
    "ax.plot(x, y)\n",
    "ax.set_xlabel(\"$x$\")\n",
    "ax.set_ylabel(\"$\\sqrt{x}/e^x$\");"
   ]
  },
  {
   "cell_type": "markdown",
   "metadata": {},
   "source": [
    "### Minimum-length least squares\n",
    "\n",
    "Recall that `cp.length(x)` returns the index of the last nonzero element in $\\mathbb{R}^n$.\n",
    "\n",
    "A __minimum-length least squares problem__ finds a minimum-length vector achieving small mean-square error (MSE) for a particular least squares problem\n",
    "$$\n",
    "\\begin{align*}\n",
    "\\text{minimize} &\\qquad \\operatorname{len}(x) \\\\\n",
    "\\text{subject to} &\\qquad \\frac{\\|Ax-b\\|_2^2}{n} \\leq \\epsilon,\n",
    "\\end{align*}\n",
    "$$\n",
    "where $n$, $A$, $b$, and $\\epsilon$ are the problem data, and $x$ is the problem variable.\n",
    "\n",
    "This is a __quasiconvex program (QCP)__."
   ]
  },
  {
   "cell_type": "code",
   "execution_count": 12,
   "metadata": {},
   "outputs": [
    {
     "name": "stdout",
     "output_type": "stream",
     "text": [
      "\n",
      "An optimal value is 8.0\n",
      "A solution is [ 2.02671669e-01  5.13387830e-01  7.17486951e-01 -1.50132021e+00\n",
      "  9.34419350e-01  6.23763505e-01 -1.62427345e+00  6.54650603e-01\n",
      " -6.94751306e-17 -1.58546071e-16]\n",
      "x_star is [ 0.34558419  0.82161814  0.33043708 -1.30315723  0.90535587  0.44637457\n",
      " -0.53695324  0.5811181   0.3645724   0.2941325 ]\n",
      "MSE is 0.0007399337899782794    \n",
      "\n"
     ]
    }
   ],
   "source": [
    "import numpy as np\n",
    "import cvxpy as cp\n",
    "\n",
    "n = 10\n",
    "\n",
    "rng = np.random.default_rng(1)\n",
    "\n",
    "x_star = rng.standard_normal(n)\n",
    "A = rng.standard_normal((n, n))\n",
    "b = A @ x_star\n",
    "epsilon = 1e-2\n",
    "\n",
    "x = cp.Variable(n)\n",
    "mse = cp.sum_squares(A @ x - b) / n\n",
    "prob = cp.Problem(\n",
    "    cp.Minimize(cp.length(x)), [mse <= epsilon]\n",
    ")\n",
    "assert prob.is_dqcp()\n",
    "prob.solve(qcp=True)\n",
    "\n",
    "print(f\"\"\"\n",
    "An optimal value is {prob.value}\n",
    "A solution is {x.value}\n",
    "x_star is {x_star}\n",
    "MSE is {mse.value}    \n",
    "\"\"\")"
   ]
  },
  {
   "cell_type": "markdown",
   "metadata": {},
   "source": [
    "### Aerospace Design via Quasiconvex Optimization\n",
    "\n",
    "Consider a triangle, or a wedge, located within a hypersonic(초음속) flow.\n",
    "\n",
    "![](https://upload.wikimedia.org/wikipedia/commons/thumb/9/9c/Airfoil_lift_and_drag.svg/390px-Airfoil_lift_and_drag.svg.png)\n",
    "\n",
    "A standard __aerospace design optimization problem__ is to design the wedge to <u>maximize the lift-to-drag ratio</u> $L/D$ subject to certain geometric constraints.\n",
    "\n",
    "In this example, the wedge is known to have a <u>constant hypotenuse</u>, and our job is to choose its width and height.\n",
    "\n",
    "The __drag-to-lift ratio__ is given by $\\dfrac{D}{L} = \\dfrac{c_d}{c_l}$, where $c_d$ and $c_l$ are __drag and lift coefficients__, respectively, that are obtained by integrating the projection of the __pressure coefficient__ in directions parallel to, and perpendicular to, the body.\n",
    "$$\n",
    "c_d = \\frac{1}{c}\\int_0^s-c_p\\hat n_x\\,ds = -\\frac{s}{c} c_p\\hat n_x \\quad\\text{and}\\quad\n",
    "c_l = \\frac{1}{c}\\int_0^s-c_p\\hat n_y\\,ds = -\\frac{s}{c} c_p\\hat n_y\n",
    "$$\n",
    "where $c$ is the reference chord length of the body.\n",
    "\n",
    "- We assume the pressure coefficient is given by the Newtonian sine-squared law for wetted areas (the surface area that interacts with the working fluid) of the body $c_p = 2(\\hat v\\cdot\\hat n)^2$ and elsewhere $c_p=0$.\n",
    "- We assume the free stream direction is parallel to the body so that $\\hat v=\\langle 1,0\\rangle$.\n",
    "- For a wedge defined by width $\\Delta x$, height $\\Delta y$, and the hypotenuse length $s$, the local unit normal is $\\hat n=\\langle -\\frac{\\Delta y}{s},-\\frac{\\Delta x}{s} \\rangle$.\n",
    "\n",
    "Assuming $s=1$, so that $\\Delta y=\\sqrt{1-(\\Delta x)^2}$, we obtain the __objective__ function\n",
    "$$\n",
    "\\frac{D}{L} = \\frac{\\Delta y}{\\Delta x} = \\frac{\\sqrt{1-(\\Delta x)^2}}{\\Delta x} = \\sqrt{\\frac{1}{(\\Delta x)^2}-1}.\n",
    "$$. \n",
    "<u>This function is representable as a DQCP, quasilinear function</u>."
   ]
  },
  {
   "cell_type": "code",
   "execution_count": 13,
   "metadata": {},
   "outputs": [
    {
     "data": {
      "image/png": "[encoded data removed]",
      "text/plain": [
       "<Figure size 640x480 with 1 Axes>"
      ]
     },
     "metadata": {},
     "output_type": "display_data"
    }
   ],
   "source": [
    "import numpy as np\n",
    "import matplotlib.pyplot as plt\n",
    "\n",
    "x = np.linspace(0.25, 1, num=201)\n",
    "y = [np.sqrt(1. / xi**2 - 1) for xi in x]\n",
    "\n",
    "_, ax = plt.subplots()\n",
    "ax.plot(x, y)\n",
    "ax.set_xlabel(\"$\\Delta x$\")\n",
    "ax.set_ylabel(\"$\\sqrt{1/(\\Delta x)^2 - 1}$\");"
   ]
  },
  {
   "cell_type": "markdown",
   "metadata": {},
   "source": [
    "Minimizing this objective function subject to constraints representing payload requirements is a standard aerospace design problem.\n",
    "\n",
    "In this case we will consider the __constraint__ that <u>the wedge must be able to contain a rectangle of given length and width internally along its hypotenuse</u>.\n",
    "$$\n",
    "\\frac{a}{\\Delta x} - (1-b)\\Delta y \\leq 0\n",
    "$$\n",
    "This is representable as a convex constraint."
   ]
  },
  {
   "cell_type": "code",
   "execution_count": 14,
   "metadata": {},
   "outputs": [
    {
     "data": {
      "text/plain": [
       "(Expression(QUASILINEAR, NONNEGATIVE, ()),\n",
       " [Inequality(Expression(CONVEX, UNKNOWN, ()))])"
      ]
     },
     "execution_count": 14,
     "metadata": {},
     "output_type": "execute_result"
    }
   ],
   "source": [
    "import cvxpy as cp\n",
    "\n",
    "x = cp.Variable(pos=True)\n",
    "objective = cp.sqrt(cp.inv_pos(cp.square(x)) - 1)\n",
    "\n",
    "a = .05 # USER INPUT: height of rectangle, should be at most b\n",
    "b = .65 # USER INPUT: width    of rectangle\n",
    "constraint = [\n",
    "    a * cp.inv_pos(x) - (1 - b) * cp.sqrt(1 - cp.square(x)) <= 0\n",
    "]\n",
    "objective, constraint"
   ]
  },
  {
   "cell_type": "markdown",
   "metadata": {},
   "source": [
    "### BUG\n",
    "\n",
    "There is an issue in the `dqcp2dcp` reduction.\n",
    "\n",
    "https://github.com/cvxpy/cvxpy/issues/2165"
   ]
  },
  {
   "cell_type": "code",
   "execution_count": 15,
   "metadata": {},
   "outputs": [
    {
     "name": "stdout",
     "output_type": "stream",
     "text": [
      "===============================================================================\n",
      "                                     CVXPY                                     \n",
      "                                     v1.4.2                                    \n",
      "===============================================================================\n",
      "(CVXPY) Apr 01 11:19:00 AM: Your problem has 1 variables, 1 constraints, and 0 parameters.\n",
      "(CVXPY) Apr 01 11:19:00 AM: It is compliant with the following grammars: DQCP\n",
      "(CVXPY) Apr 01 11:19:00 AM: (If you need to solve this problem multiple times, but with different data, consider using parameters.)\n",
      "(CVXPY) Apr 01 11:19:00 AM: CVXPY will first compile your problem; then, it will invoke a numerical solver to obtain a solution.\n",
      "(CVXPY) Apr 01 11:19:00 AM: Your problem is compiled with the CPP canonicalization backend.\n",
      "(CVXPY) Apr 01 11:19:00 AM: Reducing DQCP problem to a one-parameter family of DCP problems, for bisection.\n",
      "\n",
      "********************************************************************************\n",
      "Preparing to bisect problem\n",
      "\n",
      "minimize 0.0\n",
      "subject to 0.05 @ var2884 + -0.35 @ var2911 <= 0.0\n",
      "           SOC(reshape(var2865 + var2884, (1,), F), Vstack(reshape(var2865 + -var2884, (1, 1), F), reshape(2.0 @ 1.0, (1, 1), F)))\n",
      "           SOC(reshape(var2897 + 1.0, (1,), F), Vstack(reshape(var2897 + -1.0, (1, 1), F), reshape(2.0 @ var2865, (1, 1), F)))\n",
      "           SOC(reshape(1.0 + -var2897 + 1.0, (1,), F), Vstack(reshape(1.0 + -var2897 + -1.0, (1, 1), F), reshape(2.0 @ var2911, (1, 1), F)))\n",
      "           var2980 <= var2865\n",
      "           SOC(reshape(var2955 + 1.0, (1,), F), Vstack(reshape(var2955 + -1.0, (1, 1), F), reshape(2.0 @ param2929, (1, 1), F)))\n",
      "           SOC(reshape(var2955 + --1.0 + var2968, (1,), F), Vstack(reshape(var2955 + --1.0 + -var2968, (1, 1), F), reshape(2.0 @ 1.0, (1, 1), F)))\n",
      "           SOC(reshape(var2968 + 1.0, (1,), F), Vstack(reshape(var2968 + -1.0, (1, 1), F), reshape(2.0 @ var2980, (1, 1), F)))\n",
      "\n",
      "Finding interval for bisection ...\n",
      "initial lower bound: 0.000000\n",
      "initial upper bound: 1.000000\n",
      "\n",
      "(iteration 0) lower bound: 0.000000\n",
      "(iteration 0) upper bound: 1.000000\n",
      "(iteration 0) query point: 0.500000 \n",
      "(iteration 0) query was feasible. Solution(status=optimal, opt_val=0.0, primal_vars={2884: array(1.97583409), 2911: array(0.55959044), 2865: 0.5880799509237443, 2897: array(0.48872856), 2980: array(-0.04860681), 2955: array(0.71591535), 2968: array(1.20661455)}, dual_vars={2882: 2.232598974401507e-09, 2893: array([ 4.37332197e-10,  2.65421546e-10, -2.73931765e-10]), 2906: array([ 3.45144014e-10,  1.71878260e-10, -2.74175915e-10]), 2920: array([ 3.56521609e-10,  1.60471054e-10, -3.01456953e-10]), 2953: 1.8733478116654674e-10, 2964: array([ 6.42248219e-11,  3.22994952e-11, -9.43910868e-12]), 2977: array([ 8.56903154e-11, -1.05295501e-11, -5.17817637e-11]), 2989: array([ 2.65236090e-11,  1.57229455e-11, -8.29256113e-12])}, attr={'solve_time': 5.8486e-05, 'setup_time': 2.4678e-05, 'num_iters': 6, 'solver_specific_stats': {'x': array([ 0.58807995,  1.97583409,  0.55959044,  0.48872856, -0.04860681,\n",
      "        0.71591535,  1.20661455]), 'y': array([], dtype=float64), 'z': array([ 1.51613531e-10,  2.23259897e-09,  1.87334781e-10,  4.37332197e-10,\n",
      "        2.65421546e-10, -2.73931765e-10,  3.45144014e-10,  1.71878260e-10,\n",
      "       -2.74175915e-10,  3.56521609e-10,  1.60471054e-10, -3.01456953e-10,\n",
      "        6.42248219e-11,  3.22994952e-11, -9.43910868e-12,  8.56903154e-11,\n",
      "       -1.05295501e-11, -5.17817637e-11,  2.65236090e-11,  1.57229455e-11,\n",
      "       -8.29256113e-12]), 's': array([ 0.58807995,  0.09706495,  0.63668676,  2.56391404, -1.38775414,\n",
      "        2.        ,  1.48872856, -0.51127144,  1.1761599 ,  1.51127145,\n",
      "       -0.48872856,  1.11918087,  1.71591535, -0.28408465,  1.        ,\n",
      "        2.9225299 ,  0.5093008 ,  2.        ,  2.20661455,  0.20661455,\n",
      "       -0.09721361]), 'info': {'exitFlag': 0, 'pcost': 0.0, 'dcost': -3.4332956111586137e-10, 'pres': 6.757397368015331e-11, 'dres': 5.791070396660853e-10, 'pinf': 0.0, 'dinf': 0.0, 'pinfres': nan, 'dinfres': nan, 'gap': 7.900673350112966e-09, 'relgap': nan, 'r0': 1e-08, 'iter': 6, 'mi_iter': -1, 'infostring': 'Optimal solution found', 'timing': {'runtime': 8.3164e-05, 'tsetup': 2.4678e-05, 'tsolve': 5.8486e-05}, 'numerr': 0}}}))\n",
      "\n",
      "(iteration 5) lower bound: 0.000000\n",
      "(iteration 5) upper bound: 0.031250\n",
      "(iteration 5) query point: 0.015625 \n",
      "(iteration 5) query was feasible. Solution(status=optimal, opt_val=0.0, primal_vars={2884: array(1.99086844), 2911: array(0.54818573), 2865: 0.5736518893750009, 2897: array(0.49022926), 2980: array(-0.04458062), 2955: array(0.5437085), 2968: array(1.23303481)}, dual_vars={2882: 2.7099409748431754e-09, 2893: array([ 5.41522719e-10,  3.35991903e-10, -3.45112470e-10]), 2906: array([ 4.31664084e-10,  2.03242637e-10, -3.51867703e-10]), 2920: array([ 4.36044587e-10,  1.98842732e-10, -3.70448098e-10]), 2953: 2.2160511863003696e-10, 2964: array([ 6.97812336e-11,  3.41500031e-11, -3.65591697e-13]), 2977: array([ 1.06109842e-10, -1.05787778e-11, -6.92134550e-11]), 2989: array([ 2.74086019e-11,  1.68289307e-11, -7.69679448e-12])}, attr={'solve_time': 6.4657e-05, 'setup_time': 2.7241e-05, 'num_iters': 6, 'solver_specific_stats': {'x': array([ 0.57365189,  1.99086844,  0.54818573,  0.49022926, -0.04458062,\n",
      "        0.5437085 ,  1.23303481]), 'y': array([], dtype=float64), 'z': array([ 1.78105394e-10,  2.70994097e-09,  2.21605119e-10,  5.41522719e-10,\n",
      "        3.35991903e-10, -3.45112470e-10,  4.31664084e-10,  2.03242637e-10,\n",
      "       -3.51867703e-10,  4.36044587e-10,  1.98842732e-10, -3.70448098e-10,\n",
      "        6.97812336e-11,  3.41500031e-11, -3.65591697e-13,  1.06109842e-10,\n",
      "       -1.05787778e-11, -6.92134550e-11,  2.74086019e-11,  1.68289307e-11,\n",
      "       -7.69679448e-12]), 's': array([ 0.57365189,  0.09232158,  0.61823251,  2.56452033, -1.41721656,\n",
      "        2.        ,  1.49022926, -0.50977074,  1.14730378,  1.50977075,\n",
      "       -0.49022926,  1.09637147,  1.5437085 , -0.4562915 ,  0.03125   ,\n",
      "        2.77674332,  0.31067369,  2.        ,  2.23303481,  0.23303481,\n",
      "       -0.08916124]), 'info': {'exitFlag': 0, 'pcost': 0.0, 'dcost': -4.1358931181144163e-10, 'pres': 7.883362025762818e-11, 'dres': 6.731020484093093e-10, 'pinf': 0.0, 'dinf': 0.0, 'pinfres': nan, 'dinfres': nan, 'gap': 9.487038164242196e-09, 'relgap': nan, 'r0': 1e-08, 'iter': 6, 'mi_iter': -1, 'infostring': 'Optimal solution found', 'timing': {'runtime': 9.189800000000001e-05, 'tsetup': 2.7241e-05, 'tsolve': 6.4657e-05}, 'numerr': 0}}}))\n",
      "\n",
      "(iteration 10) lower bound: 0.000000\n",
      "(iteration 10) upper bound: 0.000977\n",
      "(iteration 10) query point: 0.000488 \n",
      "(iteration 10) query was feasible. Solution(status=optimal, opt_val=0.0, primal_vars={2884: array(1.9908811), 2911: array(0.54817582), 2865: 0.573639490717352, 2897: array(0.49023075), 2980: array(-0.04457716), 2955: array(0.5435545), 2968: array(1.23306456)}, dual_vars={2882: 2.7103740149779927e-09, 2893: array([ 5.41617135e-10,  3.36056025e-10, -3.45176477e-10]), 2906: array([ 4.31743206e-10,  2.03270600e-10, -3.51939121e-10]), 2920: array([ 4.36116966e-10,  1.98877446e-10, -3.70511001e-10]), 2953: 2.2163619609316046e-10, 2964: array([ 6.97810318e-11,  3.41508538e-11, -1.14232564e-14]), 2977: array([ 1.06131459e-10, -1.05764443e-11, -6.92333134e-11]), 2989: array([ 2.74088267e-11,  1.68293145e-11, -7.69590485e-12])}, attr={'solve_time': 5.8464e-05, 'setup_time': 2.4409e-05, 'num_iters': 6, 'solver_specific_stats': {'x': array([ 0.57363949,  1.9908811 ,  0.54817582,  0.49023075, -0.04457716,\n",
      "        0.5435545 ,  1.23306456]), 'y': array([], dtype=float64), 'z': array([ 1.78129587e-10,  2.71037401e-09,  2.21636196e-10,  5.41617135e-10,\n",
      "        3.36056025e-10, -3.45176477e-10,  4.31743206e-10,  2.03270600e-10,\n",
      "       -3.51939121e-10,  4.36116966e-10,  1.98877446e-10, -3.70511001e-10,\n",
      "        6.97810318e-11,  3.41508538e-11, -1.14232564e-14,  1.06131459e-10,\n",
      "       -1.05764443e-11, -6.92333134e-11,  2.74088267e-11,  1.68293145e-11,\n",
      "       -7.69590485e-12]), 's': array([ 5.73639491e-01,  9.23174825e-02,  6.18216654e-01,  2.56452059e+00,\n",
      "       -1.41724161e+00,  2.00000000e+00,  1.49023076e+00, -5.09769246e-01,\n",
      "        1.14727898e+00,  1.50976925e+00, -4.90230754e-01,  1.09635164e+00,\n",
      "        1.54355450e+00, -4.56445505e-01,  9.76562500e-04,  2.77661906e+00,\n",
      "        3.10489932e-01,  2.00000000e+00,  2.23306456e+00,  2.33064563e-01,\n",
      "       -8.91543256e-02]), 'info': {'exitFlag': 0, 'pcost': 0.0, 'dcost': -4.136516499319316e-10, 'pres': 7.884331702814259e-11, 'dres': 6.731852928432768e-10, 'pinf': 0.0, 'dinf': 0.0, 'pinfres': nan, 'dinfres': nan, 'gap': 9.488472332962701e-09, 'relgap': nan, 'r0': 1e-08, 'iter': 6, 'mi_iter': -1, 'infostring': 'Optimal solution found', 'timing': {'runtime': 8.2873e-05, 'tsetup': 2.4409e-05, 'tsolve': 5.8464e-05}, 'numerr': 0}}}))\n",
      "\n",
      "(iteration 15) lower bound: 0.000000\n",
      "(iteration 15) upper bound: 0.000031\n",
      "(iteration 15) query point: 0.000015 \n",
      "(iteration 15) query was feasible. Solution(status=optimal, opt_val=0.0, primal_vars={2884: array(1.99088111), 2911: array(0.54817581), 2865: 0.5736394786107523, 2897: array(0.49023076), 2980: array(-0.04457716), 2955: array(0.54355434), 2968: array(1.23306459)}, dual_vars={2882: 2.7103744378266143e-09, 2893: array([ 5.41617227e-10,  3.36056088e-10, -3.45176540e-10]), 2906: array([ 4.31743283e-10,  2.03270627e-10, -3.51939191e-10]), 2920: array([ 4.36117037e-10,  1.98877480e-10, -3.70511062e-10]), 2953: 2.216362264387142e-10, 2964: array([ 6.97810316e-11,  3.41508546e-11, -3.56976716e-16]), 2977: array([ 1.06131480e-10, -1.05764420e-11, -6.92333328e-11]), 2989: array([ 2.74088269e-11,  1.68293149e-11, -7.69590398e-12])}, attr={'solve_time': 5.8045e-05, 'setup_time': 3.0135e-05, 'num_iters': 6, 'solver_specific_stats': {'x': array([ 0.57363948,  1.99088111,  0.54817581,  0.49023076, -0.04457716,\n",
      "        0.54355434,  1.23306459]), 'y': array([], dtype=float64), 'z': array([ 1.78129611e-10,  2.71037444e-09,  2.21636226e-10,  5.41617227e-10,\n",
      "        3.36056088e-10, -3.45176540e-10,  4.31743283e-10,  2.03270627e-10,\n",
      "       -3.51939191e-10,  4.36117037e-10,  1.98877480e-10, -3.70511062e-10,\n",
      "        6.97810316e-11,  3.41508546e-11, -3.56976716e-16,  1.06131480e-10,\n",
      "       -1.05764420e-11, -6.92333328e-11,  2.74088269e-11,  1.68293149e-11,\n",
      "       -7.69590398e-12]), 's': array([ 5.73639479e-01,  9.23174785e-02,  6.18216638e-01,  2.56452059e+00,\n",
      "       -1.41724163e+00,  2.00000000e+00,  1.49023076e+00, -5.09769245e-01,\n",
      "        1.14727896e+00,  1.50976925e+00, -4.90230755e-01,  1.09635162e+00,\n",
      "        1.54355435e+00, -4.56445655e-01,  3.05175781e-05,  2.77661894e+00,\n",
      "        3.10489753e-01,  2.00000000e+00,  2.23306459e+00,  2.33064592e-01,\n",
      "       -8.91543188e-02]), 'info': {'exitFlag': 0, 'pcost': 0.0, 'dcost': -4.1365171080115005e-10, 'pres': 7.884367322132833e-11, 'dres': 6.731853741248669e-10, 'pinf': 0.0, 'dinf': 0.0, 'pinfres': nan, 'dinfres': nan, 'gap': 9.488473733351782e-09, 'relgap': nan, 'r0': 1e-08, 'iter': 6, 'mi_iter': -1, 'infostring': 'Optimal solution found', 'timing': {'runtime': 8.818e-05, 'tsetup': 3.0135e-05, 'tsolve': 5.8045e-05}, 'numerr': 0}}}))\n",
      "\n",
      "Bisection completed, with lower bound 0.000000 and upper bound 0.0000010\n",
      "********************************************************************************\n",
      "\n",
      "\n",
      "Final L/D Ratio = 1.427914\n",
      "Final width of wedge = 0.573639\n",
      "Final height of wedge = 0.819108\n",
      "\n"
     ]
    }
   ],
   "source": [
    "prob = cp.Problem(cp.Minimize(objective), constraint)\n",
    "prob.solve(qcp=True, verbose=True)\n",
    "\n",
    "print(f\"\"\"\n",
    "Final L/D Ratio = {objective.value:f}\n",
    "Final width of wedge = {x.value:f}\n",
    "Final height of wedge = {np.sqrt(1 - x.value**2):f}\n",
    "\"\"\")"
   ]
  },
  {
   "cell_type": "markdown",
   "metadata": {},
   "source": [
    "Once the solution has been found, we can create a plot to verify that the rectangle is inscribed within the wedge."
   ]
  },
  {
   "cell_type": "code",
   "execution_count": 16,
   "metadata": {},
   "outputs": [
    {
     "data": {
      "image/png": "[encoded data removed]",
      "text/plain": [
       "<Figure size 640x480 with 1 Axes>"
      ]
     },
     "metadata": {},
     "output_type": "display_data"
    }
   ],
   "source": [
    "dx = x.value\n",
    "dy = np.sqrt(1 - dx**2)\n",
    "\n",
    "_, ax = plt.subplots()\n",
    "ax.plot([0, dx], [0, 0], \"b.-\") # horizontal line\n",
    "ax.plot([0, 0], [0, -dy], \"b.-\") # vertical line\n",
    "ax.plot([0, dx], [-dy, 0], \"b.-\") # hypotenus\n",
    "\n",
    "P0 = np.array([0, -(dy - a / dx)])\n",
    "P1 = P0 + b * np.array([dx, dy])\n",
    "P2 = P0 + a * np.array([dy, -dx])\n",
    "P3 = P1 + a * np.array([dy, -dx])\n",
    "\n",
    "ax.plot([P0[0], P1[0]], [P0[1], P1[1]], \"r-\")\n",
    "ax.plot([P0[0], P2[0]], [P0[1], P2[1]], \"r-\")\n",
    "ax.plot([P1[0], P3[0]], [P1[1], P3[1]], \"r-\")\n",
    "\n",
    "ax.axis(\"equal\");"
   ]
  }
 ],
 "metadata": {
  "kernelspec": {
   "display_name": "devel",
   "language": "python",
   "name": "python3"
  },
  "language_info": {
   "codemirror_mode": {
    "name": "ipython",
    "version": 3
   },
   "file_extension": ".py",
   "mimetype": "text/x-python",
   "name": "python",
   "nbconvert_exporter": "python",
   "pygments_lexer": "ipython3",
   "version": "3.12.2"
  }
 },
 "nbformat": 4,
 "nbformat_minor": 2
}
