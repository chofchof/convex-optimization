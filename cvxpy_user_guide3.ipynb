{
 "cells": [
  {
   "cell_type": "code",
   "execution_count": 1,
   "metadata": {},
   "outputs": [],
   "source": [
    "# To disable `warnings.warn(ECOS_DEPRECATION_MSG, FutureWarning)`\n",
    "import warnings\n",
    "warnings.filterwarnings('ignore')"
   ]
  },
  {
   "cell_type": "markdown",
   "metadata": {},
   "source": [
    "## 3. Atomic Functions\n",
    "\n",
    "CVXPY uses the function information in this section and the [DCP rules](https://www.cvxpy.org/tutorial/dcp/index.html#dcp) to mark expressions with a __sign__ and __curvature__."
   ]
  },
  {
   "cell_type": "markdown",
   "metadata": {},
   "source": [
    "### Operators\n",
    "\n",
    "The infix operators `+`, `-`, `*`, `/`, `@` are treated as functions.\n",
    "- `+` and `-` are always __affine__ functions.\n",
    "- `expr1 * expr2` is __affine__ when one of the expressions is constant.\n",
    "- `expr1 / expr2` is __affine__ when `expr2` is a <u>scalar</u> constant.\n",
    "\n",
    "Starting with Python 3.5, users can write `expr1 @ expr2` for matrix multiplication and dot products.\n",
    "As of CVXPY version 1.1, we are adopting a new standard:\n",
    "\n",
    "- `@` should be used for <u>matrix-matrix and matrix-vector multiplication</u>,\n",
    "- `*` should be used for <u>matrix-scalar and vector-scalar multiplication</u>\n",
    "\n",
    "Elementwise multiplication can be applied with the `cvxpy.multiply` function.\n",
    "\n",
    "#### Indexing and slicing\n",
    "Indexing in CVXPY follows <u>exactly the same semantics as NumPy ndarrays</u>. For example,"
   ]
  },
  {
   "cell_type": "code",
   "execution_count": 2,
   "metadata": {},
   "outputs": [
    {
     "name": "stdout",
     "output_type": "stream",
     "text": [
      "\n",
      "0 dimensional: ()\n",
      "1 dimensional: (1,)\n",
      "\n"
     ]
    }
   ],
   "source": [
    "import cvxpy as cp\n",
    "\n",
    "x = cp.Variable(5)\n",
    "\n",
    "print(f\"\"\"\n",
    "0 dimensional: {x[0].shape}\n",
    "1 dimensional: {x[0:1].shape}\n",
    "\"\"\")"
   ]
  },
  {
   "cell_type": "markdown",
   "metadata": {},
   "source": [
    "#### Transpose\n",
    "The transpose of any expression can be obtained using the syntax `expr.T`. Transpose is an __affine__ function.\n",
    "\n",
    "#### Power\n",
    "For any CVXPY expression `expr`, the power operator `expr**p` is equivalent to the function `cvxpy.power(expr, p)`."
   ]
  },
  {
   "cell_type": "markdown",
   "metadata": {},
   "source": [
    "### Scalar functions\n",
    "\n",
    "A scalar function takes one or more scalars, vectors, or matrices as arguments and returns a scalar.\n",
    "![](figures/dcp_scalar_functions.png)"
   ]
  },
  {
   "cell_type": "markdown",
   "metadata": {},
   "source": [
    "#### Clarifications for scalar functions\n",
    "\n",
    "For a vector expression `x`, `cvxpy.norm(x)` and `cvxpy.norm(x, 2)` give the __Euclidean norm__.\n",
    "\n",
    "For a matrix expression `X`, however, `cvxpy.norm(X)` and `cvxpy.norm(X, 2)` give the __spectral norm__.\n",
    "\n",
    "The function `cvxpy.norm(X, \"fro\")` is called the __Frobenius norm__ and `cvxpy.norm(X, \"nuc\")` the __nuclear norm__.\n",
    "The nuclear norm can also be defined as the sum of `X`'s singular values.\n",
    "\n",
    "The functions `cvxpy.max` and `cvxpy.min` give the largest and smallest entry, respectively, in a <u>single expression</u>.\n",
    "Use `cvxpy.maximum` and `cvxpy.minimum` to find the max or min of a <u>list of scalar expressions</u>.\n",
    "\n",
    "The CVXPY function `cvxpy.sum` sums all the entries in a <u>single expression</u>. The built-in Python `sum` should be used to add together a <u>list of expressions</u>. For example, the following code sums a list of three expressions:\n",
    "\n",
    "```\n",
    "expr_list = [expr1, expr2, expr3]\n",
    "expr_sum = sum(expr_list)\n",
    "```"
   ]
  },
  {
   "cell_type": "markdown",
   "metadata": {},
   "source": [
    "### Functions along an axis\n",
    "\n",
    "The functions `cvxpy.sum`, `cvxpy.norm`, `cvxpy.max`, `cvxpy.min`, `cvxpy.mean`, `cvxpy.std`, `cvxpy.var`, and `cvxpy.ptp` can be applied along an axis.\n",
    "\n",
    "Given an `m` by `n` expression `expr`,\n",
    "- `func(expr, axis=0, keepdims=True)` applies `func` to each column, returning a `1` by `n` expression.\n",
    "- `func(expr, axis=1, keepdims=True)` applies `func` to each row, returning an `m` by `1` expression.\n",
    "\n",
    "By default `keepdims=False`, which means dimensions of length 1 are dropped. For example, the following code sums along the columns and rows of a matrix variable:"
   ]
  },
  {
   "cell_type": "code",
   "execution_count": 3,
   "metadata": {},
   "outputs": [
    {
     "data": {
      "text/plain": [
       "(Expression(AFFINE, UNKNOWN, (1, 4)),\n",
       " Expression(AFFINE, UNKNOWN, (4,)),\n",
       " Expression(AFFINE, UNKNOWN, (5,)))"
      ]
     },
     "execution_count": 3,
     "metadata": {},
     "output_type": "execute_result"
    }
   ],
   "source": [
    "X = cp.Variable((5, 4))\n",
    "col_sums_keepdims = cp.sum(X, axis=0, keepdims=True) # Has size (1, 4)\n",
    "col_sums = cp.sum(X, axis=0) # Has size (4,)\n",
    "row_sums = cp.sum(X, axis=1) # Has size (5,)\n",
    "\n",
    "col_sums_keepdims, col_sums, row_sums"
   ]
  },
  {
   "cell_type": "markdown",
   "metadata": {},
   "source": [
    "### Elementwise functions\n",
    "\n",
    "These functions operate on each element of their arguments.\n",
    "For example, if `X` is a `5` by `4` matrix variable, then `cvxpy.abs(X)` is a `5` by `4` matrix expression. `cvxpy.abs(X)[1, 2]` is equivalent to `cvxpy.abs(X[1, 2])`.\n",
    "\n",
    "Elementwise functions that take multiple arguments, such as `cvxpy.maximum` and `cvxpy.multiply`, operate on the corresponding elements of each argument. For example, if `X` and `Y` are both `3` by `3` matrix variables, then `cvxpy.maximum(X, Y)` is a `3` by `3` matrix expression.\n",
    "\n",
    "![](figures/dcp_elementwise_functions.png)\n",
    "\n",
    "#### Clarifications on elementwise functions\n",
    "The functions `cvxpy.log_normcdf` and `cvxpy.loggamma` are defined via approximations.\n",
    "- `cvxpy.log_normcdf` has highest accuracy over the range -4 to 4.\n",
    "- `cvxpy.loggamma` has similar accuracy over all positive reals."
   ]
  },
  {
   "cell_type": "markdown",
   "metadata": {},
   "source": [
    "### Vector/matrix functions\n",
    "\n",
    "A vector/matrix function takes one or more scalars, vectors, or matrices as arguments and returns a vector or matrix.\n",
    "\n",
    "CVXPY is conservative when it determines the sign of an Expression returned by one of these functions.\n",
    "- If any argument to one of these functions has unknown sign, then the returned Expression will also have unknown sign.\n",
    "- If all arguments have known sign but CVXPY can determine that the returned Expression would have different signs in different entries (for example, when stacking a positive Expression and a negative Expression) then the returned Expression will have unknown sign.\n",
    "\n",
    "![](figures/dcp_vector_matrix_functions.png)\n",
    "\n",
    "#### Clarifications on vector and matrix functions\n",
    "The input to `cvxpy.bmat` is a list of lists of CVXPY expressions. It constructs a block matrix. The elements of each inner list are stacked horizontally and then the resulting block matrices are stacked vertically.\n",
    "\n",
    "The output $y=\\textbf{convolve}(c,x)$ has size $n+m-1$ and is defined as $y_k=\\sum_{j=0}^k c[j]x[k-j]$.\n",
    "\n",
    "The output $y=\\textbf{vec}(X)$ is the matrix $X$ flattened in column-major order into a vector. Formally, $y_i=X_{i\\mod m,\\lfloor i/m\\rfloor}$.\n",
    "\n",
    "The output $Y=\\textbf{reshape}(X,(m'n'),\\texttt{order=\"F\"})$ is the matrix $X$ cast into an $m'\\times n'$ matrix. The entries are taken from $X$ in column-major order and stored in $Y$ in column-major order. Formally, $Y_{i,j}=\\textbf{vec}(X)_{m',j+i}$. If `order=\"C\"` then $X$ will be read in row-major order and $Y$ will be written to in row-major order.\n",
    "\n",
    "The output $y=\\textbf{upper\\_tri}(X)$ is formed by concatenating partial rows of $X$. I.e., $y=(X[0,1\\texttt{:}],X[1,2\\texttt{:}],\\dotsc,X[n-1,n])$."
   ]
  }
 ],
 "metadata": {
  "kernelspec": {
   "display_name": "devel",
   "language": "python",
   "name": "python3"
  },
  "language_info": {
   "codemirror_mode": {
    "name": "ipython",
    "version": 3
   },
   "file_extension": ".py",
   "mimetype": "text/x-python",
   "name": "python",
   "nbconvert_exporter": "python",
   "pygments_lexer": "ipython3",
   "version": "3.12.2"
  }
 },
 "nbformat": 4,
 "nbformat_minor": 2
}
