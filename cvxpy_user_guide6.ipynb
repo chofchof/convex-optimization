{
 "cells": [
  {
   "cell_type": "code",
   "execution_count": null,
   "metadata": {},
   "outputs": [],
   "source": [
    "# To disable `warnings.warn(ECOS_DEPRECATION_MSG, FutureWarning)`\n",
    "import warnings\n",
    "warnings.filterwarnings('ignore')"
   ]
  },
  {
   "cell_type": "markdown",
   "metadata": {},
   "source": [
    "## 6. Advanced Features\n",
    "\n",
    "This section of the tutorial covers features of CVXPY intended for users with advanced knowledge of convex optimization. We recommend Convex Optimization by Boyd and Vandenberghe as a reference for any terms you are unfamiliar with."
   ]
  },
  {
   "cell_type": "markdown",
   "metadata": {},
   "source": [
    "### Dual variables\n",
    "\n",
    "You can use CVXPY to find the optimal dual variables for a problem. When you call `prob.solve()` each dual variable in the solution is stored in the `dual_value` field of the constraint it corresponds to."
   ]
  },
  {
   "cell_type": "code",
   "execution_count": 31,
   "metadata": {},
   "outputs": [
    {
     "name": "stdout",
     "output_type": "stream",
     "text": [
      "\n",
      "optimal (x + y == 1) dual variable: 0.0\n",
      "optimal (x - y >= 1) dual variable: 2.0\n",
      "x - y value: 1.0\n",
      "\n"
     ]
    }
   ],
   "source": [
    "import cvxpy as cp\n",
    "\n",
    "# Create two scalar optimization variables.\n",
    "x = cp.Variable()\n",
    "y = cp.Variable()\n",
    "\n",
    "# Form objective.\n",
    "objective = cp.Minimize((x - y)**2)\n",
    "\n",
    "# Create two constraints.\n",
    "constraints = [\n",
    "    x + y == 1,\n",
    "    x - y >= 1\n",
    "]\n",
    "\n",
    "# Form and solve problem.\n",
    "prob = cp.Problem(objective, constraints)\n",
    "prob.solve()\n",
    "\n",
    "# The optimal dual variable (Lagrange multiplier) for\n",
    "# a constraint is stored in constraint.dual_value.\n",
    "print(f\"\"\"\n",
    "optimal (x + y == 1) dual variable: {constraints[0].dual_value}\n",
    "optimal (x - y >= 1) dual variable: {constraints[1].dual_value}\n",
    "x - y value: {(x - y).value}\n",
    "\"\"\")"
   ]
  },
  {
   "cell_type": "markdown",
   "metadata": {},
   "source": [
    "The dual variable for `x - y >= 1` is 2. By complementarity this implies that `x - y` is 1, which we can see is true. The fact that the dual variable is non-zero also tells us that if we tighten `x - y >= 1`, (i.e., increase the right-hand side), the optimal value of the problem will increase."
   ]
  },
  {
   "cell_type": "markdown",
   "metadata": {},
   "source": [
    "### Attributes\n",
    "\n",
    "Variables and parameters can be created with attributes specifying additional properties. For example, `Variable(nonneg=True)` is a scalar variable constrained to be nonnegative. Similarly, `Parameter(nonpos=True)` is a scalar parameter constrained to be nonpositive. The full constructor for `Leaf` (the parent class of `Variable` and `Parameter`) is given below.\n",
    "\n",
    "    Leaf(shape=None, value=None, nonneg=False, nonpos=False, complex=False, imag=False, symmetric=False, diag=False, PSD=False, NSD=False, hermitian=False, boolean=False, integer=False, sparsity=None, pos=False, neg=False)\n",
    "\n",
    "Creates a `Leaf` object (e.g., `Variable` or `Parameter`). Only one attribute can be active (set to `True`).\n",
    "\n",
    "The `value` field of `Variables` and `Parameters` can be assigned a value after construction, but the assigned value must satisfy the object attributes. A Euclidean projection onto the set defined by the attributes is given by the `project` method."
   ]
  },
  {
   "cell_type": "code",
   "execution_count": 32,
   "metadata": {},
   "outputs": [
    {
     "name": "stdout",
     "output_type": "stream",
     "text": [
      "Parameter value must be nonnegative.\n",
      "Projection: 0.0\n"
     ]
    }
   ],
   "source": [
    "p = cp.Parameter(nonneg=True)\n",
    "try:\n",
    "    p.value = -1\n",
    "except Exception as e:\n",
    "    print(e)\n",
    "\n",
    "print(f\"Projection: {p.project(-1)}\")"
   ]
  },
  {
   "cell_type": "markdown",
   "metadata": {},
   "source": [
    "A sensible idiom for assigning values to leaves is `leaf.value = leaf.project(val)`, ensuring that the assigned value satisfies the leaf’s properties. A slightly more efficient variant is `leaf.project_and_assign(val)`, which projects and assigns the value directly, without additionally checking that the value satisfies the leaf's properties. In most cases `project` and checking that a value satisfies a leaf's properties are cheap operations (i.e., $O(n)$), but for symmetric positive semidefinite or negative semidefinite leaves, the operations compute an eigenvalue decomposition.\n",
    "\n",
    "Many attributes, such as nonnegativity and symmetry, can be easily specified with constraints. What is the advantage then of specifying attributes in a variable? The main benefit is that specifying attributes enables more fine-grained DCP analysis. For example, creating a variable `x` via `x = cp.Variable(nonpos=True)` informs the DCP analyzer that `x` is nonpositive. Creating the variable `x` via `x = cp.Variable()` and adding the constraint `x >= 0` separately does not provide any information about the sign of `x` to the DCP analyzer.\n",
    "\n",
    "One downside of using attributes over explicit constraints is that dual variables will not be recorded. Dual variable values are only recorded for explicit constraints."
   ]
  },
  {
   "cell_type": "markdown",
   "metadata": {},
   "source": [
    "### Semidefinite matrices\n",
    "\n",
    "Many convex optimization problems involve constraining matrices to be positive or negative semidefinite (e.g., SDPs). You can do this in CVXPY in two ways. The first way is to use `cp.Variable((n, n), PSD=True)` to create an `n` by `n` variable constrained to be symmetric and positive semidefinite. For example,\n",
    "\n",
    "```\n",
    "# Creates a 100 by 100 positive semidefinite variable.\n",
    "X = cp.Variable((100, 100), PSD=True)\n",
    "\n",
    "# You can use X anywhere you would use\n",
    "# a normal CVXPY variable.\n",
    "obj = cp.Minimize(cp.norm(X) + cp.sum(X))\n",
    "```\n",
    "\n",
    "The second way is to create a positive semidefinite cone constraint using the `>>` or `<<` operator. If `X` and `Y` are `n` by `n` variables, the constraint `X >> Y` means that $z^T(X-Y)z \\geq 0$, for all $z\\in\\mathbb{R}^n$. In other words, $(X-Y)+(X-Y)^T$ is positive semidefinite. The constraint does not require that `X` and `Y` be symmetric. Both sides of a postive semidefinite cone constraint must be square matrices and affine.\n",
    "\n",
    "The following code shows how to constrain matrix expressions to be positive or negative semidefinite (but not necessarily symmetric).\n",
    "\n",
    "```\n",
    "# expr1 must be positive semidefinite.\n",
    "constr1 = (expr1 >> 0)\n",
    "\n",
    "# expr2 must be negative semidefinite.\n",
    "constr2 = (expr2 << 0)\n",
    "```\n",
    "\n",
    "To constrain a matrix expression to be symmetric, simply write\n",
    "\n",
    "```\n",
    "# expr must be symmetric.\n",
    "constr = (expr == expr.T)\n",
    "```\n",
    "\n",
    "You can also use `cp.Variable((n, n), symmetric=True)` to create an `n` by `n` variable constrained to be symmetric. The difference between specifying that a variable is symmetric via attributes and adding the constraint `X == X.T` is that attributes are parsed for DCP information and a symmetric variable is defined over the (lower dimensional) vector space of symmetric matrices."
   ]
  },
  {
   "cell_type": "markdown",
   "metadata": {},
   "source": [
    "### Mixed-integer programs\n",
    "\n",
    "In mixed-integer programs, certain variables are constrained to be boolean (i.e., 0 or 1) or integer valued. You can construct mixed-integer programs by creating variables with the attribute that they have only boolean or integer valued entries:\n",
    "\n",
    "```\n",
    "# Creates a 10-vector constrained to have boolean valued entries.\n",
    "x = cp.Variable(10, boolean=True)\n",
    "\n",
    "# expr1 must be boolean valued.\n",
    "constr1 = (expr1 == x)\n",
    "\n",
    "# Creates a 5 by 7 matrix constrained to have integer valued entries.\n",
    "Z = cp.Variable((5, 7), integer=True)\n",
    "\n",
    "# expr2 must be integer valued.\n",
    "constr2 = (expr2 == Z)\n",
    "```\n",
    "\n",
    "CVXPY provides interfaces to many mixed-integer solvers, including open source and commercial solvers. For licensing reasons, CVXPY does not install any of the preferred solvers by default.\n",
    "\n",
    "The preferred open source mixed-integer solvers in CVXPY are GLPK_MI, CBC and SCIP. The CVXOPT python package provides CVXPY with access to GLPK_MI; CVXOPT can be installed by running `pip install cvxopt` in your command line or terminal. SCIP supports nonlinear models, but GLPK_MI and CBC do not.\n",
    "\n",
    "CVXPY comes with ECOS_BB – an open source mixed-integer nonlinear solver – by default. However ECOS_BB will not be called automatically; you must explicitly call `prob.solve(solver='ECOS_BB')` if you want to use it. This policy stems from the fact that there are recurring correctness issues with `ECOS_BB`. If you rely on this solver for some application then you need to be aware of the increased risks that come with using it. If you need to use an open-source mixed-integer nonlinear solver from CVXPY, then we recommend you install SCIP.\n",
    "\n",
    "If you need to solve a large mixed-integer problem quickly, or if you have a nonlinear mixed-integer model that is challenging for SCIP, then you will need to use a commercial solver such as CPLEX, GUROBI, XPRESS, MOSEK, or COPT. Commercial solvers require licenses to run. CPLEX, GUROBI, and MOSEK provide free licenses to those in academia (both students and faculty), as well as trial versions to those outside academia. CPLEX Free Edition is available at no cost regardless of academic status, however it still requires online registration, and it’s limited to problems with at most 1000 variables and 1000 constraints. XPRESS has a free community edition which does not require registration, however it is limited to problems where the sum of variables count and constraint count does not exceed 5000. COPT also has a free community edition that is limited to problems with at most 2000 variables and 2000 constraints."
   ]
  },
  {
   "cell_type": "markdown",
   "metadata": {},
   "source": [
    "### Complex valued expressions\n",
    "\n",
    "By default variables and parameters are real valued. Complex valued variables and parameters can be created by setting the attribute `complex=True`. Similarly, purely imaginary variables and parameters can be created by setting the attributes `imag=True`. Expressions containing complex variables, parameters, or constants may be complex valued. The functions `is_real`, `is_complex`, and `is_imag` return whether an expression is purely real, complex, or purely imaginary, respectively."
   ]
  },
  {
   "cell_type": "code",
   "execution_count": 33,
   "metadata": {},
   "outputs": [
    {
     "name": "stdout",
     "output_type": "stream",
     "text": [
      "\n",
      "p.is_imag() = True\n",
      "(x + 2).is_real() = False\n",
      "\n"
     ]
    }
   ],
   "source": [
    "# A complex valued variable.\n",
    "x = cp.Variable(complex=True)\n",
    "# A purely imaginary parameter.\n",
    "p = cp.Parameter(imag=True)\n",
    "\n",
    "print(f\"\"\"\n",
    "p.is_imag() = {p.is_imag()}\n",
    "(x + 2).is_real() = {(x + 2).is_real()}\n",
    "\"\"\")"
   ]
  },
  {
   "cell_type": "markdown",
   "metadata": {},
   "source": [
    "The top-level expressions in the problem objective must be real valued, but subexpressions may be complex. Arithmetic and all linear atoms are defined for complex expressions. The nonlinear atoms `cp.abs` and all norms except `cp.norm(X, p)` for `p < 1` are also defined for complex expressions. All atoms whose domain is symmetric matrices are defined for Hermitian matrices. Similarly, the atoms `cp.quad_form(x, P)` and `cp.matrix_frac(x, P)` are defined for complex `x` and Hermitian `P`. All constraints are defined for complex expressions.\n",
    "\n",
    "The following additional atoms are provided for working with complex expressions:\n",
    "\n",
    "- `real(expr)` gives the real part of `expr`.\n",
    "- `imag(expr)` gives the imaginary part of `expr` (i.e., `expr = real(expr) + 1j*imag(expr)`).\n",
    "- `conj(expr)` gives the complex conjugate of `expr`.\n",
    "- `expr.H` gives the Hermitian (conjugate) transpose of `expr`."
   ]
  },
  {
   "cell_type": "markdown",
   "metadata": {},
   "source": [
    "### Transforms\n",
    "\n",
    "Transforms provide additional ways of manipulating CVXPY objects beyond the atomic functions. For example, the `indicator` transform converts a list of constraints into an expression representing the convex function that takes value 0 when the constraints hold and $\\infty$ when they are violated."
   ]
  },
  {
   "cell_type": "code",
   "execution_count": 34,
   "metadata": {},
   "outputs": [
    {
     "name": "stdout",
     "output_type": "stream",
     "text": [
      "expr.value = 0.0\n",
      "expr.value = inf\n"
     ]
    }
   ],
   "source": [
    "x = cp.Variable()\n",
    "constraints = [0 <= x, x <= 1]\n",
    "expr = cp.transforms.indicator(constraints)\n",
    "x.value = .5\n",
    "print(f\"expr.value = {expr.value}\")\n",
    "x.value = 2\n",
    "print(f\"expr.value = {expr.value}\")"
   ]
  },
  {
   "cell_type": "markdown",
   "metadata": {},
   "source": [
    "The full set of transforms available is discussed in [Transforms](https://www.cvxpy.org/api_reference/cvxpy.transforms.html#transforms-api)."
   ]
  },
  {
   "cell_type": "markdown",
   "metadata": {},
   "source": [
    "### Problem arithmetic\n",
    "\n",
    "For convenience, arithmetic operations have been overloaded for problems and objectives. Problem arithmetic is useful because it allows you to write a problem as a sum of smaller problems. The rules for adding, subtracting, and multiplying objectives are given below.\n",
    "\n",
    "```\n",
    "# Addition and subtraction.\n",
    "Minimize(expr1) + Minimize(expr2) == Minimize(expr1 + expr2)\n",
    "Maximize(expr1) + Maximize(expr2) == Maximize(expr1 + expr2)\n",
    "Minimize(expr1) + Maximize(expr2) # Not allowed.\n",
    "Minimize(expr1) - Maximize(expr2) == Minimize(expr1 - expr2)\n",
    "\n",
    "# Multiplication (alpha is a positive scalar).\n",
    "alpha*Minimize(expr) == Minimize(alpha*expr)\n",
    "alpha*Maximize(expr) == Maximize(alpha*expr)\n",
    "-alpha*Minimize(expr) == Maximize(-alpha*expr)\n",
    "-alpha*Maximize(expr) == Minimize(-alpha*expr)\n",
    "```\n",
    "\n",
    "The rules for adding and multiplying problems are equally straightforward:\n",
    "\n",
    "```\n",
    "# Addition and subtraction.\n",
    "prob1 + prob2 == Problem(\n",
    "    prob1.objective + prob2.objective, prob1.constraints + prob2.constraints\n",
    ")\n",
    "prob1 - prob2 == Problem(\n",
    "    prob1.objective - prob2.objective, prob1.constraints + prob2.constraints\n",
    ")\n",
    "\n",
    "# Multiplication (alpha is any scalar).\n",
    "alpha*prob == Problem(alpha*prob.objective, prob.constraints)\n",
    "```\n",
    "\n",
    "Note that the `+` operator concatenates lists of constraints, since this is the default behavior for Python lists. The in-place operators `+=`, `-=`, and `*=` are also supported for objectives and problems and follow the same rules as above."
   ]
  },
  {
   "cell_type": "markdown",
   "metadata": {},
   "source": [
    "### Solve method options\n",
    "\n",
    "The `solve` method takes optional arguments that let you change how CVXPY parses and solves the problem.\n",
    "\n",
    "    solve(solver=None, verbose=False, gp=False, qcp=False, requries_grad=False, enforce_dpp=False, **kwargs)\n",
    "\n",
    "Solves the problem using the specified method.\n",
    "\n",
    "Populates the `status` and `value` attributes on the problem object as a side-effect.\n",
    "\n",
    "We will discuss the optional arguments in detail below.\n",
    "\n",
    "#### Choosing a solver\n",
    "CVXPY is distributed with the open source solvers ECOS, OSQP, and SCS. Many other solvers can be called by CVXPY if installed separately. The table below shows the types of problems the supported solvers can handle.\n",
    "\n",
    "![](figures/choosing_a_solver.png)\n",
    "\n",
    "By default CVXPY calls the solver most specialized to the problem type. For example, ECOS is called for SOCPs. SCS can handle all problems (except mixed-integer programs). If the problem is a QP, CVXPY will use OSQP.\n",
    "\n",
    "You can change the solver called by CVXPY using the `solver` keyword argument. If the solver you choose cannot solve the problem, CVXPY will raise an exception. Here’s example code solving the same problem with different solvers.\n"
   ]
  },
  {
   "cell_type": "code",
   "execution_count": 35,
   "metadata": {},
   "outputs": [
    {
     "name": "stdout",
     "output_type": "stream",
     "text": [
      "optimal value with OSQP: 6.0\n",
      "optimal value with ECOS: 5.999999996660147\n",
      "optimal value with ECOS_BB: 5.999999996660147\n",
      "optimal value with CVXOPT: 5.999999999724493\n",
      "optimal value with SCS: 5.99999497031752\n",
      "optimal value with SciPy/HiGHS: 6.0\n",
      "optimal value with GLPK: 6.0\n",
      "optimal value with GLPK_MI: 6.0\n",
      "optimal value with CLARABEL: 5.999999997464582\n",
      "optimal value with SCIP: 6.0\n"
     ]
    }
   ],
   "source": [
    "# Solving a problem with different solvers.\n",
    "x = cp.Variable(2)\n",
    "objective = cp.Minimize(x[0] + cp.norm(x, 1))\n",
    "constraints = [x >= 2]\n",
    "prob = cp.Problem(objective, constraints)\n",
    "\n",
    "# Solve with OSQP. (cvxpy dependency; conda install osqp -c conda-forge)\n",
    "prob.solve(solver=cp.OSQP)\n",
    "print(\"optimal value with OSQP:\", prob.value)\n",
    "\n",
    "# Solve with ECOS. (cvxpy dependency; conda install ecos -c conda-forge)\n",
    "prob.solve(solver=cp.ECOS)\n",
    "print(\"optimal value with ECOS:\", prob.value)\n",
    "\n",
    "# Solve with ECOS_BB. (cvxpy dependency; conda install ecos -c conda-forge)\n",
    "prob.solve(solver=cp.ECOS_BB)\n",
    "print(\"optimal value with ECOS_BB:\", prob.value)\n",
    "\n",
    "# Solve with COPT. (REQUIRES LICENSE)\n",
    "# prob.solve(solver=cp.COPT)\n",
    "# print(\"optimal value with COPT:\", prob.value)\n",
    "\n",
    "# Solve with CVXOPT. (conda install cvxopt -c conda-forge)\n",
    "prob.solve(solver=cp.CVXOPT)\n",
    "print(\"optimal value with CVXOPT:\", prob.value)\n",
    "\n",
    "# Solve with SDPA. (pip install sdpa-python)\n",
    "# cvxpy 1.4.2 contains a bug in cvxpy/reductions/solvers/conic_solvers/sdpa_conif.py\n",
    "# See https://github.com/cvxpy/cvxpy/commit/602c94ab75a6313ca3b43aa5a782dfaab7ebd00a\n",
    "# prob.solve(solver=cp.SDPA)\n",
    "# print(\"optimal value with SDPA:\", prob.value)\n",
    "\n",
    "# Solve with SCS. (cvxpy dependency; conda install scs -c conda-forge)\n",
    "prob.solve(solver=cp.SCS)\n",
    "print(\"optimal value with SCS:\", prob.value)\n",
    "\n",
    "# Solve with SciPy/HiGHS. (cvxpy dependency; conda install scipy -c conda-forge)\n",
    "prob.solve(solver=cp.SCIPY, scipy_options={\"method\": \"highs\"})\n",
    "print(\"optimal value with SciPy/HiGHS:\", prob.value)\n",
    "\n",
    "# Solve with GLOP. (conda install ortools-python -c conda-forge)\n",
    "# prob.solve(solver=cp.GLOP)\n",
    "# print(\"optimal value with GLOP:\", prob.value)\n",
    "\n",
    "# Solve with GLPK. (cvxpy & cvxopt dependency; conda install glpk -c conda-forge)\n",
    "prob.solve(solver=cp.GLPK)\n",
    "print(\"optimal value with GLPK:\", prob.value)\n",
    "\n",
    "# Solve with GLPK_MI. (cvxpy & cvxopt dependency; conda install glpk -c conda-forge)\n",
    "prob.solve(solver=cp.GLPK_MI)\n",
    "print(\"optimal value with GLPK_MI:\", prob.value)\n",
    "\n",
    "# Solve with CLARABEL. (cvxpy dependency; conda install clarabel -c conda-forge)\n",
    "prob.solve(solver=cp.CLARABEL)\n",
    "print(\"optimal value with CLARABEL:\", prob.value)\n",
    "\n",
    "# Solve with GUROBI. (REQUIRES LICENSE)\n",
    "# prob.solve(solver=cp.GUROBI)\n",
    "# print(\"optimal value with GUROBI:\", prob.value)\n",
    "\n",
    "# Solve with MOSEK. (REQUIRES LICENSE)\n",
    "# prob.solve(solver=cp.MOSEK)\n",
    "# print(\"optimal value with MOSEK:\", prob.value)\n",
    "\n",
    "# Solve with PIQP. (conda install piqp -c conda-forge)\n",
    "# prob.solve(solver=cp.PIQP)\n",
    "# print(\"optimal value with PIQP:\", prob.value)\n",
    "\n",
    "# Solve with PROXQP. (conda install proxsuite -c conda-forge)\n",
    "# prob.solve(solver=cp.PROXQP)\n",
    "# print(\"optimal value with PROXQP:\", prob.value)\n",
    "\n",
    "# Solve with CBC. (pip install cylp)\n",
    "# prob.solve(solver=cp.CBC)\n",
    "# print(\"optimal value with CBC:\", prob.value)\n",
    "\n",
    "# Solve with CPLEX. (REQUIRES LICENSE)\n",
    "# prob.solve(solver=cp.CPLEX)\n",
    "# print(\"optimal value with CPLEX:\", prob.value)\n",
    "\n",
    "# Solve with NAG. (REQUIRES LICENSE)\n",
    "# prob.solve(solver=cp.NAG)\n",
    "# print(\"optimal value with NAG:\", prob.value)\n",
    "\n",
    "# Solve with PDLP. (conda install ortools-python -c conda-forge)\n",
    "# cvxpy 1.4.2 contains a bug in cvxpy/reductions/solvers/conic_solvers/pdlp_conif.py\n",
    "# See https://github.com/cvxpy/cvxpy/commit/3c8ba004073446a535076b87a42367c3d636780e\n",
    "# prob.solve(solver=cp.PDLP)\n",
    "# print(\"optimal value with PDLP:\", prob.value)\n",
    "\n",
    "# Solve with SCIP. (conda install pyscipopt -c conda-forge)\n",
    "prob.solve(solver=cp.SCIP)\n",
    "print(\"optimal value with SCIP:\", prob.value)\n",
    "\n",
    "# Solve with XPRESS. (REQUIRES LICENSE)\n",
    "# prob.solve(solver=cp.XPRESS)\n",
    "# print(\"optimal value with XPRESS:\", prob.value)"
   ]
  },
  {
   "cell_type": "markdown",
   "metadata": {},
   "source": [
    "Use the `cp.installed_solvers` utility function to get a list of the solvers your installation of CVXPY supports."
   ]
  },
  {
   "cell_type": "code",
   "execution_count": 36,
   "metadata": {},
   "outputs": [
    {
     "data": {
      "text/plain": [
       "['CLARABEL',\n",
       " 'CVXOPT',\n",
       " 'DIFFCP',\n",
       " 'ECOS',\n",
       " 'ECOS_BB',\n",
       " 'GLPK',\n",
       " 'GLPK_MI',\n",
       " 'OSQP',\n",
       " 'SCIP',\n",
       " 'SCIPY',\n",
       " 'SCS']"
      ]
     },
     "execution_count": 36,
     "metadata": {},
     "output_type": "execute_result"
    }
   ],
   "source": [
    "cp.installed_solvers()"
   ]
  },
  {
   "cell_type": "markdown",
   "metadata": {},
   "source": [
    "#### Viewing solver output\n",
    "All the solvers can print out information about their progress while solving the problem. This information can be useful in debugging a solver error. To see the output from the solvers, set `verbose=True` in the `solve` method."
   ]
  },
  {
   "cell_type": "code",
   "execution_count": 37,
   "metadata": {},
   "outputs": [
    {
     "name": "stdout",
     "output_type": "stream",
     "text": [
      "===============================================================================\n",
      "                                     CVXPY                                     \n",
      "                                     v1.4.2                                    \n",
      "===============================================================================\n",
      "(CVXPY) Mar 17 11:14:39 PM: Your problem has 2 variables, 1 constraints, and 0 parameters.\n",
      "(CVXPY) Mar 17 11:14:39 PM: It is compliant with the following grammars: DCP, DQCP\n",
      "(CVXPY) Mar 17 11:14:39 PM: (If you need to solve this problem multiple times, but with different data, consider using parameters.)\n",
      "(CVXPY) Mar 17 11:14:39 PM: CVXPY will first compile your problem; then, it will invoke a numerical solver to obtain a solution.\n",
      "(CVXPY) Mar 17 11:14:39 PM: Your problem is compiled with the CPP canonicalization backend.\n",
      "-------------------------------------------------------------------------------\n",
      "                                  Compilation                                  \n",
      "-------------------------------------------------------------------------------\n",
      "(CVXPY) Mar 17 11:14:39 PM: Compiling problem (target solver=ECOS).\n",
      "(CVXPY) Mar 17 11:14:39 PM: Reduction chain: Dcp2Cone -> CvxAttr2Constr -> ConeMatrixStuffing -> ECOS\n",
      "(CVXPY) Mar 17 11:14:39 PM: Applying reduction Dcp2Cone\n",
      "(CVXPY) Mar 17 11:14:39 PM: Applying reduction CvxAttr2Constr\n",
      "(CVXPY) Mar 17 11:14:39 PM: Applying reduction ConeMatrixStuffing\n",
      "(CVXPY) Mar 17 11:14:39 PM: Applying reduction ECOS\n",
      "(CVXPY) Mar 17 11:14:39 PM: Finished problem compilation (took 7.738e-03 seconds).\n",
      "-------------------------------------------------------------------------------\n",
      "                                Numerical solver                               \n",
      "-------------------------------------------------------------------------------\n",
      "(CVXPY) Mar 17 11:14:39 PM: Invoking solver ECOS  to obtain a solution.\n",
      "\n",
      "ECOS 2.0.10 - (C) embotech GmbH, Zurich Switzerland, 2012-15. Web: www.embotech.com/ECOS\n",
      "\n",
      "It     pcost       dcost      gap   pres   dres    k/t    mu     step   sigma     IR    |   BT\n",
      "-------------------------------------------------------------------------------\n",
      "                                    Summary                                    \n",
      "-------------------------------------------------------------------------------\n",
      "(CVXPY) Mar 17 11:14:39 PM: Problem status: optimal\n",
      " 0  +6.667e-01  +7.067e-01  +6e+00  6e-01  1e-02  1e+00  9e-01    ---    ---    1  1  - |  -  - \n",
      " 1  +3.500e+00  +3.925e+00  +1e+00  3e-01  4e-03  8e-01  2e-01  0.9890  2e-01   1  1  1 |  0  0\n",
      " 2  +5.716e+00  +5.825e+00  +2e-01  6e-02  8e-04  2e-01  4e-02  0.9091  8e-02   1  1  1 |  0  0\n",
      " 3  +5.997e+00  +5.998e+00  +3e-03  7e-04  1e-05  2e-03  5e-04  0.9881  1e-04   1  1  1 |  0  0\n",
      " 4  +6.000e+00  +6.000e+00  +3e-05  8e-06  1e-07  3e-05  5e-06  0.9890  1e-04   1  1  1 |  0  0\n",
      " 5  +6.000e+00  +6.000e+00  +3e-07  9e-08  1e-09  3e-07  6e-08  0.9890  1e-04   1  0  0 |  0  0\n",
      " 6  +6.000e+00  +6.000e+00  +4e-09  1e-09  1e-11  3e-09  6e-10  0.9890  1e-04   1  0  0 |  0  0\n",
      "\n",
      "OPTIMAL (within feastol=9.9e-10, reltol=6.2e-10, abstol=3.7e-09).\n",
      "Runtime: 0.000139 seconds.\n",
      "\n",
      "(CVXPY) Mar 17 11:14:39 PM: Optimal value: 6.000e+00\n",
      "(CVXPY) Mar 17 11:14:39 PM: Compilation took 7.738e-03 seconds\n",
      "(CVXPY) Mar 17 11:14:39 PM: Solver (including time spent in interface) took 4.935e-04 seconds\n",
      "optimal value with ECOS: 5.999999996660147\n"
     ]
    }
   ],
   "source": [
    "# Solve with ECOS and display output.\n",
    "prob.solve(solver=cp.ECOS, verbose=True)\n",
    "print(f\"optimal value with ECOS: {prob.value}\")"
   ]
  },
  {
   "cell_type": "markdown",
   "metadata": {},
   "source": [
    "#### Solving disciplined geometric programs\n",
    "When the `solve` method is called with `gp=True`, the problem is parsed as a disciplined geometric program instead of a disciplined convex program. For more information, see the [DGP tutorial](https://www.cvxpy.org/tutorial/dgp/index.html)."
   ]
  },
  {
   "cell_type": "markdown",
   "metadata": {},
   "source": [
    "### Solver stats\n",
    "\n",
    "When the `solve` method is called on a problem object and a solver is invoked, the problem object records the optimal value, the values of the primal and dual variables, and several solver statistics. We have already discussed how to view the optimal value and variable values. The solver statistics are accessed via the `prob.solver_stats` attribute, which returns a `SolverStats` object. For example, `prob.solver_stats.solve_time` gives the time it took the solver to solve the problem."
   ]
  },
  {
   "cell_type": "markdown",
   "metadata": {},
   "source": [
    "### Warm start\n",
    "\n",
    "When solving the same problem for multiple values of a parameter, many solvers can exploit work from previous solves (i.e., warm start). For example, the solver might use the previous solution as an initial point or reuse cached matrix factorizations. Warm start is enabled by default and controlled with the `warm_start` solver option. The code below shows how warm start can accelerate solving a sequence of related least-squares problems."
   ]
  },
  {
   "cell_type": "code",
   "execution_count": 38,
   "metadata": {},
   "outputs": [
    {
     "name": "stdout",
     "output_type": "stream",
     "text": [
      "First solve time: 15.579578874\n",
      "Second solve time: 2.140485199\n"
     ]
    }
   ],
   "source": [
    "import cvxpy as cp\n",
    "import numpy as np\n",
    "\n",
    "# Problem data.\n",
    "m = 2000\n",
    "n = 1000\n",
    "\n",
    "rng = np.random.default_rng(1)\n",
    "A = rng.standard_normal((m, n))\n",
    "b = cp.Parameter(m)\n",
    "\n",
    "# Construct the problem.\n",
    "x = cp.Variable(n)\n",
    "prob = cp.Problem(\n",
    "    cp.Minimize(cp.sum_squares(A @ x - b)), [x >= 0]\n",
    ")\n",
    "\n",
    "b.value = rng.standard_normal(m)\n",
    "prob.solve()\n",
    "print(f\"First solve time: {prob.solver_stats.solve_time}\")\n",
    "\n",
    "b.value = rng.standard_normal(m)\n",
    "prob.solve(warm_start=True)\n",
    "print(f\"Second solve time: {prob.solver_stats.solve_time}\")"
   ]
  },
  {
   "cell_type": "markdown",
   "metadata": {},
   "source": [
    "The speed up in this case comes from caching the KKT matrix factorization. If A were a parameter, factorization caching would not be possible and the benefit of warm start would only be a good initial point.\n",
    "\n",
    "Warm start can also be used to provide an initial guess the first time a problem is solved. The initial guess is constructed from the `value` field of the problem variables. If the same problem is solved a second time, the initial guess is constructed from the cached previous solution as described above (rather than from the `value` field)."
   ]
  },
  {
   "cell_type": "markdown",
   "metadata": {},
   "source": [
    "### Setting solver options\n",
    "\n",
    "The OSQP, ECOS, GLOP, MOSEK, CBC, CVXOPT, NAG, PDLP, GUROBI, SCS , CLARABEL, PIQP and PROXQP Python interfaces allow you to set solver options such as the maximum number of iterations. You can pass these options along through CVXPY as keyword arguments.\n",
    "\n",
    "For example, here we tell SCS to use an indirect method for solving linear equations rather than a direct method."
   ]
  },
  {
   "cell_type": "code",
   "execution_count": 39,
   "metadata": {},
   "outputs": [],
   "source": [
    "# Solve with SCS, use sparse-indirect method. (Too much time to complete...)\n",
    "# prob.solve(solver=cp.SCS, verbose=True, use_indirect=True)\n",
    "# print(f\"optimal value with SCS: {prob.value}\")"
   ]
  },
  {
   "cell_type": "markdown",
   "metadata": {},
   "source": [
    "### Getting the standard form\n",
    "\n",
    "If you are interested in getting the standard form that CVXPY produces for a problem, you can use the `get_problem_data` method. When a problem is solved, a `SolvingChain` passes a low-level representation that is compatible with the targeted solver to a solver, which solves the problem. This method returns that low-level representation, along with a `SolvingChain` and metadata for unpacking a solution into the problem. This low-level representation closely resembles, but is not identical to, the arguments supplied to the solver.\n",
    "\n",
    "A solution to the equivalent low-level problem can be obtained via the data by invoking the `solve_via_data` method of the returned solving chain, a thin wrapper around the code external to CVXPY that further processes and solves the problem. Invoke the `unpack_results` method to recover a solution to the original problem.\n",
    "\n",
    "For example:"
   ]
  },
  {
   "cell_type": "code",
   "execution_count": 40,
   "metadata": {},
   "outputs": [
    {
     "name": "stdout",
     "output_type": "stream",
     "text": [
      "objective: 5.99999497031752\n"
     ]
    }
   ],
   "source": [
    "prob = cp.Problem(objective, constraints)\n",
    "data, chain, inverse_data = prob.get_problem_data(cp.SCS)\n",
    "# calls SCS using `data`\n",
    "soln = chain.solve_via_data(prob, data)\n",
    "# unpacks the solution returned by SCS into `problem`\n",
    "prob.unpack_results(soln, chain, inverse_data)\n",
    "\n",
    "print(f\"objective: {prob.value}\")"
   ]
  },
  {
   "cell_type": "markdown",
   "metadata": {},
   "source": [
    "Alternatively, the `data` dictionary returned by this method contains enough information to bypass CVXPY and call the solver directly.\n",
    "\n",
    "For example:"
   ]
  },
  {
   "cell_type": "code",
   "execution_count": 41,
   "metadata": {},
   "outputs": [
    {
     "name": "stdout",
     "output_type": "stream",
     "text": [
      "------------------------------------------------------------------\n",
      "\t       SCS v3.2.4 - Splitting Conic Solver\n",
      "\t(c) Brendan O'Donoghue, Stanford University, 2012\n",
      "------------------------------------------------------------------\n",
      "problem:  variables n: 4, constraints m: 6\n",
      "cones: \t  l: linear vars: 6\n",
      "settings: eps_abs: 1.0e-04, eps_rel: 1.0e-04, eps_infeas: 1.0e-07\n",
      "\t  alpha: 1.50, scale: 1.00e-01, adaptive_scale: 1\n",
      "\t  max_iters: 100000, normalize: 1, rho_x: 1.00e-06\n",
      "\t  acceleration_lookback: 10, acceleration_interval: 10\n",
      "lin-sys:  sparse-direct-amd-qdldl\n",
      "\t  nnz(A): 10, nnz(P): 0\n",
      "------------------------------------------------------------------\n",
      " iter | pri res | dua res |   gap   |   obj   |  scale  | time (s)\n",
      "------------------------------------------------------------------\n",
      "     0| 2.08e+01  1.00e+00  3.75e+01 -1.62e+01  1.00e-01  9.45e-04 \n",
      "   100| 1.20e-04  5.82e-05  2.76e-08  6.00e+00  1.00e-01  9.92e-04 \n",
      "------------------------------------------------------------------\n",
      "status:  solved\n",
      "timings: total: 1.00e-03s = setup: 7.23e-04s + solve: 2.81e-04s\n",
      "\t lin-sys: 2.09e-05s, cones: 4.81e-06s, accel: 2.88e-06s\n",
      "------------------------------------------------------------------\n",
      "objective = 6.000087\n",
      "------------------------------------------------------------------\n"
     ]
    },
    {
     "data": {
      "text/plain": [
       "{'x': array([2.00010756, 1.99988019, 2.00018362, 1.99979547]),\n",
       " 'y': array([0.99996347, 1.0000582 , 0.        , 0.        , 1.99992693,\n",
       "        1.00011641]),\n",
       " 's': array([0.        , 0.        , 4.00029119, 3.99967566, 0.        ,\n",
       "        0.        ]),\n",
       " 'info': {'status_val': 1,\n",
       "  'iter': 100,\n",
       "  'scale_updates': 0,\n",
       "  'scale': 0.1,\n",
       "  'pobj': 6.000086658379645,\n",
       "  'dobj': 6.000086686002864,\n",
       "  'res_pri': 0.00011981307842357417,\n",
       "  'res_dual': 5.820479151302251e-05,\n",
       "  'gap': 2.76232192675252e-08,\n",
       "  'res_infeas': 0.16667395941536498,\n",
       "  'res_unbdd_a': nan,\n",
       "  'res_unbdd_p': nan,\n",
       "  'comp_slack': 0.0,\n",
       "  'solve_time': 0.280543,\n",
       "  'setup_time': 0.72256,\n",
       "  'lin_sys_time': 0.020898000000000014,\n",
       "  'cone_time': 0.004809999999999999,\n",
       "  'accel_time': 0.0028829999999999967,\n",
       "  'rejected_accel_steps': 0,\n",
       "  'accepted_accel_steps': 0,\n",
       "  'status': 'solved'}}"
      ]
     },
     "execution_count": 41,
     "metadata": {},
     "output_type": "execute_result"
    }
   ],
   "source": [
    "prob = cp.Problem(objective, constraints)\n",
    "probdata, _, _ = prob.get_problem_data(cp.SCS)\n",
    "\n",
    "import scs\n",
    "data = {\n",
    "  'A': probdata['A'],\n",
    "  'b': probdata['b'],\n",
    "  'c': probdata['c'],\n",
    "}\n",
    "cone_dims = probdata['dims']\n",
    "cones = {\n",
    "    \"f\": cone_dims.zero,\n",
    "    \"l\": cone_dims.nonneg,\n",
    "    \"q\": cone_dims.soc,\n",
    "    \"ep\": cone_dims.exp,\n",
    "    \"s\": cone_dims.psd,\n",
    "}\n",
    "soln = scs.solve(data, cones)\n",
    "soln"
   ]
  },
  {
   "cell_type": "markdown",
   "metadata": {},
   "source": [
    "The structure of the data dict that CVXPY returns depends on the solver. For details, print the dictionary, or consult the solver interfaces in `cvxpy/reductions/solvers`."
   ]
  },
  {
   "cell_type": "markdown",
   "metadata": {},
   "source": [
    "### Reductions\n",
    "\n",
    "CVXPY uses a system of `reduction`s to rewrite problems from the form provided by the user into the standard form that a solver will accept. A reduction is a transformation from one problem to an equivalent problem. Two problems are equivalent if a solution of one can be converted efficiently to a solution of the other. Reductions take a CVXPY Problem as input and output a CVXPY Problem. The full set of reductions available is discussed in [Reductions](https://www.cvxpy.org/api_reference/cvxpy.reductions.html#reductions-api)."
   ]
  },
  {
   "cell_type": "markdown",
   "metadata": {},
   "source": [
    "### Disciplined Parametrized Programming\n",
    "\n",
    "`Parameters` are symbolic representations of constants. Using parameters lets you modify the values of constants without reconstructing the entire problem. When your parametrized problem is constructed according to Disciplined Parametrized Programming (DPP), solving it repeatedly for different values of the parameters can be much faster than repeatedly solving a new problem.\n",
    "\n",
    "You should read this tutorial if you intend to solve a DCP or DGP problem many times, for different values of the numerical data, or if you want to differentiate through the solution map of a DCP or DGP problem.\n",
    "\n",
    "#### What is DPP?\n",
    "DPP is a ruleset for producing parametrized DCP or DGP compliant problems that CVXPY can re-canonicalize very quickly. The first time a DPP-compliant problem is solved, CVXPY compiles it and caches the mapping from parameters to problem data. As a result, subsequent rewritings of DPP problems can be substantially faster. CVXPY allows you to solve parametrized problems that are not DPP, but you won’t see a speed-up when doing so.\n",
    "\n",
    "#### The DPP ruleset\n",
    "DPP places mild restrictions on how parameters can enter expressions in DCP and DGP problems. First, we describe the DPP ruleset for DCP problems. Then, we describe the DPP ruleset for DGP problems.\n",
    "\n",
    "__DCP problems.__ In DPP, an expression is said to be parameter-affine if it does not involve variables and is affine in its parameters, and it is parameter-free if it does not have parameters. DPP introduces two restrictions to DCP:\n",
    "\n",
    "1. Under DPP, all parameters are classified as affine, just like variables.\n",
    "2. Under DPP, the product of two expressions is affine when at least one of the expressions is constant, or when one of the expressions is parameter-affine and the other is parameter-free.\n",
    "\n",
    "An expression is DPP-compliant if it DCP-compliant subject to these two restrictions. You can check whether an expression or problem is DPP-compliant by calling the `is_dcp` method with the keyword argument `dpp=True` (by default, this keyword argument is `False`). For example,"
   ]
  },
  {
   "cell_type": "code",
   "execution_count": 42,
   "metadata": {},
   "outputs": [
    {
     "data": {
      "text/plain": [
       "True"
      ]
     },
     "execution_count": 42,
     "metadata": {},
     "output_type": "execute_result"
    }
   ],
   "source": [
    "import cvxpy as cp\n",
    "\n",
    "m, n = 3, 2\n",
    "\n",
    "x = cp.Variable((n, 1))\n",
    "F = cp.Parameter((m, n))\n",
    "G = cp.Parameter((m, n))\n",
    "g = cp.Parameter((m, 1))\n",
    "gamma = cp.Parameter(nonneg=True)\n",
    "\n",
    "objective = cp.norm((F + G) @ x - g) + gamma * cp.norm(x)\n",
    "objective.is_dcp(dpp=True)"
   ]
  },
  {
   "cell_type": "markdown",
   "metadata": {},
   "source": [
    "We can walk through the DPP analysis to understand why `objective` is DPP-compliant. The product `(F + G) @ x` is affine under DPP, because `F + G` is parameter-affine and `x` is parameter-free. The difference `(F + G) @ x - g` is affine because the addition atom is affine and both `(F + G) @ x` and `-g` are affine. Likewise `gamma * cp.norm(x)` is affine under DPP because `gamma` is parameter-affine and `cp.norm(x)` is parameter-free. The final objective is then affine under DPP because addition is affine.\n",
    "\n",
    "Some expressions are DCP-compliant but not DPP-compliant. For example, DPP forbids taking the product of two parametrized expressions:"
   ]
  },
  {
   "cell_type": "code",
   "execution_count": 43,
   "metadata": {},
   "outputs": [
    {
     "name": "stdout",
     "output_type": "stream",
     "text": [
      "\n",
      "Is DPP? False\n",
      "Is DCP? True\n",
      "\n"
     ]
    }
   ],
   "source": [
    "import cvxpy as cp\n",
    "\n",
    "x = cp.Variable()\n",
    "gamma = cp.Parameter(nonneg=True)\n",
    "prob = cp.Problem(cp.Minimize(gamma * gamma * x), [x >= 1])\n",
    "\n",
    "print(f\"\"\"\n",
    "Is DPP? {prob.is_dcp(dpp=True)}\n",
    "Is DCP? {prob.is_dcp(dpp=False)}\n",
    "\"\"\")"
   ]
  },
  {
   "cell_type": "markdown",
   "metadata": {},
   "source": [
    "Just as it is possible to rewrite non-DCP problems in DCP-compliant ways, it is also possible to re-express non-DPP problems in DPP-compliant ways. For example, the above problem can be equivalently written as"
   ]
  },
  {
   "cell_type": "code",
   "execution_count": 44,
   "metadata": {},
   "outputs": [
    {
     "name": "stdout",
     "output_type": "stream",
     "text": [
      "\n",
      "Is DPP? True\n",
      "Is DCP? True\n",
      "\n"
     ]
    }
   ],
   "source": [
    "import cvxpy as cp\n",
    "\n",
    "x = cp.Variable()\n",
    "y = cp.Variable()\n",
    "gamma = cp.Parameter(nonneg=True)\n",
    "prob = cp.Problem(cp.Minimize(gamma * y), [y == gamma * x])\n",
    "\n",
    "print(f\"\"\"\n",
    "Is DPP? {prob.is_dcp(dpp=True)}\n",
    "Is DCP? {prob.is_dcp(dpp=False)}\n",
    "\"\"\")"
   ]
  },
  {
   "cell_type": "markdown",
   "metadata": {},
   "source": [
    "In other cases, you can represent non-DPP transformations of parameters by doing them outside of the DSL, e.g., in NumPy. For example, if `P` is a parameter and `x` is a variable, `cp.quad_form(x, P)` is not DPP. You can represent a parametric quadratic form like so:"
   ]
  },
  {
   "cell_type": "code",
   "execution_count": 45,
   "metadata": {},
   "outputs": [],
   "source": [
    "import cvxpy as cp\n",
    "import numpy as np\n",
    "import scipy.linalg\n",
    "\n",
    "n = 4\n",
    "\n",
    "L = np.random.default_rng().standard_normal((n, n))\n",
    "P = L.T @ L\n",
    "P_sqrt = cp.Parameter((n, n))\n",
    "x = cp.Variable((n, 1))\n",
    "\n",
    "quad_form = cp.sum_squares(P_sqrt @ x)\n",
    "P_sqrt.value = scipy.linalg.sqrtm(P)\n",
    "assert quad_form.is_dcp(dpp=True)"
   ]
  },
  {
   "cell_type": "markdown",
   "metadata": {},
   "source": [
    "As another example, the quotient `expr / p` is not DPP-compliant when `p` is a parameter, but this can be rewritten as `expr * p_tilde`, where `p_tilde` is a parameter that represents `1/p`.\n",
    "\n",
    "__DGP problems.__ Just as DGP is the log-log analogue of DCP, DPP for DGP is the log-log analog of DPP for DCP. DPP introduces two restrictions to DGP:\n",
    "\n",
    "1. Under DPP, all positive parameters are classified as log-log-affine, just like positive variables.\n",
    "2. Under DPP, the power atom `x**p` (with base `x` and exponent `p`) is log-log affine as long as `x` and `p` are not both parametrized.\n",
    "\n",
    "Note that for powers, the exponent p must be either a numerical constant or a parameter; attempting to construct a power atom in which the exponent is a compound expression, e.g., `x**(p + p)`, where `p` is a Parameter, will result in a `ValueError`.\n",
    "\n",
    "If a parameter appears in a DGP problem as an exponent, it can have any sign. If a parameter appears elsewhere in a DGP problem, it must be positive, i.e., it must be constructed with `cp.Parameter(pos=True)`.\n",
    "\n",
    "You can check whether an expression or problem is DPP-compliant by calling the `is_dgp` method with the keyword argument `dpp=True` (by default, this keyword argument is `False`). For example,"
   ]
  },
  {
   "cell_type": "code",
   "execution_count": 46,
   "metadata": {},
   "outputs": [
    {
     "data": {
      "text/plain": [
       "True"
      ]
     },
     "execution_count": 46,
     "metadata": {},
     "output_type": "execute_result"
    }
   ],
   "source": [
    "import cvxpy as cp\n",
    "\n",
    "x = cp.Variable(pos=True)\n",
    "y = cp.Variable(pos=True)\n",
    "a = cp.Parameter()\n",
    "b = cp.Parameter()\n",
    "c = cp.Parameter(pos=True)\n",
    "\n",
    "monomial = c * x**a * y**b\n",
    "monomial.is_dgp(dpp=True)"
   ]
  },
  {
   "cell_type": "markdown",
   "metadata": {},
   "source": [
    "The expressions `x**a` and `y**b` are log-log affine, since `x` and `y` do not contain parameters. The parameter `c` is log-log affine because it is positive, and the monomial expression is log-log affine because the product of log-log affine expression is also log-log affine.\n",
    "\n",
    "Some expressions are DGP-compliant but not DPP-compliant. For example, DPP forbids taking raising a parametrized expression to a power:"
   ]
  },
  {
   "cell_type": "code",
   "execution_count": 47,
   "metadata": {},
   "outputs": [
    {
     "name": "stdout",
     "output_type": "stream",
     "text": [
      "\n",
      "Is DPP? False\n",
      "Is DGP? True\n",
      "\n"
     ]
    }
   ],
   "source": [
    "import cvxpy as cp\n",
    "\n",
    "x = cp.Variable(pos=True)\n",
    "a = cp.Parameter()\n",
    "\n",
    "monomial = (x**a)**a\n",
    "\n",
    "print(f\"\"\"\n",
    "Is DPP? {monomial.is_dgp(dpp=True)}\n",
    "Is DGP? {monomial.is_dgp(dpp=False)}\n",
    "\"\"\")"
   ]
  },
  {
   "cell_type": "markdown",
   "metadata": {},
   "source": [
    "You can represent non-DPP transformations of parameters by doing them outside of CVXPY, e.g., in NumPy. For example, you could rewrite the above program as the following DPP-complaint program"
   ]
  },
  {
   "cell_type": "code",
   "execution_count": 48,
   "metadata": {},
   "outputs": [
    {
     "name": "stdout",
     "output_type": "stream",
     "text": [
      "\n",
      "Is DPP? True\n",
      "Is DGP? True\n",
      "\n"
     ]
    }
   ],
   "source": [
    "import cvxpy as cp\n",
    "\n",
    "a = 2.0\n",
    "x = cp.Variable(pos=True)\n",
    "b = cp.Parameter(value=a**2)\n",
    "\n",
    "monomial = x**b\n",
    "\n",
    "print(f\"\"\"\n",
    "Is DPP? {monomial.is_dgp(dpp=True)}\n",
    "Is DGP? {monomial.is_dgp(dpp=False)}\n",
    "\"\"\")"
   ]
  },
  {
   "cell_type": "markdown",
   "metadata": {},
   "source": [
    "#### Repeatedly solving a DPP problem\n",
    "The following example demonstrates how parameters can speed-up repeated solves of a DPP-compliant DCP problem."
   ]
  },
  {
   "cell_type": "code",
   "execution_count": 49,
   "metadata": {},
   "outputs": [
    {
     "data": {
      "image/png": "[encoded data removed]",
      "text/plain": [
       "<Figure size 640x480 with 1 Axes>"
      ]
     },
     "metadata": {},
     "output_type": "display_data"
    }
   ],
   "source": [
    "import numpy as np\n",
    "import cvxpy as cp\n",
    "import matplotlib.pyplot as plt\n",
    "import time\n",
    "\n",
    "n = 15\n",
    "m = 10\n",
    "\n",
    "rng = np.random.default_rng(1)\n",
    "A = rng.standard_normal((n, m))\n",
    "b = rng.standard_normal(n)\n",
    "# gamma must be nonnegative due to DCP rules.\n",
    "gamma = cp.Parameter(nonneg=True)\n",
    "\n",
    "x = cp.Variable(m)\n",
    "error = cp.sum_squares(A @ x - b)\n",
    "\n",
    "objective = cp.Minimize(error + gamma * cp.norm(x, 1))\n",
    "prob = cp.Problem(objective)\n",
    "assert prob.is_dcp(dpp=True)\n",
    "\n",
    "times = []\n",
    "new_problem_times = []\n",
    "gamma_vals = np.logspace(-4, 1)\n",
    "for val in gamma_vals:\n",
    "    gamma.value = val\n",
    "    start = time.time()\n",
    "    prob.solve()\n",
    "    end = time.time()\n",
    "    times.append(end - start)\n",
    "    new_prob = cp.Problem(objective)\n",
    "    start = time.time()\n",
    "    new_prob.solve()\n",
    "    end = time.time()\n",
    "    new_problem_times.append(end - start)\n",
    "\n",
    "_, ax = plt.subplots()\n",
    "ax.plot(gamma_vals, times, label=\"Re-solving a DPP problem\")\n",
    "ax.plot(gamma_vals, new_problem_times, label=\"Solving a new problem\")\n",
    "ax.set_xlabel(\"$\\gamma$\")\n",
    "ax.set_ylabel(\"time ($s$)\")\n",
    "ax.legend();"
   ]
  },
  {
   "cell_type": "markdown",
   "metadata": {},
   "source": [
    "### Sensitivity analysis and gradients\n",
    "\n",
    "An optimization problem can be viewed as a function mapping parameters to solutions. This solution map is sometimes differentiable. CVXPY has built-in support for computing the derivative of the optimal variable values of a problem with respect to small perturbations of the parameters (i.e., the `Parameter` instances appearing in a problem).\n",
    "\n",
    "The problem class exposes two methods related to computing the derivative. The `derivative` evaluates the derivative given perturbations to the parameters. This lets you calculate how the solution to a problem would change given small changes to the parameters, without re-solving the problem. The `backward` method evaluates the adjoint of the derivative, computing the gradient of the solution with respect to the parameters. This can be useful when combined with automatic differentiation software.\n",
    "\n",
    "The derivative and backward methods are only meaningful when the problem contains parameters. In order for a problem to be differentiable, it must be DPP-compliant. CVXPY can compute the derivative of any DPP-compliant DCP or DGP problem. At non-differentiable points, CVXPY computes a heuristic quantity.\n",
    "\n",
    "#### Example.\n",
    "As a first example, we solve a trivial problem with an analytical solution, to illustrate the usage of the `backward` and `derivative` functions. In the following block of code, we construct a problem with a scalar variable x and a scalar parameter p. The problem is to minimize the quadratic `(x - 2*p)**2`."
   ]
  },
  {
   "cell_type": "code",
   "execution_count": 50,
   "metadata": {},
   "outputs": [],
   "source": [
    "import cvxpy as cp\n",
    "\n",
    "x = cp.Variable()\n",
    "p = cp.Parameter()\n",
    "quadratic = cp.square(x - 2 * p)\n",
    "prob = cp.Problem(cp.Minimize(quadratic))"
   ]
  },
  {
   "cell_type": "markdown",
   "metadata": {},
   "source": [
    "Next, we solve the problem for the particular value of `p == 3`. Notice that when solving the problem, we supply the keyword argument `requires_grad=True` to the `solve` method.\n",
    "\n",
    "__NOTE:__ We need to install the following packages.\n",
    "\n",
    "```\n",
    "conda install pybind11 threadpoolctl -c conda-forge\n",
    "pip install diffcp\n",
    "```"
   ]
  },
  {
   "cell_type": "code",
   "execution_count": 51,
   "metadata": {},
   "outputs": [
    {
     "data": {
      "text/plain": [
       "2.8398992587956425e-29"
      ]
     },
     "execution_count": 51,
     "metadata": {},
     "output_type": "execute_result"
    }
   ],
   "source": [
    "p.value = 3.\n",
    "prob.solve(requires_grad=True)"
   ]
  },
  {
   "cell_type": "markdown",
   "metadata": {},
   "source": [
    "Having solved the problem with `requires_grad=True`, we can now use the `backward` and `derivative` to differentiate through the problem. First, we compute the gradient of the solution with respect to its parameter by calling the `backward()` method. As a side-effect, the `backward()` method populates the `gradient` attribute on all parameters with the gradient of the solution with respect to that parameter.\n",
    "\n",
    "In this case, the problem has the trivial analytical solution `2 * p`, and the gradient is therefore just 2."
   ]
  },
  {
   "cell_type": "code",
   "execution_count": 52,
   "metadata": {},
   "outputs": [
    {
     "name": "stdout",
     "output_type": "stream",
     "text": [
      "The gradient is 2.0.\n"
     ]
    }
   ],
   "source": [
    "prob.backward()\n",
    "print(f\"The gradient is {p.gradient:0.1f}.\")"
   ]
  },
  {
   "cell_type": "markdown",
   "metadata": {},
   "source": [
    "Next, we use the `derivative` method to see how a small change in `p` would affect the solution `x`. We will perturb `p` by `1e-5`, by setting `p.delta = 1e-5`, and calling the `derivative` method will populate the `delta` attribute of `x` with the the change in `x` predicted by a first-order approximation (which is `dx/dp * p.delta`).\n",
    "\n",
    "In this case the solution is trivial and its derivative is just `2 * p`, so we know that the delta in `x` should be `2e-5`."
   ]
  },
  {
   "cell_type": "code",
   "execution_count": 53,
   "metadata": {},
   "outputs": [
    {
     "name": "stdout",
     "output_type": "stream",
     "text": [
      "x.delta is 2e-05.\n"
     ]
    }
   ],
   "source": [
    "p.delta = 1e-5\n",
    "prob.derivative()\n",
    "print(f\"x.delta is {x.delta:2.1g}.\")"
   ]
  },
  {
   "cell_type": "markdown",
   "metadata": {},
   "source": [
    "We emphasize that this example is trivial, because it has a trivial analytical solution, with a trivial derivative. The `backward()` and `forward()` methods are useful because the vast majority of convex optimization problems do not have analytical solutions: in these cases, CVXPY can compute solutions and their derivatives, even though it would be impossible to derive them by hand.\n",
    "\n",
    "__Note.__ In this simple example, the variable x was a scalar, so the `backward` method computed the gradient of `x` with respect to `p`. When there is more than one scalar variable, by default, `backward` computes the gradient of the sum of the optimal variable values with respect to the parameters.\n",
    "\n",
    "More generally, the `backward` method can be used to compute the gradient of a scalar-valued function f of the optimal variables, with respect to the parameters. If `x(p)` denotes the optimal value of the variable (which might be a vector or a matrix) for a particular value of the parameter `p` and `f(x(p))` is a scalar, then `backward` can be used to compute the gradient of f with respect to `p`. Let `x* = x(p)`, and say the derivative of `f` with respect to `x*` is `dx`. To compute the derivative of `f` with respect to `p`, before calling `prob.backward()`, just set `x.gradient = dx`.\n",
    "\n",
    "The `backward` method can be powerful when combined with software for automatic differentiation. We recommend the software package [CVXPY Layers](https://www.github.com/cvxgrp/cvxpylayers), which provides differentiable PyTorch and TensorFlow wrappers for CVXPY problems.\n",
    "\n",
    "__backward or derivative?__ The `backward` method should be used when you need the gradient of (a scalar-valued function) of the solution, with respect to the parameters. If you only want to do a sensitivity analysis, that is, if all you’re interested in is how the solution would change if one or more parameters were changed, you should use the `derivative` method. When there are multiple variables, it is much more efficient to compute sensitivities using the `derivative` method than it would be to compute the entire Jacobian (which can be done by calling backward multiple times, once for each standard basis vector)."
   ]
  }
 ],
 "metadata": {
  "kernelspec": {
   "display_name": "devel",
   "language": "python",
   "name": "python3"
  },
  "language_info": {
   "codemirror_mode": {
    "name": "ipython",
    "version": 3
   },
   "file_extension": ".py",
   "mimetype": "text/x-python",
   "name": "python",
   "nbconvert_exporter": "python",
   "pygments_lexer": "ipython3",
   "version": "3.12.2"
  }
 },
 "nbformat": 4,
 "nbformat_minor": 2
}
